{
 "cells": [
  {
   "cell_type": "code",
   "execution_count": 58,
   "metadata": {
    "collapsed": true
   },
   "outputs": [],
   "source": [
    "import imp\n",
    "import sys\n",
    "sys.path.append('../lib')\n",
    "from outlier import *\n",
    "from sklearn import preprocessing\n",
    "from sklearn.ensemble import GradientBoostingClassifier\n",
    "from sklearn.model_selection import GridSearchCV\n",
    "from sklearn.pipeline import Pipeline\n",
    "from itertools import groupby\n",
    "from sklearn.linear_model import ElasticNet\n",
    "from sklearn.model_selection import cross_val_score\n",
    "from sklearn.decomposition import PCA\n",
    "from sklearn.linear_model import LogisticRegression\n",
    "from sklearn.ensemble import AdaBoostClassifier\n",
    "from sklearn.pipeline import Pipeline\n",
    "from sklearn.decomposition import PCA\n",
    "import os"
   ]
  },
  {
   "cell_type": "code",
   "execution_count": 2,
   "metadata": {
    "collapsed": true
   },
   "outputs": [],
   "source": [
    "store_cible=pd.HDFStore('../PCA/cible_crossB2B_1.h5')\n",
    "uselessFeatures=list(pd.read_table('./uselessFeatures.csv', sep=',')['name'])\n",
    "dg=store_cible.select('df201606_sample200000')\n",
    "cible=dg.fin\n",
    "dg=dg.drop(uselessFeatures,axis=1)\n",
    "dg_drop=dg.drop('fin',axis=1)"
   ]
  },
  {
   "cell_type": "code",
   "execution_count": 3,
   "metadata": {
    "collapsed": true
   },
   "outputs": [],
   "source": [
    "dg_drop_minmax=pd.DataFrame(preprocessing.MinMaxScaler().fit_transform(dg_drop),columns=dg_drop.columns)"
   ]
  },
  {
   "cell_type": "code",
   "execution_count": 49,
   "metadata": {
    "collapsed": true
   },
   "outputs": [],
   "source": [
    "normal_dataset=np.array(dg_drop_minmax)[np.where(np.array(dg['fin'])==1)]"
   ]
  },
  {
   "cell_type": "code",
   "execution_count": 50,
   "metadata": {
    "collapsed": true
   },
   "outputs": [],
   "source": [
    "pipeline=Pipeline([ ('removeOutliers',OutliersKmeans(parallel=True,kmeans=kmeans,showbar=True))])"
   ]
  },
  {
   "cell_type": "code",
   "execution_count": 51,
   "metadata": {
    "collapsed": true
   },
   "outputs": [],
   "source": [
    "fittedpipeline=pipeline.fit(normal_dataset)"
   ]
  },
  {
   "cell_type": "code",
   "execution_count": 55,
   "metadata": {},
   "outputs": [
    {
     "data": {
      "text/plain": [
       "array([False, False, False, ...,  True,  True,  True], dtype=bool)"
      ]
     },
     "execution_count": 55,
     "metadata": {},
     "output_type": "execute_result"
    }
   ],
   "source": [
    "fittedpipeline.named_steps['removeOutliers'].iextreme_values"
   ]
  },
  {
   "cell_type": "markdown",
   "metadata": {},
   "source": [
    "# Kmeans"
   ]
  },
  {
   "cell_type": "code",
   "execution_count": 47,
   "metadata": {
    "collapsed": true
   },
   "outputs": [],
   "source": [
    "result_file='result_grid_kmeans.csv'\n",
    "dir_path='./'"
   ]
  },
  {
   "cell_type": "markdown",
   "metadata": {},
   "source": [
    "### Sans réduction de dimension"
   ]
  },
  {
   "cell_type": "code",
   "execution_count": 56,
   "metadata": {
    "scrolled": false
   },
   "outputs": [
    {
     "name": "stderr",
     "output_type": "stream",
     "text": [
      "100%|#########################################################################|\n"
     ]
    },
    {
     "name": "stdout",
     "output_type": "stream",
     "text": [
      "Fitting 5 folds for each of 20 candidates, totalling 100 fits\n",
      "[CV] penalty=l1, C=0.0001 ............................................\n",
      "[CV] ............. penalty=l1, C=0.0001, score=0.500000, total=   1.1s\n",
      "[CV] penalty=l1, C=0.0001 ............................................\n"
     ]
    },
    {
     "name": "stderr",
     "output_type": "stream",
     "text": [
      "[Parallel(n_jobs=1)]: Done   1 out of   1 | elapsed:    1.2s remaining:    0.0s\n"
     ]
    },
    {
     "name": "stdout",
     "output_type": "stream",
     "text": [
      "[CV] ............. penalty=l1, C=0.0001, score=0.500000, total=   1.1s\n",
      "[CV] penalty=l1, C=0.0001 ............................................\n"
     ]
    },
    {
     "name": "stderr",
     "output_type": "stream",
     "text": [
      "[Parallel(n_jobs=1)]: Done   2 out of   2 | elapsed:    2.5s remaining:    0.0s\n"
     ]
    },
    {
     "name": "stdout",
     "output_type": "stream",
     "text": [
      "[CV] ............. penalty=l1, C=0.0001, score=0.500000, total=   1.2s\n",
      "[CV] penalty=l1, C=0.0001 ............................................\n"
     ]
    },
    {
     "name": "stderr",
     "output_type": "stream",
     "text": [
      "[Parallel(n_jobs=1)]: Done   3 out of   3 | elapsed:    3.9s remaining:    0.0s\n"
     ]
    },
    {
     "name": "stdout",
     "output_type": "stream",
     "text": [
      "[CV] ............. penalty=l1, C=0.0001, score=0.500000, total=   1.0s\n",
      "[CV] penalty=l1, C=0.0001 ............................................\n"
     ]
    },
    {
     "name": "stderr",
     "output_type": "stream",
     "text": [
      "[Parallel(n_jobs=1)]: Done   4 out of   4 | elapsed:    5.1s remaining:    0.0s\n"
     ]
    },
    {
     "name": "stdout",
     "output_type": "stream",
     "text": [
      "[CV] ............. penalty=l1, C=0.0001, score=0.500000, total=   1.1s\n",
      "[CV] penalty=l2, C=0.0001 ............................................\n"
     ]
    },
    {
     "name": "stderr",
     "output_type": "stream",
     "text": [
      "[Parallel(n_jobs=1)]: Done   5 out of   5 | elapsed:    6.4s remaining:    0.0s\n"
     ]
    },
    {
     "name": "stdout",
     "output_type": "stream",
     "text": [
      "[CV] ............. penalty=l2, C=0.0001, score=0.372384, total=   1.6s\n",
      "[CV] penalty=l2, C=0.0001 ............................................\n"
     ]
    },
    {
     "name": "stderr",
     "output_type": "stream",
     "text": [
      "[Parallel(n_jobs=1)]: Done   6 out of   6 | elapsed:    8.2s remaining:    0.0s\n"
     ]
    },
    {
     "name": "stdout",
     "output_type": "stream",
     "text": [
      "[CV] ............. penalty=l2, C=0.0001, score=0.328881, total=   1.6s\n",
      "[CV] penalty=l2, C=0.0001 ............................................\n"
     ]
    },
    {
     "name": "stderr",
     "output_type": "stream",
     "text": [
      "[Parallel(n_jobs=1)]: Done   7 out of   7 | elapsed:   10.0s remaining:    0.0s\n"
     ]
    },
    {
     "name": "stdout",
     "output_type": "stream",
     "text": [
      "[CV] ............. penalty=l2, C=0.0001, score=0.384089, total=   1.6s\n",
      "[CV] penalty=l2, C=0.0001 ............................................\n"
     ]
    },
    {
     "name": "stderr",
     "output_type": "stream",
     "text": [
      "[Parallel(n_jobs=1)]: Done   8 out of   8 | elapsed:   11.8s remaining:    0.0s\n"
     ]
    },
    {
     "name": "stdout",
     "output_type": "stream",
     "text": [
      "[CV] ............. penalty=l2, C=0.0001, score=0.391100, total=   1.6s\n",
      "[CV] penalty=l2, C=0.0001 ............................................\n"
     ]
    },
    {
     "name": "stderr",
     "output_type": "stream",
     "text": [
      "[Parallel(n_jobs=1)]: Done   9 out of   9 | elapsed:   13.7s remaining:    0.0s\n"
     ]
    },
    {
     "name": "stdout",
     "output_type": "stream",
     "text": [
      "[CV] ............. penalty=l2, C=0.0001, score=0.367141, total=   1.7s\n",
      "[CV] penalty=l1, C=0.000774263682681 .................................\n",
      "[CV] .. penalty=l1, C=0.000774263682681, score=0.500000, total=   1.2s\n",
      "[CV] penalty=l1, C=0.000774263682681 .................................\n",
      "[CV] .. penalty=l1, C=0.000774263682681, score=0.500000, total=   1.1s\n",
      "[CV] penalty=l1, C=0.000774263682681 .................................\n",
      "[CV] .. penalty=l1, C=0.000774263682681, score=0.500000, total=   1.3s\n",
      "[CV] penalty=l1, C=0.000774263682681 .................................\n",
      "[CV] .. penalty=l1, C=0.000774263682681, score=0.500000, total=   1.2s\n",
      "[CV] penalty=l1, C=0.000774263682681 .................................\n",
      "[CV] .. penalty=l1, C=0.000774263682681, score=0.500000, total=   1.4s\n",
      "[CV] penalty=l2, C=0.000774263682681 .................................\n",
      "[CV] .. penalty=l2, C=0.000774263682681, score=0.406579, total=   2.2s\n",
      "[CV] penalty=l2, C=0.000774263682681 .................................\n",
      "[CV] .. penalty=l2, C=0.000774263682681, score=0.371054, total=   2.2s\n",
      "[CV] penalty=l2, C=0.000774263682681 .................................\n",
      "[CV] .. penalty=l2, C=0.000774263682681, score=0.435998, total=   2.2s\n",
      "[CV] penalty=l2, C=0.000774263682681 .................................\n",
      "[CV] .. penalty=l2, C=0.000774263682681, score=0.441785, total=   2.2s\n",
      "[CV] penalty=l2, C=0.000774263682681 .................................\n",
      "[CV] .. penalty=l2, C=0.000774263682681, score=0.399109, total=   2.0s\n",
      "[CV] penalty=l1, C=0.00599484250319 ..................................\n",
      "[CV] ... penalty=l1, C=0.00599484250319, score=0.698931, total=   2.3s\n",
      "[CV] penalty=l1, C=0.00599484250319 ..................................\n",
      "[CV] ... penalty=l1, C=0.00599484250319, score=0.766306, total=   1.8s\n",
      "[CV] penalty=l1, C=0.00599484250319 ..................................\n",
      "[CV] ... penalty=l1, C=0.00599484250319, score=0.726602, total=   2.0s\n",
      "[CV] penalty=l1, C=0.00599484250319 ..................................\n",
      "[CV] ... penalty=l1, C=0.00599484250319, score=0.725974, total=   1.8s\n",
      "[CV] penalty=l1, C=0.00599484250319 ..................................\n",
      "[CV] ... penalty=l1, C=0.00599484250319, score=0.674552, total=   1.8s\n",
      "[CV] penalty=l2, C=0.00599484250319 ..................................\n",
      "[CV] ... penalty=l2, C=0.00599484250319, score=0.719474, total=   2.6s\n",
      "[CV] penalty=l2, C=0.00599484250319 ..................................\n",
      "[CV] ... penalty=l2, C=0.00599484250319, score=0.708232, total=   2.8s\n",
      "[CV] penalty=l2, C=0.00599484250319 ..................................\n",
      "[CV] ... penalty=l2, C=0.00599484250319, score=0.750700, total=   2.6s\n",
      "[CV] penalty=l2, C=0.00599484250319 ..................................\n",
      "[CV] ... penalty=l2, C=0.00599484250319, score=0.740279, total=   2.6s\n",
      "[CV] penalty=l2, C=0.00599484250319 ..................................\n",
      "[CV] ... penalty=l2, C=0.00599484250319, score=0.661180, total=   2.9s\n",
      "[CV] penalty=l1, C=0.0464158883361 ...................................\n",
      "[CV] .... penalty=l1, C=0.0464158883361, score=0.786580, total=   3.1s\n",
      "[CV] penalty=l1, C=0.0464158883361 ...................................\n",
      "[CV] .... penalty=l1, C=0.0464158883361, score=0.827073, total=   4.0s\n",
      "[CV] penalty=l1, C=0.0464158883361 ...................................\n",
      "[CV] .... penalty=l1, C=0.0464158883361, score=0.816663, total=   3.2s\n",
      "[CV] penalty=l1, C=0.0464158883361 ...................................\n",
      "[CV] .... penalty=l1, C=0.0464158883361, score=0.805988, total=   2.6s\n",
      "[CV] penalty=l1, C=0.0464158883361 ...................................\n",
      "[CV] .... penalty=l1, C=0.0464158883361, score=0.743006, total=   3.2s\n",
      "[CV] penalty=l2, C=0.0464158883361 ...................................\n",
      "[CV] .... penalty=l2, C=0.0464158883361, score=0.803910, total=   3.7s\n",
      "[CV] penalty=l2, C=0.0464158883361 ...................................\n",
      "[CV] .... penalty=l2, C=0.0464158883361, score=0.817048, total=   3.8s\n",
      "[CV] penalty=l2, C=0.0464158883361 ...................................\n",
      "[CV] .... penalty=l2, C=0.0464158883361, score=0.817450, total=   3.9s\n",
      "[CV] penalty=l2, C=0.0464158883361 ...................................\n",
      "[CV] .... penalty=l2, C=0.0464158883361, score=0.810279, total=   3.8s\n",
      "[CV] penalty=l2, C=0.0464158883361 ...................................\n",
      "[CV] .... penalty=l2, C=0.0464158883361, score=0.760471, total=   3.5s\n",
      "[CV] penalty=l1, C=0.35938136638 .....................................\n",
      "[CV] ...... penalty=l1, C=0.35938136638, score=0.796664, total=   6.6s\n",
      "[CV] penalty=l1, C=0.35938136638 .....................................\n",
      "[CV] ...... penalty=l1, C=0.35938136638, score=0.832419, total=   6.4s\n",
      "[CV] penalty=l1, C=0.35938136638 .....................................\n",
      "[CV] ...... penalty=l1, C=0.35938136638, score=0.819846, total=   6.7s\n",
      "[CV] penalty=l1, C=0.35938136638 .....................................\n",
      "[CV] ...... penalty=l1, C=0.35938136638, score=0.814989, total=   8.5s\n",
      "[CV] penalty=l1, C=0.35938136638 .....................................\n",
      "[CV] ...... penalty=l1, C=0.35938136638, score=0.772392, total=   6.9s\n",
      "[CV] penalty=l2, C=0.35938136638 .....................................\n",
      "[CV] ...... penalty=l2, C=0.35938136638, score=0.802039, total=   6.2s\n",
      "[CV] penalty=l2, C=0.35938136638 .....................................\n",
      "[CV] ...... penalty=l2, C=0.35938136638, score=0.830051, total=   5.3s\n",
      "[CV] penalty=l2, C=0.35938136638 .....................................\n",
      "[CV] ...... penalty=l2, C=0.35938136638, score=0.819996, total=   5.2s\n",
      "[CV] penalty=l2, C=0.35938136638 .....................................\n",
      "[CV] ...... penalty=l2, C=0.35938136638, score=0.815663, total=   5.9s\n",
      "[CV] penalty=l2, C=0.35938136638 .....................................\n",
      "[CV] ...... penalty=l2, C=0.35938136638, score=0.773779, total=   6.5s\n",
      "[CV] penalty=l1, C=2.78255940221 .....................................\n",
      "[CV] ...... penalty=l1, C=2.78255940221, score=0.795932, total=  57.0s\n",
      "[CV] penalty=l1, C=2.78255940221 .....................................\n",
      "[CV] ...... penalty=l1, C=2.78255940221, score=0.831955, total= 1.1min\n",
      "[CV] penalty=l1, C=2.78255940221 .....................................\n",
      "[CV] ...... penalty=l1, C=2.78255940221, score=0.818094, total=  29.4s\n",
      "[CV] penalty=l1, C=2.78255940221 .....................................\n",
      "[CV] ...... penalty=l1, C=2.78255940221, score=0.817824, total=  31.8s\n",
      "[CV] penalty=l1, C=2.78255940221 .....................................\n",
      "[CV] ...... penalty=l1, C=2.78255940221, score=0.777276, total=  36.4s\n",
      "[CV] penalty=l2, C=2.78255940221 .....................................\n",
      "[CV] ...... penalty=l2, C=2.78255940221, score=0.796704, total=  10.2s\n",
      "[CV] penalty=l2, C=2.78255940221 .....................................\n",
      "[CV] ...... penalty=l2, C=2.78255940221, score=0.830620, total=   9.5s\n",
      "[CV] penalty=l2, C=2.78255940221 .....................................\n",
      "[CV] ...... penalty=l2, C=2.78255940221, score=0.818401, total=  10.4s\n",
      "[CV] penalty=l2, C=2.78255940221 .....................................\n",
      "[CV] ...... penalty=l2, C=2.78255940221, score=0.815157, total=  10.0s\n",
      "[CV] penalty=l2, C=2.78255940221 .....................................\n",
      "[CV] ...... penalty=l2, C=2.78255940221, score=0.776840, total=  10.9s\n",
      "[CV] penalty=l1, C=21.5443469003 .....................................\n",
      "[CV] ...... penalty=l1, C=21.5443469003, score=0.790958, total= 1.8min\n",
      "[CV] penalty=l1, C=21.5443469003 .....................................\n",
      "[CV] ...... penalty=l1, C=21.5443469003, score=0.830152, total= 2.9min\n",
      "[CV] penalty=l1, C=21.5443469003 .....................................\n",
      "[CV] ...... penalty=l1, C=21.5443469003, score=0.815588, total= 2.1min\n",
      "[CV] penalty=l1, C=21.5443469003 .....................................\n",
      "[CV] ...... penalty=l1, C=21.5443469003, score=0.815681, total= 1.8min\n",
      "[CV] penalty=l1, C=21.5443469003 .....................................\n",
      "[CV] ...... penalty=l1, C=21.5443469003, score=0.772091, total= 1.9min\n",
      "[CV] penalty=l2, C=21.5443469003 .....................................\n",
      "[CV] ...... penalty=l2, C=21.5443469003, score=0.793876, total=  20.9s\n",
      "[CV] penalty=l2, C=21.5443469003 .....................................\n",
      "[CV] ...... penalty=l2, C=21.5443469003, score=0.830597, total=  17.1s\n",
      "[CV] penalty=l2, C=21.5443469003 .....................................\n"
     ]
    },
    {
     "name": "stdout",
     "output_type": "stream",
     "text": [
      "[CV] ...... penalty=l2, C=21.5443469003, score=0.816885, total=  15.6s\n",
      "[CV] penalty=l2, C=21.5443469003 .....................................\n",
      "[CV] ...... penalty=l2, C=21.5443469003, score=0.815722, total=  20.7s\n",
      "[CV] penalty=l2, C=21.5443469003 .....................................\n",
      "[CV] ...... penalty=l2, C=21.5443469003, score=0.774179, total=  16.4s\n",
      "[CV] penalty=l1, C=166.81005372 ......................................\n",
      "[CV] ....... penalty=l1, C=166.81005372, score=0.790922, total= 4.0min\n",
      "[CV] penalty=l1, C=166.81005372 ......................................\n",
      "[CV] ....... penalty=l1, C=166.81005372, score=0.829539, total= 3.3min\n",
      "[CV] penalty=l1, C=166.81005372 ......................................\n",
      "[CV] ....... penalty=l1, C=166.81005372, score=0.814051, total= 3.5min\n",
      "[CV] penalty=l1, C=166.81005372 ......................................\n",
      "[CV] ....... penalty=l1, C=166.81005372, score=0.815943, total= 3.8min\n",
      "[CV] penalty=l1, C=166.81005372 ......................................\n",
      "[CV] ....... penalty=l1, C=166.81005372, score=0.768910, total= 3.9min\n",
      "[CV] penalty=l2, C=166.81005372 ......................................\n",
      "[CV] ....... penalty=l2, C=166.81005372, score=0.791835, total=  42.1s\n",
      "[CV] penalty=l2, C=166.81005372 ......................................\n",
      "[CV] ....... penalty=l2, C=166.81005372, score=0.829885, total=  35.1s\n",
      "[CV] penalty=l2, C=166.81005372 ......................................\n",
      "[CV] ....... penalty=l2, C=166.81005372, score=0.814675, total=  36.5s\n",
      "[CV] penalty=l2, C=166.81005372 ......................................\n",
      "[CV] ....... penalty=l2, C=166.81005372, score=0.815801, total=  38.8s\n",
      "[CV] penalty=l2, C=166.81005372 ......................................\n",
      "[CV] ....... penalty=l2, C=166.81005372, score=0.769671, total=  35.5s\n",
      "[CV] penalty=l1, C=1291.54966501 .....................................\n",
      "[CV] ...... penalty=l1, C=1291.54966501, score=0.790663, total= 5.1min\n",
      "[CV] penalty=l1, C=1291.54966501 .....................................\n",
      "[CV] ...... penalty=l1, C=1291.54966501, score=0.829377, total= 3.7min\n",
      "[CV] penalty=l1, C=1291.54966501 .....................................\n",
      "[CV] ...... penalty=l1, C=1291.54966501, score=0.813907, total= 3.8min\n",
      "[CV] penalty=l1, C=1291.54966501 .....................................\n",
      "[CV] ...... penalty=l1, C=1291.54966501, score=0.815424, total= 4.1min\n",
      "[CV] penalty=l1, C=1291.54966501 .....................................\n",
      "[CV] ...... penalty=l1, C=1291.54966501, score=0.769034, total= 3.0min\n",
      "[CV] penalty=l2, C=1291.54966501 .....................................\n",
      "[CV] ...... penalty=l2, C=1291.54966501, score=0.790911, total= 1.5min\n",
      "[CV] penalty=l2, C=1291.54966501 .....................................\n",
      "[CV] ...... penalty=l2, C=1291.54966501, score=0.827988, total= 1.1min\n",
      "[CV] penalty=l2, C=1291.54966501 .....................................\n",
      "[CV] ...... penalty=l2, C=1291.54966501, score=0.814152, total= 1.3min\n",
      "[CV] penalty=l2, C=1291.54966501 .....................................\n",
      "[CV] ...... penalty=l2, C=1291.54966501, score=0.813509, total= 1.4min\n",
      "[CV] penalty=l2, C=1291.54966501 .....................................\n",
      "[CV] ...... penalty=l2, C=1291.54966501, score=0.768322, total= 1.5min\n",
      "[CV] penalty=l1, C=10000.0 ...........................................\n",
      "[CV] ............ penalty=l1, C=10000.0, score=0.790577, total= 5.4min\n",
      "[CV] penalty=l1, C=10000.0 ...........................................\n",
      "[CV] ............ penalty=l1, C=10000.0, score=0.829264, total= 4.0min\n",
      "[CV] penalty=l1, C=10000.0 ...........................................\n",
      "[CV] ............ penalty=l1, C=10000.0, score=0.813922, total= 4.5min\n",
      "[CV] penalty=l1, C=10000.0 ...........................................\n",
      "[CV] ............ penalty=l1, C=10000.0, score=0.815461, total= 3.6min\n",
      "[CV] penalty=l1, C=10000.0 ...........................................\n",
      "[CV] ............ penalty=l1, C=10000.0, score=0.768828, total= 3.2min\n",
      "[CV] penalty=l2, C=10000.0 ...........................................\n",
      "[CV] ............ penalty=l2, C=10000.0, score=0.789991, total= 2.5min\n",
      "[CV] penalty=l2, C=10000.0 ...........................................\n",
      "[CV] ............ penalty=l2, C=10000.0, score=0.825183, total= 1.5min\n",
      "[CV] penalty=l2, C=10000.0 ...........................................\n",
      "[CV] ............ penalty=l2, C=10000.0, score=0.814159, total= 3.0min\n",
      "[CV] penalty=l2, C=10000.0 ...........................................\n",
      "[CV] ............ penalty=l2, C=10000.0, score=0.813204, total= 4.8min\n",
      "[CV] penalty=l2, C=10000.0 ...........................................\n",
      "[CV] ............ penalty=l2, C=10000.0, score=0.768271, total= 3.1min\n"
     ]
    },
    {
     "name": "stderr",
     "output_type": "stream",
     "text": [
      "[Parallel(n_jobs=1)]: Done 100 out of 100 | elapsed: 103.3min finished\n",
      "100%|#########################################################################|\n"
     ]
    },
    {
     "name": "stdout",
     "output_type": "stream",
     "text": [
      "Fitting 5 folds for each of 20 candidates, totalling 100 fits\n",
      "[CV] penalty=l1, C=0.0001 ............................................\n",
      "[CV] ............. penalty=l1, C=0.0001, score=0.500000, total=   0.9s\n",
      "[CV] penalty=l1, C=0.0001 ............................................\n"
     ]
    },
    {
     "name": "stderr",
     "output_type": "stream",
     "text": [
      "[Parallel(n_jobs=1)]: Done   1 out of   1 | elapsed:    1.0s remaining:    0.0s\n"
     ]
    },
    {
     "name": "stdout",
     "output_type": "stream",
     "text": [
      "[CV] ............. penalty=l1, C=0.0001, score=0.500000, total=   1.0s\n",
      "[CV] penalty=l1, C=0.0001 ............................................\n"
     ]
    },
    {
     "name": "stderr",
     "output_type": "stream",
     "text": [
      "[Parallel(n_jobs=1)]: Done   2 out of   2 | elapsed:    2.2s remaining:    0.0s\n"
     ]
    },
    {
     "name": "stdout",
     "output_type": "stream",
     "text": [
      "[CV] ............. penalty=l1, C=0.0001, score=0.500000, total=   1.0s\n",
      "[CV] penalty=l1, C=0.0001 ............................................\n"
     ]
    },
    {
     "name": "stderr",
     "output_type": "stream",
     "text": [
      "[Parallel(n_jobs=1)]: Done   3 out of   3 | elapsed:    3.4s remaining:    0.0s\n"
     ]
    },
    {
     "name": "stdout",
     "output_type": "stream",
     "text": [
      "[CV] ............. penalty=l1, C=0.0001, score=0.500000, total=   1.0s\n",
      "[CV] penalty=l1, C=0.0001 ............................................\n"
     ]
    },
    {
     "name": "stderr",
     "output_type": "stream",
     "text": [
      "[Parallel(n_jobs=1)]: Done   4 out of   4 | elapsed:    4.6s remaining:    0.0s\n"
     ]
    },
    {
     "name": "stdout",
     "output_type": "stream",
     "text": [
      "[CV] ............. penalty=l1, C=0.0001, score=0.500000, total=   1.1s\n",
      "[CV] penalty=l2, C=0.0001 ............................................\n"
     ]
    },
    {
     "name": "stderr",
     "output_type": "stream",
     "text": [
      "[Parallel(n_jobs=1)]: Done   5 out of   5 | elapsed:    5.9s remaining:    0.0s\n"
     ]
    },
    {
     "name": "stdout",
     "output_type": "stream",
     "text": [
      "[CV] ............. penalty=l2, C=0.0001, score=0.372389, total=   1.5s\n",
      "[CV] penalty=l2, C=0.0001 ............................................\n"
     ]
    },
    {
     "name": "stderr",
     "output_type": "stream",
     "text": [
      "[Parallel(n_jobs=1)]: Done   6 out of   6 | elapsed:    7.6s remaining:    0.0s\n"
     ]
    },
    {
     "name": "stdout",
     "output_type": "stream",
     "text": [
      "[CV] ............. penalty=l2, C=0.0001, score=0.328885, total=   1.5s\n",
      "[CV] penalty=l2, C=0.0001 ............................................\n"
     ]
    },
    {
     "name": "stderr",
     "output_type": "stream",
     "text": [
      "[Parallel(n_jobs=1)]: Done   7 out of   7 | elapsed:    9.3s remaining:    0.0s\n"
     ]
    },
    {
     "name": "stdout",
     "output_type": "stream",
     "text": [
      "[CV] ............. penalty=l2, C=0.0001, score=0.384089, total=   1.5s\n",
      "[CV] penalty=l2, C=0.0001 ............................................\n"
     ]
    },
    {
     "name": "stderr",
     "output_type": "stream",
     "text": [
      "[Parallel(n_jobs=1)]: Done   8 out of   8 | elapsed:   11.0s remaining:    0.0s\n"
     ]
    },
    {
     "name": "stdout",
     "output_type": "stream",
     "text": [
      "[CV] ............. penalty=l2, C=0.0001, score=0.391101, total=   1.5s\n",
      "[CV] penalty=l2, C=0.0001 ............................................\n"
     ]
    },
    {
     "name": "stderr",
     "output_type": "stream",
     "text": [
      "[Parallel(n_jobs=1)]: Done   9 out of   9 | elapsed:   12.7s remaining:    0.0s\n"
     ]
    },
    {
     "name": "stdout",
     "output_type": "stream",
     "text": [
      "[CV] ............. penalty=l2, C=0.0001, score=0.367142, total=   1.5s\n",
      "[CV] penalty=l1, C=0.000774263682681 .................................\n",
      "[CV] .. penalty=l1, C=0.000774263682681, score=0.500000, total=   1.1s\n",
      "[CV] penalty=l1, C=0.000774263682681 .................................\n",
      "[CV] .. penalty=l1, C=0.000774263682681, score=0.500000, total=   1.2s\n",
      "[CV] penalty=l1, C=0.000774263682681 .................................\n",
      "[CV] .. penalty=l1, C=0.000774263682681, score=0.500000, total=   1.2s\n",
      "[CV] penalty=l1, C=0.000774263682681 .................................\n",
      "[CV] .. penalty=l1, C=0.000774263682681, score=0.500000, total=   1.1s\n",
      "[CV] penalty=l1, C=0.000774263682681 .................................\n",
      "[CV] .. penalty=l1, C=0.000774263682681, score=0.500000, total=   1.1s\n",
      "[CV] penalty=l2, C=0.000774263682681 .................................\n",
      "[CV] .. penalty=l2, C=0.000774263682681, score=0.406587, total=   2.0s\n",
      "[CV] penalty=l2, C=0.000774263682681 .................................\n",
      "[CV] .. penalty=l2, C=0.000774263682681, score=0.371060, total=   2.0s\n",
      "[CV] penalty=l2, C=0.000774263682681 .................................\n",
      "[CV] .. penalty=l2, C=0.000774263682681, score=0.435997, total=   2.1s\n",
      "[CV] penalty=l2, C=0.000774263682681 .................................\n",
      "[CV] .. penalty=l2, C=0.000774263682681, score=0.441795, total=   2.1s\n",
      "[CV] penalty=l2, C=0.000774263682681 .................................\n",
      "[CV] .. penalty=l2, C=0.000774263682681, score=0.399109, total=   1.9s\n",
      "[CV] penalty=l1, C=0.00599484250319 ..................................\n",
      "[CV] ... penalty=l1, C=0.00599484250319, score=0.698927, total=   1.6s\n",
      "[CV] penalty=l1, C=0.00599484250319 ..................................\n",
      "[CV] ... penalty=l1, C=0.00599484250319, score=0.766304, total=   1.5s\n",
      "[CV] penalty=l1, C=0.00599484250319 ..................................\n",
      "[CV] ... penalty=l1, C=0.00599484250319, score=0.726593, total=   1.8s\n",
      "[CV] penalty=l1, C=0.00599484250319 ..................................\n",
      "[CV] ... penalty=l1, C=0.00599484250319, score=0.725979, total=   1.7s\n",
      "[CV] penalty=l1, C=0.00599484250319 ..................................\n",
      "[CV] ... penalty=l1, C=0.00599484250319, score=0.674552, total=   1.6s\n",
      "[CV] penalty=l2, C=0.00599484250319 ..................................\n",
      "[CV] ... penalty=l2, C=0.00599484250319, score=0.719490, total=   2.4s\n",
      "[CV] penalty=l2, C=0.00599484250319 ..................................\n",
      "[CV] ... penalty=l2, C=0.00599484250319, score=0.708233, total=   2.3s\n",
      "[CV] penalty=l2, C=0.00599484250319 ..................................\n",
      "[CV] ... penalty=l2, C=0.00599484250319, score=0.750692, total=   2.4s\n",
      "[CV] penalty=l2, C=0.00599484250319 ..................................\n",
      "[CV] ... penalty=l2, C=0.00599484250319, score=0.740279, total=   2.4s\n",
      "[CV] penalty=l2, C=0.00599484250319 ..................................\n",
      "[CV] ... penalty=l2, C=0.00599484250319, score=0.661178, total=   2.7s\n",
      "[CV] penalty=l1, C=0.0464158883361 ...................................\n",
      "[CV] .... penalty=l1, C=0.0464158883361, score=0.786665, total=   2.8s\n",
      "[CV] penalty=l1, C=0.0464158883361 ...................................\n",
      "[CV] .... penalty=l1, C=0.0464158883361, score=0.827018, total=   2.9s\n",
      "[CV] penalty=l1, C=0.0464158883361 ...................................\n",
      "[CV] .... penalty=l1, C=0.0464158883361, score=0.816660, total=   2.3s\n",
      "[CV] penalty=l1, C=0.0464158883361 ...................................\n",
      "[CV] .... penalty=l1, C=0.0464158883361, score=0.806436, total=   2.5s\n",
      "[CV] penalty=l1, C=0.0464158883361 ...................................\n",
      "[CV] .... penalty=l1, C=0.0464158883361, score=0.742988, total=   2.7s\n",
      "[CV] penalty=l2, C=0.0464158883361 ...................................\n",
      "[CV] .... penalty=l2, C=0.0464158883361, score=0.803919, total=   3.6s\n",
      "[CV] penalty=l2, C=0.0464158883361 ...................................\n",
      "[CV] .... penalty=l2, C=0.0464158883361, score=0.817056, total=   3.6s\n",
      "[CV] penalty=l2, C=0.0464158883361 ...................................\n",
      "[CV] .... penalty=l2, C=0.0464158883361, score=0.817445, total=   3.6s\n",
      "[CV] penalty=l2, C=0.0464158883361 ...................................\n",
      "[CV] .... penalty=l2, C=0.0464158883361, score=0.810290, total=   3.6s\n",
      "[CV] penalty=l2, C=0.0464158883361 ...................................\n",
      "[CV] .... penalty=l2, C=0.0464158883361, score=0.760468, total=   3.3s\n",
      "[CV] penalty=l1, C=0.35938136638 .....................................\n",
      "[CV] ...... penalty=l1, C=0.35938136638, score=0.796628, total=   4.7s\n",
      "[CV] penalty=l1, C=0.35938136638 .....................................\n",
      "[CV] ...... penalty=l1, C=0.35938136638, score=0.832434, total=   4.9s\n",
      "[CV] penalty=l1, C=0.35938136638 .....................................\n",
      "[CV] ...... penalty=l1, C=0.35938136638, score=0.819768, total=   4.9s\n",
      "[CV] penalty=l1, C=0.35938136638 .....................................\n",
      "[CV] ...... penalty=l1, C=0.35938136638, score=0.814948, total=   5.7s\n",
      "[CV] penalty=l1, C=0.35938136638 .....................................\n",
      "[CV] ...... penalty=l1, C=0.35938136638, score=0.772399, total=   5.4s\n",
      "[CV] penalty=l2, C=0.35938136638 .....................................\n",
      "[CV] ...... penalty=l2, C=0.35938136638, score=0.802058, total=   5.6s\n",
      "[CV] penalty=l2, C=0.35938136638 .....................................\n",
      "[CV] ...... penalty=l2, C=0.35938136638, score=0.830058, total=   4.9s\n",
      "[CV] penalty=l2, C=0.35938136638 .....................................\n",
      "[CV] ...... penalty=l2, C=0.35938136638, score=0.819991, total=   4.9s\n",
      "[CV] penalty=l2, C=0.35938136638 .....................................\n",
      "[CV] ...... penalty=l2, C=0.35938136638, score=0.815674, total=   5.5s\n",
      "[CV] penalty=l2, C=0.35938136638 .....................................\n",
      "[CV] ...... penalty=l2, C=0.35938136638, score=0.773779, total=   6.0s\n",
      "[CV] penalty=l1, C=2.78255940221 .....................................\n",
      "[CV] ...... penalty=l1, C=2.78255940221, score=0.795933, total=  26.9s\n",
      "[CV] penalty=l1, C=2.78255940221 .....................................\n",
      "[CV] ...... penalty=l1, C=2.78255940221, score=0.831997, total=  27.9s\n",
      "[CV] penalty=l1, C=2.78255940221 .....................................\n",
      "[CV] ...... penalty=l1, C=2.78255940221, score=0.818093, total=  32.8s\n",
      "[CV] penalty=l1, C=2.78255940221 .....................................\n",
      "[CV] ...... penalty=l1, C=2.78255940221, score=0.817898, total=  32.9s\n",
      "[CV] penalty=l1, C=2.78255940221 .....................................\n",
      "[CV] ...... penalty=l1, C=2.78255940221, score=0.777324, total=  33.3s\n",
      "[CV] penalty=l2, C=2.78255940221 .....................................\n",
      "[CV] ...... penalty=l2, C=2.78255940221, score=0.796721, total=   9.0s\n",
      "[CV] penalty=l2, C=2.78255940221 .....................................\n",
      "[CV] ...... penalty=l2, C=2.78255940221, score=0.830627, total=   8.9s\n",
      "[CV] penalty=l2, C=2.78255940221 .....................................\n",
      "[CV] ...... penalty=l2, C=2.78255940221, score=0.818394, total=   9.8s\n",
      "[CV] penalty=l2, C=2.78255940221 .....................................\n",
      "[CV] ...... penalty=l2, C=2.78255940221, score=0.815174, total=   9.2s\n",
      "[CV] penalty=l2, C=2.78255940221 .....................................\n",
      "[CV] ...... penalty=l2, C=2.78255940221, score=0.776845, total=  10.0s\n",
      "[CV] penalty=l1, C=21.5443469003 .....................................\n",
      "[CV] ...... penalty=l1, C=21.5443469003, score=0.791508, total= 1.3min\n",
      "[CV] penalty=l1, C=21.5443469003 .....................................\n",
      "[CV] ...... penalty=l1, C=21.5443469003, score=0.830162, total= 1.8min\n",
      "[CV] penalty=l1, C=21.5443469003 .....................................\n",
      "[CV] ...... penalty=l1, C=21.5443469003, score=0.815613, total= 1.5min\n",
      "[CV] penalty=l1, C=21.5443469003 .....................................\n",
      "[CV] ...... penalty=l1, C=21.5443469003, score=0.815729, total= 1.2min\n",
      "[CV] penalty=l1, C=21.5443469003 .....................................\n",
      "[CV] ...... penalty=l1, C=21.5443469003, score=0.771945, total= 1.4min\n",
      "[CV] penalty=l2, C=21.5443469003 .....................................\n",
      "[CV] ...... penalty=l2, C=21.5443469003, score=0.793898, total=  15.0s\n",
      "[CV] penalty=l2, C=21.5443469003 .....................................\n",
      "[CV] ...... penalty=l2, C=21.5443469003, score=0.830631, total=  16.9s\n",
      "[CV] penalty=l2, C=21.5443469003 .....................................\n"
     ]
    },
    {
     "name": "stdout",
     "output_type": "stream",
     "text": [
      "[CV] ...... penalty=l2, C=21.5443469003, score=0.816876, total=  19.5s\n",
      "[CV] penalty=l2, C=21.5443469003 .....................................\n",
      "[CV] ...... penalty=l2, C=21.5443469003, score=0.815724, total=  18.9s\n",
      "[CV] penalty=l2, C=21.5443469003 .....................................\n",
      "[CV] ...... penalty=l2, C=21.5443469003, score=0.774203, total=  15.9s\n",
      "[CV] penalty=l1, C=166.81005372 ......................................\n",
      "[CV] ....... penalty=l1, C=166.81005372, score=0.791005, total= 3.7min\n",
      "[CV] penalty=l1, C=166.81005372 ......................................\n",
      "[CV] ....... penalty=l1, C=166.81005372, score=0.829532, total= 3.6min\n",
      "[CV] penalty=l1, C=166.81005372 ......................................\n",
      "[CV] ....... penalty=l1, C=166.81005372, score=0.814051, total= 3.4min\n",
      "[CV] penalty=l1, C=166.81005372 ......................................\n",
      "[CV] ....... penalty=l1, C=166.81005372, score=0.815995, total= 3.2min\n",
      "[CV] penalty=l1, C=166.81005372 ......................................\n",
      "[CV] ....... penalty=l1, C=166.81005372, score=0.768931, total= 3.2min\n",
      "[CV] penalty=l2, C=166.81005372 ......................................\n",
      "[CV] ....... penalty=l2, C=166.81005372, score=0.791894, total=  42.2s\n",
      "[CV] penalty=l2, C=166.81005372 ......................................\n",
      "[CV] ....... penalty=l2, C=166.81005372, score=0.829898, total=  33.6s\n",
      "[CV] penalty=l2, C=166.81005372 ......................................\n",
      "[CV] ....... penalty=l2, C=166.81005372, score=0.814682, total=  35.8s\n",
      "[CV] penalty=l2, C=166.81005372 ......................................\n",
      "[CV] ....... penalty=l2, C=166.81005372, score=0.815800, total=  33.2s\n",
      "[CV] penalty=l2, C=166.81005372 ......................................\n",
      "[CV] ....... penalty=l2, C=166.81005372, score=0.769657, total=  32.9s\n",
      "[CV] penalty=l1, C=1291.54966501 .....................................\n",
      "[CV] ...... penalty=l1, C=1291.54966501, score=0.790687, total= 4.7min\n",
      "[CV] penalty=l1, C=1291.54966501 .....................................\n",
      "[CV] ...... penalty=l1, C=1291.54966501, score=0.829144, total= 4.7min\n",
      "[CV] penalty=l1, C=1291.54966501 .....................................\n",
      "[CV] ...... penalty=l1, C=1291.54966501, score=0.813918, total= 3.6min\n",
      "[CV] penalty=l1, C=1291.54966501 .....................................\n",
      "[CV] ...... penalty=l1, C=1291.54966501, score=0.815418, total= 3.6min\n",
      "[CV] penalty=l1, C=1291.54966501 .....................................\n",
      "[CV] ...... penalty=l1, C=1291.54966501, score=0.768765, total= 3.5min\n",
      "[CV] penalty=l2, C=1291.54966501 .....................................\n",
      "[CV] ...... penalty=l2, C=1291.54966501, score=0.790892, total= 1.6min\n",
      "[CV] penalty=l2, C=1291.54966501 .....................................\n",
      "[CV] ...... penalty=l2, C=1291.54966501, score=0.827984, total= 1.1min\n",
      "[CV] penalty=l2, C=1291.54966501 .....................................\n",
      "[CV] ...... penalty=l2, C=1291.54966501, score=0.814152, total= 1.5min\n",
      "[CV] penalty=l2, C=1291.54966501 .....................................\n",
      "[CV] ...... penalty=l2, C=1291.54966501, score=0.813506, total= 1.5min\n",
      "[CV] penalty=l2, C=1291.54966501 .....................................\n",
      "[CV] ...... penalty=l2, C=1291.54966501, score=0.768377, total= 1.4min\n",
      "[CV] penalty=l1, C=10000.0 ...........................................\n",
      "[CV] ............ penalty=l1, C=10000.0, score=0.790648, total= 5.4min\n",
      "[CV] penalty=l1, C=10000.0 ...........................................\n",
      "[CV] ............ penalty=l1, C=10000.0, score=0.829326, total= 3.9min\n",
      "[CV] penalty=l1, C=10000.0 ...........................................\n",
      "[CV] ............ penalty=l1, C=10000.0, score=0.813901, total= 4.3min\n",
      "[CV] penalty=l1, C=10000.0 ...........................................\n",
      "[CV] ............ penalty=l1, C=10000.0, score=0.815444, total= 3.7min\n",
      "[CV] penalty=l1, C=10000.0 ...........................................\n",
      "[CV] ............ penalty=l1, C=10000.0, score=0.768787, total= 3.4min\n",
      "[CV] penalty=l2, C=10000.0 ...........................................\n",
      "[CV] ............ penalty=l2, C=10000.0, score=0.789663, total= 2.5min\n",
      "[CV] penalty=l2, C=10000.0 ...........................................\n",
      "[CV] ............ penalty=l2, C=10000.0, score=0.824634, total= 3.1min\n",
      "[CV] penalty=l2, C=10000.0 ...........................................\n",
      "[CV] ............ penalty=l2, C=10000.0, score=0.814142, total= 3.0min\n",
      "[CV] penalty=l2, C=10000.0 ...........................................\n",
      "[CV] ............ penalty=l2, C=10000.0, score=0.813223, total= 3.2min\n",
      "[CV] penalty=l2, C=10000.0 ...........................................\n",
      "[CV] ............ penalty=l2, C=10000.0, score=0.768114, total= 2.7min\n"
     ]
    },
    {
     "name": "stderr",
     "output_type": "stream",
     "text": [
      "[Parallel(n_jobs=1)]: Done 100 out of 100 | elapsed: 96.9min finished\n",
      "100%|#########################################################################|\n"
     ]
    },
    {
     "name": "stdout",
     "output_type": "stream",
     "text": [
      "Fitting 5 folds for each of 20 candidates, totalling 100 fits\n",
      "[CV] penalty=l1, C=0.0001 ............................................\n",
      "[CV] ............. penalty=l1, C=0.0001, score=0.500000, total=   0.9s\n",
      "[CV] penalty=l1, C=0.0001 ............................................\n"
     ]
    },
    {
     "name": "stderr",
     "output_type": "stream",
     "text": [
      "[Parallel(n_jobs=1)]: Done   1 out of   1 | elapsed:    1.0s remaining:    0.0s\n"
     ]
    },
    {
     "name": "stdout",
     "output_type": "stream",
     "text": [
      "[CV] ............. penalty=l1, C=0.0001, score=0.500000, total=   0.9s\n",
      "[CV] penalty=l1, C=0.0001 ............................................\n"
     ]
    },
    {
     "name": "stderr",
     "output_type": "stream",
     "text": [
      "[Parallel(n_jobs=1)]: Done   2 out of   2 | elapsed:    2.2s remaining:    0.0s\n"
     ]
    },
    {
     "name": "stdout",
     "output_type": "stream",
     "text": [
      "[CV] ............. penalty=l1, C=0.0001, score=0.500000, total=   0.9s\n",
      "[CV] penalty=l1, C=0.0001 ............................................\n"
     ]
    },
    {
     "name": "stderr",
     "output_type": "stream",
     "text": [
      "[Parallel(n_jobs=1)]: Done   3 out of   3 | elapsed:    3.3s remaining:    0.0s\n"
     ]
    },
    {
     "name": "stdout",
     "output_type": "stream",
     "text": [
      "[CV] ............. penalty=l1, C=0.0001, score=0.500000, total=   1.0s\n",
      "[CV] penalty=l1, C=0.0001 ............................................\n"
     ]
    },
    {
     "name": "stderr",
     "output_type": "stream",
     "text": [
      "[Parallel(n_jobs=1)]: Done   4 out of   4 | elapsed:    4.4s remaining:    0.0s\n"
     ]
    },
    {
     "name": "stdout",
     "output_type": "stream",
     "text": [
      "[CV] ............. penalty=l1, C=0.0001, score=0.500000, total=   0.9s\n",
      "[CV] penalty=l2, C=0.0001 ............................................\n"
     ]
    },
    {
     "name": "stderr",
     "output_type": "stream",
     "text": [
      "[Parallel(n_jobs=1)]: Done   5 out of   5 | elapsed:    5.5s remaining:    0.0s\n"
     ]
    },
    {
     "name": "stdout",
     "output_type": "stream",
     "text": [
      "[CV] ............. penalty=l2, C=0.0001, score=0.372387, total=   1.5s\n",
      "[CV] penalty=l2, C=0.0001 ............................................\n"
     ]
    },
    {
     "name": "stderr",
     "output_type": "stream",
     "text": [
      "[Parallel(n_jobs=1)]: Done   6 out of   6 | elapsed:    7.2s remaining:    0.0s\n"
     ]
    },
    {
     "name": "stdout",
     "output_type": "stream",
     "text": [
      "[CV] ............. penalty=l2, C=0.0001, score=0.328879, total=   1.5s\n",
      "[CV] penalty=l2, C=0.0001 ............................................\n"
     ]
    },
    {
     "name": "stderr",
     "output_type": "stream",
     "text": [
      "[Parallel(n_jobs=1)]: Done   7 out of   7 | elapsed:    8.9s remaining:    0.0s\n"
     ]
    },
    {
     "name": "stdout",
     "output_type": "stream",
     "text": [
      "[CV] ............. penalty=l2, C=0.0001, score=0.384092, total=   1.5s\n",
      "[CV] penalty=l2, C=0.0001 ............................................\n"
     ]
    },
    {
     "name": "stderr",
     "output_type": "stream",
     "text": [
      "[Parallel(n_jobs=1)]: Done   8 out of   8 | elapsed:   10.6s remaining:    0.0s\n"
     ]
    },
    {
     "name": "stdout",
     "output_type": "stream",
     "text": [
      "[CV] ............. penalty=l2, C=0.0001, score=0.391100, total=   1.5s\n",
      "[CV] penalty=l2, C=0.0001 ............................................\n"
     ]
    },
    {
     "name": "stderr",
     "output_type": "stream",
     "text": [
      "[Parallel(n_jobs=1)]: Done   9 out of   9 | elapsed:   12.3s remaining:    0.0s\n"
     ]
    },
    {
     "name": "stdout",
     "output_type": "stream",
     "text": [
      "[CV] ............. penalty=l2, C=0.0001, score=0.367139, total=   1.5s\n",
      "[CV] penalty=l1, C=0.000774263682681 .................................\n",
      "[CV] .. penalty=l1, C=0.000774263682681, score=0.500000, total=   1.0s\n",
      "[CV] penalty=l1, C=0.000774263682681 .................................\n",
      "[CV] .. penalty=l1, C=0.000774263682681, score=0.500000, total=   1.0s\n",
      "[CV] penalty=l1, C=0.000774263682681 .................................\n",
      "[CV] .. penalty=l1, C=0.000774263682681, score=0.500000, total=   1.1s\n",
      "[CV] penalty=l1, C=0.000774263682681 .................................\n",
      "[CV] .. penalty=l1, C=0.000774263682681, score=0.500000, total=   1.1s\n",
      "[CV] penalty=l1, C=0.000774263682681 .................................\n",
      "[CV] .. penalty=l1, C=0.000774263682681, score=0.500000, total=   1.1s\n",
      "[CV] penalty=l2, C=0.000774263682681 .................................\n",
      "[CV] .. penalty=l2, C=0.000774263682681, score=0.406576, total=   2.0s\n",
      "[CV] penalty=l2, C=0.000774263682681 .................................\n",
      "[CV] .. penalty=l2, C=0.000774263682681, score=0.371047, total=   2.0s\n",
      "[CV] penalty=l2, C=0.000774263682681 .................................\n",
      "[CV] .. penalty=l2, C=0.000774263682681, score=0.436001, total=   2.0s\n",
      "[CV] penalty=l2, C=0.000774263682681 .................................\n",
      "[CV] .. penalty=l2, C=0.000774263682681, score=0.441790, total=   2.1s\n",
      "[CV] penalty=l2, C=0.000774263682681 .................................\n",
      "[CV] .. penalty=l2, C=0.000774263682681, score=0.399110, total=   1.9s\n",
      "[CV] penalty=l1, C=0.00599484250319 ..................................\n",
      "[CV] ... penalty=l1, C=0.00599484250319, score=0.698933, total=   1.7s\n",
      "[CV] penalty=l1, C=0.00599484250319 ..................................\n",
      "[CV] ... penalty=l1, C=0.00599484250319, score=0.766302, total=   1.8s\n",
      "[CV] penalty=l1, C=0.00599484250319 ..................................\n",
      "[CV] ... penalty=l1, C=0.00599484250319, score=0.726597, total=   1.6s\n",
      "[CV] penalty=l1, C=0.00599484250319 ..................................\n",
      "[CV] ... penalty=l1, C=0.00599484250319, score=0.725972, total=   1.7s\n",
      "[CV] penalty=l1, C=0.00599484250319 ..................................\n",
      "[CV] ... penalty=l1, C=0.00599484250319, score=0.674552, total=   1.7s\n",
      "[CV] penalty=l2, C=0.00599484250319 ..................................\n",
      "[CV] ... penalty=l2, C=0.00599484250319, score=0.719498, total=   2.3s\n",
      "[CV] penalty=l2, C=0.00599484250319 ..................................\n",
      "[CV] ... penalty=l2, C=0.00599484250319, score=0.708226, total=   2.3s\n",
      "[CV] penalty=l2, C=0.00599484250319 ..................................\n",
      "[CV] ... penalty=l2, C=0.00599484250319, score=0.750709, total=   2.4s\n",
      "[CV] penalty=l2, C=0.00599484250319 ..................................\n",
      "[CV] ... penalty=l2, C=0.00599484250319, score=0.740290, total=   2.4s\n",
      "[CV] penalty=l2, C=0.00599484250319 ..................................\n",
      "[CV] ... penalty=l2, C=0.00599484250319, score=0.661191, total=   2.7s\n",
      "[CV] penalty=l1, C=0.0464158883361 ...................................\n",
      "[CV] .... penalty=l1, C=0.0464158883361, score=0.786570, total=   3.0s\n",
      "[CV] penalty=l1, C=0.0464158883361 ...................................\n",
      "[CV] .... penalty=l1, C=0.0464158883361, score=0.827125, total=   3.0s\n",
      "[CV] penalty=l1, C=0.0464158883361 ...................................\n",
      "[CV] .... penalty=l1, C=0.0464158883361, score=0.816820, total=   2.3s\n",
      "[CV] penalty=l1, C=0.0464158883361 ...................................\n",
      "[CV] .... penalty=l1, C=0.0464158883361, score=0.806742, total=   2.6s\n",
      "[CV] penalty=l1, C=0.0464158883361 ...................................\n",
      "[CV] .... penalty=l1, C=0.0464158883361, score=0.743306, total=   2.8s\n",
      "[CV] penalty=l2, C=0.0464158883361 ...................................\n",
      "[CV] .... penalty=l2, C=0.0464158883361, score=0.804175, total=   3.6s\n",
      "[CV] penalty=l2, C=0.0464158883361 ...................................\n",
      "[CV] .... penalty=l2, C=0.0464158883361, score=0.817048, total=   3.7s\n",
      "[CV] penalty=l2, C=0.0464158883361 ...................................\n",
      "[CV] .... penalty=l2, C=0.0464158883361, score=0.817606, total=   3.6s\n",
      "[CV] penalty=l2, C=0.0464158883361 ...................................\n",
      "[CV] .... penalty=l2, C=0.0464158883361, score=0.810301, total=   3.6s\n",
      "[CV] penalty=l2, C=0.0464158883361 ...................................\n",
      "[CV] .... penalty=l2, C=0.0464158883361, score=0.760692, total=   3.4s\n",
      "[CV] penalty=l1, C=0.35938136638 .....................................\n",
      "[CV] ...... penalty=l1, C=0.35938136638, score=0.796902, total=   5.2s\n",
      "[CV] penalty=l1, C=0.35938136638 .....................................\n",
      "[CV] ...... penalty=l1, C=0.35938136638, score=0.832329, total=   5.0s\n",
      "[CV] penalty=l1, C=0.35938136638 .....................................\n",
      "[CV] ...... penalty=l1, C=0.35938136638, score=0.819896, total=   4.8s\n",
      "[CV] penalty=l1, C=0.35938136638 .....................................\n",
      "[CV] ...... penalty=l1, C=0.35938136638, score=0.814960, total=   5.1s\n",
      "[CV] penalty=l1, C=0.35938136638 .....................................\n",
      "[CV] ...... penalty=l1, C=0.35938136638, score=0.772644, total=   5.2s\n",
      "[CV] penalty=l2, C=0.35938136638 .....................................\n",
      "[CV] ...... penalty=l2, C=0.35938136638, score=0.802282, total=   5.6s\n",
      "[CV] penalty=l2, C=0.35938136638 .....................................\n",
      "[CV] ...... penalty=l2, C=0.35938136638, score=0.829949, total=   4.9s\n",
      "[CV] penalty=l2, C=0.35938136638 .....................................\n",
      "[CV] ...... penalty=l2, C=0.35938136638, score=0.820147, total=   4.9s\n",
      "[CV] penalty=l2, C=0.35938136638 .....................................\n",
      "[CV] ...... penalty=l2, C=0.35938136638, score=0.815688, total=   5.6s\n",
      "[CV] penalty=l2, C=0.35938136638 .....................................\n",
      "[CV] ...... penalty=l2, C=0.35938136638, score=0.774189, total=   6.0s\n",
      "[CV] penalty=l1, C=2.78255940221 .....................................\n",
      "[CV] ...... penalty=l1, C=2.78255940221, score=0.796126, total=  45.0s\n",
      "[CV] penalty=l1, C=2.78255940221 .....................................\n",
      "[CV] ...... penalty=l1, C=2.78255940221, score=0.831931, total=  21.9s\n",
      "[CV] penalty=l1, C=2.78255940221 .....................................\n",
      "[CV] ...... penalty=l1, C=2.78255940221, score=0.818369, total=  25.9s\n",
      "[CV] penalty=l1, C=2.78255940221 .....................................\n",
      "[CV] ...... penalty=l1, C=2.78255940221, score=0.817775, total=  23.1s\n",
      "[CV] penalty=l1, C=2.78255940221 .....................................\n",
      "[CV] ...... penalty=l1, C=2.78255940221, score=0.778228, total=  32.3s\n",
      "[CV] penalty=l2, C=2.78255940221 .....................................\n",
      "[CV] ...... penalty=l2, C=2.78255940221, score=0.796803, total=   9.1s\n",
      "[CV] penalty=l2, C=2.78255940221 .....................................\n",
      "[CV] ...... penalty=l2, C=2.78255940221, score=0.830575, total=   8.8s\n",
      "[CV] penalty=l2, C=2.78255940221 .....................................\n",
      "[CV] ...... penalty=l2, C=2.78255940221, score=0.818547, total=  10.0s\n",
      "[CV] penalty=l2, C=2.78255940221 .....................................\n",
      "[CV] ...... penalty=l2, C=2.78255940221, score=0.815182, total=   9.1s\n",
      "[CV] penalty=l2, C=2.78255940221 .....................................\n",
      "[CV] ...... penalty=l2, C=2.78255940221, score=0.777313, total=   9.8s\n",
      "[CV] penalty=l1, C=21.5443469003 .....................................\n",
      "[CV] ...... penalty=l1, C=21.5443469003, score=0.791249, total= 1.7min\n",
      "[CV] penalty=l1, C=21.5443469003 .....................................\n",
      "[CV] ...... penalty=l1, C=21.5443469003, score=0.830177, total= 2.1min\n",
      "[CV] penalty=l1, C=21.5443469003 .....................................\n",
      "[CV] ...... penalty=l1, C=21.5443469003, score=0.815758, total= 2.3min\n",
      "[CV] penalty=l1, C=21.5443469003 .....................................\n",
      "[CV] ...... penalty=l1, C=21.5443469003, score=0.815659, total= 1.5min\n",
      "[CV] penalty=l1, C=21.5443469003 .....................................\n",
      "[CV] ...... penalty=l1, C=21.5443469003, score=0.772541, total= 1.6min\n",
      "[CV] penalty=l2, C=21.5443469003 .....................................\n",
      "[CV] ...... penalty=l2, C=21.5443469003, score=0.793953, total=  15.4s\n",
      "[CV] penalty=l2, C=21.5443469003 .....................................\n",
      "[CV] ...... penalty=l2, C=21.5443469003, score=0.830549, total=  15.0s\n",
      "[CV] penalty=l2, C=21.5443469003 .....................................\n"
     ]
    },
    {
     "name": "stdout",
     "output_type": "stream",
     "text": [
      "[CV] ...... penalty=l2, C=21.5443469003, score=0.817046, total=  18.5s\n",
      "[CV] penalty=l2, C=21.5443469003 .....................................\n",
      "[CV] ...... penalty=l2, C=21.5443469003, score=0.815735, total=  15.1s\n",
      "[CV] penalty=l2, C=21.5443469003 .....................................\n",
      "[CV] ...... penalty=l2, C=21.5443469003, score=0.774701, total=  15.9s\n",
      "[CV] penalty=l1, C=166.81005372 ......................................\n",
      "[CV] ....... penalty=l1, C=166.81005372, score=0.791174, total= 4.0min\n",
      "[CV] penalty=l1, C=166.81005372 ......................................\n",
      "[CV] ....... penalty=l1, C=166.81005372, score=0.829444, total= 3.8min\n",
      "[CV] penalty=l1, C=166.81005372 ......................................\n",
      "[CV] ....... penalty=l1, C=166.81005372, score=0.814233, total= 3.1min\n",
      "[CV] penalty=l1, C=166.81005372 ......................................\n",
      "[CV] ....... penalty=l1, C=166.81005372, score=0.815935, total= 3.4min\n",
      "[CV] penalty=l1, C=166.81005372 ......................................\n",
      "[CV] ....... penalty=l1, C=166.81005372, score=0.769696, total= 2.6min\n",
      "[CV] penalty=l2, C=166.81005372 ......................................\n",
      "[CV] ....... penalty=l2, C=166.81005372, score=0.791953, total=  38.7s\n",
      "[CV] penalty=l2, C=166.81005372 ......................................\n",
      "[CV] ....... penalty=l2, C=166.81005372, score=0.829798, total=  32.8s\n",
      "[CV] penalty=l2, C=166.81005372 ......................................\n",
      "[CV] ....... penalty=l2, C=166.81005372, score=0.814873, total=  38.2s\n",
      "[CV] penalty=l2, C=166.81005372 ......................................\n",
      "[CV] ....... penalty=l2, C=166.81005372, score=0.815753, total=  30.4s\n",
      "[CV] penalty=l2, C=166.81005372 ......................................\n",
      "[CV] ....... penalty=l2, C=166.81005372, score=0.770488, total=  34.3s\n",
      "[CV] penalty=l1, C=1291.54966501 .....................................\n",
      "[CV] ...... penalty=l1, C=1291.54966501, score=0.790819, total= 4.5min\n",
      "[CV] penalty=l1, C=1291.54966501 .....................................\n",
      "[CV] ...... penalty=l1, C=1291.54966501, score=0.829259, total= 3.7min\n",
      "[CV] penalty=l1, C=1291.54966501 .....................................\n",
      "[CV] ...... penalty=l1, C=1291.54966501, score=0.814127, total= 3.4min\n",
      "[CV] penalty=l1, C=1291.54966501 .....................................\n",
      "[CV] ...... penalty=l1, C=1291.54966501, score=0.815583, total= 3.6min\n",
      "[CV] penalty=l1, C=1291.54966501 .....................................\n",
      "[CV] ...... penalty=l1, C=1291.54966501, score=0.769477, total= 3.5min\n",
      "[CV] penalty=l2, C=1291.54966501 .....................................\n",
      "[CV] ...... penalty=l2, C=1291.54966501, score=0.790965, total= 1.3min\n",
      "[CV] penalty=l2, C=1291.54966501 .....................................\n",
      "[CV] ...... penalty=l2, C=1291.54966501, score=0.827892, total= 1.1min\n",
      "[CV] penalty=l2, C=1291.54966501 .....................................\n",
      "[CV] ...... penalty=l2, C=1291.54966501, score=0.814356, total= 1.6min\n",
      "[CV] penalty=l2, C=1291.54966501 .....................................\n",
      "[CV] ...... penalty=l2, C=1291.54966501, score=0.813531, total= 1.4min\n",
      "[CV] penalty=l2, C=1291.54966501 .....................................\n",
      "[CV] ...... penalty=l2, C=1291.54966501, score=0.769349, total= 1.3min\n",
      "[CV] penalty=l1, C=10000.0 ...........................................\n",
      "[CV] ............ penalty=l1, C=10000.0, score=0.790754, total= 5.1min\n",
      "[CV] penalty=l1, C=10000.0 ...........................................\n",
      "[CV] ............ penalty=l1, C=10000.0, score=0.829187, total= 3.9min\n",
      "[CV] penalty=l1, C=10000.0 ...........................................\n",
      "[CV] ............ penalty=l1, C=10000.0, score=0.814074, total= 3.8min\n",
      "[CV] penalty=l1, C=10000.0 ...........................................\n",
      "[CV] ............ penalty=l1, C=10000.0, score=0.815304, total= 4.5min\n",
      "[CV] penalty=l1, C=10000.0 ...........................................\n",
      "[CV] ............ penalty=l1, C=10000.0, score=0.769468, total= 4.2min\n",
      "[CV] penalty=l2, C=10000.0 ...........................................\n",
      "[CV] ............ penalty=l2, C=10000.0, score=0.790025, total= 2.4min\n",
      "[CV] penalty=l2, C=10000.0 ...........................................\n",
      "[CV] ............ penalty=l2, C=10000.0, score=0.824540, total= 3.8min\n",
      "[CV] penalty=l2, C=10000.0 ...........................................\n",
      "[CV] ............ penalty=l2, C=10000.0, score=0.814328, total= 2.9min\n",
      "[CV] penalty=l2, C=10000.0 ...........................................\n",
      "[CV] ............ penalty=l2, C=10000.0, score=0.813254, total= 3.7min\n",
      "[CV] penalty=l2, C=10000.0 ...........................................\n",
      "[CV] ............ penalty=l2, C=10000.0, score=0.769010, total= 3.0min\n"
     ]
    },
    {
     "name": "stderr",
     "output_type": "stream",
     "text": [
      "[Parallel(n_jobs=1)]: Done 100 out of 100 | elapsed: 98.8min finished\n",
      "100%|#########################################################################|\n"
     ]
    },
    {
     "name": "stdout",
     "output_type": "stream",
     "text": [
      "Fitting 5 folds for each of 20 candidates, totalling 100 fits\n",
      "[CV] penalty=l1, C=0.0001 ............................................\n",
      "[CV] ............. penalty=l1, C=0.0001, score=0.500000, total=   1.0s\n",
      "[CV] penalty=l1, C=0.0001 ............................................\n"
     ]
    },
    {
     "name": "stderr",
     "output_type": "stream",
     "text": [
      "[Parallel(n_jobs=1)]: Done   1 out of   1 | elapsed:    1.1s remaining:    0.0s\n"
     ]
    },
    {
     "name": "stdout",
     "output_type": "stream",
     "text": [
      "[CV] ............. penalty=l1, C=0.0001, score=0.500000, total=   1.0s\n",
      "[CV] penalty=l1, C=0.0001 ............................................\n"
     ]
    },
    {
     "name": "stderr",
     "output_type": "stream",
     "text": [
      "[Parallel(n_jobs=1)]: Done   2 out of   2 | elapsed:    2.3s remaining:    0.0s\n"
     ]
    },
    {
     "name": "stdout",
     "output_type": "stream",
     "text": [
      "[CV] ............. penalty=l1, C=0.0001, score=0.500000, total=   1.0s\n",
      "[CV] penalty=l1, C=0.0001 ............................................\n"
     ]
    },
    {
     "name": "stderr",
     "output_type": "stream",
     "text": [
      "[Parallel(n_jobs=1)]: Done   3 out of   3 | elapsed:    3.5s remaining:    0.0s\n"
     ]
    },
    {
     "name": "stdout",
     "output_type": "stream",
     "text": [
      "[CV] ............. penalty=l1, C=0.0001, score=0.500000, total=   0.9s\n",
      "[CV] penalty=l1, C=0.0001 ............................................\n"
     ]
    },
    {
     "name": "stderr",
     "output_type": "stream",
     "text": [
      "[Parallel(n_jobs=1)]: Done   4 out of   4 | elapsed:    4.6s remaining:    0.0s\n"
     ]
    },
    {
     "name": "stdout",
     "output_type": "stream",
     "text": [
      "[CV] ............. penalty=l1, C=0.0001, score=0.500000, total=   1.0s\n",
      "[CV] penalty=l2, C=0.0001 ............................................\n"
     ]
    },
    {
     "name": "stderr",
     "output_type": "stream",
     "text": [
      "[Parallel(n_jobs=1)]: Done   5 out of   5 | elapsed:    5.8s remaining:    0.0s\n"
     ]
    },
    {
     "name": "stdout",
     "output_type": "stream",
     "text": [
      "[CV] ............. penalty=l2, C=0.0001, score=0.372387, total=   1.5s\n",
      "[CV] penalty=l2, C=0.0001 ............................................\n"
     ]
    },
    {
     "name": "stderr",
     "output_type": "stream",
     "text": [
      "[Parallel(n_jobs=1)]: Done   6 out of   6 | elapsed:    7.5s remaining:    0.0s\n"
     ]
    },
    {
     "name": "stdout",
     "output_type": "stream",
     "text": [
      "[CV] ............. penalty=l2, C=0.0001, score=0.328879, total=   1.5s\n",
      "[CV] penalty=l2, C=0.0001 ............................................\n"
     ]
    },
    {
     "name": "stderr",
     "output_type": "stream",
     "text": [
      "[Parallel(n_jobs=1)]: Done   7 out of   7 | elapsed:    9.2s remaining:    0.0s\n"
     ]
    },
    {
     "name": "stdout",
     "output_type": "stream",
     "text": [
      "[CV] ............. penalty=l2, C=0.0001, score=0.384092, total=   1.5s\n",
      "[CV] penalty=l2, C=0.0001 ............................................\n"
     ]
    },
    {
     "name": "stderr",
     "output_type": "stream",
     "text": [
      "[Parallel(n_jobs=1)]: Done   8 out of   8 | elapsed:   10.9s remaining:    0.0s\n"
     ]
    },
    {
     "name": "stdout",
     "output_type": "stream",
     "text": [
      "[CV] ............. penalty=l2, C=0.0001, score=0.391100, total=   1.5s\n",
      "[CV] penalty=l2, C=0.0001 ............................................\n"
     ]
    },
    {
     "name": "stderr",
     "output_type": "stream",
     "text": [
      "[Parallel(n_jobs=1)]: Done   9 out of   9 | elapsed:   12.6s remaining:    0.0s\n"
     ]
    },
    {
     "name": "stdout",
     "output_type": "stream",
     "text": [
      "[CV] ............. penalty=l2, C=0.0001, score=0.367139, total=   1.5s\n",
      "[CV] penalty=l1, C=0.000774263682681 .................................\n",
      "[CV] .. penalty=l1, C=0.000774263682681, score=0.500000, total=   1.1s\n",
      "[CV] penalty=l1, C=0.000774263682681 .................................\n",
      "[CV] .. penalty=l1, C=0.000774263682681, score=0.500000, total=   1.1s\n",
      "[CV] penalty=l1, C=0.000774263682681 .................................\n",
      "[CV] .. penalty=l1, C=0.000774263682681, score=0.500000, total=   1.3s\n",
      "[CV] penalty=l1, C=0.000774263682681 .................................\n",
      "[CV] .. penalty=l1, C=0.000774263682681, score=0.500000, total=   1.1s\n",
      "[CV] penalty=l1, C=0.000774263682681 .................................\n",
      "[CV] .. penalty=l1, C=0.000774263682681, score=0.500000, total=   1.1s\n",
      "[CV] penalty=l2, C=0.000774263682681 .................................\n",
      "[CV] .. penalty=l2, C=0.000774263682681, score=0.406576, total=   2.0s\n",
      "[CV] penalty=l2, C=0.000774263682681 .................................\n",
      "[CV] .. penalty=l2, C=0.000774263682681, score=0.371047, total=   2.0s\n",
      "[CV] penalty=l2, C=0.000774263682681 .................................\n",
      "[CV] .. penalty=l2, C=0.000774263682681, score=0.436001, total=   2.1s\n",
      "[CV] penalty=l2, C=0.000774263682681 .................................\n",
      "[CV] .. penalty=l2, C=0.000774263682681, score=0.441790, total=   2.1s\n",
      "[CV] penalty=l2, C=0.000774263682681 .................................\n",
      "[CV] .. penalty=l2, C=0.000774263682681, score=0.399110, total=   1.9s\n",
      "[CV] penalty=l1, C=0.00599484250319 ..................................\n",
      "[CV] ... penalty=l1, C=0.00599484250319, score=0.698920, total=   1.4s\n",
      "[CV] penalty=l1, C=0.00599484250319 ..................................\n",
      "[CV] ... penalty=l1, C=0.00599484250319, score=0.766302, total=   1.5s\n",
      "[CV] penalty=l1, C=0.00599484250319 ..................................\n",
      "[CV] ... penalty=l1, C=0.00599484250319, score=0.726597, total=   2.2s\n",
      "[CV] penalty=l1, C=0.00599484250319 ..................................\n",
      "[CV] ... penalty=l1, C=0.00599484250319, score=0.725972, total=   1.7s\n",
      "[CV] penalty=l1, C=0.00599484250319 ..................................\n",
      "[CV] ... penalty=l1, C=0.00599484250319, score=0.674552, total=   1.5s\n",
      "[CV] penalty=l2, C=0.00599484250319 ..................................\n",
      "[CV] ... penalty=l2, C=0.00599484250319, score=0.719498, total=   2.4s\n",
      "[CV] penalty=l2, C=0.00599484250319 ..................................\n",
      "[CV] ... penalty=l2, C=0.00599484250319, score=0.708226, total=   2.3s\n",
      "[CV] penalty=l2, C=0.00599484250319 ..................................\n",
      "[CV] ... penalty=l2, C=0.00599484250319, score=0.750709, total=   2.4s\n",
      "[CV] penalty=l2, C=0.00599484250319 ..................................\n",
      "[CV] ... penalty=l2, C=0.00599484250319, score=0.740290, total=   2.4s\n",
      "[CV] penalty=l2, C=0.00599484250319 ..................................\n",
      "[CV] ... penalty=l2, C=0.00599484250319, score=0.661191, total=   2.7s\n",
      "[CV] penalty=l1, C=0.0464158883361 ...................................\n",
      "[CV] .... penalty=l1, C=0.0464158883361, score=0.786648, total=   2.6s\n",
      "[CV] penalty=l1, C=0.0464158883361 ...................................\n",
      "[CV] .... penalty=l1, C=0.0464158883361, score=0.827222, total=   3.7s\n",
      "[CV] penalty=l1, C=0.0464158883361 ...................................\n",
      "[CV] .... penalty=l1, C=0.0464158883361, score=0.816800, total=   2.7s\n",
      "[CV] penalty=l1, C=0.0464158883361 ...................................\n",
      "[CV] .... penalty=l1, C=0.0464158883361, score=0.806393, total=   2.4s\n",
      "[CV] penalty=l1, C=0.0464158883361 ...................................\n",
      "[CV] .... penalty=l1, C=0.0464158883361, score=0.743249, total=   2.9s\n",
      "[CV] penalty=l2, C=0.0464158883361 ...................................\n",
      "[CV] .... penalty=l2, C=0.0464158883361, score=0.804175, total=   3.6s\n",
      "[CV] penalty=l2, C=0.0464158883361 ...................................\n",
      "[CV] .... penalty=l2, C=0.0464158883361, score=0.817048, total=   3.7s\n",
      "[CV] penalty=l2, C=0.0464158883361 ...................................\n",
      "[CV] .... penalty=l2, C=0.0464158883361, score=0.817606, total=   3.7s\n",
      "[CV] penalty=l2, C=0.0464158883361 ...................................\n",
      "[CV] .... penalty=l2, C=0.0464158883361, score=0.810301, total=   3.6s\n",
      "[CV] penalty=l2, C=0.0464158883361 ...................................\n",
      "[CV] .... penalty=l2, C=0.0464158883361, score=0.760692, total=   3.4s\n",
      "[CV] penalty=l1, C=0.35938136638 .....................................\n",
      "[CV] ...... penalty=l1, C=0.35938136638, score=0.797019, total=   4.9s\n",
      "[CV] penalty=l1, C=0.35938136638 .....................................\n",
      "[CV] ...... penalty=l1, C=0.35938136638, score=0.832310, total=   5.1s\n",
      "[CV] penalty=l1, C=0.35938136638 .....................................\n",
      "[CV] ...... penalty=l1, C=0.35938136638, score=0.819906, total=   4.7s\n",
      "[CV] penalty=l1, C=0.35938136638 .....................................\n",
      "[CV] ...... penalty=l1, C=0.35938136638, score=0.814978, total=   7.2s\n",
      "[CV] penalty=l1, C=0.35938136638 .....................................\n",
      "[CV] ...... penalty=l1, C=0.35938136638, score=0.772689, total=   5.1s\n",
      "[CV] penalty=l2, C=0.35938136638 .....................................\n",
      "[CV] ...... penalty=l2, C=0.35938136638, score=0.802282, total=   5.6s\n",
      "[CV] penalty=l2, C=0.35938136638 .....................................\n",
      "[CV] ...... penalty=l2, C=0.35938136638, score=0.829949, total=   4.8s\n",
      "[CV] penalty=l2, C=0.35938136638 .....................................\n",
      "[CV] ...... penalty=l2, C=0.35938136638, score=0.820147, total=   4.9s\n",
      "[CV] penalty=l2, C=0.35938136638 .....................................\n",
      "[CV] ...... penalty=l2, C=0.35938136638, score=0.815688, total=   5.6s\n",
      "[CV] penalty=l2, C=0.35938136638 .....................................\n",
      "[CV] ...... penalty=l2, C=0.35938136638, score=0.774189, total=   6.0s\n",
      "[CV] penalty=l1, C=2.78255940221 .....................................\n",
      "[CV] ...... penalty=l1, C=2.78255940221, score=0.796024, total=  26.2s\n",
      "[CV] penalty=l1, C=2.78255940221 .....................................\n",
      "[CV] ...... penalty=l1, C=2.78255940221, score=0.831928, total=  22.2s\n",
      "[CV] penalty=l1, C=2.78255940221 .....................................\n",
      "[CV] ...... penalty=l1, C=2.78255940221, score=0.818352, total=  22.6s\n",
      "[CV] penalty=l1, C=2.78255940221 .....................................\n",
      "[CV] ...... penalty=l1, C=2.78255940221, score=0.817803, total=  30.8s\n",
      "[CV] penalty=l1, C=2.78255940221 .....................................\n",
      "[CV] ...... penalty=l1, C=2.78255940221, score=0.778202, total=  29.5s\n",
      "[CV] penalty=l2, C=2.78255940221 .....................................\n",
      "[CV] ...... penalty=l2, C=2.78255940221, score=0.796803, total=   9.1s\n",
      "[CV] penalty=l2, C=2.78255940221 .....................................\n",
      "[CV] ...... penalty=l2, C=2.78255940221, score=0.830575, total=   8.8s\n",
      "[CV] penalty=l2, C=2.78255940221 .....................................\n",
      "[CV] ...... penalty=l2, C=2.78255940221, score=0.818547, total=  10.0s\n",
      "[CV] penalty=l2, C=2.78255940221 .....................................\n",
      "[CV] ...... penalty=l2, C=2.78255940221, score=0.815182, total=   9.1s\n",
      "[CV] penalty=l2, C=2.78255940221 .....................................\n",
      "[CV] ...... penalty=l2, C=2.78255940221, score=0.777313, total=   9.8s\n",
      "[CV] penalty=l1, C=21.5443469003 .....................................\n",
      "[CV] ...... penalty=l1, C=21.5443469003, score=0.791548, total= 1.6min\n",
      "[CV] penalty=l1, C=21.5443469003 .....................................\n",
      "[CV] ...... penalty=l1, C=21.5443469003, score=0.830093, total= 1.9min\n",
      "[CV] penalty=l1, C=21.5443469003 .....................................\n",
      "[CV] ...... penalty=l1, C=21.5443469003, score=0.815790, total= 1.4min\n",
      "[CV] penalty=l1, C=21.5443469003 .....................................\n",
      "[CV] ...... penalty=l1, C=21.5443469003, score=0.815722, total= 1.4min\n",
      "[CV] penalty=l1, C=21.5443469003 .....................................\n",
      "[CV] ...... penalty=l1, C=21.5443469003, score=0.772686, total= 1.5min\n",
      "[CV] penalty=l2, C=21.5443469003 .....................................\n",
      "[CV] ...... penalty=l2, C=21.5443469003, score=0.793953, total=  15.4s\n",
      "[CV] penalty=l2, C=21.5443469003 .....................................\n",
      "[CV] ...... penalty=l2, C=21.5443469003, score=0.830549, total=  15.0s\n",
      "[CV] penalty=l2, C=21.5443469003 .....................................\n"
     ]
    },
    {
     "name": "stdout",
     "output_type": "stream",
     "text": [
      "[CV] ...... penalty=l2, C=21.5443469003, score=0.817046, total=  18.4s\n",
      "[CV] penalty=l2, C=21.5443469003 .....................................\n",
      "[CV] ...... penalty=l2, C=21.5443469003, score=0.815735, total=  15.0s\n",
      "[CV] penalty=l2, C=21.5443469003 .....................................\n",
      "[CV] ...... penalty=l2, C=21.5443469003, score=0.774701, total=  15.9s\n",
      "[CV] penalty=l1, C=166.81005372 ......................................\n",
      "[CV] ....... penalty=l1, C=166.81005372, score=0.791200, total= 4.5min\n",
      "[CV] penalty=l1, C=166.81005372 ......................................\n",
      "[CV] ....... penalty=l1, C=166.81005372, score=0.829462, total= 4.0min\n",
      "[CV] penalty=l1, C=166.81005372 ......................................\n",
      "[CV] ....... penalty=l1, C=166.81005372, score=0.814223, total= 5.9min\n",
      "[CV] penalty=l1, C=166.81005372 ......................................\n",
      "[CV] ....... penalty=l1, C=166.81005372, score=0.815940, total= 3.1min\n",
      "[CV] penalty=l1, C=166.81005372 ......................................\n",
      "[CV] ....... penalty=l1, C=166.81005372, score=0.769714, total= 3.1min\n",
      "[CV] penalty=l2, C=166.81005372 ......................................\n",
      "[CV] ....... penalty=l2, C=166.81005372, score=0.791953, total=  38.7s\n",
      "[CV] penalty=l2, C=166.81005372 ......................................\n",
      "[CV] ....... penalty=l2, C=166.81005372, score=0.829798, total=  32.8s\n",
      "[CV] penalty=l2, C=166.81005372 ......................................\n",
      "[CV] ....... penalty=l2, C=166.81005372, score=0.814873, total=  38.3s\n",
      "[CV] penalty=l2, C=166.81005372 ......................................\n",
      "[CV] ....... penalty=l2, C=166.81005372, score=0.815753, total=  30.6s\n",
      "[CV] penalty=l2, C=166.81005372 ......................................\n",
      "[CV] ....... penalty=l2, C=166.81005372, score=0.770488, total=  34.4s\n",
      "[CV] penalty=l1, C=1291.54966501 .....................................\n",
      "[CV] ...... penalty=l1, C=1291.54966501, score=0.790735, total= 5.2min\n",
      "[CV] penalty=l1, C=1291.54966501 .....................................\n",
      "[CV] ...... penalty=l1, C=1291.54966501, score=0.829303, total= 3.4min\n",
      "[CV] penalty=l1, C=1291.54966501 .....................................\n",
      "[CV] ...... penalty=l1, C=1291.54966501, score=0.814065, total= 3.9min\n",
      "[CV] penalty=l1, C=1291.54966501 .....................................\n",
      "[CV] ...... penalty=l1, C=1291.54966501, score=0.815518, total= 3.9min\n",
      "[CV] penalty=l1, C=1291.54966501 .....................................\n",
      "[CV] ...... penalty=l1, C=1291.54966501, score=0.769501, total= 3.3min\n",
      "[CV] penalty=l2, C=1291.54966501 .....................................\n",
      "[CV] ...... penalty=l2, C=1291.54966501, score=0.790965, total= 1.3min\n",
      "[CV] penalty=l2, C=1291.54966501 .....................................\n",
      "[CV] ...... penalty=l2, C=1291.54966501, score=0.827892, total= 1.1min\n",
      "[CV] penalty=l2, C=1291.54966501 .....................................\n",
      "[CV] ...... penalty=l2, C=1291.54966501, score=0.814356, total= 1.6min\n",
      "[CV] penalty=l2, C=1291.54966501 .....................................\n",
      "[CV] ...... penalty=l2, C=1291.54966501, score=0.813531, total= 1.5min\n",
      "[CV] penalty=l2, C=1291.54966501 .....................................\n",
      "[CV] ...... penalty=l2, C=1291.54966501, score=0.769349, total= 1.3min\n",
      "[CV] penalty=l1, C=10000.0 ...........................................\n",
      "[CV] ............ penalty=l1, C=10000.0, score=0.790766, total= 4.6min\n",
      "[CV] penalty=l1, C=10000.0 ...........................................\n",
      "[CV] ............ penalty=l1, C=10000.0, score=0.829213, total= 3.8min\n",
      "[CV] penalty=l1, C=10000.0 ...........................................\n",
      "[CV] ............ penalty=l1, C=10000.0, score=0.814082, total= 3.3min\n",
      "[CV] penalty=l1, C=10000.0 ...........................................\n",
      "[CV] ............ penalty=l1, C=10000.0, score=0.815416, total= 3.6min\n",
      "[CV] penalty=l1, C=10000.0 ...........................................\n",
      "[CV] ............ penalty=l1, C=10000.0, score=0.769448, total= 3.8min\n",
      "[CV] penalty=l2, C=10000.0 ...........................................\n",
      "[CV] ............ penalty=l2, C=10000.0, score=0.790025, total= 2.4min\n",
      "[CV] penalty=l2, C=10000.0 ...........................................\n",
      "[CV] ............ penalty=l2, C=10000.0, score=0.824540, total= 3.8min\n",
      "[CV] penalty=l2, C=10000.0 ...........................................\n",
      "[CV] ............ penalty=l2, C=10000.0, score=0.814328, total= 2.9min\n",
      "[CV] penalty=l2, C=10000.0 ...........................................\n",
      "[CV] ............ penalty=l2, C=10000.0, score=0.813254, total= 3.7min\n",
      "[CV] penalty=l2, C=10000.0 ...........................................\n",
      "[CV] ............ penalty=l2, C=10000.0, score=0.769010, total= 3.0min\n"
     ]
    },
    {
     "name": "stderr",
     "output_type": "stream",
     "text": [
      "[Parallel(n_jobs=1)]: Done 100 out of 100 | elapsed: 99.7min finished\n",
      "100%|#########################################################################|\n"
     ]
    },
    {
     "name": "stdout",
     "output_type": "stream",
     "text": [
      "Fitting 5 folds for each of 20 candidates, totalling 100 fits\n",
      "[CV] penalty=l1, C=0.0001 ............................................\n",
      "[CV] ............. penalty=l1, C=0.0001, score=0.500000, total=   0.9s\n",
      "[CV] penalty=l1, C=0.0001 ............................................\n"
     ]
    },
    {
     "name": "stderr",
     "output_type": "stream",
     "text": [
      "[Parallel(n_jobs=1)]: Done   1 out of   1 | elapsed:    1.0s remaining:    0.0s\n"
     ]
    },
    {
     "name": "stdout",
     "output_type": "stream",
     "text": [
      "[CV] ............. penalty=l1, C=0.0001, score=0.500000, total=   0.9s\n",
      "[CV] penalty=l1, C=0.0001 ............................................\n"
     ]
    },
    {
     "name": "stderr",
     "output_type": "stream",
     "text": [
      "[Parallel(n_jobs=1)]: Done   2 out of   2 | elapsed:    2.2s remaining:    0.0s\n"
     ]
    },
    {
     "name": "stdout",
     "output_type": "stream",
     "text": [
      "[CV] ............. penalty=l1, C=0.0001, score=0.500000, total=   1.0s\n",
      "[CV] penalty=l1, C=0.0001 ............................................\n"
     ]
    },
    {
     "name": "stderr",
     "output_type": "stream",
     "text": [
      "[Parallel(n_jobs=1)]: Done   3 out of   3 | elapsed:    3.4s remaining:    0.0s\n"
     ]
    },
    {
     "name": "stdout",
     "output_type": "stream",
     "text": [
      "[CV] ............. penalty=l1, C=0.0001, score=0.500000, total=   0.9s\n",
      "[CV] penalty=l1, C=0.0001 ............................................\n"
     ]
    },
    {
     "name": "stderr",
     "output_type": "stream",
     "text": [
      "[Parallel(n_jobs=1)]: Done   4 out of   4 | elapsed:    4.5s remaining:    0.0s\n"
     ]
    },
    {
     "name": "stdout",
     "output_type": "stream",
     "text": [
      "[CV] ............. penalty=l1, C=0.0001, score=0.500000, total=   1.0s\n",
      "[CV] penalty=l2, C=0.0001 ............................................\n"
     ]
    },
    {
     "name": "stderr",
     "output_type": "stream",
     "text": [
      "[Parallel(n_jobs=1)]: Done   5 out of   5 | elapsed:    5.7s remaining:    0.0s\n"
     ]
    },
    {
     "name": "stdout",
     "output_type": "stream",
     "text": [
      "[CV] ............. penalty=l2, C=0.0001, score=0.372358, total=   1.5s\n",
      "[CV] penalty=l2, C=0.0001 ............................................\n"
     ]
    },
    {
     "name": "stderr",
     "output_type": "stream",
     "text": [
      "[Parallel(n_jobs=1)]: Done   6 out of   6 | elapsed:    7.4s remaining:    0.0s\n"
     ]
    },
    {
     "name": "stdout",
     "output_type": "stream",
     "text": [
      "[CV] ............. penalty=l2, C=0.0001, score=0.328891, total=   1.5s\n",
      "[CV] penalty=l2, C=0.0001 ............................................\n"
     ]
    },
    {
     "name": "stderr",
     "output_type": "stream",
     "text": [
      "[Parallel(n_jobs=1)]: Done   7 out of   7 | elapsed:    9.1s remaining:    0.0s\n"
     ]
    },
    {
     "name": "stdout",
     "output_type": "stream",
     "text": [
      "[CV] ............. penalty=l2, C=0.0001, score=0.384088, total=   1.5s\n",
      "[CV] penalty=l2, C=0.0001 ............................................\n"
     ]
    },
    {
     "name": "stderr",
     "output_type": "stream",
     "text": [
      "[Parallel(n_jobs=1)]: Done   8 out of   8 | elapsed:   10.9s remaining:    0.0s\n"
     ]
    },
    {
     "name": "stdout",
     "output_type": "stream",
     "text": [
      "[CV] ............. penalty=l2, C=0.0001, score=0.391094, total=   1.5s\n",
      "[CV] penalty=l2, C=0.0001 ............................................\n"
     ]
    },
    {
     "name": "stderr",
     "output_type": "stream",
     "text": [
      "[Parallel(n_jobs=1)]: Done   9 out of   9 | elapsed:   12.6s remaining:    0.0s\n"
     ]
    },
    {
     "name": "stdout",
     "output_type": "stream",
     "text": [
      "[CV] ............. penalty=l2, C=0.0001, score=0.367147, total=   1.5s\n",
      "[CV] penalty=l1, C=0.000774263682681 .................................\n",
      "[CV] .. penalty=l1, C=0.000774263682681, score=0.500000, total=   1.1s\n",
      "[CV] penalty=l1, C=0.000774263682681 .................................\n",
      "[CV] .. penalty=l1, C=0.000774263682681, score=0.500000, total=   1.1s\n",
      "[CV] penalty=l1, C=0.000774263682681 .................................\n",
      "[CV] .. penalty=l1, C=0.000774263682681, score=0.500000, total=   1.3s\n",
      "[CV] penalty=l1, C=0.000774263682681 .................................\n",
      "[CV] .. penalty=l1, C=0.000774263682681, score=0.500000, total=   1.1s\n",
      "[CV] penalty=l1, C=0.000774263682681 .................................\n",
      "[CV] .. penalty=l1, C=0.000774263682681, score=0.500000, total=   1.1s\n",
      "[CV] penalty=l2, C=0.000774263682681 .................................\n",
      "[CV] .. penalty=l2, C=0.000774263682681, score=0.406550, total=   2.0s\n",
      "[CV] penalty=l2, C=0.000774263682681 .................................\n",
      "[CV] .. penalty=l2, C=0.000774263682681, score=0.371076, total=   2.1s\n",
      "[CV] penalty=l2, C=0.000774263682681 .................................\n",
      "[CV] .. penalty=l2, C=0.000774263682681, score=0.435997, total=   2.0s\n",
      "[CV] penalty=l2, C=0.000774263682681 .................................\n",
      "[CV] .. penalty=l2, C=0.000774263682681, score=0.441781, total=   2.1s\n",
      "[CV] penalty=l2, C=0.000774263682681 .................................\n",
      "[CV] .. penalty=l2, C=0.000774263682681, score=0.399118, total=   1.9s\n",
      "[CV] penalty=l1, C=0.00599484250319 ..................................\n",
      "[CV] ... penalty=l1, C=0.00599484250319, score=0.698952, total=   1.5s\n",
      "[CV] penalty=l1, C=0.00599484250319 ..................................\n",
      "[CV] ... penalty=l1, C=0.00599484250319, score=0.766307, total=   1.7s\n",
      "[CV] penalty=l1, C=0.00599484250319 ..................................\n",
      "[CV] ... penalty=l1, C=0.00599484250319, score=0.726599, total=   2.3s\n",
      "[CV] penalty=l1, C=0.00599484250319 ..................................\n",
      "[CV] ... penalty=l1, C=0.00599484250319, score=0.725979, total=   1.6s\n",
      "[CV] penalty=l1, C=0.00599484250319 ..................................\n",
      "[CV] ... penalty=l1, C=0.00599484250319, score=0.674549, total=   1.5s\n",
      "[CV] penalty=l2, C=0.00599484250319 ..................................\n",
      "[CV] ... penalty=l2, C=0.00599484250319, score=0.719511, total=   2.4s\n",
      "[CV] penalty=l2, C=0.00599484250319 ..................................\n",
      "[CV] ... penalty=l2, C=0.00599484250319, score=0.708267, total=   2.3s\n",
      "[CV] penalty=l2, C=0.00599484250319 ..................................\n",
      "[CV] ... penalty=l2, C=0.00599484250319, score=0.750724, total=   2.4s\n",
      "[CV] penalty=l2, C=0.00599484250319 ..................................\n",
      "[CV] ... penalty=l2, C=0.00599484250319, score=0.740296, total=   2.4s\n",
      "[CV] penalty=l2, C=0.00599484250319 ..................................\n",
      "[CV] ... penalty=l2, C=0.00599484250319, score=0.661249, total=   2.7s\n",
      "[CV] penalty=l1, C=0.0464158883361 ...................................\n",
      "[CV] .... penalty=l1, C=0.0464158883361, score=0.786625, total=   2.7s\n",
      "[CV] penalty=l1, C=0.0464158883361 ...................................\n",
      "[CV] .... penalty=l1, C=0.0464158883361, score=0.827196, total=   2.8s\n",
      "[CV] penalty=l1, C=0.0464158883361 ...................................\n",
      "[CV] .... penalty=l1, C=0.0464158883361, score=0.816650, total=   2.9s\n",
      "[CV] penalty=l1, C=0.0464158883361 ...................................\n",
      "[CV] .... penalty=l1, C=0.0464158883361, score=0.806368, total=   2.5s\n",
      "[CV] penalty=l1, C=0.0464158883361 ...................................\n",
      "[CV] .... penalty=l1, C=0.0464158883361, score=0.743288, total=   2.7s\n",
      "[CV] penalty=l2, C=0.0464158883361 ...................................\n",
      "[CV] .... penalty=l2, C=0.0464158883361, score=0.804196, total=   3.5s\n",
      "[CV] penalty=l2, C=0.0464158883361 ...................................\n",
      "[CV] .... penalty=l2, C=0.0464158883361, score=0.817025, total=   3.7s\n",
      "[CV] penalty=l2, C=0.0464158883361 ...................................\n",
      "[CV] .... penalty=l2, C=0.0464158883361, score=0.817628, total=   3.6s\n",
      "[CV] penalty=l2, C=0.0464158883361 ...................................\n",
      "[CV] .... penalty=l2, C=0.0464158883361, score=0.810318, total=   3.6s\n",
      "[CV] penalty=l2, C=0.0464158883361 ...................................\n",
      "[CV] .... penalty=l2, C=0.0464158883361, score=0.760652, total=   3.4s\n",
      "[CV] penalty=l1, C=0.35938136638 .....................................\n",
      "[CV] ...... penalty=l1, C=0.35938136638, score=0.796973, total=   5.4s\n",
      "[CV] penalty=l1, C=0.35938136638 .....................................\n",
      "[CV] ...... penalty=l1, C=0.35938136638, score=0.832307, total=   4.7s\n",
      "[CV] penalty=l1, C=0.35938136638 .....................................\n",
      "[CV] ...... penalty=l1, C=0.35938136638, score=0.819893, total=   5.9s\n",
      "[CV] penalty=l1, C=0.35938136638 .....................................\n",
      "[CV] ...... penalty=l1, C=0.35938136638, score=0.814847, total=   5.6s\n",
      "[CV] penalty=l1, C=0.35938136638 .....................................\n",
      "[CV] ...... penalty=l1, C=0.35938136638, score=0.772484, total=   5.2s\n",
      "[CV] penalty=l2, C=0.35938136638 .....................................\n",
      "[CV] ...... penalty=l2, C=0.35938136638, score=0.802300, total=   5.5s\n",
      "[CV] penalty=l2, C=0.35938136638 .....................................\n",
      "[CV] ...... penalty=l2, C=0.35938136638, score=0.829930, total=   5.8s\n",
      "[CV] penalty=l2, C=0.35938136638 .....................................\n",
      "[CV] ...... penalty=l2, C=0.35938136638, score=0.820161, total=   4.9s\n",
      "[CV] penalty=l2, C=0.35938136638 .....................................\n",
      "[CV] ...... penalty=l2, C=0.35938136638, score=0.815670, total=   5.6s\n",
      "[CV] penalty=l2, C=0.35938136638 .....................................\n",
      "[CV] ...... penalty=l2, C=0.35938136638, score=0.774184, total=   6.0s\n",
      "[CV] penalty=l1, C=2.78255940221 .....................................\n",
      "[CV] ...... penalty=l1, C=2.78255940221, score=0.796025, total=  27.3s\n",
      "[CV] penalty=l1, C=2.78255940221 .....................................\n",
      "[CV] ...... penalty=l1, C=2.78255940221, score=0.831901, total=  26.0s\n",
      "[CV] penalty=l1, C=2.78255940221 .....................................\n",
      "[CV] ...... penalty=l1, C=2.78255940221, score=0.818317, total=  23.7s\n",
      "[CV] penalty=l1, C=2.78255940221 .....................................\n",
      "[CV] ...... penalty=l1, C=2.78255940221, score=0.817875, total=  24.4s\n",
      "[CV] penalty=l1, C=2.78255940221 .....................................\n",
      "[CV] ...... penalty=l1, C=2.78255940221, score=0.778249, total=  32.3s\n",
      "[CV] penalty=l2, C=2.78255940221 .....................................\n",
      "[CV] ...... penalty=l2, C=2.78255940221, score=0.796814, total=   9.1s\n",
      "[CV] penalty=l2, C=2.78255940221 .....................................\n",
      "[CV] ...... penalty=l2, C=2.78255940221, score=0.830551, total=   9.2s\n",
      "[CV] penalty=l2, C=2.78255940221 .....................................\n",
      "[CV] ...... penalty=l2, C=2.78255940221, score=0.818557, total=  10.0s\n",
      "[CV] penalty=l2, C=2.78255940221 .....................................\n",
      "[CV] ...... penalty=l2, C=2.78255940221, score=0.815166, total=   9.3s\n",
      "[CV] penalty=l2, C=2.78255940221 .....................................\n",
      "[CV] ...... penalty=l2, C=2.78255940221, score=0.777310, total=  10.0s\n",
      "[CV] penalty=l1, C=21.5443469003 .....................................\n",
      "[CV] ...... penalty=l1, C=21.5443469003, score=0.791438, total= 1.7min\n",
      "[CV] penalty=l1, C=21.5443469003 .....................................\n",
      "[CV] ...... penalty=l1, C=21.5443469003, score=0.830120, total= 2.1min\n",
      "[CV] penalty=l1, C=21.5443469003 .....................................\n",
      "[CV] ...... penalty=l1, C=21.5443469003, score=0.815772, total= 2.1min\n",
      "[CV] penalty=l1, C=21.5443469003 .....................................\n",
      "[CV] ...... penalty=l1, C=21.5443469003, score=0.815915, total= 1.4min\n",
      "[CV] penalty=l1, C=21.5443469003 .....................................\n",
      "[CV] ...... penalty=l1, C=21.5443469003, score=0.772787, total= 1.7min\n",
      "[CV] penalty=l2, C=21.5443469003 .....................................\n",
      "[CV] ...... penalty=l2, C=21.5443469003, score=0.793943, total=  16.2s\n",
      "[CV] penalty=l2, C=21.5443469003 .....................................\n",
      "[CV] ...... penalty=l2, C=21.5443469003, score=0.830541, total=  18.7s\n",
      "[CV] penalty=l2, C=21.5443469003 .....................................\n"
     ]
    },
    {
     "name": "stdout",
     "output_type": "stream",
     "text": [
      "[CV] ...... penalty=l2, C=21.5443469003, score=0.817081, total=  16.9s\n",
      "[CV] penalty=l2, C=21.5443469003 .....................................\n",
      "[CV] ...... penalty=l2, C=21.5443469003, score=0.815759, total=  15.9s\n",
      "[CV] penalty=l2, C=21.5443469003 .....................................\n",
      "[CV] ...... penalty=l2, C=21.5443469003, score=0.774746, total=  16.2s\n",
      "[CV] penalty=l1, C=166.81005372 ......................................\n",
      "[CV] ....... penalty=l1, C=166.81005372, score=0.791211, total= 3.7min\n",
      "[CV] penalty=l1, C=166.81005372 ......................................\n",
      "[CV] ....... penalty=l1, C=166.81005372, score=0.829450, total= 3.4min\n",
      "[CV] penalty=l1, C=166.81005372 ......................................\n",
      "[CV] ....... penalty=l1, C=166.81005372, score=0.814251, total= 3.4min\n",
      "[CV] penalty=l1, C=166.81005372 ......................................\n",
      "[CV] ....... penalty=l1, C=166.81005372, score=0.815995, total= 3.7min\n",
      "[CV] penalty=l1, C=166.81005372 ......................................\n",
      "[CV] ....... penalty=l1, C=166.81005372, score=0.769569, total= 3.0min\n",
      "[CV] penalty=l2, C=166.81005372 ......................................\n",
      "[CV] ....... penalty=l2, C=166.81005372, score=0.791956, total=  35.7s\n",
      "[CV] penalty=l2, C=166.81005372 ......................................\n",
      "[CV] ....... penalty=l2, C=166.81005372, score=0.829780, total=  29.7s\n",
      "[CV] penalty=l2, C=166.81005372 ......................................\n",
      "[CV] ....... penalty=l2, C=166.81005372, score=0.814880, total=  39.3s\n",
      "[CV] penalty=l2, C=166.81005372 ......................................\n",
      "[CV] ....... penalty=l2, C=166.81005372, score=0.815770, total=  28.3s\n",
      "[CV] penalty=l2, C=166.81005372 ......................................\n",
      "[CV] ....... penalty=l2, C=166.81005372, score=0.770483, total=  37.9s\n",
      "[CV] penalty=l1, C=1291.54966501 .....................................\n",
      "[CV] ...... penalty=l1, C=1291.54966501, score=0.790747, total= 5.0min\n",
      "[CV] penalty=l1, C=1291.54966501 .....................................\n",
      "[CV] ...... penalty=l1, C=1291.54966501, score=0.829254, total= 3.7min\n",
      "[CV] penalty=l1, C=1291.54966501 .....................................\n",
      "[CV] ...... penalty=l1, C=1291.54966501, score=0.814108, total= 3.0min\n",
      "[CV] penalty=l1, C=1291.54966501 .....................................\n",
      "[CV] ...... penalty=l1, C=1291.54966501, score=0.815565, total= 4.0min\n",
      "[CV] penalty=l1, C=1291.54966501 .....................................\n",
      "[CV] ...... penalty=l1, C=1291.54966501, score=0.769357, total= 3.8min\n",
      "[CV] penalty=l2, C=1291.54966501 .....................................\n",
      "[CV] ...... penalty=l2, C=1291.54966501, score=0.791008, total= 1.4min\n",
      "[CV] penalty=l2, C=1291.54966501 .....................................\n",
      "[CV] ...... penalty=l2, C=1291.54966501, score=0.827868, total= 1.2min\n",
      "[CV] penalty=l2, C=1291.54966501 .....................................\n",
      "[CV] ...... penalty=l2, C=1291.54966501, score=0.814366, total= 1.4min\n",
      "[CV] penalty=l2, C=1291.54966501 .....................................\n",
      "[CV] ...... penalty=l2, C=1291.54966501, score=0.813540, total= 1.3min\n",
      "[CV] penalty=l2, C=1291.54966501 .....................................\n",
      "[CV] ...... penalty=l2, C=1291.54966501, score=0.769055, total= 1.5min\n",
      "[CV] penalty=l1, C=10000.0 ...........................................\n",
      "[CV] ............ penalty=l1, C=10000.0, score=0.790744, total= 4.6min\n",
      "[CV] penalty=l1, C=10000.0 ...........................................\n",
      "[CV] ............ penalty=l1, C=10000.0, score=0.829213, total= 3.8min\n",
      "[CV] penalty=l1, C=10000.0 ...........................................\n",
      "[CV] ............ penalty=l1, C=10000.0, score=0.814090, total= 3.3min\n",
      "[CV] penalty=l1, C=10000.0 ...........................................\n",
      "[CV] ............ penalty=l1, C=10000.0, score=0.815298, total= 4.0min\n",
      "[CV] penalty=l1, C=10000.0 ...........................................\n",
      "[CV] ............ penalty=l1, C=10000.0, score=0.769370, total= 3.8min\n",
      "[CV] penalty=l2, C=10000.0 ...........................................\n",
      "[CV] ............ penalty=l2, C=10000.0, score=0.789901, total= 2.8min\n",
      "[CV] penalty=l2, C=10000.0 ...........................................\n",
      "[CV] ............ penalty=l2, C=10000.0, score=0.825292, total= 1.4min\n",
      "[CV] penalty=l2, C=10000.0 ...........................................\n",
      "[CV] ............ penalty=l2, C=10000.0, score=0.814331, total= 3.5min\n",
      "[CV] penalty=l2, C=10000.0 ...........................................\n",
      "[CV] ............ penalty=l2, C=10000.0, score=0.813228, total= 3.6min\n",
      "[CV] penalty=l2, C=10000.0 ...........................................\n",
      "[CV] ............ penalty=l2, C=10000.0, score=0.768768, total= 4.3min\n"
     ]
    },
    {
     "name": "stderr",
     "output_type": "stream",
     "text": [
      "[Parallel(n_jobs=1)]: Done 100 out of 100 | elapsed: 97.3min finished\n",
      "100%|#########################################################################|\n"
     ]
    },
    {
     "name": "stdout",
     "output_type": "stream",
     "text": [
      "Fitting 5 folds for each of 20 candidates, totalling 100 fits\n",
      "[CV] penalty=l1, C=0.0001 ............................................\n",
      "[CV] ............. penalty=l1, C=0.0001, score=0.500000, total=   0.9s\n",
      "[CV] penalty=l1, C=0.0001 ............................................\n"
     ]
    },
    {
     "name": "stderr",
     "output_type": "stream",
     "text": [
      "[Parallel(n_jobs=1)]: Done   1 out of   1 | elapsed:    1.0s remaining:    0.0s\n"
     ]
    },
    {
     "name": "stdout",
     "output_type": "stream",
     "text": [
      "[CV] ............. penalty=l1, C=0.0001, score=0.500000, total=   1.0s\n",
      "[CV] penalty=l1, C=0.0001 ............................................\n"
     ]
    },
    {
     "name": "stderr",
     "output_type": "stream",
     "text": [
      "[Parallel(n_jobs=1)]: Done   2 out of   2 | elapsed:    2.2s remaining:    0.0s\n"
     ]
    },
    {
     "name": "stdout",
     "output_type": "stream",
     "text": [
      "[CV] ............. penalty=l1, C=0.0001, score=0.500000, total=   1.0s\n",
      "[CV] penalty=l1, C=0.0001 ............................................\n"
     ]
    },
    {
     "name": "stderr",
     "output_type": "stream",
     "text": [
      "[Parallel(n_jobs=1)]: Done   3 out of   3 | elapsed:    3.4s remaining:    0.0s\n"
     ]
    },
    {
     "name": "stdout",
     "output_type": "stream",
     "text": [
      "[CV] ............. penalty=l1, C=0.0001, score=0.500000, total=   1.0s\n",
      "[CV] penalty=l1, C=0.0001 ............................................\n"
     ]
    },
    {
     "name": "stderr",
     "output_type": "stream",
     "text": [
      "[Parallel(n_jobs=1)]: Done   4 out of   4 | elapsed:    4.6s remaining:    0.0s\n"
     ]
    },
    {
     "name": "stdout",
     "output_type": "stream",
     "text": [
      "[CV] ............. penalty=l1, C=0.0001, score=0.500000, total=   1.0s\n",
      "[CV] penalty=l2, C=0.0001 ............................................\n"
     ]
    },
    {
     "name": "stderr",
     "output_type": "stream",
     "text": [
      "[Parallel(n_jobs=1)]: Done   5 out of   5 | elapsed:    5.8s remaining:    0.0s\n"
     ]
    },
    {
     "name": "stdout",
     "output_type": "stream",
     "text": [
      "[CV] ............. penalty=l2, C=0.0001, score=0.372397, total=   1.5s\n",
      "[CV] penalty=l2, C=0.0001 ............................................\n"
     ]
    },
    {
     "name": "stderr",
     "output_type": "stream",
     "text": [
      "[Parallel(n_jobs=1)]: Done   6 out of   6 | elapsed:    7.5s remaining:    0.0s\n"
     ]
    },
    {
     "name": "stdout",
     "output_type": "stream",
     "text": [
      "[CV] ............. penalty=l2, C=0.0001, score=0.328883, total=   1.5s\n",
      "[CV] penalty=l2, C=0.0001 ............................................\n"
     ]
    },
    {
     "name": "stderr",
     "output_type": "stream",
     "text": [
      "[Parallel(n_jobs=1)]: Done   7 out of   7 | elapsed:    9.2s remaining:    0.0s\n"
     ]
    },
    {
     "name": "stdout",
     "output_type": "stream",
     "text": [
      "[CV] ............. penalty=l2, C=0.0001, score=0.384094, total=   1.5s\n",
      "[CV] penalty=l2, C=0.0001 ............................................\n"
     ]
    },
    {
     "name": "stderr",
     "output_type": "stream",
     "text": [
      "[Parallel(n_jobs=1)]: Done   8 out of   8 | elapsed:   11.0s remaining:    0.0s\n"
     ]
    },
    {
     "name": "stdout",
     "output_type": "stream",
     "text": [
      "[CV] ............. penalty=l2, C=0.0001, score=0.391108, total=   1.5s\n",
      "[CV] penalty=l2, C=0.0001 ............................................\n"
     ]
    },
    {
     "name": "stderr",
     "output_type": "stream",
     "text": [
      "[Parallel(n_jobs=1)]: Done   9 out of   9 | elapsed:   12.7s remaining:    0.0s\n"
     ]
    },
    {
     "name": "stdout",
     "output_type": "stream",
     "text": [
      "[CV] ............. penalty=l2, C=0.0001, score=0.367146, total=   1.6s\n",
      "[CV] penalty=l1, C=0.000774263682681 .................................\n",
      "[CV] .. penalty=l1, C=0.000774263682681, score=0.500000, total=   1.1s\n",
      "[CV] penalty=l1, C=0.000774263682681 .................................\n",
      "[CV] .. penalty=l1, C=0.000774263682681, score=0.500000, total=   1.0s\n",
      "[CV] penalty=l1, C=0.000774263682681 .................................\n",
      "[CV] .. penalty=l1, C=0.000774263682681, score=0.500000, total=   1.2s\n",
      "[CV] penalty=l1, C=0.000774263682681 .................................\n",
      "[CV] .. penalty=l1, C=0.000774263682681, score=0.500000, total=   1.1s\n",
      "[CV] penalty=l1, C=0.000774263682681 .................................\n",
      "[CV] .. penalty=l1, C=0.000774263682681, score=0.500000, total=   1.1s\n",
      "[CV] penalty=l2, C=0.000774263682681 .................................\n",
      "[CV] .. penalty=l2, C=0.000774263682681, score=0.406585, total=   2.0s\n",
      "[CV] penalty=l2, C=0.000774263682681 .................................\n",
      "[CV] .. penalty=l2, C=0.000774263682681, score=0.371055, total=   2.0s\n",
      "[CV] penalty=l2, C=0.000774263682681 .................................\n",
      "[CV] .. penalty=l2, C=0.000774263682681, score=0.436001, total=   2.0s\n",
      "[CV] penalty=l2, C=0.000774263682681 .................................\n",
      "[CV] .. penalty=l2, C=0.000774263682681, score=0.441796, total=   2.1s\n",
      "[CV] penalty=l2, C=0.000774263682681 .................................\n",
      "[CV] .. penalty=l2, C=0.000774263682681, score=0.399127, total=   1.9s\n",
      "[CV] penalty=l1, C=0.00599484250319 ..................................\n",
      "[CV] ... penalty=l1, C=0.00599484250319, score=0.698908, total=   1.7s\n",
      "[CV] penalty=l1, C=0.00599484250319 ..................................\n",
      "[CV] ... penalty=l1, C=0.00599484250319, score=0.766312, total=   1.5s\n",
      "[CV] penalty=l1, C=0.00599484250319 ..................................\n",
      "[CV] ... penalty=l1, C=0.00599484250319, score=0.726595, total=   2.1s\n",
      "[CV] penalty=l1, C=0.00599484250319 ..................................\n",
      "[CV] ... penalty=l1, C=0.00599484250319, score=0.725966, total=   1.6s\n",
      "[CV] penalty=l1, C=0.00599484250319 ..................................\n",
      "[CV] ... penalty=l1, C=0.00599484250319, score=0.674549, total=   1.6s\n",
      "[CV] penalty=l2, C=0.00599484250319 ..................................\n",
      "[CV] ... penalty=l2, C=0.00599484250319, score=0.719492, total=   2.4s\n",
      "[CV] penalty=l2, C=0.00599484250319 ..................................\n",
      "[CV] ... penalty=l2, C=0.00599484250319, score=0.708231, total=   2.4s\n",
      "[CV] penalty=l2, C=0.00599484250319 ..................................\n",
      "[CV] ... penalty=l2, C=0.00599484250319, score=0.750710, total=   2.3s\n",
      "[CV] penalty=l2, C=0.00599484250319 ..................................\n",
      "[CV] ... penalty=l2, C=0.00599484250319, score=0.740312, total=   2.4s\n",
      "[CV] penalty=l2, C=0.00599484250319 ..................................\n",
      "[CV] ... penalty=l2, C=0.00599484250319, score=0.661196, total=   2.7s\n",
      "[CV] penalty=l1, C=0.0464158883361 ...................................\n",
      "[CV] .... penalty=l1, C=0.0464158883361, score=0.786604, total=   2.4s\n",
      "[CV] penalty=l1, C=0.0464158883361 ...................................\n",
      "[CV] .... penalty=l1, C=0.0464158883361, score=0.827256, total=   2.7s\n",
      "[CV] penalty=l1, C=0.0464158883361 ...................................\n",
      "[CV] .... penalty=l1, C=0.0464158883361, score=0.816777, total=   2.4s\n",
      "[CV] penalty=l1, C=0.0464158883361 ...................................\n",
      "[CV] .... penalty=l1, C=0.0464158883361, score=0.806416, total=   2.6s\n",
      "[CV] penalty=l1, C=0.0464158883361 ...................................\n",
      "[CV] .... penalty=l1, C=0.0464158883361, score=0.743379, total=   2.3s\n",
      "[CV] penalty=l2, C=0.0464158883361 ...................................\n",
      "[CV] .... penalty=l2, C=0.0464158883361, score=0.804229, total=   3.6s\n",
      "[CV] penalty=l2, C=0.0464158883361 ...................................\n",
      "[CV] .... penalty=l2, C=0.0464158883361, score=0.817066, total=   3.7s\n",
      "[CV] penalty=l2, C=0.0464158883361 ...................................\n",
      "[CV] .... penalty=l2, C=0.0464158883361, score=0.817655, total=   3.7s\n",
      "[CV] penalty=l2, C=0.0464158883361 ...................................\n",
      "[CV] .... penalty=l2, C=0.0464158883361, score=0.810326, total=   3.6s\n",
      "[CV] penalty=l2, C=0.0464158883361 ...................................\n",
      "[CV] .... penalty=l2, C=0.0464158883361, score=0.760744, total=   3.4s\n",
      "[CV] penalty=l1, C=0.35938136638 .....................................\n",
      "[CV] ...... penalty=l1, C=0.35938136638, score=0.797025, total=   5.0s\n",
      "[CV] penalty=l1, C=0.35938136638 .....................................\n",
      "[CV] ...... penalty=l1, C=0.35938136638, score=0.832348, total=   5.1s\n",
      "[CV] penalty=l1, C=0.35938136638 .....................................\n",
      "[CV] ...... penalty=l1, C=0.35938136638, score=0.819950, total=   5.7s\n",
      "[CV] penalty=l1, C=0.35938136638 .....................................\n",
      "[CV] ...... penalty=l1, C=0.35938136638, score=0.814896, total=   7.0s\n",
      "[CV] penalty=l1, C=0.35938136638 .....................................\n",
      "[CV] ...... penalty=l1, C=0.35938136638, score=0.772626, total=   5.0s\n",
      "[CV] penalty=l2, C=0.35938136638 .....................................\n",
      "[CV] ...... penalty=l2, C=0.35938136638, score=0.802345, total=   5.5s\n",
      "[CV] penalty=l2, C=0.35938136638 .....................................\n",
      "[CV] ...... penalty=l2, C=0.35938136638, score=0.829957, total=   5.8s\n",
      "[CV] penalty=l2, C=0.35938136638 .....................................\n",
      "[CV] ...... penalty=l2, C=0.35938136638, score=0.820231, total=   4.9s\n",
      "[CV] penalty=l2, C=0.35938136638 .....................................\n",
      "[CV] ...... penalty=l2, C=0.35938136638, score=0.815712, total=   5.5s\n",
      "[CV] penalty=l2, C=0.35938136638 .....................................\n",
      "[CV] ...... penalty=l2, C=0.35938136638, score=0.774277, total=   5.7s\n",
      "[CV] penalty=l1, C=2.78255940221 .....................................\n",
      "[CV] ...... penalty=l1, C=2.78255940221, score=0.796132, total=  27.6s\n",
      "[CV] penalty=l1, C=2.78255940221 .....................................\n",
      "[CV] ...... penalty=l1, C=2.78255940221, score=0.831956, total=  25.5s\n",
      "[CV] penalty=l1, C=2.78255940221 .....................................\n",
      "[CV] ...... penalty=l1, C=2.78255940221, score=0.818419, total=  24.5s\n",
      "[CV] penalty=l1, C=2.78255940221 .....................................\n",
      "[CV] ...... penalty=l1, C=2.78255940221, score=0.817908, total=  20.8s\n",
      "[CV] penalty=l1, C=2.78255940221 .....................................\n",
      "[CV] ...... penalty=l1, C=2.78255940221, score=0.778247, total=  53.3s\n",
      "[CV] penalty=l2, C=2.78255940221 .....................................\n",
      "[CV] ...... penalty=l2, C=2.78255940221, score=0.796852, total=   9.0s\n",
      "[CV] penalty=l2, C=2.78255940221 .....................................\n",
      "[CV] ...... penalty=l2, C=2.78255940221, score=0.830568, total=   9.0s\n",
      "[CV] penalty=l2, C=2.78255940221 .....................................\n",
      "[CV] ...... penalty=l2, C=2.78255940221, score=0.818654, total=   9.9s\n",
      "[CV] penalty=l2, C=2.78255940221 .....................................\n",
      "[CV] ...... penalty=l2, C=2.78255940221, score=0.815207, total=   9.5s\n",
      "[CV] penalty=l2, C=2.78255940221 .....................................\n",
      "[CV] ...... penalty=l2, C=2.78255940221, score=0.777383, total=  10.0s\n",
      "[CV] penalty=l1, C=21.5443469003 .....................................\n",
      "[CV] ...... penalty=l1, C=21.5443469003, score=0.791683, total= 2.0min\n",
      "[CV] penalty=l1, C=21.5443469003 .....................................\n",
      "[CV] ...... penalty=l1, C=21.5443469003, score=0.830049, total= 2.4min\n",
      "[CV] penalty=l1, C=21.5443469003 .....................................\n",
      "[CV] ...... penalty=l1, C=21.5443469003, score=0.815919, total= 1.5min\n",
      "[CV] penalty=l1, C=21.5443469003 .....................................\n",
      "[CV] ...... penalty=l1, C=21.5443469003, score=0.815798, total= 1.6min\n",
      "[CV] penalty=l1, C=21.5443469003 .....................................\n",
      "[CV] ...... penalty=l1, C=21.5443469003, score=0.772652, total= 1.8min\n",
      "[CV] penalty=l2, C=21.5443469003 .....................................\n",
      "[CV] ...... penalty=l2, C=21.5443469003, score=0.793958, total=  19.0s\n",
      "[CV] penalty=l2, C=21.5443469003 .....................................\n",
      "[CV] ...... penalty=l2, C=21.5443469003, score=0.830526, total=  16.3s\n",
      "[CV] penalty=l2, C=21.5443469003 .....................................\n"
     ]
    },
    {
     "name": "stdout",
     "output_type": "stream",
     "text": [
      "[CV] ...... penalty=l2, C=21.5443469003, score=0.817166, total=  18.1s\n",
      "[CV] penalty=l2, C=21.5443469003 .....................................\n",
      "[CV] ...... penalty=l2, C=21.5443469003, score=0.815779, total=  15.8s\n",
      "[CV] penalty=l2, C=21.5443469003 .....................................\n",
      "[CV] ...... penalty=l2, C=21.5443469003, score=0.774776, total=  16.4s\n",
      "[CV] penalty=l1, C=166.81005372 ......................................\n",
      "[CV] ....... penalty=l1, C=166.81005372, score=0.791131, total= 3.7min\n",
      "[CV] penalty=l1, C=166.81005372 ......................................\n",
      "[CV] ....... penalty=l1, C=166.81005372, score=0.829299, total= 4.5min\n",
      "[CV] penalty=l1, C=166.81005372 ......................................\n",
      "[CV] ....... penalty=l1, C=166.81005372, score=0.814358, total= 3.0min\n",
      "[CV] penalty=l1, C=166.81005372 ......................................\n",
      "[CV] ....... penalty=l1, C=166.81005372, score=0.815775, total= 4.2min\n",
      "[CV] penalty=l1, C=166.81005372 ......................................\n",
      "[CV] ....... penalty=l1, C=166.81005372, score=0.769680, total= 2.8min\n",
      "[CV] penalty=l2, C=166.81005372 ......................................\n",
      "[CV] ....... penalty=l2, C=166.81005372, score=0.791899, total=  40.2s\n",
      "[CV] penalty=l2, C=166.81005372 ......................................\n",
      "[CV] ....... penalty=l2, C=166.81005372, score=0.829757, total=  29.0s\n",
      "[CV] penalty=l2, C=166.81005372 ......................................\n",
      "[CV] ....... penalty=l2, C=166.81005372, score=0.814964, total=  32.8s\n",
      "[CV] penalty=l2, C=166.81005372 ......................................\n",
      "[CV] ....... penalty=l2, C=166.81005372, score=0.815868, total=  33.8s\n",
      "[CV] penalty=l2, C=166.81005372 ......................................\n",
      "[CV] ....... penalty=l2, C=166.81005372, score=0.770491, total=  34.6s\n",
      "[CV] penalty=l1, C=1291.54966501 .....................................\n",
      "[CV] ...... penalty=l1, C=1291.54966501, score=0.790579, total= 3.7min\n",
      "[CV] penalty=l1, C=1291.54966501 .....................................\n",
      "[CV] ...... penalty=l1, C=1291.54966501, score=0.829211, total= 3.5min\n",
      "[CV] penalty=l1, C=1291.54966501 .....................................\n",
      "[CV] ...... penalty=l1, C=1291.54966501, score=0.814194, total= 3.7min\n",
      "[CV] penalty=l1, C=1291.54966501 .....................................\n",
      "[CV] ...... penalty=l1, C=1291.54966501, score=0.815517, total= 4.1min\n",
      "[CV] penalty=l1, C=1291.54966501 .....................................\n",
      "[CV] ...... penalty=l1, C=1291.54966501, score=0.769398, total= 3.7min\n",
      "[CV] penalty=l2, C=1291.54966501 .....................................\n",
      "[CV] ...... penalty=l2, C=1291.54966501, score=0.790938, total= 1.6min\n",
      "[CV] penalty=l2, C=1291.54966501 .....................................\n",
      "[CV] ...... penalty=l2, C=1291.54966501, score=0.827877, total= 1.1min\n",
      "[CV] penalty=l2, C=1291.54966501 .....................................\n",
      "[CV] ...... penalty=l2, C=1291.54966501, score=0.814445, total= 1.5min\n",
      "[CV] penalty=l2, C=1291.54966501 .....................................\n",
      "[CV] ...... penalty=l2, C=1291.54966501, score=0.813605, total= 1.2min\n",
      "[CV] penalty=l2, C=1291.54966501 .....................................\n",
      "[CV] ...... penalty=l2, C=1291.54966501, score=0.769106, total= 1.5min\n",
      "[CV] penalty=l1, C=10000.0 ...........................................\n",
      "[CV] ............ penalty=l1, C=10000.0, score=0.790614, total= 4.8min\n",
      "[CV] penalty=l1, C=10000.0 ...........................................\n",
      "[CV] ............ penalty=l1, C=10000.0, score=0.829184, total= 3.5min\n",
      "[CV] penalty=l1, C=10000.0 ...........................................\n",
      "[CV] ............ penalty=l1, C=10000.0, score=0.814146, total= 3.6min\n",
      "[CV] penalty=l1, C=10000.0 ...........................................\n",
      "[CV] ............ penalty=l1, C=10000.0, score=0.815010, total= 3.7min\n",
      "[CV] penalty=l1, C=10000.0 ...........................................\n",
      "[CV] ............ penalty=l1, C=10000.0, score=0.769486, total= 3.8min\n",
      "[CV] penalty=l2, C=10000.0 ...........................................\n",
      "[CV] ............ penalty=l2, C=10000.0, score=0.789921, total= 2.5min\n",
      "[CV] penalty=l2, C=10000.0 ...........................................\n",
      "[CV] ............ penalty=l2, C=10000.0, score=0.824772, total= 1.7min\n",
      "[CV] penalty=l2, C=10000.0 ...........................................\n",
      "[CV] ............ penalty=l2, C=10000.0, score=0.814421, total= 3.2min\n",
      "[CV] penalty=l2, C=10000.0 ...........................................\n",
      "[CV] ............ penalty=l2, C=10000.0, score=0.813276, total= 3.4min\n",
      "[CV] penalty=l2, C=10000.0 ...........................................\n",
      "[CV] ............ penalty=l2, C=10000.0, score=0.768937, total= 2.5min\n"
     ]
    },
    {
     "name": "stderr",
     "output_type": "stream",
     "text": [
      "[Parallel(n_jobs=1)]: Done 100 out of 100 | elapsed: 96.2min finished\n",
      "100%|#########################################################################|\n"
     ]
    },
    {
     "name": "stdout",
     "output_type": "stream",
     "text": [
      "Fitting 5 folds for each of 20 candidates, totalling 100 fits\n",
      "[CV] penalty=l1, C=0.0001 ............................................\n",
      "[CV] ............. penalty=l1, C=0.0001, score=0.500000, total=   1.0s\n",
      "[CV] penalty=l1, C=0.0001 ............................................\n"
     ]
    },
    {
     "name": "stderr",
     "output_type": "stream",
     "text": [
      "[Parallel(n_jobs=1)]: Done   1 out of   1 | elapsed:    1.1s remaining:    0.0s\n"
     ]
    },
    {
     "name": "stdout",
     "output_type": "stream",
     "text": [
      "[CV] ............. penalty=l1, C=0.0001, score=0.500000, total=   1.0s\n",
      "[CV] penalty=l1, C=0.0001 ............................................\n"
     ]
    },
    {
     "name": "stderr",
     "output_type": "stream",
     "text": [
      "[Parallel(n_jobs=1)]: Done   2 out of   2 | elapsed:    2.3s remaining:    0.0s\n"
     ]
    },
    {
     "name": "stdout",
     "output_type": "stream",
     "text": [
      "[CV] ............. penalty=l1, C=0.0001, score=0.500000, total=   1.1s\n",
      "[CV] penalty=l1, C=0.0001 ............................................\n"
     ]
    },
    {
     "name": "stderr",
     "output_type": "stream",
     "text": [
      "[Parallel(n_jobs=1)]: Done   3 out of   3 | elapsed:    3.6s remaining:    0.0s\n"
     ]
    },
    {
     "name": "stdout",
     "output_type": "stream",
     "text": [
      "[CV] ............. penalty=l1, C=0.0001, score=0.500000, total=   1.0s\n",
      "[CV] penalty=l1, C=0.0001 ............................................\n"
     ]
    },
    {
     "name": "stderr",
     "output_type": "stream",
     "text": [
      "[Parallel(n_jobs=1)]: Done   4 out of   4 | elapsed:    4.7s remaining:    0.0s\n"
     ]
    },
    {
     "name": "stdout",
     "output_type": "stream",
     "text": [
      "[CV] ............. penalty=l1, C=0.0001, score=0.500000, total=   0.9s\n",
      "[CV] penalty=l2, C=0.0001 ............................................\n"
     ]
    },
    {
     "name": "stderr",
     "output_type": "stream",
     "text": [
      "[Parallel(n_jobs=1)]: Done   5 out of   5 | elapsed:    5.9s remaining:    0.0s\n"
     ]
    },
    {
     "name": "stdout",
     "output_type": "stream",
     "text": [
      "[CV] ............. penalty=l2, C=0.0001, score=0.372119, total=   1.5s\n",
      "[CV] penalty=l2, C=0.0001 ............................................\n"
     ]
    },
    {
     "name": "stderr",
     "output_type": "stream",
     "text": [
      "[Parallel(n_jobs=1)]: Done   6 out of   6 | elapsed:    7.6s remaining:    0.0s\n"
     ]
    },
    {
     "name": "stdout",
     "output_type": "stream",
     "text": [
      "[CV] ............. penalty=l2, C=0.0001, score=0.328864, total=   1.5s\n",
      "[CV] penalty=l2, C=0.0001 ............................................\n"
     ]
    },
    {
     "name": "stderr",
     "output_type": "stream",
     "text": [
      "[Parallel(n_jobs=1)]: Done   7 out of   7 | elapsed:    9.3s remaining:    0.0s\n"
     ]
    },
    {
     "name": "stdout",
     "output_type": "stream",
     "text": [
      "[CV] ............. penalty=l2, C=0.0001, score=0.384093, total=   1.5s\n",
      "[CV] penalty=l2, C=0.0001 ............................................\n"
     ]
    },
    {
     "name": "stderr",
     "output_type": "stream",
     "text": [
      "[Parallel(n_jobs=1)]: Done   8 out of   8 | elapsed:   11.0s remaining:    0.0s\n"
     ]
    },
    {
     "name": "stdout",
     "output_type": "stream",
     "text": [
      "[CV] ............. penalty=l2, C=0.0001, score=0.391018, total=   1.5s\n",
      "[CV] penalty=l2, C=0.0001 ............................................\n"
     ]
    },
    {
     "name": "stderr",
     "output_type": "stream",
     "text": [
      "[Parallel(n_jobs=1)]: Done   9 out of   9 | elapsed:   12.7s remaining:    0.0s\n"
     ]
    },
    {
     "name": "stdout",
     "output_type": "stream",
     "text": [
      "[CV] ............. penalty=l2, C=0.0001, score=0.367123, total=   1.5s\n",
      "[CV] penalty=l1, C=0.000774263682681 .................................\n",
      "[CV] .. penalty=l1, C=0.000774263682681, score=0.500000, total=   1.1s\n",
      "[CV] penalty=l1, C=0.000774263682681 .................................\n",
      "[CV] .. penalty=l1, C=0.000774263682681, score=0.500000, total=   1.1s\n",
      "[CV] penalty=l1, C=0.000774263682681 .................................\n",
      "[CV] .. penalty=l1, C=0.000774263682681, score=0.500000, total=   1.3s\n",
      "[CV] penalty=l1, C=0.000774263682681 .................................\n",
      "[CV] .. penalty=l1, C=0.000774263682681, score=0.500000, total=   1.1s\n",
      "[CV] penalty=l1, C=0.000774263682681 .................................\n",
      "[CV] .. penalty=l1, C=0.000774263682681, score=0.500000, total=   1.2s\n",
      "[CV] penalty=l2, C=0.000774263682681 .................................\n",
      "[CV] .. penalty=l2, C=0.000774263682681, score=0.406329, total=   2.0s\n",
      "[CV] penalty=l2, C=0.000774263682681 .................................\n",
      "[CV] .. penalty=l2, C=0.000774263682681, score=0.371038, total=   2.0s\n",
      "[CV] penalty=l2, C=0.000774263682681 .................................\n",
      "[CV] .. penalty=l2, C=0.000774263682681, score=0.436018, total=   2.0s\n",
      "[CV] penalty=l2, C=0.000774263682681 .................................\n",
      "[CV] .. penalty=l2, C=0.000774263682681, score=0.441717, total=   2.1s\n",
      "[CV] penalty=l2, C=0.000774263682681 .................................\n",
      "[CV] .. penalty=l2, C=0.000774263682681, score=0.399097, total=   1.9s\n",
      "[CV] penalty=l1, C=0.00599484250319 ..................................\n",
      "[CV] ... penalty=l1, C=0.00599484250319, score=0.698623, total=   1.6s\n",
      "[CV] penalty=l1, C=0.00599484250319 ..................................\n",
      "[CV] ... penalty=l1, C=0.00599484250319, score=0.766270, total=   1.7s\n",
      "[CV] penalty=l1, C=0.00599484250319 ..................................\n",
      "[CV] ... penalty=l1, C=0.00599484250319, score=0.726613, total=   1.9s\n",
      "[CV] penalty=l1, C=0.00599484250319 ..................................\n",
      "[CV] ... penalty=l1, C=0.00599484250319, score=0.725998, total=   1.6s\n",
      "[CV] penalty=l1, C=0.00599484250319 ..................................\n",
      "[CV] ... penalty=l1, C=0.00599484250319, score=0.674577, total=   1.6s\n",
      "[CV] penalty=l2, C=0.00599484250319 ..................................\n",
      "[CV] ... penalty=l2, C=0.00599484250319, score=0.719600, total=   2.5s\n",
      "[CV] penalty=l2, C=0.00599484250319 ..................................\n",
      "[CV] ... penalty=l2, C=0.00599484250319, score=0.708302, total=   2.4s\n",
      "[CV] penalty=l2, C=0.00599484250319 ..................................\n",
      "[CV] ... penalty=l2, C=0.00599484250319, score=0.750811, total=   2.4s\n",
      "[CV] penalty=l2, C=0.00599484250319 ..................................\n",
      "[CV] ... penalty=l2, C=0.00599484250319, score=0.740342, total=   2.4s\n",
      "[CV] penalty=l2, C=0.00599484250319 ..................................\n",
      "[CV] ... penalty=l2, C=0.00599484250319, score=0.661346, total=   2.7s\n",
      "[CV] penalty=l1, C=0.0464158883361 ...................................\n",
      "[CV] .... penalty=l1, C=0.0464158883361, score=0.786982, total=   2.7s\n",
      "[CV] penalty=l1, C=0.0464158883361 ...................................\n",
      "[CV] .... penalty=l1, C=0.0464158883361, score=0.827237, total=   2.5s\n",
      "[CV] penalty=l1, C=0.0464158883361 ...................................\n",
      "[CV] .... penalty=l1, C=0.0464158883361, score=0.816875, total=   2.4s\n",
      "[CV] penalty=l1, C=0.0464158883361 ...................................\n",
      "[CV] .... penalty=l1, C=0.0464158883361, score=0.806704, total=   2.5s\n",
      "[CV] penalty=l1, C=0.0464158883361 ...................................\n",
      "[CV] .... penalty=l1, C=0.0464158883361, score=0.743162, total=   2.9s\n",
      "[CV] penalty=l2, C=0.0464158883361 ...................................\n",
      "[CV] .... penalty=l2, C=0.0464158883361, score=0.804331, total=   3.6s\n",
      "[CV] penalty=l2, C=0.0464158883361 ...................................\n",
      "[CV] .... penalty=l2, C=0.0464158883361, score=0.817065, total=   3.6s\n",
      "[CV] penalty=l2, C=0.0464158883361 ...................................\n",
      "[CV] .... penalty=l2, C=0.0464158883361, score=0.817721, total=   3.7s\n",
      "[CV] penalty=l2, C=0.0464158883361 ...................................\n",
      "[CV] .... penalty=l2, C=0.0464158883361, score=0.810392, total=   3.5s\n",
      "[CV] penalty=l2, C=0.0464158883361 ...................................\n",
      "[CV] .... penalty=l2, C=0.0464158883361, score=0.760654, total=   3.3s\n",
      "[CV] penalty=l1, C=0.35938136638 .....................................\n",
      "[CV] ...... penalty=l1, C=0.35938136638, score=0.797384, total=   5.0s\n",
      "[CV] penalty=l1, C=0.35938136638 .....................................\n",
      "[CV] ...... penalty=l1, C=0.35938136638, score=0.832421, total=   4.6s\n",
      "[CV] penalty=l1, C=0.35938136638 .....................................\n",
      "[CV] ...... penalty=l1, C=0.35938136638, score=0.820143, total=   5.3s\n",
      "[CV] penalty=l1, C=0.35938136638 .....................................\n",
      "[CV] ...... penalty=l1, C=0.35938136638, score=0.815102, total=   5.3s\n",
      "[CV] penalty=l1, C=0.35938136638 .....................................\n",
      "[CV] ...... penalty=l1, C=0.35938136638, score=0.772969, total=   5.3s\n",
      "[CV] penalty=l2, C=0.35938136638 .....................................\n",
      "[CV] ...... penalty=l2, C=0.35938136638, score=0.802564, total=   5.6s\n",
      "[CV] penalty=l2, C=0.35938136638 .....................................\n",
      "[CV] ...... penalty=l2, C=0.35938136638, score=0.830013, total=   5.8s\n",
      "[CV] penalty=l2, C=0.35938136638 .....................................\n",
      "[CV] ...... penalty=l2, C=0.35938136638, score=0.820373, total=   4.9s\n",
      "[CV] penalty=l2, C=0.35938136638 .....................................\n",
      "[CV] ...... penalty=l2, C=0.35938136638, score=0.815611, total=   5.6s\n",
      "[CV] penalty=l2, C=0.35938136638 .....................................\n",
      "[CV] ...... penalty=l2, C=0.35938136638, score=0.774199, total=   4.9s\n",
      "[CV] penalty=l1, C=2.78255940221 .....................................\n",
      "[CV] ...... penalty=l1, C=2.78255940221, score=0.796182, total=  20.8s\n",
      "[CV] penalty=l1, C=2.78255940221 .....................................\n",
      "[CV] ...... penalty=l1, C=2.78255940221, score=0.832122, total=  21.5s\n",
      "[CV] penalty=l1, C=2.78255940221 .....................................\n",
      "[CV] ...... penalty=l1, C=2.78255940221, score=0.818777, total=  28.5s\n",
      "[CV] penalty=l1, C=2.78255940221 .....................................\n",
      "[CV] ...... penalty=l1, C=2.78255940221, score=0.817667, total=  20.0s\n",
      "[CV] penalty=l1, C=2.78255940221 .....................................\n",
      "[CV] ...... penalty=l1, C=2.78255940221, score=0.778687, total=  34.3s\n",
      "[CV] penalty=l2, C=2.78255940221 .....................................\n",
      "[CV] ...... penalty=l2, C=2.78255940221, score=0.797089, total=   9.2s\n",
      "[CV] penalty=l2, C=2.78255940221 .....................................\n",
      "[CV] ...... penalty=l2, C=2.78255940221, score=0.830661, total=   9.0s\n",
      "[CV] penalty=l2, C=2.78255940221 .....................................\n",
      "[CV] ...... penalty=l2, C=2.78255940221, score=0.818890, total=   9.1s\n",
      "[CV] penalty=l2, C=2.78255940221 .....................................\n",
      "[CV] ...... penalty=l2, C=2.78255940221, score=0.814981, total=   9.2s\n",
      "[CV] penalty=l2, C=2.78255940221 .....................................\n",
      "[CV] ...... penalty=l2, C=2.78255940221, score=0.777424, total=   9.9s\n",
      "[CV] penalty=l1, C=21.5443469003 .....................................\n",
      "[CV] ...... penalty=l1, C=21.5443469003, score=0.791119, total= 2.0min\n",
      "[CV] penalty=l1, C=21.5443469003 .....................................\n",
      "[CV] ...... penalty=l1, C=21.5443469003, score=0.830174, total= 1.8min\n",
      "[CV] penalty=l1, C=21.5443469003 .....................................\n",
      "[CV] ...... penalty=l1, C=21.5443469003, score=0.816097, total= 1.6min\n",
      "[CV] penalty=l1, C=21.5443469003 .....................................\n",
      "[CV] ...... penalty=l1, C=21.5443469003, score=0.815672, total= 1.3min\n",
      "[CV] penalty=l1, C=21.5443469003 .....................................\n",
      "[CV] ...... penalty=l1, C=21.5443469003, score=0.772672, total= 1.9min\n",
      "[CV] penalty=l2, C=21.5443469003 .....................................\n",
      "[CV] ...... penalty=l2, C=21.5443469003, score=0.793990, total=  17.6s\n",
      "[CV] penalty=l2, C=21.5443469003 .....................................\n",
      "[CV] ...... penalty=l2, C=21.5443469003, score=0.830604, total=  15.7s\n",
      "[CV] penalty=l2, C=21.5443469003 .....................................\n"
     ]
    },
    {
     "name": "stdout",
     "output_type": "stream",
     "text": [
      "[CV] ...... penalty=l2, C=21.5443469003, score=0.817346, total=  18.8s\n",
      "[CV] penalty=l2, C=21.5443469003 .....................................\n",
      "[CV] ...... penalty=l2, C=21.5443469003, score=0.815602, total=  15.5s\n",
      "[CV] penalty=l2, C=21.5443469003 .....................................\n",
      "[CV] ...... penalty=l2, C=21.5443469003, score=0.775279, total=  19.0s\n",
      "[CV] penalty=l1, C=166.81005372 ......................................\n",
      "[CV] ....... penalty=l1, C=166.81005372, score=0.791100, total= 4.5min\n",
      "[CV] penalty=l1, C=166.81005372 ......................................\n",
      "[CV] ....... penalty=l1, C=166.81005372, score=0.829544, total= 4.3min\n",
      "[CV] penalty=l1, C=166.81005372 ......................................\n",
      "[CV] ....... penalty=l1, C=166.81005372, score=0.814584, total= 2.6min\n",
      "[CV] penalty=l1, C=166.81005372 ......................................\n",
      "[CV] ....... penalty=l1, C=166.81005372, score=0.815855, total= 2.6min\n",
      "[CV] penalty=l1, C=166.81005372 ......................................\n",
      "[CV] ....... penalty=l1, C=166.81005372, score=0.769822, total= 2.4min\n",
      "[CV] penalty=l2, C=166.81005372 ......................................\n",
      "[CV] ....... penalty=l2, C=166.81005372, score=0.791890, total=  38.5s\n",
      "[CV] penalty=l2, C=166.81005372 ......................................\n",
      "[CV] ....... penalty=l2, C=166.81005372, score=0.829874, total=  35.8s\n",
      "[CV] penalty=l2, C=166.81005372 ......................................\n",
      "[CV] ....... penalty=l2, C=166.81005372, score=0.815140, total=  39.1s\n",
      "[CV] penalty=l2, C=166.81005372 ......................................\n",
      "[CV] ....... penalty=l2, C=166.81005372, score=0.815616, total=  34.8s\n",
      "[CV] penalty=l2, C=166.81005372 ......................................\n",
      "[CV] ....... penalty=l2, C=166.81005372, score=0.770560, total=  30.2s\n",
      "[CV] penalty=l1, C=1291.54966501 .....................................\n",
      "[CV] ...... penalty=l1, C=1291.54966501, score=0.790805, total= 3.8min\n",
      "[CV] penalty=l1, C=1291.54966501 .....................................\n",
      "[CV] ...... penalty=l1, C=1291.54966501, score=0.829306, total= 3.6min\n",
      "[CV] penalty=l1, C=1291.54966501 .....................................\n",
      "[CV] ...... penalty=l1, C=1291.54966501, score=0.814466, total= 2.7min\n",
      "[CV] penalty=l1, C=1291.54966501 .....................................\n",
      "[CV] ...... penalty=l1, C=1291.54966501, score=0.815418, total= 3.2min\n",
      "[CV] penalty=l1, C=1291.54966501 .....................................\n",
      "[CV] ...... penalty=l1, C=1291.54966501, score=0.769706, total= 2.8min\n",
      "[CV] penalty=l2, C=1291.54966501 .....................................\n",
      "[CV] ...... penalty=l2, C=1291.54966501, score=0.790970, total= 1.4min\n",
      "[CV] penalty=l2, C=1291.54966501 .....................................\n",
      "[CV] ...... penalty=l2, C=1291.54966501, score=0.827950, total= 1.2min\n",
      "[CV] penalty=l2, C=1291.54966501 .....................................\n",
      "[CV] ...... penalty=l2, C=1291.54966501, score=0.814570, total= 1.5min\n",
      "[CV] penalty=l2, C=1291.54966501 .....................................\n",
      "[CV] ...... penalty=l2, C=1291.54966501, score=0.813495, total= 1.0min\n",
      "[CV] penalty=l2, C=1291.54966501 .....................................\n",
      "[CV] ...... penalty=l2, C=1291.54966501, score=0.768951, total=  58.1s\n",
      "[CV] penalty=l1, C=10000.0 ...........................................\n",
      "[CV] ............ penalty=l1, C=10000.0, score=0.790677, total= 3.6min\n",
      "[CV] penalty=l1, C=10000.0 ...........................................\n",
      "[CV] ............ penalty=l1, C=10000.0, score=0.829255, total= 4.0min\n",
      "[CV] penalty=l1, C=10000.0 ...........................................\n",
      "[CV] ............ penalty=l1, C=10000.0, score=0.814439, total= 3.0min\n",
      "[CV] penalty=l1, C=10000.0 ...........................................\n",
      "[CV] ............ penalty=l1, C=10000.0, score=0.815402, total= 3.3min\n",
      "[CV] penalty=l1, C=10000.0 ...........................................\n",
      "[CV] ............ penalty=l1, C=10000.0, score=0.769611, total= 3.4min\n",
      "[CV] penalty=l2, C=10000.0 ...........................................\n",
      "[CV] ............ penalty=l2, C=10000.0, score=0.790367, total= 1.9min\n",
      "[CV] penalty=l2, C=10000.0 ...........................................\n",
      "[CV] ............ penalty=l2, C=10000.0, score=0.824532, total= 4.0min\n",
      "[CV] penalty=l2, C=10000.0 ...........................................\n",
      "[CV] ............ penalty=l2, C=10000.0, score=0.814463, total= 2.4min\n",
      "[CV] penalty=l2, C=10000.0 ...........................................\n",
      "[CV] ............ penalty=l2, C=10000.0, score=0.813292, total= 2.5min\n",
      "[CV] penalty=l2, C=10000.0 ...........................................\n",
      "[CV] ............ penalty=l2, C=10000.0, score=0.768414, total= 3.1min\n"
     ]
    },
    {
     "name": "stderr",
     "output_type": "stream",
     "text": [
      "[Parallel(n_jobs=1)]: Done 100 out of 100 | elapsed: 88.5min finished\n",
      "100%|#########################################################################|\n"
     ]
    },
    {
     "name": "stdout",
     "output_type": "stream",
     "text": [
      "Fitting 5 folds for each of 20 candidates, totalling 100 fits\n",
      "[CV] penalty=l1, C=0.0001 ............................................\n",
      "[CV] ............. penalty=l1, C=0.0001, score=0.500000, total=   0.9s\n",
      "[CV] penalty=l1, C=0.0001 ............................................\n"
     ]
    },
    {
     "name": "stderr",
     "output_type": "stream",
     "text": [
      "[Parallel(n_jobs=1)]: Done   1 out of   1 | elapsed:    1.0s remaining:    0.0s\n"
     ]
    },
    {
     "name": "stdout",
     "output_type": "stream",
     "text": [
      "[CV] ............. penalty=l1, C=0.0001, score=0.500000, total=   0.9s\n",
      "[CV] penalty=l1, C=0.0001 ............................................\n"
     ]
    },
    {
     "name": "stderr",
     "output_type": "stream",
     "text": [
      "[Parallel(n_jobs=1)]: Done   2 out of   2 | elapsed:    2.2s remaining:    0.0s\n"
     ]
    },
    {
     "name": "stdout",
     "output_type": "stream",
     "text": [
      "[CV] ............. penalty=l1, C=0.0001, score=0.500000, total=   0.9s\n",
      "[CV] penalty=l1, C=0.0001 ............................................\n"
     ]
    },
    {
     "name": "stderr",
     "output_type": "stream",
     "text": [
      "[Parallel(n_jobs=1)]: Done   3 out of   3 | elapsed:    3.3s remaining:    0.0s\n"
     ]
    },
    {
     "name": "stdout",
     "output_type": "stream",
     "text": [
      "[CV] ............. penalty=l1, C=0.0001, score=0.500000, total=   1.0s\n",
      "[CV] penalty=l1, C=0.0001 ............................................\n"
     ]
    },
    {
     "name": "stderr",
     "output_type": "stream",
     "text": [
      "[Parallel(n_jobs=1)]: Done   4 out of   4 | elapsed:    4.5s remaining:    0.0s\n"
     ]
    },
    {
     "name": "stdout",
     "output_type": "stream",
     "text": [
      "[CV] ............. penalty=l1, C=0.0001, score=0.500000, total=   0.9s\n",
      "[CV] penalty=l2, C=0.0001 ............................................\n"
     ]
    },
    {
     "name": "stderr",
     "output_type": "stream",
     "text": [
      "[Parallel(n_jobs=1)]: Done   5 out of   5 | elapsed:    5.6s remaining:    0.0s\n"
     ]
    },
    {
     "name": "stdout",
     "output_type": "stream",
     "text": [
      "[CV] ............. penalty=l2, C=0.0001, score=0.372367, total=   1.5s\n",
      "[CV] penalty=l2, C=0.0001 ............................................\n"
     ]
    },
    {
     "name": "stderr",
     "output_type": "stream",
     "text": [
      "[Parallel(n_jobs=1)]: Done   6 out of   6 | elapsed:    7.3s remaining:    0.0s\n"
     ]
    },
    {
     "name": "stdout",
     "output_type": "stream",
     "text": [
      "[CV] ............. penalty=l2, C=0.0001, score=0.328890, total=   1.5s\n",
      "[CV] penalty=l2, C=0.0001 ............................................\n"
     ]
    },
    {
     "name": "stderr",
     "output_type": "stream",
     "text": [
      "[Parallel(n_jobs=1)]: Done   7 out of   7 | elapsed:    9.0s remaining:    0.0s\n"
     ]
    },
    {
     "name": "stdout",
     "output_type": "stream",
     "text": [
      "[CV] ............. penalty=l2, C=0.0001, score=0.384094, total=   1.5s\n",
      "[CV] penalty=l2, C=0.0001 ............................................\n"
     ]
    },
    {
     "name": "stderr",
     "output_type": "stream",
     "text": [
      "[Parallel(n_jobs=1)]: Done   8 out of   8 | elapsed:   10.7s remaining:    0.0s\n"
     ]
    },
    {
     "name": "stdout",
     "output_type": "stream",
     "text": [
      "[CV] ............. penalty=l2, C=0.0001, score=0.391108, total=   1.5s\n",
      "[CV] penalty=l2, C=0.0001 ............................................\n"
     ]
    },
    {
     "name": "stderr",
     "output_type": "stream",
     "text": [
      "[Parallel(n_jobs=1)]: Done   9 out of   9 | elapsed:   12.4s remaining:    0.0s\n"
     ]
    },
    {
     "name": "stdout",
     "output_type": "stream",
     "text": [
      "[CV] ............. penalty=l2, C=0.0001, score=0.367147, total=   1.5s\n",
      "[CV] penalty=l1, C=0.000774263682681 .................................\n",
      "[CV] .. penalty=l1, C=0.000774263682681, score=0.500000, total=   1.0s\n",
      "[CV] penalty=l1, C=0.000774263682681 .................................\n",
      "[CV] .. penalty=l1, C=0.000774263682681, score=0.500000, total=   1.0s\n",
      "[CV] penalty=l1, C=0.000774263682681 .................................\n",
      "[CV] .. penalty=l1, C=0.000774263682681, score=0.500000, total=   1.0s\n",
      "[CV] penalty=l1, C=0.000774263682681 .................................\n",
      "[CV] .. penalty=l1, C=0.000774263682681, score=0.500000, total=   1.1s\n",
      "[CV] penalty=l1, C=0.000774263682681 .................................\n",
      "[CV] .. penalty=l1, C=0.000774263682681, score=0.500000, total=   1.1s\n",
      "[CV] penalty=l2, C=0.000774263682681 .................................\n",
      "[CV] .. penalty=l2, C=0.000774263682681, score=0.406564, total=   2.0s\n",
      "[CV] penalty=l2, C=0.000774263682681 .................................\n",
      "[CV] .. penalty=l2, C=0.000774263682681, score=0.371068, total=   2.1s\n",
      "[CV] penalty=l2, C=0.000774263682681 .................................\n",
      "[CV] .. penalty=l2, C=0.000774263682681, score=0.436012, total=   2.0s\n",
      "[CV] penalty=l2, C=0.000774263682681 .................................\n",
      "[CV] .. penalty=l2, C=0.000774263682681, score=0.441800, total=   2.1s\n",
      "[CV] penalty=l2, C=0.000774263682681 .................................\n",
      "[CV] .. penalty=l2, C=0.000774263682681, score=0.399130, total=   1.9s\n",
      "[CV] penalty=l1, C=0.00599484250319 ..................................\n",
      "[CV] ... penalty=l1, C=0.00599484250319, score=0.698935, total=   1.7s\n",
      "[CV] penalty=l1, C=0.00599484250319 ..................................\n",
      "[CV] ... penalty=l1, C=0.00599484250319, score=0.766304, total=   1.8s\n",
      "[CV] penalty=l1, C=0.00599484250319 ..................................\n",
      "[CV] ... penalty=l1, C=0.00599484250319, score=0.726604, total=   1.6s\n",
      "[CV] penalty=l1, C=0.00599484250319 ..................................\n",
      "[CV] ... penalty=l1, C=0.00599484250319, score=0.725966, total=   1.7s\n",
      "[CV] penalty=l1, C=0.00599484250319 ..................................\n",
      "[CV] ... penalty=l1, C=0.00599484250319, score=0.674549, total=   1.7s\n",
      "[CV] penalty=l2, C=0.00599484250319 ..................................\n",
      "[CV] ... penalty=l2, C=0.00599484250319, score=0.719529, total=   2.3s\n",
      "[CV] penalty=l2, C=0.00599484250319 ..................................\n",
      "[CV] ... penalty=l2, C=0.00599484250319, score=0.708256, total=   2.3s\n",
      "[CV] penalty=l2, C=0.00599484250319 ..................................\n",
      "[CV] ... penalty=l2, C=0.00599484250319, score=0.750737, total=   2.4s\n",
      "[CV] penalty=l2, C=0.00599484250319 ..................................\n",
      "[CV] ... penalty=l2, C=0.00599484250319, score=0.740323, total=   2.4s\n",
      "[CV] penalty=l2, C=0.00599484250319 ..................................\n",
      "[CV] ... penalty=l2, C=0.00599484250319, score=0.661253, total=   2.7s\n",
      "[CV] penalty=l1, C=0.0464158883361 ...................................\n",
      "[CV] .... penalty=l1, C=0.0464158883361, score=0.786570, total=   3.9s\n",
      "[CV] penalty=l1, C=0.0464158883361 ...................................\n",
      "[CV] .... penalty=l1, C=0.0464158883361, score=0.827116, total=   3.2s\n",
      "[CV] penalty=l1, C=0.0464158883361 ...................................\n",
      "[CV] .... penalty=l1, C=0.0464158883361, score=0.816825, total=   2.8s\n",
      "[CV] penalty=l1, C=0.0464158883361 ...................................\n",
      "[CV] .... penalty=l1, C=0.0464158883361, score=0.806713, total=   2.5s\n",
      "[CV] penalty=l1, C=0.0464158883361 ...................................\n",
      "[CV] .... penalty=l1, C=0.0464158883361, score=0.743289, total=   2.9s\n",
      "[CV] penalty=l2, C=0.0464158883361 ...................................\n",
      "[CV] .... penalty=l2, C=0.0464158883361, score=0.804267, total=   3.5s\n",
      "[CV] penalty=l2, C=0.0464158883361 ...................................\n",
      "[CV] .... penalty=l2, C=0.0464158883361, score=0.817040, total=   3.7s\n",
      "[CV] penalty=l2, C=0.0464158883361 ...................................\n",
      "[CV] .... penalty=l2, C=0.0464158883361, score=0.817682, total=   3.7s\n",
      "[CV] penalty=l2, C=0.0464158883361 ...................................\n",
      "[CV] .... penalty=l2, C=0.0464158883361, score=0.810332, total=   3.6s\n",
      "[CV] penalty=l2, C=0.0464158883361 ...................................\n",
      "[CV] .... penalty=l2, C=0.0464158883361, score=0.760715, total=   3.3s\n",
      "[CV] penalty=l1, C=0.35938136638 .....................................\n",
      "[CV] ...... penalty=l1, C=0.35938136638, score=0.797107, total=   4.7s\n",
      "[CV] penalty=l1, C=0.35938136638 .....................................\n",
      "[CV] ...... penalty=l1, C=0.35938136638, score=0.832359, total=   5.5s\n",
      "[CV] penalty=l1, C=0.35938136638 .....................................\n",
      "[CV] ...... penalty=l1, C=0.35938136638, score=0.819925, total=   5.2s\n",
      "[CV] penalty=l1, C=0.35938136638 .....................................\n",
      "[CV] ...... penalty=l1, C=0.35938136638, score=0.815038, total=   5.0s\n",
      "[CV] penalty=l1, C=0.35938136638 .....................................\n",
      "[CV] ...... penalty=l1, C=0.35938136638, score=0.772551, total=   6.3s\n",
      "[CV] penalty=l2, C=0.35938136638 .....................................\n",
      "[CV] ...... penalty=l2, C=0.35938136638, score=0.802378, total=   5.5s\n",
      "[CV] penalty=l2, C=0.35938136638 .....................................\n",
      "[CV] ...... penalty=l2, C=0.35938136638, score=0.829933, total=   5.8s\n",
      "[CV] penalty=l2, C=0.35938136638 .....................................\n",
      "[CV] ...... penalty=l2, C=0.35938136638, score=0.820257, total=   4.9s\n",
      "[CV] penalty=l2, C=0.35938136638 .....................................\n",
      "[CV] ...... penalty=l2, C=0.35938136638, score=0.815683, total=   5.6s\n",
      "[CV] penalty=l2, C=0.35938136638 .....................................\n",
      "[CV] ...... penalty=l2, C=0.35938136638, score=0.774280, total=   6.0s\n",
      "[CV] penalty=l1, C=2.78255940221 .....................................\n",
      "[CV] ...... penalty=l1, C=2.78255940221, score=0.796135, total=  27.0s\n",
      "[CV] penalty=l1, C=2.78255940221 .....................................\n",
      "[CV] ...... penalty=l1, C=2.78255940221, score=0.831891, total=  41.3s\n",
      "[CV] penalty=l1, C=2.78255940221 .....................................\n",
      "[CV] ...... penalty=l1, C=2.78255940221, score=0.818458, total=  26.0s\n",
      "[CV] penalty=l1, C=2.78255940221 .....................................\n",
      "[CV] ...... penalty=l1, C=2.78255940221, score=0.817784, total=  23.1s\n",
      "[CV] penalty=l1, C=2.78255940221 .....................................\n",
      "[CV] ...... penalty=l1, C=2.78255940221, score=0.778164, total=  29.5s\n",
      "[CV] penalty=l2, C=2.78255940221 .....................................\n",
      "[CV] ...... penalty=l2, C=2.78255940221, score=0.796876, total=   8.9s\n",
      "[CV] penalty=l2, C=2.78255940221 .....................................\n",
      "[CV] ...... penalty=l2, C=2.78255940221, score=0.830545, total=   8.8s\n",
      "[CV] penalty=l2, C=2.78255940221 .....................................\n",
      "[CV] ...... penalty=l2, C=2.78255940221, score=0.818676, total=  10.2s\n",
      "[CV] penalty=l2, C=2.78255940221 .....................................\n",
      "[CV] ...... penalty=l2, C=2.78255940221, score=0.815184, total=   9.5s\n",
      "[CV] penalty=l2, C=2.78255940221 .....................................\n",
      "[CV] ...... penalty=l2, C=2.78255940221, score=0.777379, total=  10.1s\n",
      "[CV] penalty=l1, C=21.5443469003 .....................................\n",
      "[CV] ...... penalty=l1, C=21.5443469003, score=0.791649, total= 1.7min\n",
      "[CV] penalty=l1, C=21.5443469003 .....................................\n",
      "[CV] ...... penalty=l1, C=21.5443469003, score=0.830047, total= 2.4min\n",
      "[CV] penalty=l1, C=21.5443469003 .....................................\n",
      "[CV] ...... penalty=l1, C=21.5443469003, score=0.815954, total= 1.7min\n",
      "[CV] penalty=l1, C=21.5443469003 .....................................\n",
      "[CV] ...... penalty=l1, C=21.5443469003, score=0.815714, total= 1.3min\n",
      "[CV] penalty=l1, C=21.5443469003 .....................................\n",
      "[CV] ...... penalty=l1, C=21.5443469003, score=0.772749, total= 1.4min\n",
      "[CV] penalty=l2, C=21.5443469003 .....................................\n",
      "[CV] ...... penalty=l2, C=21.5443469003, score=0.794002, total=  15.1s\n",
      "[CV] penalty=l2, C=21.5443469003 .....................................\n",
      "[CV] ...... penalty=l2, C=21.5443469003, score=0.830525, total=  15.2s\n",
      "[CV] penalty=l2, C=21.5443469003 .....................................\n"
     ]
    },
    {
     "name": "stdout",
     "output_type": "stream",
     "text": [
      "[CV] ...... penalty=l2, C=21.5443469003, score=0.817168, total=  17.7s\n",
      "[CV] penalty=l2, C=21.5443469003 .....................................\n",
      "[CV] ...... penalty=l2, C=21.5443469003, score=0.815790, total=  15.5s\n",
      "[CV] penalty=l2, C=21.5443469003 .....................................\n",
      "[CV] ...... penalty=l2, C=21.5443469003, score=0.774759, total=  16.5s\n",
      "[CV] penalty=l1, C=166.81005372 ......................................\n",
      "[CV] ....... penalty=l1, C=166.81005372, score=0.791121, total= 3.5min\n",
      "[CV] penalty=l1, C=166.81005372 ......................................\n",
      "[CV] ....... penalty=l1, C=166.81005372, score=0.829419, total= 3.0min\n",
      "[CV] penalty=l1, C=166.81005372 ......................................\n",
      "[CV] ....... penalty=l1, C=166.81005372, score=0.814351, total= 4.5min\n",
      "[CV] penalty=l1, C=166.81005372 ......................................\n",
      "[CV] ....... penalty=l1, C=166.81005372, score=0.815997, total= 3.0min\n",
      "[CV] penalty=l1, C=166.81005372 ......................................\n",
      "[CV] ....... penalty=l1, C=166.81005372, score=0.769670, total= 3.0min\n",
      "[CV] penalty=l2, C=166.81005372 ......................................\n",
      "[CV] ....... penalty=l2, C=166.81005372, score=0.791929, total=  41.8s\n",
      "[CV] penalty=l2, C=166.81005372 ......................................\n",
      "[CV] ....... penalty=l2, C=166.81005372, score=0.829747, total=  34.6s\n",
      "[CV] penalty=l2, C=166.81005372 ......................................\n",
      "[CV] ....... penalty=l2, C=166.81005372, score=0.814999, total=  39.1s\n",
      "[CV] penalty=l2, C=166.81005372 ......................................\n",
      "[CV] ....... penalty=l2, C=166.81005372, score=0.815876, total=  34.4s\n",
      "[CV] penalty=l2, C=166.81005372 ......................................\n",
      "[CV] ....... penalty=l2, C=166.81005372, score=0.770474, total=  32.5s\n",
      "[CV] penalty=l1, C=1291.54966501 .....................................\n",
      "[CV] ...... penalty=l1, C=1291.54966501, score=0.790800, total= 3.9min\n",
      "[CV] penalty=l1, C=1291.54966501 .....................................\n",
      "[CV] ...... penalty=l1, C=1291.54966501, score=0.829164, total= 3.7min\n",
      "[CV] penalty=l1, C=1291.54966501 .....................................\n",
      "[CV] ...... penalty=l1, C=1291.54966501, score=0.814216, total= 3.5min\n",
      "[CV] penalty=l1, C=1291.54966501 .....................................\n",
      "[CV] ...... penalty=l1, C=1291.54966501, score=0.815491, total= 3.6min\n",
      "[CV] penalty=l1, C=1291.54966501 .....................................\n",
      "[CV] ...... penalty=l1, C=1291.54966501, score=0.769483, total= 3.6min\n",
      "[CV] penalty=l2, C=1291.54966501 .....................................\n",
      "[CV] ...... penalty=l2, C=1291.54966501, score=0.791011, total= 1.6min\n",
      "[CV] penalty=l2, C=1291.54966501 .....................................\n",
      "[CV] ...... penalty=l2, C=1291.54966501, score=0.827832, total= 1.2min\n",
      "[CV] penalty=l2, C=1291.54966501 .....................................\n",
      "[CV] ...... penalty=l2, C=1291.54966501, score=0.814469, total= 1.5min\n",
      "[CV] penalty=l2, C=1291.54966501 .....................................\n",
      "[CV] ...... penalty=l2, C=1291.54966501, score=0.813615, total= 1.2min\n",
      "[CV] penalty=l2, C=1291.54966501 .....................................\n",
      "[CV] ...... penalty=l2, C=1291.54966501, score=0.769125, total= 1.6min\n",
      "[CV] penalty=l1, C=10000.0 ...........................................\n",
      "[CV] ............ penalty=l1, C=10000.0, score=0.790637, total= 5.7min\n",
      "[CV] penalty=l1, C=10000.0 ...........................................\n",
      "[CV] ............ penalty=l1, C=10000.0, score=0.829148, total= 4.0min\n",
      "[CV] penalty=l1, C=10000.0 ...........................................\n",
      "[CV] ............ penalty=l1, C=10000.0, score=0.814187, total= 3.8min\n",
      "[CV] penalty=l1, C=10000.0 ...........................................\n",
      "[CV] ............ penalty=l1, C=10000.0, score=0.815454, total= 4.4min\n",
      "[CV] penalty=l1, C=10000.0 ...........................................\n",
      "[CV] ............ penalty=l1, C=10000.0, score=0.769466, total= 3.4min\n",
      "[CV] penalty=l2, C=10000.0 ...........................................\n",
      "[CV] ............ penalty=l2, C=10000.0, score=0.789708, total= 3.3min\n",
      "[CV] penalty=l2, C=10000.0 ...........................................\n",
      "[CV] ............ penalty=l2, C=10000.0, score=0.824601, total= 2.3min\n",
      "[CV] penalty=l2, C=10000.0 ...........................................\n",
      "[CV] ............ penalty=l2, C=10000.0, score=0.814467, total= 3.6min\n",
      "[CV] penalty=l2, C=10000.0 ...........................................\n",
      "[CV] ............ penalty=l2, C=10000.0, score=0.813236, total= 3.1min\n",
      "[CV] penalty=l2, C=10000.0 ...........................................\n",
      "[CV] ............ penalty=l2, C=10000.0, score=0.768834, total= 3.7min\n"
     ]
    },
    {
     "name": "stderr",
     "output_type": "stream",
     "text": [
      "[Parallel(n_jobs=1)]: Done 100 out of 100 | elapsed: 98.6min finished\n",
      "100%|#########################################################################|\n"
     ]
    },
    {
     "name": "stdout",
     "output_type": "stream",
     "text": [
      "Fitting 5 folds for each of 20 candidates, totalling 100 fits\n",
      "[CV] penalty=l1, C=0.0001 ............................................\n",
      "[CV] ............. penalty=l1, C=0.0001, score=0.500000, total=   0.9s\n",
      "[CV] penalty=l1, C=0.0001 ............................................\n"
     ]
    },
    {
     "name": "stderr",
     "output_type": "stream",
     "text": [
      "[Parallel(n_jobs=1)]: Done   1 out of   1 | elapsed:    1.0s remaining:    0.0s\n"
     ]
    },
    {
     "name": "stdout",
     "output_type": "stream",
     "text": [
      "[CV] ............. penalty=l1, C=0.0001, score=0.500000, total=   1.0s\n",
      "[CV] penalty=l1, C=0.0001 ............................................\n"
     ]
    },
    {
     "name": "stderr",
     "output_type": "stream",
     "text": [
      "[Parallel(n_jobs=1)]: Done   2 out of   2 | elapsed:    2.2s remaining:    0.0s\n"
     ]
    },
    {
     "name": "stdout",
     "output_type": "stream",
     "text": [
      "[CV] ............. penalty=l1, C=0.0001, score=0.500000, total=   0.9s\n",
      "[CV] penalty=l1, C=0.0001 ............................................\n"
     ]
    },
    {
     "name": "stderr",
     "output_type": "stream",
     "text": [
      "[Parallel(n_jobs=1)]: Done   3 out of   3 | elapsed:    3.4s remaining:    0.0s\n"
     ]
    },
    {
     "name": "stdout",
     "output_type": "stream",
     "text": [
      "[CV] ............. penalty=l1, C=0.0001, score=0.500000, total=   1.0s\n",
      "[CV] penalty=l1, C=0.0001 ............................................\n"
     ]
    },
    {
     "name": "stderr",
     "output_type": "stream",
     "text": [
      "[Parallel(n_jobs=1)]: Done   4 out of   4 | elapsed:    4.6s remaining:    0.0s\n"
     ]
    },
    {
     "name": "stdout",
     "output_type": "stream",
     "text": [
      "[CV] ............. penalty=l1, C=0.0001, score=0.500000, total=   1.0s\n",
      "[CV] penalty=l2, C=0.0001 ............................................\n"
     ]
    },
    {
     "name": "stderr",
     "output_type": "stream",
     "text": [
      "[Parallel(n_jobs=1)]: Done   5 out of   5 | elapsed:    5.9s remaining:    0.0s\n"
     ]
    },
    {
     "name": "stdout",
     "output_type": "stream",
     "text": [
      "[CV] ............. penalty=l2, C=0.0001, score=0.371979, total=   1.6s\n",
      "[CV] penalty=l2, C=0.0001 ............................................\n"
     ]
    },
    {
     "name": "stderr",
     "output_type": "stream",
     "text": [
      "[Parallel(n_jobs=1)]: Done   6 out of   6 | elapsed:    7.7s remaining:    0.0s\n"
     ]
    },
    {
     "name": "stdout",
     "output_type": "stream",
     "text": [
      "[CV] ............. penalty=l2, C=0.0001, score=0.328851, total=   1.6s\n",
      "[CV] penalty=l2, C=0.0001 ............................................\n"
     ]
    },
    {
     "name": "stderr",
     "output_type": "stream",
     "text": [
      "[Parallel(n_jobs=1)]: Done   7 out of   7 | elapsed:    9.5s remaining:    0.0s\n"
     ]
    },
    {
     "name": "stdout",
     "output_type": "stream",
     "text": [
      "[CV] ............. penalty=l2, C=0.0001, score=0.384120, total=   1.6s\n",
      "[CV] penalty=l2, C=0.0001 ............................................\n"
     ]
    },
    {
     "name": "stderr",
     "output_type": "stream",
     "text": [
      "[Parallel(n_jobs=1)]: Done   8 out of   8 | elapsed:   11.3s remaining:    0.0s\n"
     ]
    },
    {
     "name": "stdout",
     "output_type": "stream",
     "text": [
      "[CV] ............. penalty=l2, C=0.0001, score=0.391011, total=   1.6s\n",
      "[CV] penalty=l2, C=0.0001 ............................................\n"
     ]
    },
    {
     "name": "stderr",
     "output_type": "stream",
     "text": [
      "[Parallel(n_jobs=1)]: Done   9 out of   9 | elapsed:   13.1s remaining:    0.0s\n"
     ]
    },
    {
     "name": "stdout",
     "output_type": "stream",
     "text": [
      "[CV] ............. penalty=l2, C=0.0001, score=0.367137, total=   1.6s\n",
      "[CV] penalty=l1, C=0.000774263682681 .................................\n",
      "[CV] .. penalty=l1, C=0.000774263682681, score=0.500000, total=   1.1s\n",
      "[CV] penalty=l1, C=0.000774263682681 .................................\n",
      "[CV] .. penalty=l1, C=0.000774263682681, score=0.500000, total=   1.1s\n",
      "[CV] penalty=l1, C=0.000774263682681 .................................\n",
      "[CV] .. penalty=l1, C=0.000774263682681, score=0.500000, total=   1.1s\n",
      "[CV] penalty=l1, C=0.000774263682681 .................................\n",
      "[CV] .. penalty=l1, C=0.000774263682681, score=0.500000, total=   1.1s\n",
      "[CV] penalty=l1, C=0.000774263682681 .................................\n",
      "[CV] .. penalty=l1, C=0.000774263682681, score=0.500000, total=   1.3s\n",
      "[CV] penalty=l2, C=0.000774263682681 .................................\n",
      "[CV] .. penalty=l2, C=0.000774263682681, score=0.406215, total=   2.2s\n",
      "[CV] penalty=l2, C=0.000774263682681 .................................\n",
      "[CV] .. penalty=l2, C=0.000774263682681, score=0.371031, total=   2.2s\n",
      "[CV] penalty=l2, C=0.000774263682681 .................................\n",
      "[CV] .. penalty=l2, C=0.000774263682681, score=0.436050, total=   2.1s\n",
      "[CV] penalty=l2, C=0.000774263682681 .................................\n",
      "[CV] .. penalty=l2, C=0.000774263682681, score=0.441715, total=   2.2s\n",
      "[CV] penalty=l2, C=0.000774263682681 .................................\n",
      "[CV] .. penalty=l2, C=0.000774263682681, score=0.399115, total=   2.0s\n",
      "[CV] penalty=l1, C=0.00599484250319 ..................................\n",
      "[CV] ... penalty=l1, C=0.00599484250319, score=0.699282, total=   1.9s\n",
      "[CV] penalty=l1, C=0.00599484250319 ..................................\n",
      "[CV] ... penalty=l1, C=0.00599484250319, score=0.766281, total=   1.8s\n",
      "[CV] penalty=l1, C=0.00599484250319 ..................................\n",
      "[CV] ... penalty=l1, C=0.00599484250319, score=0.726602, total=   2.0s\n",
      "[CV] penalty=l1, C=0.00599484250319 ..................................\n",
      "[CV] ... penalty=l1, C=0.00599484250319, score=0.725990, total=   2.0s\n",
      "[CV] penalty=l1, C=0.00599484250319 ..................................\n",
      "[CV] ... penalty=l1, C=0.00599484250319, score=0.674557, total=   1.6s\n",
      "[CV] penalty=l2, C=0.00599484250319 ..................................\n",
      "[CV] ... penalty=l2, C=0.00599484250319, score=0.719703, total=   2.5s\n",
      "[CV] penalty=l2, C=0.00599484250319 ..................................\n",
      "[CV] ... penalty=l2, C=0.00599484250319, score=0.708367, total=   2.5s\n",
      "[CV] penalty=l2, C=0.00599484250319 ..................................\n",
      "[CV] ... penalty=l2, C=0.00599484250319, score=0.750863, total=   2.5s\n",
      "[CV] penalty=l2, C=0.00599484250319 ..................................\n",
      "[CV] ... penalty=l2, C=0.00599484250319, score=0.740373, total=   2.6s\n",
      "[CV] penalty=l2, C=0.00599484250319 ..................................\n",
      "[CV] ... penalty=l2, C=0.00599484250319, score=0.661460, total=   2.9s\n",
      "[CV] penalty=l1, C=0.0464158883361 ...................................\n",
      "[CV] .... penalty=l1, C=0.0464158883361, score=0.786986, total=   2.8s\n",
      "[CV] penalty=l1, C=0.0464158883361 ...................................\n",
      "[CV] .... penalty=l1, C=0.0464158883361, score=0.827122, total=   3.1s\n",
      "[CV] penalty=l1, C=0.0464158883361 ...................................\n",
      "[CV] .... penalty=l1, C=0.0464158883361, score=0.816926, total=   2.8s\n",
      "[CV] penalty=l1, C=0.0464158883361 ...................................\n",
      "[CV] .... penalty=l1, C=0.0464158883361, score=0.806593, total=   2.4s\n",
      "[CV] penalty=l1, C=0.0464158883361 ...................................\n",
      "[CV] .... penalty=l1, C=0.0464158883361, score=0.743198, total=   2.6s\n",
      "[CV] penalty=l2, C=0.0464158883361 ...................................\n",
      "[CV] .... penalty=l2, C=0.0464158883361, score=0.804538, total=   3.4s\n",
      "[CV] penalty=l2, C=0.0464158883361 ...................................\n",
      "[CV] .... penalty=l2, C=0.0464158883361, score=0.817185, total=   3.8s\n",
      "[CV] penalty=l2, C=0.0464158883361 ...................................\n",
      "[CV] .... penalty=l2, C=0.0464158883361, score=0.817847, total=   3.9s\n",
      "[CV] penalty=l2, C=0.0464158883361 ...................................\n",
      "[CV] .... penalty=l2, C=0.0464158883361, score=0.810374, total=   3.7s\n",
      "[CV] penalty=l2, C=0.0464158883361 ...................................\n",
      "[CV] .... penalty=l2, C=0.0464158883361, score=0.760757, total=   3.5s\n",
      "[CV] penalty=l1, C=0.35938136638 .....................................\n",
      "[CV] ...... penalty=l1, C=0.35938136638, score=0.797509, total=   5.7s\n",
      "[CV] penalty=l1, C=0.35938136638 .....................................\n",
      "[CV] ...... penalty=l1, C=0.35938136638, score=0.832546, total=   5.7s\n",
      "[CV] penalty=l1, C=0.35938136638 .....................................\n",
      "[CV] ...... penalty=l1, C=0.35938136638, score=0.820296, total=   5.2s\n",
      "[CV] penalty=l1, C=0.35938136638 .....................................\n",
      "[CV] ...... penalty=l1, C=0.35938136638, score=0.815118, total=   5.7s\n",
      "[CV] penalty=l1, C=0.35938136638 .....................................\n",
      "[CV] ...... penalty=l1, C=0.35938136638, score=0.773009, total=   5.6s\n",
      "[CV] penalty=l2, C=0.35938136638 .....................................\n",
      "[CV] ...... penalty=l2, C=0.35938136638, score=0.802744, total=   5.9s\n",
      "[CV] penalty=l2, C=0.35938136638 .....................................\n",
      "[CV] ...... penalty=l2, C=0.35938136638, score=0.830147, total=   5.2s\n",
      "[CV] penalty=l2, C=0.35938136638 .....................................\n",
      "[CV] ...... penalty=l2, C=0.35938136638, score=0.820535, total=   5.2s\n",
      "[CV] penalty=l2, C=0.35938136638 .....................................\n",
      "[CV] ...... penalty=l2, C=0.35938136638, score=0.815575, total=   6.0s\n",
      "[CV] penalty=l2, C=0.35938136638 .....................................\n",
      "[CV] ...... penalty=l2, C=0.35938136638, score=0.774218, total=   6.3s\n",
      "[CV] penalty=l1, C=2.78255940221 .....................................\n",
      "[CV] ...... penalty=l1, C=2.78255940221, score=0.796364, total=  27.6s\n",
      "[CV] penalty=l1, C=2.78255940221 .....................................\n",
      "[CV] ...... penalty=l1, C=2.78255940221, score=0.832199, total=  26.4s\n",
      "[CV] penalty=l1, C=2.78255940221 .....................................\n",
      "[CV] ...... penalty=l1, C=2.78255940221, score=0.818911, total=  24.9s\n",
      "[CV] penalty=l1, C=2.78255940221 .....................................\n",
      "[CV] ...... penalty=l1, C=2.78255940221, score=0.817605, total=  24.7s\n",
      "[CV] penalty=l1, C=2.78255940221 .....................................\n",
      "[CV] ...... penalty=l1, C=2.78255940221, score=0.778668, total=  29.8s\n",
      "[CV] penalty=l2, C=2.78255940221 .....................................\n",
      "[CV] ...... penalty=l2, C=2.78255940221, score=0.797216, total=   9.7s\n",
      "[CV] penalty=l2, C=2.78255940221 .....................................\n",
      "[CV] ...... penalty=l2, C=2.78255940221, score=0.830840, total=   9.4s\n",
      "[CV] penalty=l2, C=2.78255940221 .....................................\n",
      "[CV] ...... penalty=l2, C=2.78255940221, score=0.819064, total=   9.7s\n",
      "[CV] penalty=l2, C=2.78255940221 .....................................\n",
      "[CV] ...... penalty=l2, C=2.78255940221, score=0.814853, total=   8.9s\n",
      "[CV] penalty=l2, C=2.78255940221 .....................................\n",
      "[CV] ...... penalty=l2, C=2.78255940221, score=0.777547, total=  10.4s\n",
      "[CV] penalty=l1, C=21.5443469003 .....................................\n",
      "[CV] ...... penalty=l1, C=21.5443469003, score=0.791751, total= 1.9min\n",
      "[CV] penalty=l1, C=21.5443469003 .....................................\n",
      "[CV] ...... penalty=l1, C=21.5443469003, score=0.830467, total= 1.8min\n",
      "[CV] penalty=l1, C=21.5443469003 .....................................\n",
      "[CV] ...... penalty=l1, C=21.5443469003, score=0.816241, total= 1.8min\n",
      "[CV] penalty=l1, C=21.5443469003 .....................................\n",
      "[CV] ...... penalty=l1, C=21.5443469003, score=0.815505, total= 2.4min\n",
      "[CV] penalty=l1, C=21.5443469003 .....................................\n",
      "[CV] ...... penalty=l1, C=21.5443469003, score=0.772953, total= 1.9min\n",
      "[CV] penalty=l2, C=21.5443469003 .....................................\n",
      "[CV] ...... penalty=l2, C=21.5443469003, score=0.794128, total=  19.4s\n",
      "[CV] penalty=l2, C=21.5443469003 .....................................\n",
      "[CV] ...... penalty=l2, C=21.5443469003, score=0.830832, total=  16.7s\n",
      "[CV] penalty=l2, C=21.5443469003 .....................................\n"
     ]
    },
    {
     "name": "stdout",
     "output_type": "stream",
     "text": [
      "[CV] ...... penalty=l2, C=21.5443469003, score=0.817550, total=  19.9s\n",
      "[CV] penalty=l2, C=21.5443469003 .....................................\n",
      "[CV] ...... penalty=l2, C=21.5443469003, score=0.815546, total=  16.3s\n",
      "[CV] penalty=l2, C=21.5443469003 .....................................\n",
      "[CV] ...... penalty=l2, C=21.5443469003, score=0.775300, total=  18.0s\n",
      "[CV] penalty=l1, C=166.81005372 ......................................\n",
      "[CV] ....... penalty=l1, C=166.81005372, score=0.790433, total= 3.5min\n",
      "[CV] penalty=l1, C=166.81005372 ......................................\n",
      "[CV] ....... penalty=l1, C=166.81005372, score=0.829734, total= 3.4min\n",
      "[CV] penalty=l1, C=166.81005372 ......................................\n",
      "[CV] ....... penalty=l1, C=166.81005372, score=0.814758, total= 2.6min\n",
      "[CV] penalty=l1, C=166.81005372 ......................................\n",
      "[CV] ....... penalty=l1, C=166.81005372, score=0.815763, total= 2.9min\n",
      "[CV] penalty=l1, C=166.81005372 ......................................\n",
      "[CV] ....... penalty=l1, C=166.81005372, score=0.769749, total= 2.8min\n",
      "[CV] penalty=l2, C=166.81005372 ......................................\n",
      "[CV] ....... penalty=l2, C=166.81005372, score=0.792067, total=  42.3s\n",
      "[CV] penalty=l2, C=166.81005372 ......................................\n",
      "[CV] ....... penalty=l2, C=166.81005372, score=0.830089, total=  35.3s\n",
      "[CV] penalty=l2, C=166.81005372 ......................................\n",
      "[CV] ....... penalty=l2, C=166.81005372, score=0.815312, total=  39.0s\n",
      "[CV] penalty=l2, C=166.81005372 ......................................\n",
      "[CV] ....... penalty=l2, C=166.81005372, score=0.815537, total=  35.2s\n",
      "[CV] penalty=l2, C=166.81005372 ......................................\n",
      "[CV] ....... penalty=l2, C=166.81005372, score=0.770567, total=  36.3s\n",
      "[CV] penalty=l1, C=1291.54966501 .....................................\n",
      "[CV] ...... penalty=l1, C=1291.54966501, score=0.790791, total= 4.0min\n",
      "[CV] penalty=l1, C=1291.54966501 .....................................\n",
      "[CV] ...... penalty=l1, C=1291.54966501, score=0.829522, total= 3.5min\n",
      "[CV] penalty=l1, C=1291.54966501 .....................................\n",
      "[CV] ...... penalty=l1, C=1291.54966501, score=0.814635, total= 2.9min\n",
      "[CV] penalty=l1, C=1291.54966501 .....................................\n",
      "[CV] ...... penalty=l1, C=1291.54966501, score=0.815451, total= 2.9min\n",
      "[CV] penalty=l1, C=1291.54966501 .....................................\n",
      "[CV] ...... penalty=l1, C=1291.54966501, score=0.769811, total= 2.8min\n",
      "[CV] penalty=l2, C=1291.54966501 .....................................\n",
      "[CV] ...... penalty=l2, C=1291.54966501, score=0.791175, total= 1.5min\n",
      "[CV] penalty=l2, C=1291.54966501 .....................................\n",
      "[CV] ...... penalty=l2, C=1291.54966501, score=0.828153, total= 1.1min\n",
      "[CV] penalty=l2, C=1291.54966501 .....................................\n",
      "[CV] ...... penalty=l2, C=1291.54966501, score=0.814730, total= 1.5min\n",
      "[CV] penalty=l2, C=1291.54966501 .....................................\n",
      "[CV] ...... penalty=l2, C=1291.54966501, score=0.813491, total=  54.2s\n",
      "[CV] penalty=l2, C=1291.54966501 .....................................\n",
      "[CV] ...... penalty=l2, C=1291.54966501, score=0.769044, total= 1.0min\n",
      "[CV] penalty=l1, C=10000.0 ...........................................\n",
      "[CV] ............ penalty=l1, C=10000.0, score=0.790875, total= 3.5min\n",
      "[CV] penalty=l1, C=10000.0 ...........................................\n",
      "[CV] ............ penalty=l1, C=10000.0, score=0.829482, total= 3.7min\n",
      "[CV] penalty=l1, C=10000.0 ...........................................\n",
      "[CV] ............ penalty=l1, C=10000.0, score=0.814608, total= 2.9min\n",
      "[CV] penalty=l1, C=10000.0 ...........................................\n",
      "[CV] ............ penalty=l1, C=10000.0, score=0.815300, total= 3.5min\n",
      "[CV] penalty=l1, C=10000.0 ...........................................\n",
      "[CV] ............ penalty=l1, C=10000.0, score=0.769639, total= 3.5min\n",
      "[CV] penalty=l2, C=10000.0 ...........................................\n",
      "[CV] ............ penalty=l2, C=10000.0, score=0.790181, total= 2.6min\n",
      "[CV] penalty=l2, C=10000.0 ...........................................\n",
      "[CV] ............ penalty=l2, C=10000.0, score=0.824810, total= 3.3min\n",
      "[CV] penalty=l2, C=10000.0 ...........................................\n",
      "[CV] ............ penalty=l2, C=10000.0, score=0.814624, total= 4.0min\n",
      "[CV] penalty=l2, C=10000.0 ...........................................\n",
      "[CV] ............ penalty=l2, C=10000.0, score=0.813199, total= 3.2min\n",
      "[CV] penalty=l2, C=10000.0 ...........................................\n",
      "[CV] ............ penalty=l2, C=10000.0, score=0.768749, total= 3.6min\n"
     ]
    },
    {
     "name": "stderr",
     "output_type": "stream",
     "text": [
      "[Parallel(n_jobs=1)]: Done 100 out of 100 | elapsed: 91.5min finished\n"
     ]
    }
   ],
   "source": [
    "text_file = open(os.path.join(dir_path, result_file), 'w')\n",
    "normal_dataset=np.array(dg_drop_minmax)[np.where(np.array(dg['fin'])==1)]\n",
    "for k in range(3,12):\n",
    "    \n",
    "    kmeans = KMeans(init='k-means++', n_clusters=k, n_init=10,random_state=5)\n",
    "    pipeline=Pipeline([ ('removeOutliers',OutliersKmeans(parallel=True,kmeans=kmeans,showbar=True))])\n",
    "\n",
    "\n",
    "    tuned_parameters = [{'penalty': ['l1','l2'],\n",
    "            'C':list(np.logspace(-4, 4, 10))}]\n",
    "\n",
    "\n",
    "    clf = GridSearchCV(LogisticRegression(max_iter=10000), tuned_parameters, scoring='roc_auc', cv=5,verbose=10)\n",
    "    fittedpipeline=pipeline.fit(normal_dataset)\n",
    "    data=fittedpipeline.transform(np.array(dg_drop_minmax))\n",
    "    cible_dropt=cible[~fittedpipeline.named_steps['removeOutliers'].iextreme_values]\n",
    "    clf.fit(data,cible_dropt)\n",
    "\n",
    "\n",
    "    print('--------------------------', file=text_file)\n",
    "    print(\"K :\"+str(k), file=text_file)\n",
    "\n",
    "    print('', file=text_file)\n",
    "    print(\"Best parameters set found on development set:\", file=text_file)\n",
    "    print('', file=text_file)\n",
    "    print(clf.best_params_, file=text_file)\n",
    "    print('', file=text_file)\n",
    "\n",
    "    print(\"Grid scores on development set:\", file=text_file)\n",
    "    print('', file=text_file)\n",
    "    means = clf.cv_results_['mean_test_score']\n",
    "    stds = clf.cv_results_['std_test_score']\n",
    "    for mean, std, params in zip(means, stds, clf.cv_results_['params']):\n",
    "        print(\"%0.3f (+/-%0.03f) for %r\"\n",
    "            % (mean, std * 2, params), file=text_file)\n",
    "    print('', file=text_file)\n",
    "\n",
    "text_file.close()"
   ]
  },
  {
   "cell_type": "markdown",
   "metadata": {},
   "source": [
    "### Avec réduction de dimension "
   ]
  },
  {
   "cell_type": "code",
   "execution_count": 87,
   "metadata": {
    "collapsed": true
   },
   "outputs": [],
   "source": [
    "result_file='result_grid_kmeans_reduction.csv'\n",
    "dir_path='./'"
   ]
  },
  {
   "cell_type": "code",
   "execution_count": null,
   "metadata": {},
   "outputs": [
    {
     "name": "stdout",
     "output_type": "stream",
     "text": [
      "Fitting 5 folds for each of 20 candidates, totalling 100 fits\n"
     ]
    }
   ],
   "source": [
    "text_file = open(os.path.join(dir_path, result_file), 'w')\n",
    "normal_dataset=np.array(dg_drop_minmax)[np.where(np.array(dg['fin'])==1)]\n",
    "for k in range(3,15):\n",
    "    for ncompo in range(2,10):\n",
    "    \n",
    "        kmeans = KMeans(init='k-means++', n_clusters=k, n_init=10,random_state=5)\n",
    "        pipeline=Pipeline([('dim_red',PCA(n_components=ncompo,svd_solver='arpack')),\n",
    "                           ('removeOutliers',OutliersKmeans(parallel=True,kmeans=kmeans,showbar=False))])\n",
    "\n",
    "\n",
    "        tuned_parameters = [{'penalty': ['l1','l2'],\n",
    "                'C':list(np.logspace(-4, 4, 10))}]\n",
    "\n",
    "\n",
    "        clf = GridSearchCV(LogisticRegression(max_iter=10000), tuned_parameters, scoring='roc_auc', cv=5,verbose=1)\n",
    "        fittedpipeline=pipeline.fit(normal_dataset)\n",
    "        data=fittedpipeline.transform(np.array(dg_drop_minmax)) \n",
    "        cible_dropt=cible[~fittedpipeline.named_steps['removeOutliers'].iextreme_values]\n",
    "        clf.fit(data,cible_dropt)\n",
    "\n",
    "\n",
    "        print('--------------------------', file=text_file)\n",
    "        print(\"K :\"+str(k), file=text_file)\n",
    "        print(\"Number component :\"+str(ncompo), file=text_file)\n",
    "\n",
    "        print('', file=text_file)\n",
    "        print(\"Best parameters set found on development set:\", file=text_file)\n",
    "        print('', file=text_file)\n",
    "        print(clf.best_params_, file=text_file)\n",
    "        print('', file=text_file)\n",
    "\n",
    "        print(\"Grid scores on development set:\", file=text_file)\n",
    "        print('', file=text_file)\n",
    "        means = clf.cv_results_['mean_test_score']\n",
    "        stds = clf.cv_results_['std_test_score']\n",
    "        for mean, std, params in zip(means, stds, clf.cv_results_['params']):\n",
    "            print(\"%0.3f (+/-%0.03f) for %r\"\n",
    "                % (mean, std * 2, params), file=text_file)\n",
    "        print('', file=text_file)\n",
    "\n",
    "text_file.close()"
   ]
  },
  {
   "cell_type": "markdown",
   "metadata": {
    "collapsed": true
   },
   "source": [
    "# Mahanalobis"
   ]
  },
  {
   "cell_type": "code",
   "execution_count": 77,
   "metadata": {
    "collapsed": true
   },
   "outputs": [],
   "source": [
    "result_file='result_grid_mh.csv'\n",
    "dir_path='./'"
   ]
  },
  {
   "cell_type": "code",
   "execution_count": 79,
   "metadata": {
    "scrolled": false
   },
   "outputs": [
    {
     "name": "stdout",
     "output_type": "stream",
     "text": [
      "Fitting 5 folds for each of 30 candidates, totalling 150 fits\n",
      "[CV] penalty=l1, C=0.0001 ............................................\n",
      "[CV] ............. penalty=l1, C=0.0001, score=0.500000, total=   0.0s\n",
      "[CV] penalty=l1, C=0.0001 ............................................\n"
     ]
    },
    {
     "name": "stderr",
     "output_type": "stream",
     "text": [
      "[Parallel(n_jobs=1)]: Done   1 out of   1 | elapsed:    0.1s remaining:    0.0s\n",
      "[Parallel(n_jobs=1)]: Done   2 out of   2 | elapsed:    0.2s remaining:    0.0s\n"
     ]
    },
    {
     "name": "stdout",
     "output_type": "stream",
     "text": [
      "[CV] ............. penalty=l1, C=0.0001, score=0.500000, total=   0.1s\n",
      "[CV] penalty=l1, C=0.0001 ............................................\n",
      "[CV] ............. penalty=l1, C=0.0001, score=0.500000, total=   0.1s\n",
      "[CV] penalty=l1, C=0.0001 ............................................\n"
     ]
    },
    {
     "name": "stderr",
     "output_type": "stream",
     "text": [
      "[Parallel(n_jobs=1)]: Done   3 out of   3 | elapsed:    0.4s remaining:    0.0s\n",
      "[Parallel(n_jobs=1)]: Done   4 out of   4 | elapsed:    0.6s remaining:    0.0s\n"
     ]
    },
    {
     "name": "stdout",
     "output_type": "stream",
     "text": [
      "[CV] ............. penalty=l1, C=0.0001, score=0.500000, total=   0.1s\n",
      "[CV] penalty=l1, C=0.0001 ............................................\n",
      "[CV] ............. penalty=l1, C=0.0001, score=0.500000, total=   0.1s\n",
      "[CV] penalty=l2, C=0.0001 ............................................\n"
     ]
    },
    {
     "name": "stderr",
     "output_type": "stream",
     "text": [
      "[Parallel(n_jobs=1)]: Done   5 out of   5 | elapsed:    0.8s remaining:    0.0s\n"
     ]
    },
    {
     "name": "stdout",
     "output_type": "stream",
     "text": [
      "[CV] ............. penalty=l2, C=0.0001, score=0.569924, total=   0.1s\n",
      "[CV] penalty=l2, C=0.0001 ............................................\n"
     ]
    },
    {
     "name": "stderr",
     "output_type": "stream",
     "text": [
      "[Parallel(n_jobs=1)]: Done   6 out of   6 | elapsed:    1.1s remaining:    0.0s\n"
     ]
    },
    {
     "name": "stdout",
     "output_type": "stream",
     "text": [
      "[CV] ............. penalty=l2, C=0.0001, score=0.626888, total=   0.1s\n",
      "[CV] penalty=l2, C=0.0001 ............................................\n"
     ]
    },
    {
     "name": "stderr",
     "output_type": "stream",
     "text": [
      "[Parallel(n_jobs=1)]: Done   7 out of   7 | elapsed:    1.4s remaining:    0.0s\n"
     ]
    },
    {
     "name": "stdout",
     "output_type": "stream",
     "text": [
      "[CV] ............. penalty=l2, C=0.0001, score=0.567317, total=   0.1s\n",
      "[CV] penalty=l2, C=0.0001 ............................................\n"
     ]
    },
    {
     "name": "stderr",
     "output_type": "stream",
     "text": [
      "[Parallel(n_jobs=1)]: Done   8 out of   8 | elapsed:    1.7s remaining:    0.0s\n"
     ]
    },
    {
     "name": "stdout",
     "output_type": "stream",
     "text": [
      "[CV] ............. penalty=l2, C=0.0001, score=0.593123, total=   0.1s\n",
      "[CV] penalty=l2, C=0.0001 ............................................\n",
      "[CV] ............. penalty=l2, C=0.0001, score=0.650154, total=   0.1s"
     ]
    },
    {
     "name": "stderr",
     "output_type": "stream",
     "text": [
      "[Parallel(n_jobs=1)]: Done   9 out of   9 | elapsed:    1.9s remaining:    0.0s\n"
     ]
    },
    {
     "name": "stdout",
     "output_type": "stream",
     "text": [
      "\n",
      "[CV] penalty=l1, C=0.000439397056076 .................................\n",
      "[CV] .. penalty=l1, C=0.000439397056076, score=0.500000, total=   0.1s\n",
      "[CV] penalty=l1, C=0.000439397056076 .................................\n",
      "[CV] .. penalty=l1, C=0.000439397056076, score=0.500000, total=   0.1s\n",
      "[CV] penalty=l1, C=0.000439397056076 .................................\n",
      "[CV] .. penalty=l1, C=0.000439397056076, score=0.500000, total=   0.1s\n",
      "[CV] penalty=l1, C=0.000439397056076 .................................\n",
      "[CV] .. penalty=l1, C=0.000439397056076, score=0.500000, total=   0.1s\n",
      "[CV] penalty=l1, C=0.000439397056076 .................................\n",
      "[CV] .. penalty=l1, C=0.000439397056076, score=0.500000, total=   0.1s\n",
      "[CV] penalty=l2, C=0.000439397056076 .................................\n",
      "[CV] .. penalty=l2, C=0.000439397056076, score=0.580827, total=   0.1s\n",
      "[CV] penalty=l2, C=0.000439397056076 .................................\n",
      "[CV] .. penalty=l2, C=0.000439397056076, score=0.646959, total=   0.1s\n",
      "[CV] penalty=l2, C=0.000439397056076 .................................\n",
      "[CV] .. penalty=l2, C=0.000439397056076, score=0.588688, total=   0.1s\n",
      "[CV] penalty=l2, C=0.000439397056076 .................................\n",
      "[CV] .. penalty=l2, C=0.000439397056076, score=0.614970, total=   0.1s\n",
      "[CV] penalty=l2, C=0.000439397056076 .................................\n",
      "[CV] .. penalty=l2, C=0.000439397056076, score=0.668363, total=   0.1s\n",
      "[CV] penalty=l1, C=0.00193069772888 ..................................\n",
      "[CV] ... penalty=l1, C=0.00193069772888, score=0.556362, total=   0.1s\n",
      "[CV] penalty=l1, C=0.00193069772888 ..................................\n",
      "[CV] ... penalty=l1, C=0.00193069772888, score=0.609136, total=   0.1s\n",
      "[CV] penalty=l1, C=0.00193069772888 ..................................\n",
      "[CV] ... penalty=l1, C=0.00193069772888, score=0.558633, total=   0.1s\n",
      "[CV] penalty=l1, C=0.00193069772888 ..................................\n",
      "[CV] ... penalty=l1, C=0.00193069772888, score=0.586925, total=   0.1s\n",
      "[CV] penalty=l1, C=0.00193069772888 ..................................\n",
      "[CV] ... penalty=l1, C=0.00193069772888, score=0.500000, total=   0.1s\n",
      "[CV] penalty=l2, C=0.00193069772888 ..................................\n",
      "[CV] ... penalty=l2, C=0.00193069772888, score=0.590387, total=   0.1s\n",
      "[CV] penalty=l2, C=0.00193069772888 ..................................\n",
      "[CV] ... penalty=l2, C=0.00193069772888, score=0.666312, total=   0.1s\n",
      "[CV] penalty=l2, C=0.00193069772888 ..................................\n",
      "[CV] ... penalty=l2, C=0.00193069772888, score=0.620014, total=   0.1s\n",
      "[CV] penalty=l2, C=0.00193069772888 ..................................\n",
      "[CV] ... penalty=l2, C=0.00193069772888, score=0.649924, total=   0.1s\n",
      "[CV] penalty=l2, C=0.00193069772888 ..................................\n",
      "[CV] ... penalty=l2, C=0.00193069772888, score=0.684339, total=   0.1s\n",
      "[CV] penalty=l1, C=0.00848342898244 ..................................\n",
      "[CV] ... penalty=l1, C=0.00848342898244, score=0.599506, total=   0.1s\n",
      "[CV] penalty=l1, C=0.00848342898244 ..................................\n",
      "[CV] ... penalty=l1, C=0.00848342898244, score=0.670061, total=   0.1s\n",
      "[CV] penalty=l1, C=0.00848342898244 ..................................\n",
      "[CV] ... penalty=l1, C=0.00848342898244, score=0.645386, total=   0.1s\n",
      "[CV] penalty=l1, C=0.00848342898244 ..................................\n",
      "[CV] ... penalty=l1, C=0.00848342898244, score=0.676311, total=   0.1s\n",
      "[CV] penalty=l1, C=0.00848342898244 ..................................\n",
      "[CV] ... penalty=l1, C=0.00848342898244, score=0.694119, total=   0.1s\n",
      "[CV] penalty=l2, C=0.00848342898244 ..................................\n",
      "[CV] ... penalty=l2, C=0.00848342898244, score=0.595349, total=   0.1s\n",
      "[CV] penalty=l2, C=0.00848342898244 ..................................\n",
      "[CV] ... penalty=l2, C=0.00848342898244, score=0.669125, total=   0.1s\n",
      "[CV] penalty=l2, C=0.00848342898244 ..................................\n",
      "[CV] ... penalty=l2, C=0.00848342898244, score=0.639640, total=   0.1s\n",
      "[CV] penalty=l2, C=0.00848342898244 ..................................\n",
      "[CV] ... penalty=l2, C=0.00848342898244, score=0.669506, total=   0.1s\n",
      "[CV] penalty=l2, C=0.00848342898244 ..................................\n",
      "[CV] ... penalty=l2, C=0.00848342898244, score=0.691429, total=   0.1s\n",
      "[CV] penalty=l1, C=0.0372759372031 ...................................\n",
      "[CV] .... penalty=l1, C=0.0372759372031, score=0.601913, total=   0.1s\n",
      "[CV] penalty=l1, C=0.0372759372031 ...................................\n",
      "[CV] .... penalty=l1, C=0.0372759372031, score=0.669438, total=   0.1s\n",
      "[CV] penalty=l1, C=0.0372759372031 ...................................\n",
      "[CV] .... penalty=l1, C=0.0372759372031, score=0.648356, total=   0.1s\n",
      "[CV] penalty=l1, C=0.0372759372031 ...................................\n",
      "[CV] .... penalty=l1, C=0.0372759372031, score=0.681208, total=   0.1s\n",
      "[CV] penalty=l1, C=0.0372759372031 ...................................\n",
      "[CV] .... penalty=l1, C=0.0372759372031, score=0.695774, total=   0.1s\n",
      "[CV] penalty=l2, C=0.0372759372031 ...................................\n",
      "[CV] .... penalty=l2, C=0.0372759372031, score=0.599835, total=   0.1s\n",
      "[CV] penalty=l2, C=0.0372759372031 ...................................\n",
      "[CV] .... penalty=l2, C=0.0372759372031, score=0.670033, total=   0.1s\n",
      "[CV] penalty=l2, C=0.0372759372031 ...................................\n",
      "[CV] .... penalty=l2, C=0.0372759372031, score=0.646137, total=   0.1s\n",
      "[CV] penalty=l2, C=0.0372759372031 ...................................\n",
      "[CV] .... penalty=l2, C=0.0372759372031, score=0.678929, total=   0.1s\n",
      "[CV] penalty=l2, C=0.0372759372031 ...................................\n",
      "[CV] .... penalty=l2, C=0.0372759372031, score=0.693462, total=   0.1s\n",
      "[CV] penalty=l1, C=0.163789370695 ....................................\n",
      "[CV] ..... penalty=l1, C=0.163789370695, score=0.601936, total=   0.1s\n",
      "[CV] penalty=l1, C=0.163789370695 ....................................\n",
      "[CV] ..... penalty=l1, C=0.163789370695, score=0.669663, total=   0.1s\n",
      "[CV] penalty=l1, C=0.163789370695 ....................................\n",
      "[CV] ..... penalty=l1, C=0.163789370695, score=0.649097, total=   0.1s\n",
      "[CV] penalty=l1, C=0.163789370695 ....................................\n",
      "[CV] ..... penalty=l1, C=0.163789370695, score=0.682310, total=   0.1s\n",
      "[CV] penalty=l1, C=0.163789370695 ....................................\n",
      "[CV] ..... penalty=l1, C=0.163789370695, score=0.696082, total=   0.1s\n",
      "[CV] penalty=l2, C=0.163789370695 ....................................\n",
      "[CV] ..... penalty=l2, C=0.163789370695, score=0.601908, total=   0.1s\n",
      "[CV] penalty=l2, C=0.163789370695 ....................................\n",
      "[CV] ..... penalty=l2, C=0.163789370695, score=0.669402, total=   0.1s\n",
      "[CV] penalty=l2, C=0.163789370695 ....................................\n",
      "[CV] ..... penalty=l2, C=0.163789370695, score=0.648407, total=   0.1s\n",
      "[CV] penalty=l2, C=0.163789370695 ....................................\n",
      "[CV] ..... penalty=l2, C=0.163789370695, score=0.681444, total=   0.1s\n",
      "[CV] penalty=l2, C=0.163789370695 ....................................\n",
      "[CV] ..... penalty=l2, C=0.163789370695, score=0.695433, total=   0.1s\n",
      "[CV] penalty=l1, C=0.719685673001 ....................................\n",
      "[CV] ..... penalty=l1, C=0.719685673001, score=0.601989, total=   0.1s\n",
      "[CV] penalty=l1, C=0.719685673001 ....................................\n",
      "[CV] ..... penalty=l1, C=0.719685673001, score=0.669695, total=   0.1s\n",
      "[CV] penalty=l1, C=0.719685673001 ....................................\n",
      "[CV] ..... penalty=l1, C=0.719685673001, score=0.649293, total=   0.1s\n",
      "[CV] penalty=l1, C=0.719685673001 ....................................\n",
      "[CV] ..... penalty=l1, C=0.719685673001, score=0.682535, total=   0.1s\n",
      "[CV] penalty=l1, C=0.719685673001 ....................................\n",
      "[CV] ..... penalty=l1, C=0.719685673001, score=0.696150, total=   0.1s\n",
      "[CV] penalty=l2, C=0.719685673001 ....................................\n",
      "[CV] ..... penalty=l2, C=0.719685673001, score=0.601925, total=   0.1s\n",
      "[CV] penalty=l2, C=0.719685673001 ....................................\n",
      "[CV] ..... penalty=l2, C=0.719685673001, score=0.669645, total=   0.1s\n",
      "[CV] penalty=l2, C=0.719685673001 ....................................\n",
      "[CV] ..... penalty=l2, C=0.719685673001, score=0.649105, total=   0.1s\n",
      "[CV] penalty=l2, C=0.719685673001 ....................................\n"
     ]
    },
    {
     "name": "stdout",
     "output_type": "stream",
     "text": [
      "[CV] ..... penalty=l2, C=0.719685673001, score=0.682344, total=   0.1s\n",
      "[CV] penalty=l2, C=0.719685673001 ....................................\n",
      "[CV] ..... penalty=l2, C=0.719685673001, score=0.695973, total=   0.1s\n",
      "[CV] penalty=l1, C=3.16227766017 .....................................\n",
      "[CV] ...... penalty=l1, C=3.16227766017, score=0.602000, total=   0.1s\n",
      "[CV] penalty=l1, C=3.16227766017 .....................................\n",
      "[CV] ...... penalty=l1, C=3.16227766017, score=0.669695, total=   0.1s\n",
      "[CV] penalty=l1, C=3.16227766017 .....................................\n",
      "[CV] ...... penalty=l1, C=3.16227766017, score=0.649334, total=   0.1s\n",
      "[CV] penalty=l1, C=3.16227766017 .....................................\n",
      "[CV] ...... penalty=l1, C=3.16227766017, score=0.682584, total=   0.1s\n",
      "[CV] penalty=l1, C=3.16227766017 .....................................\n",
      "[CV] ...... penalty=l1, C=3.16227766017, score=0.696162, total=   0.1s\n",
      "[CV] penalty=l2, C=3.16227766017 .....................................\n",
      "[CV] ...... penalty=l2, C=3.16227766017, score=0.601986, total=   0.1s\n",
      "[CV] penalty=l2, C=3.16227766017 .....................................\n",
      "[CV] ...... penalty=l2, C=3.16227766017, score=0.669697, total=   0.1s\n",
      "[CV] penalty=l2, C=3.16227766017 .....................................\n",
      "[CV] ...... penalty=l2, C=3.16227766017, score=0.649294, total=   0.1s\n",
      "[CV] penalty=l2, C=3.16227766017 .....................................\n",
      "[CV] ...... penalty=l2, C=3.16227766017, score=0.682546, total=   0.1s\n",
      "[CV] penalty=l2, C=3.16227766017 .....................................\n",
      "[CV] ...... penalty=l2, C=3.16227766017, score=0.696129, total=   0.1s\n",
      "[CV] penalty=l1, C=13.8949549437 .....................................\n",
      "[CV] ...... penalty=l1, C=13.8949549437, score=0.602003, total=   0.1s\n",
      "[CV] penalty=l1, C=13.8949549437 .....................................\n",
      "[CV] ...... penalty=l1, C=13.8949549437, score=0.669693, total=   0.1s\n",
      "[CV] penalty=l1, C=13.8949549437 .....................................\n",
      "[CV] ...... penalty=l1, C=13.8949549437, score=0.649344, total=   0.1s\n",
      "[CV] penalty=l1, C=13.8949549437 .....................................\n",
      "[CV] ...... penalty=l1, C=13.8949549437, score=0.682595, total=   0.1s\n",
      "[CV] penalty=l1, C=13.8949549437 .....................................\n",
      "[CV] ...... penalty=l1, C=13.8949549437, score=0.696166, total=   0.1s\n",
      "[CV] penalty=l2, C=13.8949549437 .....................................\n",
      "[CV] ...... penalty=l2, C=13.8949549437, score=0.602001, total=   0.1s\n",
      "[CV] penalty=l2, C=13.8949549437 .....................................\n",
      "[CV] ...... penalty=l2, C=13.8949549437, score=0.669694, total=   0.1s\n",
      "[CV] penalty=l2, C=13.8949549437 .....................................\n",
      "[CV] ...... penalty=l2, C=13.8949549437, score=0.649337, total=   0.1s\n",
      "[CV] penalty=l2, C=13.8949549437 .....................................\n",
      "[CV] ...... penalty=l2, C=13.8949549437, score=0.682587, total=   0.1s\n",
      "[CV] penalty=l2, C=13.8949549437 .....................................\n",
      "[CV] ...... penalty=l2, C=13.8949549437, score=0.696158, total=   0.1s\n",
      "[CV] penalty=l1, C=61.0540229659 .....................................\n",
      "[CV] ...... penalty=l1, C=61.0540229659, score=0.602005, total=   0.1s\n",
      "[CV] penalty=l1, C=61.0540229659 .....................................\n",
      "[CV] ...... penalty=l1, C=61.0540229659, score=0.669694, total=   0.1s\n",
      "[CV] penalty=l1, C=61.0540229659 .....................................\n",
      "[CV] ...... penalty=l1, C=61.0540229659, score=0.649349, total=   0.1s\n",
      "[CV] penalty=l1, C=61.0540229659 .....................................\n",
      "[CV] ...... penalty=l1, C=61.0540229659, score=0.682597, total=   0.1s\n",
      "[CV] penalty=l1, C=61.0540229659 .....................................\n",
      "[CV] ...... penalty=l1, C=61.0540229659, score=0.696174, total=   0.1s\n",
      "[CV] penalty=l2, C=61.0540229659 .....................................\n",
      "[CV] ...... penalty=l2, C=61.0540229659, score=0.602004, total=   0.1s\n",
      "[CV] penalty=l2, C=61.0540229659 .....................................\n",
      "[CV] ...... penalty=l2, C=61.0540229659, score=0.669694, total=   0.1s\n",
      "[CV] penalty=l2, C=61.0540229659 .....................................\n",
      "[CV] ...... penalty=l2, C=61.0540229659, score=0.649346, total=   0.1s\n",
      "[CV] penalty=l2, C=61.0540229659 .....................................\n",
      "[CV] ...... penalty=l2, C=61.0540229659, score=0.682597, total=   0.1s\n",
      "[CV] penalty=l2, C=61.0540229659 .....................................\n",
      "[CV] ...... penalty=l2, C=61.0540229659, score=0.696168, total=   0.1s\n",
      "[CV] penalty=l1, C=268.269579528 .....................................\n",
      "[CV] ...... penalty=l1, C=268.269579528, score=0.602004, total=   0.1s\n",
      "[CV] penalty=l1, C=268.269579528 .....................................\n",
      "[CV] ...... penalty=l1, C=268.269579528, score=0.669694, total=   0.1s\n",
      "[CV] penalty=l1, C=268.269579528 .....................................\n",
      "[CV] ...... penalty=l1, C=268.269579528, score=0.649349, total=   0.1s\n",
      "[CV] penalty=l1, C=268.269579528 .....................................\n",
      "[CV] ...... penalty=l1, C=268.269579528, score=0.682596, total=   0.1s\n",
      "[CV] penalty=l1, C=268.269579528 .....................................\n",
      "[CV] ...... penalty=l1, C=268.269579528, score=0.696171, total=   0.2s\n",
      "[CV] penalty=l2, C=268.269579528 .....................................\n",
      "[CV] ...... penalty=l2, C=268.269579528, score=0.602005, total=   0.1s\n",
      "[CV] penalty=l2, C=268.269579528 .....................................\n",
      "[CV] ...... penalty=l2, C=268.269579528, score=0.669694, total=   0.1s\n",
      "[CV] penalty=l2, C=268.269579528 .....................................\n",
      "[CV] ...... penalty=l2, C=268.269579528, score=0.649350, total=   0.1s\n",
      "[CV] penalty=l2, C=268.269579528 .....................................\n",
      "[CV] ...... penalty=l2, C=268.269579528, score=0.682602, total=   0.2s\n",
      "[CV] penalty=l2, C=268.269579528 .....................................\n",
      "[CV] ...... penalty=l2, C=268.269579528, score=0.696170, total=   0.2s\n",
      "[CV] penalty=l1, C=1178.76863479 .....................................\n",
      "[CV] ...... penalty=l1, C=1178.76863479, score=0.602004, total=   0.1s\n",
      "[CV] penalty=l1, C=1178.76863479 .....................................\n",
      "[CV] ...... penalty=l1, C=1178.76863479, score=0.669693, total=   0.1s\n",
      "[CV] penalty=l1, C=1178.76863479 .....................................\n",
      "[CV] ...... penalty=l1, C=1178.76863479, score=0.649346, total=   0.1s\n",
      "[CV] penalty=l1, C=1178.76863479 .....................................\n",
      "[CV] ...... penalty=l1, C=1178.76863479, score=0.682596, total=   0.1s\n",
      "[CV] penalty=l1, C=1178.76863479 .....................................\n",
      "[CV] ...... penalty=l1, C=1178.76863479, score=0.696171, total=   0.1s\n",
      "[CV] penalty=l2, C=1178.76863479 .....................................\n",
      "[CV] ...... penalty=l2, C=1178.76863479, score=0.602005, total=   0.1s\n",
      "[CV] penalty=l2, C=1178.76863479 .....................................\n",
      "[CV] ...... penalty=l2, C=1178.76863479, score=0.669693, total=   0.1s\n",
      "[CV] penalty=l2, C=1178.76863479 .....................................\n",
      "[CV] ...... penalty=l2, C=1178.76863479, score=0.649350, total=   0.1s\n",
      "[CV] penalty=l2, C=1178.76863479 .....................................\n",
      "[CV] ...... penalty=l2, C=1178.76863479, score=0.682602, total=   0.1s\n",
      "[CV] penalty=l2, C=1178.76863479 .....................................\n",
      "[CV] ...... penalty=l2, C=1178.76863479, score=0.696170, total=   0.1s\n",
      "[CV] penalty=l1, C=5179.47467923 .....................................\n",
      "[CV] ...... penalty=l1, C=5179.47467923, score=0.602004, total=   0.2s\n",
      "[CV] penalty=l1, C=5179.47467923 .....................................\n",
      "[CV] ...... penalty=l1, C=5179.47467923, score=0.669695, total=   0.2s\n",
      "[CV] penalty=l1, C=5179.47467923 .....................................\n",
      "[CV] ...... penalty=l1, C=5179.47467923, score=0.649350, total=   0.1s\n",
      "[CV] penalty=l1, C=5179.47467923 .....................................\n",
      "[CV] ...... penalty=l1, C=5179.47467923, score=0.682599, total=   0.1s\n",
      "[CV] penalty=l1, C=5179.47467923 .....................................\n",
      "[CV] ...... penalty=l1, C=5179.47467923, score=0.696175, total=   0.2s\n",
      "[CV] penalty=l2, C=5179.47467923 .....................................\n",
      "[CV] ...... penalty=l2, C=5179.47467923, score=0.602005, total=   0.3s\n",
      "[CV] penalty=l2, C=5179.47467923 .....................................\n"
     ]
    },
    {
     "name": "stdout",
     "output_type": "stream",
     "text": [
      "[CV] ...... penalty=l2, C=5179.47467923, score=0.669694, total=   0.1s\n",
      "[CV] penalty=l2, C=5179.47467923 .....................................\n",
      "[CV] ...... penalty=l2, C=5179.47467923, score=0.649350, total=   0.3s\n",
      "[CV] penalty=l2, C=5179.47467923 .....................................\n",
      "[CV] ...... penalty=l2, C=5179.47467923, score=0.682602, total=   0.3s\n",
      "[CV] penalty=l2, C=5179.47467923 .....................................\n",
      "[CV] ...... penalty=l2, C=5179.47467923, score=0.696170, total=   0.1s\n",
      "[CV] penalty=l1, C=22758.4592607 .....................................\n",
      "[CV] ...... penalty=l1, C=22758.4592607, score=0.602005, total=   0.1s\n",
      "[CV] penalty=l1, C=22758.4592607 .....................................\n",
      "[CV] ...... penalty=l1, C=22758.4592607, score=0.669694, total=   0.2s\n",
      "[CV] penalty=l1, C=22758.4592607 .....................................\n",
      "[CV] ...... penalty=l1, C=22758.4592607, score=0.649346, total=   0.2s\n",
      "[CV] penalty=l1, C=22758.4592607 .....................................\n",
      "[CV] ...... penalty=l1, C=22758.4592607, score=0.682597, total=   0.1s\n",
      "[CV] penalty=l1, C=22758.4592607 .....................................\n",
      "[CV] ...... penalty=l1, C=22758.4592607, score=0.696173, total=   0.1s\n",
      "[CV] penalty=l2, C=22758.4592607 .....................................\n",
      "[CV] ...... penalty=l2, C=22758.4592607, score=0.602005, total=   0.3s\n",
      "[CV] penalty=l2, C=22758.4592607 .....................................\n",
      "[CV] ...... penalty=l2, C=22758.4592607, score=0.669694, total=   0.2s\n",
      "[CV] penalty=l2, C=22758.4592607 .....................................\n",
      "[CV] ...... penalty=l2, C=22758.4592607, score=0.649350, total=   0.3s\n",
      "[CV] penalty=l2, C=22758.4592607 .....................................\n",
      "[CV] ...... penalty=l2, C=22758.4592607, score=0.682602, total=   0.3s\n",
      "[CV] penalty=l2, C=22758.4592607 .....................................\n",
      "[CV] ...... penalty=l2, C=22758.4592607, score=0.696170, total=   0.2s\n",
      "[CV] penalty=l1, C=100000.0 ..........................................\n",
      "[CV] ........... penalty=l1, C=100000.0, score=0.602005, total=   0.1s\n",
      "[CV] penalty=l1, C=100000.0 ..........................................\n",
      "[CV] ........... penalty=l1, C=100000.0, score=0.669693, total=   0.2s\n",
      "[CV] penalty=l1, C=100000.0 ..........................................\n",
      "[CV] ........... penalty=l1, C=100000.0, score=0.649350, total=   0.2s\n",
      "[CV] penalty=l1, C=100000.0 ..........................................\n",
      "[CV] ........... penalty=l1, C=100000.0, score=0.682595, total=   0.2s\n",
      "[CV] penalty=l1, C=100000.0 ..........................................\n",
      "[CV] ........... penalty=l1, C=100000.0, score=0.696173, total=   0.1s\n",
      "[CV] penalty=l2, C=100000.0 ..........................................\n",
      "[CV] ........... penalty=l2, C=100000.0, score=0.602005, total=   0.1s\n",
      "[CV] penalty=l2, C=100000.0 ..........................................\n",
      "[CV] ........... penalty=l2, C=100000.0, score=0.669694, total=   0.1s\n",
      "[CV] penalty=l2, C=100000.0 ..........................................\n",
      "[CV] ........... penalty=l2, C=100000.0, score=0.649350, total=   0.1s\n",
      "[CV] penalty=l2, C=100000.0 ..........................................\n",
      "[CV] ........... penalty=l2, C=100000.0, score=0.682602, total=   0.1s\n",
      "[CV] penalty=l2, C=100000.0 ..........................................\n",
      "[CV] ........... penalty=l2, C=100000.0, score=0.696171, total=   0.1s\n"
     ]
    },
    {
     "name": "stderr",
     "output_type": "stream",
     "text": [
      "[Parallel(n_jobs=1)]: Done 150 out of 150 | elapsed:   39.0s finished\n"
     ]
    },
    {
     "name": "stdout",
     "output_type": "stream",
     "text": [
      "Fitting 5 folds for each of 30 candidates, totalling 150 fits\n",
      "[CV] penalty=l1, C=0.0001 ............................................\n",
      "[CV] ............. penalty=l1, C=0.0001, score=0.500000, total=   0.1s\n",
      "[CV] penalty=l1, C=0.0001 ............................................\n",
      "[CV] ............. penalty=l1, C=0.0001, score=0.500000, total=   0.0s\n",
      "[CV] penalty=l1, C=0.0001 ............................................\n"
     ]
    },
    {
     "name": "stderr",
     "output_type": "stream",
     "text": [
      "[Parallel(n_jobs=1)]: Done   1 out of   1 | elapsed:    0.1s remaining:    0.0s\n",
      "[Parallel(n_jobs=1)]: Done   2 out of   2 | elapsed:    0.3s remaining:    0.0s\n"
     ]
    },
    {
     "name": "stdout",
     "output_type": "stream",
     "text": [
      "[CV] ............. penalty=l1, C=0.0001, score=0.500000, total=   0.1s\n",
      "[CV] penalty=l1, C=0.0001 ............................................\n",
      "[CV] ............. penalty=l1, C=0.0001, score=0.500000, total=   0.0s\n",
      "[CV] penalty=l1, C=0.0001 ............................................\n"
     ]
    },
    {
     "name": "stderr",
     "output_type": "stream",
     "text": [
      "[Parallel(n_jobs=1)]: Done   3 out of   3 | elapsed:    0.5s remaining:    0.0s\n",
      "[Parallel(n_jobs=1)]: Done   4 out of   4 | elapsed:    0.6s remaining:    0.0s\n"
     ]
    },
    {
     "name": "stdout",
     "output_type": "stream",
     "text": [
      "[CV] ............. penalty=l1, C=0.0001, score=0.500000, total=   0.1s\n",
      "[CV] penalty=l2, C=0.0001 ............................................\n"
     ]
    },
    {
     "name": "stderr",
     "output_type": "stream",
     "text": [
      "[Parallel(n_jobs=1)]: Done   5 out of   5 | elapsed:    0.8s remaining:    0.0s\n"
     ]
    },
    {
     "name": "stdout",
     "output_type": "stream",
     "text": [
      "[CV] ............. penalty=l2, C=0.0001, score=0.598318, total=   0.1s\n",
      "[CV] penalty=l2, C=0.0001 ............................................\n"
     ]
    },
    {
     "name": "stderr",
     "output_type": "stream",
     "text": [
      "[Parallel(n_jobs=1)]: Done   6 out of   6 | elapsed:    1.0s remaining:    0.0s\n"
     ]
    },
    {
     "name": "stdout",
     "output_type": "stream",
     "text": [
      "[CV] ............. penalty=l2, C=0.0001, score=0.661014, total=   0.1s\n",
      "[CV] penalty=l2, C=0.0001 ............................................\n"
     ]
    },
    {
     "name": "stderr",
     "output_type": "stream",
     "text": [
      "[Parallel(n_jobs=1)]: Done   7 out of   7 | elapsed:    1.2s remaining:    0.0s\n"
     ]
    },
    {
     "name": "stdout",
     "output_type": "stream",
     "text": [
      "[CV] ............. penalty=l2, C=0.0001, score=0.587363, total=   0.1s\n",
      "[CV] penalty=l2, C=0.0001 ............................................\n"
     ]
    },
    {
     "name": "stderr",
     "output_type": "stream",
     "text": [
      "[Parallel(n_jobs=1)]: Done   8 out of   8 | elapsed:    1.5s remaining:    0.0s\n"
     ]
    },
    {
     "name": "stdout",
     "output_type": "stream",
     "text": [
      "[CV] ............. penalty=l2, C=0.0001, score=0.624709, total=   0.1s\n",
      "[CV] penalty=l2, C=0.0001 ............................................\n"
     ]
    },
    {
     "name": "stderr",
     "output_type": "stream",
     "text": [
      "[Parallel(n_jobs=1)]: Done   9 out of   9 | elapsed:    1.7s remaining:    0.0s\n"
     ]
    },
    {
     "name": "stdout",
     "output_type": "stream",
     "text": [
      "[CV] ............. penalty=l2, C=0.0001, score=0.686342, total=   0.1s\n",
      "[CV] penalty=l1, C=0.000439397056076 .................................\n",
      "[CV] .. penalty=l1, C=0.000439397056076, score=0.500000, total=   0.1s\n",
      "[CV] penalty=l1, C=0.000439397056076 .................................\n",
      "[CV] .. penalty=l1, C=0.000439397056076, score=0.500000, total=   0.1s\n",
      "[CV] penalty=l1, C=0.000439397056076 .................................\n",
      "[CV] .. penalty=l1, C=0.000439397056076, score=0.500000, total=   0.1s\n",
      "[CV] penalty=l1, C=0.000439397056076 .................................\n",
      "[CV] .. penalty=l1, C=0.000439397056076, score=0.500000, total=   0.1s\n",
      "[CV] penalty=l1, C=0.000439397056076 .................................\n",
      "[CV] .. penalty=l1, C=0.000439397056076, score=0.500000, total=   0.0s\n",
      "[CV] penalty=l2, C=0.000439397056076 .................................\n",
      "[CV] .. penalty=l2, C=0.000439397056076, score=0.604058, total=   0.1s\n",
      "[CV] penalty=l2, C=0.000439397056076 .................................\n",
      "[CV] .. penalty=l2, C=0.000439397056076, score=0.681051, total=   0.1s\n",
      "[CV] penalty=l2, C=0.000439397056076 .................................\n",
      "[CV] .. penalty=l2, C=0.000439397056076, score=0.624794, total=   0.1s\n",
      "[CV] penalty=l2, C=0.000439397056076 .................................\n",
      "[CV] .. penalty=l2, C=0.000439397056076, score=0.662345, total=   0.1s\n",
      "[CV] penalty=l2, C=0.000439397056076 .................................\n",
      "[CV] .. penalty=l2, C=0.000439397056076, score=0.705984, total=   0.1s\n",
      "[CV] penalty=l1, C=0.00193069772888 ..................................\n",
      "[CV] ... penalty=l1, C=0.00193069772888, score=0.621473, total=   0.1s\n",
      "[CV] penalty=l1, C=0.00193069772888 ..................................\n",
      "[CV] ... penalty=l1, C=0.00193069772888, score=0.679490, total=   0.1s\n",
      "[CV] penalty=l1, C=0.00193069772888 ..................................\n",
      "[CV] ... penalty=l1, C=0.00193069772888, score=0.648249, total=   0.1s\n",
      "[CV] penalty=l1, C=0.00193069772888 ..................................\n",
      "[CV] ... penalty=l1, C=0.00193069772888, score=0.688255, total=   0.1s\n",
      "[CV] penalty=l1, C=0.00193069772888 ..................................\n",
      "[CV] ... penalty=l1, C=0.00193069772888, score=0.698073, total=   0.1s\n",
      "[CV] penalty=l2, C=0.00193069772888 ..................................\n",
      "[CV] ... penalty=l2, C=0.00193069772888, score=0.609268, total=   0.1s\n",
      "[CV] penalty=l2, C=0.00193069772888 ..................................\n",
      "[CV] ... penalty=l2, C=0.00193069772888, score=0.688508, total=   0.1s\n",
      "[CV] penalty=l2, C=0.00193069772888 ..................................\n",
      "[CV] ... penalty=l2, C=0.00193069772888, score=0.652344, total=   0.1s\n",
      "[CV] penalty=l2, C=0.00193069772888 ..................................\n",
      "[CV] ... penalty=l2, C=0.00193069772888, score=0.682349, total=   0.1s\n",
      "[CV] penalty=l2, C=0.00193069772888 ..................................\n",
      "[CV] ... penalty=l2, C=0.00193069772888, score=0.702488, total=   0.1s\n",
      "[CV] penalty=l1, C=0.00848342898244 ..................................\n",
      "[CV] ... penalty=l1, C=0.00848342898244, score=0.621504, total=   0.1s\n",
      "[CV] penalty=l1, C=0.00848342898244 ..................................\n",
      "[CV] ... penalty=l1, C=0.00848342898244, score=0.691156, total=   0.1s\n",
      "[CV] penalty=l1, C=0.00848342898244 ..................................\n",
      "[CV] ... penalty=l1, C=0.00848342898244, score=0.678517, total=   0.1s\n",
      "[CV] penalty=l1, C=0.00848342898244 ..................................\n",
      "[CV] ... penalty=l1, C=0.00848342898244, score=0.703374, total=   0.1s\n",
      "[CV] penalty=l1, C=0.00848342898244 ..................................\n",
      "[CV] ... penalty=l1, C=0.00848342898244, score=0.703231, total=   0.1s\n",
      "[CV] penalty=l2, C=0.00848342898244 ..................................\n",
      "[CV] ... penalty=l2, C=0.00848342898244, score=0.617002, total=   0.1s\n",
      "[CV] penalty=l2, C=0.00848342898244 ..................................\n",
      "[CV] ... penalty=l2, C=0.00848342898244, score=0.692143, total=   0.1s\n",
      "[CV] penalty=l2, C=0.00848342898244 ..................................\n",
      "[CV] ... penalty=l2, C=0.00848342898244, score=0.669108, total=   0.2s\n",
      "[CV] penalty=l2, C=0.00848342898244 ..................................\n",
      "[CV] ... penalty=l2, C=0.00848342898244, score=0.696745, total=   0.1s\n",
      "[CV] penalty=l2, C=0.00848342898244 ..................................\n",
      "[CV] ... penalty=l2, C=0.00848342898244, score=0.702251, total=   0.1s\n",
      "[CV] penalty=l1, C=0.0372759372031 ...................................\n",
      "[CV] .... penalty=l1, C=0.0372759372031, score=0.621421, total=   0.1s\n",
      "[CV] penalty=l1, C=0.0372759372031 ...................................\n",
      "[CV] .... penalty=l1, C=0.0372759372031, score=0.691089, total=   0.1s\n",
      "[CV] penalty=l1, C=0.0372759372031 ...................................\n",
      "[CV] .... penalty=l1, C=0.0372759372031, score=0.679462, total=   0.1s\n",
      "[CV] penalty=l1, C=0.0372759372031 ...................................\n",
      "[CV] .... penalty=l1, C=0.0372759372031, score=0.703656, total=   0.1s\n",
      "[CV] penalty=l1, C=0.0372759372031 ...................................\n",
      "[CV] .... penalty=l1, C=0.0372759372031, score=0.701958, total=   0.1s\n",
      "[CV] penalty=l2, C=0.0372759372031 ...................................\n",
      "[CV] .... penalty=l2, C=0.0372759372031, score=0.619827, total=   0.1s\n",
      "[CV] penalty=l2, C=0.0372759372031 ...................................\n",
      "[CV] .... penalty=l2, C=0.0372759372031, score=0.692615, total=   0.1s\n",
      "[CV] penalty=l2, C=0.0372759372031 ...................................\n",
      "[CV] .... penalty=l2, C=0.0372759372031, score=0.677548, total=   0.1s\n",
      "[CV] penalty=l2, C=0.0372759372031 ...................................\n",
      "[CV] .... penalty=l2, C=0.0372759372031, score=0.702107, total=   0.1s\n",
      "[CV] penalty=l2, C=0.0372759372031 ...................................\n",
      "[CV] .... penalty=l2, C=0.0372759372031, score=0.702342, total=   0.1s\n",
      "[CV] penalty=l1, C=0.163789370695 ....................................\n",
      "[CV] ..... penalty=l1, C=0.163789370695, score=0.621406, total=   0.1s\n",
      "[CV] penalty=l1, C=0.163789370695 ....................................\n",
      "[CV] ..... penalty=l1, C=0.163789370695, score=0.691046, total=   0.1s\n",
      "[CV] penalty=l1, C=0.163789370695 ....................................\n",
      "[CV] ..... penalty=l1, C=0.163789370695, score=0.679693, total=   0.1s\n",
      "[CV] penalty=l1, C=0.163789370695 ....................................\n",
      "[CV] ..... penalty=l1, C=0.163789370695, score=0.703722, total=   0.1s\n",
      "[CV] penalty=l1, C=0.163789370695 ....................................\n",
      "[CV] ..... penalty=l1, C=0.163789370695, score=0.702120, total=   0.1s\n",
      "[CV] penalty=l2, C=0.163789370695 ....................................\n",
      "[CV] ..... penalty=l2, C=0.163789370695, score=0.621009, total=   0.1s\n",
      "[CV] penalty=l2, C=0.163789370695 ....................................\n",
      "[CV] ..... penalty=l2, C=0.163789370695, score=0.691688, total=   0.1s\n",
      "[CV] penalty=l2, C=0.163789370695 ....................................\n",
      "[CV] ..... penalty=l2, C=0.163789370695, score=0.679135, total=   0.1s\n",
      "[CV] penalty=l2, C=0.163789370695 ....................................\n",
      "[CV] ..... penalty=l2, C=0.163789370695, score=0.703335, total=   0.1s\n",
      "[CV] penalty=l2, C=0.163789370695 ....................................\n",
      "[CV] ..... penalty=l2, C=0.163789370695, score=0.702281, total=   0.1s\n",
      "[CV] penalty=l1, C=0.719685673001 ....................................\n",
      "[CV] ..... penalty=l1, C=0.719685673001, score=0.621405, total=   0.1s\n",
      "[CV] penalty=l1, C=0.719685673001 ....................................\n",
      "[CV] ..... penalty=l1, C=0.719685673001, score=0.691037, total=   0.1s\n",
      "[CV] penalty=l1, C=0.719685673001 ....................................\n",
      "[CV] ..... penalty=l1, C=0.719685673001, score=0.679756, total=   0.1s\n",
      "[CV] penalty=l1, C=0.719685673001 ....................................\n",
      "[CV] ..... penalty=l1, C=0.719685673001, score=0.703727, total=   0.1s\n",
      "[CV] penalty=l1, C=0.719685673001 ....................................\n",
      "[CV] ..... penalty=l1, C=0.719685673001, score=0.702210, total=   0.1s\n",
      "[CV] penalty=l2, C=0.719685673001 ....................................\n",
      "[CV] ..... penalty=l2, C=0.719685673001, score=0.621322, total=   0.1s\n",
      "[CV] penalty=l2, C=0.719685673001 ....................................\n",
      "[CV] ..... penalty=l2, C=0.719685673001, score=0.691130, total=   0.1s\n",
      "[CV] penalty=l2, C=0.719685673001 ....................................\n"
     ]
    },
    {
     "name": "stdout",
     "output_type": "stream",
     "text": [
      "[CV] ..... penalty=l2, C=0.719685673001, score=0.679609, total=   0.1s\n",
      "[CV] penalty=l2, C=0.719685673001 ....................................\n",
      "[CV] ..... penalty=l2, C=0.719685673001, score=0.703622, total=   0.1s\n",
      "[CV] penalty=l2, C=0.719685673001 ....................................\n",
      "[CV] ..... penalty=l2, C=0.719685673001, score=0.702250, total=   0.1s\n",
      "[CV] penalty=l1, C=3.16227766017 .....................................\n",
      "[CV] ...... penalty=l1, C=3.16227766017, score=0.621401, total=   0.1s\n",
      "[CV] penalty=l1, C=3.16227766017 .....................................\n",
      "[CV] ...... penalty=l1, C=3.16227766017, score=0.691036, total=   0.1s\n",
      "[CV] penalty=l1, C=3.16227766017 .....................................\n",
      "[CV] ...... penalty=l1, C=3.16227766017, score=0.679759, total=   0.1s\n",
      "[CV] penalty=l1, C=3.16227766017 .....................................\n",
      "[CV] ...... penalty=l1, C=3.16227766017, score=0.703727, total=   0.1s\n",
      "[CV] penalty=l1, C=3.16227766017 .....................................\n",
      "[CV] ...... penalty=l1, C=3.16227766017, score=0.702220, total=   0.1s\n",
      "[CV] penalty=l2, C=3.16227766017 .....................................\n",
      "[CV] ...... penalty=l2, C=3.16227766017, score=0.621389, total=   0.1s\n",
      "[CV] penalty=l2, C=3.16227766017 .....................................\n",
      "[CV] ...... penalty=l2, C=3.16227766017, score=0.691056, total=   0.1s\n",
      "[CV] penalty=l2, C=3.16227766017 .....................................\n",
      "[CV] ...... penalty=l2, C=3.16227766017, score=0.679733, total=   0.1s\n",
      "[CV] penalty=l2, C=3.16227766017 .....................................\n",
      "[CV] ...... penalty=l2, C=3.16227766017, score=0.703706, total=   0.1s\n",
      "[CV] penalty=l2, C=3.16227766017 .....................................\n",
      "[CV] ...... penalty=l2, C=3.16227766017, score=0.702234, total=   0.1s\n",
      "[CV] penalty=l1, C=13.8949549437 .....................................\n",
      "[CV] ...... penalty=l1, C=13.8949549437, score=0.621403, total=   0.1s\n",
      "[CV] penalty=l1, C=13.8949549437 .....................................\n",
      "[CV] ...... penalty=l1, C=13.8949549437, score=0.691036, total=   0.1s\n",
      "[CV] penalty=l1, C=13.8949549437 .....................................\n",
      "[CV] ...... penalty=l1, C=13.8949549437, score=0.679766, total=   0.1s\n",
      "[CV] penalty=l1, C=13.8949549437 .....................................\n",
      "[CV] ...... penalty=l1, C=13.8949549437, score=0.703728, total=   0.1s\n",
      "[CV] penalty=l1, C=13.8949549437 .....................................\n",
      "[CV] ...... penalty=l1, C=13.8949549437, score=0.702226, total=   0.1s\n",
      "[CV] penalty=l2, C=13.8949549437 .....................................\n",
      "[CV] ...... penalty=l2, C=13.8949549437, score=0.621399, total=   0.1s\n",
      "[CV] penalty=l2, C=13.8949549437 .....................................\n",
      "[CV] ...... penalty=l2, C=13.8949549437, score=0.691040, total=   0.1s\n",
      "[CV] penalty=l2, C=13.8949549437 .....................................\n",
      "[CV] ...... penalty=l2, C=13.8949549437, score=0.679759, total=   0.2s\n",
      "[CV] penalty=l2, C=13.8949549437 .....................................\n",
      "[CV] ...... penalty=l2, C=13.8949549437, score=0.703727, total=   0.1s\n",
      "[CV] penalty=l2, C=13.8949549437 .....................................\n",
      "[CV] ...... penalty=l2, C=13.8949549437, score=0.702229, total=   0.1s\n",
      "[CV] penalty=l1, C=61.0540229659 .....................................\n",
      "[CV] ...... penalty=l1, C=61.0540229659, score=0.621403, total=   0.1s\n",
      "[CV] penalty=l1, C=61.0540229659 .....................................\n",
      "[CV] ...... penalty=l1, C=61.0540229659, score=0.691035, total=   0.2s\n",
      "[CV] penalty=l1, C=61.0540229659 .....................................\n",
      "[CV] ...... penalty=l1, C=61.0540229659, score=0.679766, total=   0.2s\n",
      "[CV] penalty=l1, C=61.0540229659 .....................................\n",
      "[CV] ...... penalty=l1, C=61.0540229659, score=0.703727, total=   0.1s\n",
      "[CV] penalty=l1, C=61.0540229659 .....................................\n",
      "[CV] ...... penalty=l1, C=61.0540229659, score=0.702228, total=   0.2s\n",
      "[CV] penalty=l2, C=61.0540229659 .....................................\n",
      "[CV] ...... penalty=l2, C=61.0540229659, score=0.621402, total=   0.1s\n",
      "[CV] penalty=l2, C=61.0540229659 .....................................\n",
      "[CV] ...... penalty=l2, C=61.0540229659, score=0.691035, total=   0.1s\n",
      "[CV] penalty=l2, C=61.0540229659 .....................................\n",
      "[CV] ...... penalty=l2, C=61.0540229659, score=0.679765, total=   0.1s\n",
      "[CV] penalty=l2, C=61.0540229659 .....................................\n",
      "[CV] ...... penalty=l2, C=61.0540229659, score=0.703727, total=   0.1s\n",
      "[CV] penalty=l2, C=61.0540229659 .....................................\n",
      "[CV] ...... penalty=l2, C=61.0540229659, score=0.702228, total=   0.1s\n",
      "[CV] penalty=l1, C=268.269579528 .....................................\n",
      "[CV] ...... penalty=l1, C=268.269579528, score=0.621402, total=   0.2s\n",
      "[CV] penalty=l1, C=268.269579528 .....................................\n",
      "[CV] ...... penalty=l1, C=268.269579528, score=0.691037, total=   0.1s\n",
      "[CV] penalty=l1, C=268.269579528 .....................................\n",
      "[CV] ...... penalty=l1, C=268.269579528, score=0.679762, total=   0.2s\n",
      "[CV] penalty=l1, C=268.269579528 .....................................\n",
      "[CV] ...... penalty=l1, C=268.269579528, score=0.703728, total=   0.1s\n",
      "[CV] penalty=l1, C=268.269579528 .....................................\n",
      "[CV] ...... penalty=l1, C=268.269579528, score=0.702228, total=   0.3s\n",
      "[CV] penalty=l2, C=268.269579528 .....................................\n",
      "[CV] ...... penalty=l2, C=268.269579528, score=0.621403, total=   0.2s\n",
      "[CV] penalty=l2, C=268.269579528 .....................................\n",
      "[CV] ...... penalty=l2, C=268.269579528, score=0.691036, total=   0.3s\n",
      "[CV] penalty=l2, C=268.269579528 .....................................\n",
      "[CV] ...... penalty=l2, C=268.269579528, score=0.679766, total=   0.3s\n",
      "[CV] penalty=l2, C=268.269579528 .....................................\n",
      "[CV] ...... penalty=l2, C=268.269579528, score=0.703727, total=   0.3s\n",
      "[CV] penalty=l2, C=268.269579528 .....................................\n",
      "[CV] ...... penalty=l2, C=268.269579528, score=0.702228, total=   0.2s\n",
      "[CV] penalty=l1, C=1178.76863479 .....................................\n",
      "[CV] ...... penalty=l1, C=1178.76863479, score=0.621401, total=   0.2s\n",
      "[CV] penalty=l1, C=1178.76863479 .....................................\n",
      "[CV] ...... penalty=l1, C=1178.76863479, score=0.691036, total=   0.1s\n",
      "[CV] penalty=l1, C=1178.76863479 .....................................\n",
      "[CV] ...... penalty=l1, C=1178.76863479, score=0.679766, total=   0.2s\n",
      "[CV] penalty=l1, C=1178.76863479 .....................................\n",
      "[CV] ...... penalty=l1, C=1178.76863479, score=0.703728, total=   0.2s\n",
      "[CV] penalty=l1, C=1178.76863479 .....................................\n",
      "[CV] ...... penalty=l1, C=1178.76863479, score=0.702226, total=   0.1s\n",
      "[CV] penalty=l2, C=1178.76863479 .....................................\n",
      "[CV] ...... penalty=l2, C=1178.76863479, score=0.621403, total=   0.2s\n",
      "[CV] penalty=l2, C=1178.76863479 .....................................\n",
      "[CV] ...... penalty=l2, C=1178.76863479, score=0.691035, total=   0.3s\n",
      "[CV] penalty=l2, C=1178.76863479 .....................................\n",
      "[CV] ...... penalty=l2, C=1178.76863479, score=0.679766, total=   0.3s\n",
      "[CV] penalty=l2, C=1178.76863479 .....................................\n",
      "[CV] ...... penalty=l2, C=1178.76863479, score=0.703727, total=   0.2s\n",
      "[CV] penalty=l2, C=1178.76863479 .....................................\n",
      "[CV] ...... penalty=l2, C=1178.76863479, score=0.702228, total=   0.2s\n",
      "[CV] penalty=l1, C=5179.47467923 .....................................\n",
      "[CV] ...... penalty=l1, C=5179.47467923, score=0.621404, total=   0.2s\n",
      "[CV] penalty=l1, C=5179.47467923 .....................................\n",
      "[CV] ...... penalty=l1, C=5179.47467923, score=0.691035, total=   0.1s\n",
      "[CV] penalty=l1, C=5179.47467923 .....................................\n",
      "[CV] ...... penalty=l1, C=5179.47467923, score=0.679765, total=   0.1s\n",
      "[CV] penalty=l1, C=5179.47467923 .....................................\n",
      "[CV] ...... penalty=l1, C=5179.47467923, score=0.703728, total=   0.1s\n",
      "[CV] penalty=l1, C=5179.47467923 .....................................\n",
      "[CV] ...... penalty=l1, C=5179.47467923, score=0.702223, total=   0.1s\n",
      "[CV] penalty=l2, C=5179.47467923 .....................................\n"
     ]
    },
    {
     "name": "stdout",
     "output_type": "stream",
     "text": [
      "[CV] ...... penalty=l2, C=5179.47467923, score=0.621403, total=   0.1s\n",
      "[CV] penalty=l2, C=5179.47467923 .....................................\n",
      "[CV] ...... penalty=l2, C=5179.47467923, score=0.691035, total=   0.1s\n",
      "[CV] penalty=l2, C=5179.47467923 .....................................\n",
      "[CV] ...... penalty=l2, C=5179.47467923, score=0.679766, total=   0.1s\n",
      "[CV] penalty=l2, C=5179.47467923 .....................................\n",
      "[CV] ...... penalty=l2, C=5179.47467923, score=0.703727, total=   0.1s\n",
      "[CV] penalty=l2, C=5179.47467923 .....................................\n",
      "[CV] ...... penalty=l2, C=5179.47467923, score=0.702228, total=   0.1s\n",
      "[CV] penalty=l1, C=22758.4592607 .....................................\n",
      "[CV] ...... penalty=l1, C=22758.4592607, score=0.621400, total=   0.1s\n",
      "[CV] penalty=l1, C=22758.4592607 .....................................\n",
      "[CV] ...... penalty=l1, C=22758.4592607, score=0.691036, total=   0.1s\n",
      "[CV] penalty=l1, C=22758.4592607 .....................................\n",
      "[CV] ...... penalty=l1, C=22758.4592607, score=0.679766, total=   0.1s\n",
      "[CV] penalty=l1, C=22758.4592607 .....................................\n",
      "[CV] ...... penalty=l1, C=22758.4592607, score=0.703729, total=   0.2s\n",
      "[CV] penalty=l1, C=22758.4592607 .....................................\n",
      "[CV] ...... penalty=l1, C=22758.4592607, score=0.702228, total=   0.1s\n",
      "[CV] penalty=l2, C=22758.4592607 .....................................\n",
      "[CV] ...... penalty=l2, C=22758.4592607, score=0.621403, total=   0.1s\n",
      "[CV] penalty=l2, C=22758.4592607 .....................................\n",
      "[CV] ...... penalty=l2, C=22758.4592607, score=0.691035, total=   0.1s\n",
      "[CV] penalty=l2, C=22758.4592607 .....................................\n",
      "[CV] ...... penalty=l2, C=22758.4592607, score=0.679766, total=   0.1s\n",
      "[CV] penalty=l2, C=22758.4592607 .....................................\n",
      "[CV] ...... penalty=l2, C=22758.4592607, score=0.703727, total=   0.1s\n",
      "[CV] penalty=l2, C=22758.4592607 .....................................\n",
      "[CV] ...... penalty=l2, C=22758.4592607, score=0.702228, total=   0.1s\n",
      "[CV] penalty=l1, C=100000.0 ..........................................\n",
      "[CV] ........... penalty=l1, C=100000.0, score=0.621404, total=   0.2s\n",
      "[CV] penalty=l1, C=100000.0 ..........................................\n",
      "[CV] ........... penalty=l1, C=100000.0, score=0.691035, total=   0.1s\n",
      "[CV] penalty=l1, C=100000.0 ..........................................\n",
      "[CV] ........... penalty=l1, C=100000.0, score=0.679765, total=   0.1s\n",
      "[CV] penalty=l1, C=100000.0 ..........................................\n",
      "[CV] ........... penalty=l1, C=100000.0, score=0.703728, total=   0.1s\n",
      "[CV] penalty=l1, C=100000.0 ..........................................\n",
      "[CV] ........... penalty=l1, C=100000.0, score=0.702229, total=   0.1s\n",
      "[CV] penalty=l2, C=100000.0 ..........................................\n",
      "[CV] ........... penalty=l2, C=100000.0, score=0.621403, total=   0.2s\n",
      "[CV] penalty=l2, C=100000.0 ..........................................\n",
      "[CV] ........... penalty=l2, C=100000.0, score=0.691035, total=   0.2s\n",
      "[CV] penalty=l2, C=100000.0 ..........................................\n",
      "[CV] ........... penalty=l2, C=100000.0, score=0.679766, total=   0.2s\n",
      "[CV] penalty=l2, C=100000.0 ..........................................\n",
      "[CV] ........... penalty=l2, C=100000.0, score=0.703727, total=   0.2s\n",
      "[CV] penalty=l2, C=100000.0 ..........................................\n",
      "[CV] ........... penalty=l2, C=100000.0, score=0.702228, total=   0.3s\n"
     ]
    },
    {
     "name": "stderr",
     "output_type": "stream",
     "text": [
      "[Parallel(n_jobs=1)]: Done 150 out of 150 | elapsed:   41.7s finished\n"
     ]
    },
    {
     "name": "stdout",
     "output_type": "stream",
     "text": [
      "Fitting 5 folds for each of 30 candidates, totalling 150 fits\n",
      "[CV] penalty=l1, C=0.0001 ............................................\n",
      "[CV] ............. penalty=l1, C=0.0001, score=0.500000, total=   0.0s\n",
      "[CV] penalty=l1, C=0.0001 ............................................\n"
     ]
    },
    {
     "name": "stderr",
     "output_type": "stream",
     "text": [
      "[Parallel(n_jobs=1)]: Done   1 out of   1 | elapsed:    0.1s remaining:    0.0s\n",
      "[Parallel(n_jobs=1)]: Done   2 out of   2 | elapsed:    0.2s remaining:    0.0s\n"
     ]
    },
    {
     "name": "stdout",
     "output_type": "stream",
     "text": [
      "[CV] ............. penalty=l1, C=0.0001, score=0.500000, total=   0.1s\n",
      "[CV] penalty=l1, C=0.0001 ............................................\n",
      "[CV] ............. penalty=l1, C=0.0001, score=0.500000, total=   0.1s\n",
      "[CV] penalty=l1, C=0.0001 ............................................\n"
     ]
    },
    {
     "name": "stderr",
     "output_type": "stream",
     "text": [
      "[Parallel(n_jobs=1)]: Done   3 out of   3 | elapsed:    0.4s remaining:    0.0s\n",
      "[Parallel(n_jobs=1)]: Done   4 out of   4 | elapsed:    0.6s remaining:    0.0s\n"
     ]
    },
    {
     "name": "stdout",
     "output_type": "stream",
     "text": [
      "[CV] ............. penalty=l1, C=0.0001, score=0.500000, total=   0.0s\n",
      "[CV] penalty=l1, C=0.0001 ............................................\n",
      "[CV] ............. penalty=l1, C=0.0001, score=0.500000, total=   0.0s\n",
      "[CV] penalty=l2, C=0.0001 ............................................\n"
     ]
    },
    {
     "name": "stderr",
     "output_type": "stream",
     "text": [
      "[Parallel(n_jobs=1)]: Done   5 out of   5 | elapsed:    0.8s remaining:    0.0s\n"
     ]
    },
    {
     "name": "stdout",
     "output_type": "stream",
     "text": [
      "[CV] ............. penalty=l2, C=0.0001, score=0.600121, total=   0.1s\n",
      "[CV] penalty=l2, C=0.0001 ............................................\n",
      "[CV] ............. penalty=l2, C=0.0001, score=0.660271, total=   0.1s"
     ]
    },
    {
     "name": "stderr",
     "output_type": "stream",
     "text": [
      "[Parallel(n_jobs=1)]: Done   6 out of   6 | elapsed:    1.0s remaining:    0.0s\n"
     ]
    },
    {
     "name": "stdout",
     "output_type": "stream",
     "text": [
      "\n",
      "[CV] penalty=l2, C=0.0001 ............................................\n"
     ]
    },
    {
     "name": "stderr",
     "output_type": "stream",
     "text": [
      "[Parallel(n_jobs=1)]: Done   7 out of   7 | elapsed:    1.2s remaining:    0.0s\n"
     ]
    },
    {
     "name": "stdout",
     "output_type": "stream",
     "text": [
      "[CV] ............. penalty=l2, C=0.0001, score=0.583835, total=   0.1s\n",
      "[CV] penalty=l2, C=0.0001 ............................................\n",
      "[CV] ............. penalty=l2, C=0.0001, score=0.617438, total=   0.1s\n",
      "[CV] penalty=l2, C=0.0001 ............................................\n"
     ]
    },
    {
     "name": "stderr",
     "output_type": "stream",
     "text": [
      "[Parallel(n_jobs=1)]: Done   8 out of   8 | elapsed:    1.4s remaining:    0.0s\n",
      "[Parallel(n_jobs=1)]: Done   9 out of   9 | elapsed:    1.6s remaining:    0.0s\n"
     ]
    },
    {
     "name": "stdout",
     "output_type": "stream",
     "text": [
      "[CV] ............. penalty=l2, C=0.0001, score=0.677845, total=   0.1s\n",
      "[CV] penalty=l1, C=0.000439397056076 .................................\n",
      "[CV] .. penalty=l1, C=0.000439397056076, score=0.500000, total=   0.1s\n",
      "[CV] penalty=l1, C=0.000439397056076 .................................\n",
      "[CV] .. penalty=l1, C=0.000439397056076, score=0.500000, total=   0.1s\n",
      "[CV] penalty=l1, C=0.000439397056076 .................................\n",
      "[CV] .. penalty=l1, C=0.000439397056076, score=0.500000, total=   0.1s\n",
      "[CV] penalty=l1, C=0.000439397056076 .................................\n",
      "[CV] .. penalty=l1, C=0.000439397056076, score=0.500000, total=   0.1s\n",
      "[CV] penalty=l1, C=0.000439397056076 .................................\n",
      "[CV] .. penalty=l1, C=0.000439397056076, score=0.500000, total=   0.1s\n",
      "[CV] penalty=l2, C=0.000439397056076 .................................\n",
      "[CV] .. penalty=l2, C=0.000439397056076, score=0.606638, total=   0.1s\n",
      "[CV] penalty=l2, C=0.000439397056076 .................................\n",
      "[CV] .. penalty=l2, C=0.000439397056076, score=0.682205, total=   0.1s\n",
      "[CV] penalty=l2, C=0.000439397056076 .................................\n",
      "[CV] .. penalty=l2, C=0.000439397056076, score=0.623575, total=   0.1s\n",
      "[CV] penalty=l2, C=0.000439397056076 .................................\n",
      "[CV] .. penalty=l2, C=0.000439397056076, score=0.659639, total=   0.1s\n",
      "[CV] penalty=l2, C=0.000439397056076 .................................\n",
      "[CV] .. penalty=l2, C=0.000439397056076, score=0.704875, total=   0.1s\n",
      "[CV] penalty=l1, C=0.00193069772888 ..................................\n",
      "[CV] ... penalty=l1, C=0.00193069772888, score=0.626156, total=   0.1s\n",
      "[CV] penalty=l1, C=0.00193069772888 ..................................\n",
      "[CV] ... penalty=l1, C=0.00193069772888, score=0.681030, total=   0.1s\n",
      "[CV] penalty=l1, C=0.00193069772888 ..................................\n",
      "[CV] ... penalty=l1, C=0.00193069772888, score=0.648257, total=   0.1s\n",
      "[CV] penalty=l1, C=0.00193069772888 ..................................\n",
      "[CV] ... penalty=l1, C=0.00193069772888, score=0.684077, total=   0.1s\n",
      "[CV] penalty=l1, C=0.00193069772888 ..................................\n",
      "[CV] ... penalty=l1, C=0.00193069772888, score=0.696920, total=   0.2s\n",
      "[CV] penalty=l2, C=0.00193069772888 ..................................\n",
      "[CV] ... penalty=l2, C=0.00193069772888, score=0.612213, total=   0.1s\n",
      "[CV] penalty=l2, C=0.00193069772888 ..................................\n",
      "[CV] ... penalty=l2, C=0.00193069772888, score=0.689549, total=   0.1s\n",
      "[CV] penalty=l2, C=0.00193069772888 ..................................\n",
      "[CV] ... penalty=l2, C=0.00193069772888, score=0.652239, total=   0.1s\n",
      "[CV] penalty=l2, C=0.00193069772888 ..................................\n",
      "[CV] ... penalty=l2, C=0.00193069772888, score=0.681086, total=   0.1s\n",
      "[CV] penalty=l2, C=0.00193069772888 ..................................\n",
      "[CV] ... penalty=l2, C=0.00193069772888, score=0.700574, total=   0.2s\n",
      "[CV] penalty=l1, C=0.00848342898244 ..................................\n",
      "[CV] ... penalty=l1, C=0.00848342898244, score=0.624613, total=   0.2s\n",
      "[CV] penalty=l1, C=0.00848342898244 ..................................\n",
      "[CV] ... penalty=l1, C=0.00848342898244, score=0.690413, total=   0.1s\n",
      "[CV] penalty=l1, C=0.00848342898244 ..................................\n",
      "[CV] ... penalty=l1, C=0.00848342898244, score=0.677850, total=   0.1s\n",
      "[CV] penalty=l1, C=0.00848342898244 ..................................\n",
      "[CV] ... penalty=l1, C=0.00848342898244, score=0.702831, total=   0.2s\n",
      "[CV] penalty=l1, C=0.00848342898244 ..................................\n",
      "[CV] ... penalty=l1, C=0.00848342898244, score=0.701554, total=   0.2s\n",
      "[CV] penalty=l2, C=0.00848342898244 ..................................\n",
      "[CV] ... penalty=l2, C=0.00848342898244, score=0.619841, total=   0.2s\n",
      "[CV] penalty=l2, C=0.00848342898244 ..................................\n",
      "[CV] ... penalty=l2, C=0.00848342898244, score=0.692494, total=   0.1s\n",
      "[CV] penalty=l2, C=0.00848342898244 ..................................\n",
      "[CV] ... penalty=l2, C=0.00848342898244, score=0.668272, total=   0.2s\n",
      "[CV] penalty=l2, C=0.00848342898244 ..................................\n",
      "[CV] ... penalty=l2, C=0.00848342898244, score=0.695407, total=   0.1s\n",
      "[CV] penalty=l2, C=0.00848342898244 ..................................\n",
      "[CV] ... penalty=l2, C=0.00848342898244, score=0.700086, total=   0.1s\n",
      "[CV] penalty=l1, C=0.0372759372031 ...................................\n",
      "[CV] .... penalty=l1, C=0.0372759372031, score=0.624515, total=   0.1s\n",
      "[CV] penalty=l1, C=0.0372759372031 ...................................\n",
      "[CV] .... penalty=l1, C=0.0372759372031, score=0.690283, total=   0.1s\n",
      "[CV] penalty=l1, C=0.0372759372031 ...................................\n",
      "[CV] .... penalty=l1, C=0.0372759372031, score=0.678989, total=   0.1s\n",
      "[CV] penalty=l1, C=0.0372759372031 ...................................\n",
      "[CV] .... penalty=l1, C=0.0372759372031, score=0.702742, total=   0.1s\n",
      "[CV] penalty=l1, C=0.0372759372031 ...................................\n",
      "[CV] .... penalty=l1, C=0.0372759372031, score=0.701150, total=   0.1s\n",
      "[CV] penalty=l2, C=0.0372759372031 ...................................\n",
      "[CV] .... penalty=l2, C=0.0372759372031, score=0.622802, total=   0.1s\n",
      "[CV] penalty=l2, C=0.0372759372031 ...................................\n",
      "[CV] .... penalty=l2, C=0.0372759372031, score=0.692298, total=   0.1s\n",
      "[CV] penalty=l2, C=0.0372759372031 ...................................\n",
      "[CV] .... penalty=l2, C=0.0372759372031, score=0.677299, total=   0.1s\n",
      "[CV] penalty=l2, C=0.0372759372031 ...................................\n",
      "[CV] .... penalty=l2, C=0.0372759372031, score=0.700820, total=   0.1s\n",
      "[CV] penalty=l2, C=0.0372759372031 ...................................\n",
      "[CV] .... penalty=l2, C=0.0372759372031, score=0.701097, total=   0.1s\n",
      "[CV] penalty=l1, C=0.163789370695 ....................................\n",
      "[CV] ..... penalty=l1, C=0.163789370695, score=0.624499, total=   0.1s\n",
      "[CV] penalty=l1, C=0.163789370695 ....................................\n",
      "[CV] ..... penalty=l1, C=0.163789370695, score=0.690253, total=   0.2s\n",
      "[CV] penalty=l1, C=0.163789370695 ....................................\n",
      "[CV] ..... penalty=l1, C=0.163789370695, score=0.679213, total=   0.2s\n",
      "[CV] penalty=l1, C=0.163789370695 ....................................\n",
      "[CV] ..... penalty=l1, C=0.163789370695, score=0.702796, total=   0.3s\n",
      "[CV] penalty=l1, C=0.163789370695 ....................................\n",
      "[CV] ..... penalty=l1, C=0.163789370695, score=0.701292, total=   0.1s\n",
      "[CV] penalty=l2, C=0.163789370695 ....................................\n",
      "[CV] ..... penalty=l2, C=0.163789370695, score=0.624167, total=   0.1s\n",
      "[CV] penalty=l2, C=0.163789370695 ....................................\n",
      "[CV] ..... penalty=l2, C=0.163789370695, score=0.690958, total=   0.1s\n",
      "[CV] penalty=l2, C=0.163789370695 ....................................\n",
      "[CV] ..... penalty=l2, C=0.163789370695, score=0.678772, total=   0.1s\n",
      "[CV] penalty=l2, C=0.163789370695 ....................................\n",
      "[CV] ..... penalty=l2, C=0.163789370695, score=0.702752, total=   0.1s\n",
      "[CV] penalty=l2, C=0.163789370695 ....................................\n",
      "[CV] ..... penalty=l2, C=0.163789370695, score=0.701245, total=   0.1s\n",
      "[CV] penalty=l1, C=0.719685673001 ....................................\n",
      "[CV] ..... penalty=l1, C=0.719685673001, score=0.624499, total=   0.1s\n",
      "[CV] penalty=l1, C=0.719685673001 ....................................\n",
      "[CV] ..... penalty=l1, C=0.719685673001, score=0.690248, total=   0.3s\n",
      "[CV] penalty=l1, C=0.719685673001 ....................................\n",
      "[CV] ..... penalty=l1, C=0.719685673001, score=0.679243, total=   0.1s\n",
      "[CV] penalty=l1, C=0.719685673001 ....................................\n",
      "[CV] ..... penalty=l1, C=0.719685673001, score=0.702808, total=   0.1s\n",
      "[CV] penalty=l1, C=0.719685673001 ....................................\n",
      "[CV] ..... penalty=l1, C=0.719685673001, score=0.701393, total=   0.1s\n",
      "[CV] penalty=l2, C=0.719685673001 ....................................\n",
      "[CV] ..... penalty=l2, C=0.719685673001, score=0.624411, total=   0.1s\n",
      "[CV] penalty=l2, C=0.719685673001 ....................................\n",
      "[CV] ..... penalty=l2, C=0.719685673001, score=0.690359, total=   0.1s\n",
      "[CV] penalty=l2, C=0.719685673001 ....................................\n"
     ]
    },
    {
     "name": "stdout",
     "output_type": "stream",
     "text": [
      "[CV] ..... penalty=l2, C=0.719685673001, score=0.679147, total=   0.1s\n",
      "[CV] penalty=l2, C=0.719685673001 ....................................\n",
      "[CV] ..... penalty=l2, C=0.719685673001, score=0.702707, total=   0.1s\n",
      "[CV] penalty=l2, C=0.719685673001 ....................................\n",
      "[CV] ..... penalty=l2, C=0.719685673001, score=0.701360, total=   0.1s\n",
      "[CV] penalty=l1, C=3.16227766017 .....................................\n",
      "[CV] ...... penalty=l1, C=3.16227766017, score=0.624498, total=   0.1s\n",
      "[CV] penalty=l1, C=3.16227766017 .....................................\n",
      "[CV] ...... penalty=l1, C=3.16227766017, score=0.690244, total=   0.1s\n",
      "[CV] penalty=l1, C=3.16227766017 .....................................\n",
      "[CV] ...... penalty=l1, C=3.16227766017, score=0.679251, total=   0.1s\n",
      "[CV] penalty=l1, C=3.16227766017 .....................................\n",
      "[CV] ...... penalty=l1, C=3.16227766017, score=0.702809, total=   0.1s\n",
      "[CV] penalty=l1, C=3.16227766017 .....................................\n",
      "[CV] ...... penalty=l1, C=3.16227766017, score=0.701387, total=   0.1s\n",
      "[CV] penalty=l2, C=3.16227766017 .....................................\n",
      "[CV] ...... penalty=l2, C=3.16227766017, score=0.624479, total=   0.1s\n",
      "[CV] penalty=l2, C=3.16227766017 .....................................\n",
      "[CV] ...... penalty=l2, C=3.16227766017, score=0.690266, total=   0.1s\n",
      "[CV] penalty=l2, C=3.16227766017 .....................................\n",
      "[CV] ...... penalty=l2, C=3.16227766017, score=0.679230, total=   0.1s\n",
      "[CV] penalty=l2, C=3.16227766017 .....................................\n",
      "[CV] ...... penalty=l2, C=3.16227766017, score=0.702787, total=   0.2s\n",
      "[CV] penalty=l2, C=3.16227766017 .....................................\n",
      "[CV] ...... penalty=l2, C=3.16227766017, score=0.701381, total=   0.1s\n",
      "[CV] penalty=l1, C=13.8949549437 .....................................\n",
      "[CV] ...... penalty=l1, C=13.8949549437, score=0.624497, total=   0.1s\n",
      "[CV] penalty=l1, C=13.8949549437 .....................................\n",
      "[CV] ...... penalty=l1, C=13.8949549437, score=0.690245, total=   0.1s\n",
      "[CV] penalty=l1, C=13.8949549437 .....................................\n",
      "[CV] ...... penalty=l1, C=13.8949549437, score=0.679253, total=   0.1s\n",
      "[CV] penalty=l1, C=13.8949549437 .....................................\n",
      "[CV] ...... penalty=l1, C=13.8949549437, score=0.702807, total=   0.1s\n",
      "[CV] penalty=l1, C=13.8949549437 .....................................\n",
      "[CV] ...... penalty=l1, C=13.8949549437, score=0.701383, total=   0.1s\n",
      "[CV] penalty=l2, C=13.8949549437 .....................................\n",
      "[CV] ...... penalty=l2, C=13.8949549437, score=0.624496, total=   0.1s\n",
      "[CV] penalty=l2, C=13.8949549437 .....................................\n",
      "[CV] ...... penalty=l2, C=13.8949549437, score=0.690247, total=   0.1s\n",
      "[CV] penalty=l2, C=13.8949549437 .....................................\n",
      "[CV] ...... penalty=l2, C=13.8949549437, score=0.679248, total=   0.1s\n",
      "[CV] penalty=l2, C=13.8949549437 .....................................\n",
      "[CV] ...... penalty=l2, C=13.8949549437, score=0.702804, total=   0.1s\n",
      "[CV] penalty=l2, C=13.8949549437 .....................................\n",
      "[CV] ...... penalty=l2, C=13.8949549437, score=0.701380, total=   0.1s\n",
      "[CV] penalty=l1, C=61.0540229659 .....................................\n",
      "[CV] ...... penalty=l1, C=61.0540229659, score=0.624497, total=   0.2s\n",
      "[CV] penalty=l1, C=61.0540229659 .....................................\n",
      "[CV] ...... penalty=l1, C=61.0540229659, score=0.690244, total=   0.1s\n",
      "[CV] penalty=l1, C=61.0540229659 .....................................\n",
      "[CV] ...... penalty=l1, C=61.0540229659, score=0.679253, total=   0.1s\n",
      "[CV] penalty=l1, C=61.0540229659 .....................................\n",
      "[CV] ...... penalty=l1, C=61.0540229659, score=0.702808, total=   0.1s\n",
      "[CV] penalty=l1, C=61.0540229659 .....................................\n",
      "[CV] ...... penalty=l1, C=61.0540229659, score=0.701379, total=   0.1s\n",
      "[CV] penalty=l2, C=61.0540229659 .....................................\n",
      "[CV] ...... penalty=l2, C=61.0540229659, score=0.624497, total=   0.1s\n",
      "[CV] penalty=l2, C=61.0540229659 .....................................\n",
      "[CV] ...... penalty=l2, C=61.0540229659, score=0.690244, total=   0.1s\n",
      "[CV] penalty=l2, C=61.0540229659 .....................................\n",
      "[CV] ...... penalty=l2, C=61.0540229659, score=0.679253, total=   0.1s\n",
      "[CV] penalty=l2, C=61.0540229659 .....................................\n",
      "[CV] ...... penalty=l2, C=61.0540229659, score=0.702809, total=   0.3s\n",
      "[CV] penalty=l2, C=61.0540229659 .....................................\n",
      "[CV] ...... penalty=l2, C=61.0540229659, score=0.701383, total=   0.1s\n",
      "[CV] penalty=l1, C=268.269579528 .....................................\n",
      "[CV] ...... penalty=l1, C=268.269579528, score=0.624498, total=   0.1s\n",
      "[CV] penalty=l1, C=268.269579528 .....................................\n",
      "[CV] ...... penalty=l1, C=268.269579528, score=0.690244, total=   0.1s\n",
      "[CV] penalty=l1, C=268.269579528 .....................................\n",
      "[CV] ...... penalty=l1, C=268.269579528, score=0.679253, total=   0.1s\n",
      "[CV] penalty=l1, C=268.269579528 .....................................\n",
      "[CV] ...... penalty=l1, C=268.269579528, score=0.702813, total=   0.1s\n",
      "[CV] penalty=l1, C=268.269579528 .....................................\n",
      "[CV] ...... penalty=l1, C=268.269579528, score=0.701381, total=   0.1s\n",
      "[CV] penalty=l2, C=268.269579528 .....................................\n",
      "[CV] ...... penalty=l2, C=268.269579528, score=0.624498, total=   0.1s\n",
      "[CV] penalty=l2, C=268.269579528 .....................................\n",
      "[CV] ...... penalty=l2, C=268.269579528, score=0.690243, total=   0.3s\n",
      "[CV] penalty=l2, C=268.269579528 .....................................\n",
      "[CV] ...... penalty=l2, C=268.269579528, score=0.679253, total=   0.3s\n",
      "[CV] penalty=l2, C=268.269579528 .....................................\n",
      "[CV] ...... penalty=l2, C=268.269579528, score=0.702811, total=   0.2s\n",
      "[CV] penalty=l2, C=268.269579528 .....................................\n",
      "[CV] ...... penalty=l2, C=268.269579528, score=0.701383, total=   0.2s\n",
      "[CV] penalty=l1, C=1178.76863479 .....................................\n",
      "[CV] ...... penalty=l1, C=1178.76863479, score=0.624497, total=   0.3s\n",
      "[CV] penalty=l1, C=1178.76863479 .....................................\n",
      "[CV] ...... penalty=l1, C=1178.76863479, score=0.690244, total=   0.3s\n",
      "[CV] penalty=l1, C=1178.76863479 .....................................\n",
      "[CV] ...... penalty=l1, C=1178.76863479, score=0.679253, total=   0.1s\n",
      "[CV] penalty=l1, C=1178.76863479 .....................................\n",
      "[CV] ...... penalty=l1, C=1178.76863479, score=0.702815, total=   0.1s\n",
      "[CV] penalty=l1, C=1178.76863479 .....................................\n",
      "[CV] ...... penalty=l1, C=1178.76863479, score=0.701380, total=   0.2s\n",
      "[CV] penalty=l2, C=1178.76863479 .....................................\n",
      "[CV] ...... penalty=l2, C=1178.76863479, score=0.624499, total=   0.1s\n",
      "[CV] penalty=l2, C=1178.76863479 .....................................\n",
      "[CV] ...... penalty=l2, C=1178.76863479, score=0.690243, total=   0.1s\n",
      "[CV] penalty=l2, C=1178.76863479 .....................................\n",
      "[CV] ...... penalty=l2, C=1178.76863479, score=0.679253, total=   0.1s\n",
      "[CV] penalty=l2, C=1178.76863479 .....................................\n",
      "[CV] ...... penalty=l2, C=1178.76863479, score=0.702812, total=   0.1s\n",
      "[CV] penalty=l2, C=1178.76863479 .....................................\n",
      "[CV] ...... penalty=l2, C=1178.76863479, score=0.701383, total=   0.2s\n",
      "[CV] penalty=l1, C=5179.47467923 .....................................\n",
      "[CV] ...... penalty=l1, C=5179.47467923, score=0.624497, total=   0.1s\n",
      "[CV] penalty=l1, C=5179.47467923 .....................................\n",
      "[CV] ...... penalty=l1, C=5179.47467923, score=0.690244, total=   0.1s\n",
      "[CV] penalty=l1, C=5179.47467923 .....................................\n",
      "[CV] ...... penalty=l1, C=5179.47467923, score=0.679253, total=   0.1s\n",
      "[CV] penalty=l1, C=5179.47467923 .....................................\n",
      "[CV] ...... penalty=l1, C=5179.47467923, score=0.702811, total=   0.1s\n",
      "[CV] penalty=l1, C=5179.47467923 .....................................\n",
      "[CV] ...... penalty=l1, C=5179.47467923, score=0.701383, total=   0.1s\n",
      "[CV] penalty=l2, C=5179.47467923 .....................................\n"
     ]
    },
    {
     "name": "stdout",
     "output_type": "stream",
     "text": [
      "[CV] ...... penalty=l2, C=5179.47467923, score=0.624499, total=   0.1s\n",
      "[CV] penalty=l2, C=5179.47467923 .....................................\n",
      "[CV] ...... penalty=l2, C=5179.47467923, score=0.690243, total=   0.2s\n",
      "[CV] penalty=l2, C=5179.47467923 .....................................\n",
      "[CV] ...... penalty=l2, C=5179.47467923, score=0.679253, total=   0.1s\n",
      "[CV] penalty=l2, C=5179.47467923 .....................................\n",
      "[CV] ...... penalty=l2, C=5179.47467923, score=0.702812, total=   0.1s\n",
      "[CV] penalty=l2, C=5179.47467923 .....................................\n",
      "[CV] ...... penalty=l2, C=5179.47467923, score=0.701383, total=   0.1s\n",
      "[CV] penalty=l1, C=22758.4592607 .....................................\n",
      "[CV] ...... penalty=l1, C=22758.4592607, score=0.624497, total=   0.1s\n",
      "[CV] penalty=l1, C=22758.4592607 .....................................\n",
      "[CV] ...... penalty=l1, C=22758.4592607, score=0.690245, total=   0.1s\n",
      "[CV] penalty=l1, C=22758.4592607 .....................................\n",
      "[CV] ...... penalty=l1, C=22758.4592607, score=0.679253, total=   0.1s\n",
      "[CV] penalty=l1, C=22758.4592607 .....................................\n",
      "[CV] ...... penalty=l1, C=22758.4592607, score=0.702809, total=   0.1s\n",
      "[CV] penalty=l1, C=22758.4592607 .....................................\n",
      "[CV] ...... penalty=l1, C=22758.4592607, score=0.701383, total=   0.1s\n",
      "[CV] penalty=l2, C=22758.4592607 .....................................\n",
      "[CV] ...... penalty=l2, C=22758.4592607, score=0.624499, total=   0.1s\n",
      "[CV] penalty=l2, C=22758.4592607 .....................................\n",
      "[CV] ...... penalty=l2, C=22758.4592607, score=0.690243, total=   0.2s\n",
      "[CV] penalty=l2, C=22758.4592607 .....................................\n",
      "[CV] ...... penalty=l2, C=22758.4592607, score=0.679253, total=   0.1s\n",
      "[CV] penalty=l2, C=22758.4592607 .....................................\n",
      "[CV] ...... penalty=l2, C=22758.4592607, score=0.702812, total=   0.2s\n",
      "[CV] penalty=l2, C=22758.4592607 .....................................\n",
      "[CV] ...... penalty=l2, C=22758.4592607, score=0.701383, total=   0.1s\n",
      "[CV] penalty=l1, C=100000.0 ..........................................\n",
      "[CV] ........... penalty=l1, C=100000.0, score=0.624497, total=   0.1s\n",
      "[CV] penalty=l1, C=100000.0 ..........................................\n",
      "[CV] ........... penalty=l1, C=100000.0, score=0.690245, total=   0.1s\n",
      "[CV] penalty=l1, C=100000.0 ..........................................\n",
      "[CV] ........... penalty=l1, C=100000.0, score=0.679253, total=   0.2s\n",
      "[CV] penalty=l1, C=100000.0 ..........................................\n",
      "[CV] ........... penalty=l1, C=100000.0, score=0.702812, total=   0.1s\n",
      "[CV] penalty=l1, C=100000.0 ..........................................\n",
      "[CV] ........... penalty=l1, C=100000.0, score=0.701383, total=   0.2s\n",
      "[CV] penalty=l2, C=100000.0 ..........................................\n",
      "[CV] ........... penalty=l2, C=100000.0, score=0.624499, total=   0.1s\n",
      "[CV] penalty=l2, C=100000.0 ..........................................\n",
      "[CV] ........... penalty=l2, C=100000.0, score=0.690243, total=   0.2s\n",
      "[CV] penalty=l2, C=100000.0 ..........................................\n",
      "[CV] ........... penalty=l2, C=100000.0, score=0.679253, total=   0.1s\n",
      "[CV] penalty=l2, C=100000.0 ..........................................\n",
      "[CV] ........... penalty=l2, C=100000.0, score=0.702812, total=   0.2s\n",
      "[CV] penalty=l2, C=100000.0 ..........................................\n",
      "[CV] ........... penalty=l2, C=100000.0, score=0.701383, total=   0.2s\n"
     ]
    },
    {
     "name": "stderr",
     "output_type": "stream",
     "text": [
      "[Parallel(n_jobs=1)]: Done 150 out of 150 | elapsed:   41.4s finished\n"
     ]
    },
    {
     "name": "stdout",
     "output_type": "stream",
     "text": [
      "Fitting 5 folds for each of 30 candidates, totalling 150 fits\n",
      "[CV] penalty=l1, C=0.0001 ............................................\n",
      "[CV] ............. penalty=l1, C=0.0001, score=0.500000, total=   0.1s\n",
      "[CV] penalty=l1, C=0.0001 ............................................\n",
      "[CV] ............. penalty=l1, C=0.0001, score=0.500000, total=   0.1s\n",
      "[CV] penalty=l1, C=0.0001 ............................................\n"
     ]
    },
    {
     "name": "stderr",
     "output_type": "stream",
     "text": [
      "[Parallel(n_jobs=1)]: Done   1 out of   1 | elapsed:    0.1s remaining:    0.0s\n",
      "[Parallel(n_jobs=1)]: Done   2 out of   2 | elapsed:    0.3s remaining:    0.0s\n"
     ]
    },
    {
     "name": "stdout",
     "output_type": "stream",
     "text": [
      "[CV] ............. penalty=l1, C=0.0001, score=0.500000, total=   0.0s\n",
      "[CV] penalty=l1, C=0.0001 ............................................\n",
      "[CV] ............. penalty=l1, C=0.0001, score=0.500000, total=   0.0s\n",
      "[CV] penalty=l1, C=0.0001 ............................................\n"
     ]
    },
    {
     "name": "stderr",
     "output_type": "stream",
     "text": [
      "[Parallel(n_jobs=1)]: Done   3 out of   3 | elapsed:    0.5s remaining:    0.0s\n",
      "[Parallel(n_jobs=1)]: Done   4 out of   4 | elapsed:    0.6s remaining:    0.0s\n"
     ]
    },
    {
     "name": "stdout",
     "output_type": "stream",
     "text": [
      "[CV] ............. penalty=l1, C=0.0001, score=0.500000, total=   0.1s\n",
      "[CV] penalty=l2, C=0.0001 ............................................\n"
     ]
    },
    {
     "name": "stderr",
     "output_type": "stream",
     "text": [
      "[Parallel(n_jobs=1)]: Done   5 out of   5 | elapsed:    0.8s remaining:    0.0s\n"
     ]
    },
    {
     "name": "stdout",
     "output_type": "stream",
     "text": [
      "[CV] ............. penalty=l2, C=0.0001, score=0.643116, total=   0.1s\n",
      "[CV] penalty=l2, C=0.0001 ............................................\n"
     ]
    },
    {
     "name": "stderr",
     "output_type": "stream",
     "text": [
      "[Parallel(n_jobs=1)]: Done   6 out of   6 | elapsed:    1.0s remaining:    0.0s\n"
     ]
    },
    {
     "name": "stdout",
     "output_type": "stream",
     "text": [
      "[CV] ............. penalty=l2, C=0.0001, score=0.683184, total=   0.1s\n",
      "[CV] penalty=l2, C=0.0001 ............................................\n"
     ]
    },
    {
     "name": "stderr",
     "output_type": "stream",
     "text": [
      "[Parallel(n_jobs=1)]: Done   7 out of   7 | elapsed:    1.3s remaining:    0.0s\n"
     ]
    },
    {
     "name": "stdout",
     "output_type": "stream",
     "text": [
      "[CV] ............. penalty=l2, C=0.0001, score=0.647031, total=   0.2s\n",
      "[CV] penalty=l2, C=0.0001 ............................................\n"
     ]
    },
    {
     "name": "stderr",
     "output_type": "stream",
     "text": [
      "[Parallel(n_jobs=1)]: Done   8 out of   8 | elapsed:    1.6s remaining:    0.0s\n"
     ]
    },
    {
     "name": "stdout",
     "output_type": "stream",
     "text": [
      "[CV] ............. penalty=l2, C=0.0001, score=0.695164, total=   0.2s\n",
      "[CV] penalty=l2, C=0.0001 ............................................\n"
     ]
    },
    {
     "name": "stderr",
     "output_type": "stream",
     "text": [
      "[Parallel(n_jobs=1)]: Done   9 out of   9 | elapsed:    1.9s remaining:    0.0s\n"
     ]
    },
    {
     "name": "stdout",
     "output_type": "stream",
     "text": [
      "[CV] ............. penalty=l2, C=0.0001, score=0.692886, total=   0.2s\n",
      "[CV] penalty=l1, C=0.000439397056076 .................................\n",
      "[CV] .. penalty=l1, C=0.000439397056076, score=0.500000, total=   0.2s\n",
      "[CV] penalty=l1, C=0.000439397056076 .................................\n",
      "[CV] .. penalty=l1, C=0.000439397056076, score=0.500000, total=   0.2s\n",
      "[CV] penalty=l1, C=0.000439397056076 .................................\n",
      "[CV] .. penalty=l1, C=0.000439397056076, score=0.500000, total=   0.2s\n",
      "[CV] penalty=l1, C=0.000439397056076 .................................\n",
      "[CV] .. penalty=l1, C=0.000439397056076, score=0.500000, total=   0.1s\n",
      "[CV] penalty=l1, C=0.000439397056076 .................................\n",
      "[CV] .. penalty=l1, C=0.000439397056076, score=0.500000, total=   0.1s\n",
      "[CV] penalty=l2, C=0.000439397056076 .................................\n",
      "[CV] .. penalty=l2, C=0.000439397056076, score=0.669034, total=   0.2s\n",
      "[CV] penalty=l2, C=0.000439397056076 .................................\n",
      "[CV] .. penalty=l2, C=0.000439397056076, score=0.717926, total=   0.1s\n",
      "[CV] penalty=l2, C=0.000439397056076 .................................\n",
      "[CV] .. penalty=l2, C=0.000439397056076, score=0.675071, total=   0.1s\n",
      "[CV] penalty=l2, C=0.000439397056076 .................................\n",
      "[CV] .. penalty=l2, C=0.000439397056076, score=0.717309, total=   0.2s\n",
      "[CV] penalty=l2, C=0.000439397056076 .................................\n",
      "[CV] .. penalty=l2, C=0.000439397056076, score=0.702289, total=   0.2s\n",
      "[CV] penalty=l1, C=0.00193069772888 ..................................\n",
      "[CV] ... penalty=l1, C=0.00193069772888, score=0.601346, total=   0.1s\n",
      "[CV] penalty=l1, C=0.00193069772888 ..................................\n",
      "[CV] ... penalty=l1, C=0.00193069772888, score=0.658121, total=   0.1s\n",
      "[CV] penalty=l1, C=0.00193069772888 ..................................\n",
      "[CV] ... penalty=l1, C=0.00193069772888, score=0.654948, total=   0.1s\n",
      "[CV] penalty=l1, C=0.00193069772888 ..................................\n",
      "[CV] ... penalty=l1, C=0.00193069772888, score=0.500000, total=   0.1s\n",
      "[CV] penalty=l1, C=0.00193069772888 ..................................\n",
      "[CV] ... penalty=l1, C=0.00193069772888, score=0.709918, total=   0.1s\n",
      "[CV] penalty=l2, C=0.00193069772888 ..................................\n",
      "[CV] ... penalty=l2, C=0.00193069772888, score=0.696324, total=   0.2s\n",
      "[CV] penalty=l2, C=0.00193069772888 ..................................\n",
      "[CV] ... penalty=l2, C=0.00193069772888, score=0.756512, total=   0.2s\n",
      "[CV] penalty=l2, C=0.00193069772888 ..................................\n",
      "[CV] ... penalty=l2, C=0.00193069772888, score=0.706615, total=   0.2s\n",
      "[CV] penalty=l2, C=0.00193069772888 ..................................\n",
      "[CV] ... penalty=l2, C=0.00193069772888, score=0.735323, total=   0.1s\n",
      "[CV] penalty=l2, C=0.00193069772888 ..................................\n",
      "[CV] ... penalty=l2, C=0.00193069772888, score=0.705167, total=   0.1s\n",
      "[CV] penalty=l1, C=0.00848342898244 ..................................\n",
      "[CV] ... penalty=l1, C=0.00848342898244, score=0.714438, total=   0.2s\n",
      "[CV] penalty=l1, C=0.00848342898244 ..................................\n",
      "[CV] ... penalty=l1, C=0.00848342898244, score=0.770646, total=   0.1s\n",
      "[CV] penalty=l1, C=0.00848342898244 ..................................\n",
      "[CV] ... penalty=l1, C=0.00848342898244, score=0.729039, total=   0.1s\n",
      "[CV] penalty=l1, C=0.00848342898244 ..................................\n",
      "[CV] ... penalty=l1, C=0.00848342898244, score=0.748458, total=   0.1s\n",
      "[CV] penalty=l1, C=0.00848342898244 ..................................\n",
      "[CV] ... penalty=l1, C=0.00848342898244, score=0.705280, total=   0.1s\n",
      "[CV] penalty=l2, C=0.00848342898244 ..................................\n",
      "[CV] ... penalty=l2, C=0.00848342898244, score=0.719826, total=   0.1s\n",
      "[CV] penalty=l2, C=0.00848342898244 ..................................\n",
      "[CV] ... penalty=l2, C=0.00848342898244, score=0.773663, total=   0.2s\n",
      "[CV] penalty=l2, C=0.00848342898244 ..................................\n",
      "[CV] ... penalty=l2, C=0.00848342898244, score=0.726314, total=   0.2s\n",
      "[CV] penalty=l2, C=0.00848342898244 ..................................\n",
      "[CV] ... penalty=l2, C=0.00848342898244, score=0.745240, total=   0.3s\n",
      "[CV] penalty=l2, C=0.00848342898244 ..................................\n",
      "[CV] ... penalty=l2, C=0.00848342898244, score=0.705172, total=   0.2s\n",
      "[CV] penalty=l1, C=0.0372759372031 ...................................\n",
      "[CV] .... penalty=l1, C=0.0372759372031, score=0.732359, total=   0.3s\n",
      "[CV] penalty=l1, C=0.0372759372031 ...................................\n",
      "[CV] .... penalty=l1, C=0.0372759372031, score=0.780969, total=   0.2s\n",
      "[CV] penalty=l1, C=0.0372759372031 ...................................\n",
      "[CV] .... penalty=l1, C=0.0372759372031, score=0.736228, total=   0.2s\n",
      "[CV] penalty=l1, C=0.0372759372031 ...................................\n",
      "[CV] .... penalty=l1, C=0.0372759372031, score=0.748987, total=   0.3s\n",
      "[CV] penalty=l1, C=0.0372759372031 ...................................\n",
      "[CV] .... penalty=l1, C=0.0372759372031, score=0.705205, total=   0.3s\n",
      "[CV] penalty=l2, C=0.0372759372031 ...................................\n",
      "[CV] .... penalty=l2, C=0.0372759372031, score=0.731027, total=   0.2s\n",
      "[CV] penalty=l2, C=0.0372759372031 ...................................\n",
      "[CV] .... penalty=l2, C=0.0372759372031, score=0.780329, total=   0.3s\n",
      "[CV] penalty=l2, C=0.0372759372031 ...................................\n",
      "[CV] .... penalty=l2, C=0.0372759372031, score=0.735307, total=   0.2s\n",
      "[CV] penalty=l2, C=0.0372759372031 ...................................\n",
      "[CV] .... penalty=l2, C=0.0372759372031, score=0.748042, total=   0.2s\n",
      "[CV] penalty=l2, C=0.0372759372031 ...................................\n",
      "[CV] .... penalty=l2, C=0.0372759372031, score=0.704905, total=   0.2s\n",
      "[CV] penalty=l1, C=0.163789370695 ....................................\n",
      "[CV] ..... penalty=l1, C=0.163789370695, score=0.735954, total=   0.2s\n",
      "[CV] penalty=l1, C=0.163789370695 ....................................\n",
      "[CV] ..... penalty=l1, C=0.163789370695, score=0.782145, total=   0.3s\n",
      "[CV] penalty=l1, C=0.163789370695 ....................................\n",
      "[CV] ..... penalty=l1, C=0.163789370695, score=0.736946, total=   0.2s\n",
      "[CV] penalty=l1, C=0.163789370695 ....................................\n",
      "[CV] ..... penalty=l1, C=0.163789370695, score=0.749117, total=   0.1s\n",
      "[CV] penalty=l1, C=0.163789370695 ....................................\n",
      "[CV] ..... penalty=l1, C=0.163789370695, score=0.705108, total=   0.1s\n",
      "[CV] penalty=l2, C=0.163789370695 ....................................\n",
      "[CV] ..... penalty=l2, C=0.163789370695, score=0.735283, total=   0.2s\n",
      "[CV] penalty=l2, C=0.163789370695 ....................................\n",
      "[CV] ..... penalty=l2, C=0.163789370695, score=0.782117, total=   0.1s\n",
      "[CV] penalty=l2, C=0.163789370695 ....................................\n",
      "[CV] ..... penalty=l2, C=0.163789370695, score=0.736875, total=   0.2s\n",
      "[CV] penalty=l2, C=0.163789370695 ....................................\n",
      "[CV] ..... penalty=l2, C=0.163789370695, score=0.748960, total=   0.2s\n",
      "[CV] penalty=l2, C=0.163789370695 ....................................\n",
      "[CV] ..... penalty=l2, C=0.163789370695, score=0.705084, total=   0.3s\n",
      "[CV] penalty=l1, C=0.719685673001 ....................................\n",
      "[CV] ..... penalty=l1, C=0.719685673001, score=0.736808, total=   0.2s\n",
      "[CV] penalty=l1, C=0.719685673001 ....................................\n",
      "[CV] ..... penalty=l1, C=0.719685673001, score=0.782322, total=   0.1s\n",
      "[CV] penalty=l1, C=0.719685673001 ....................................\n",
      "[CV] ..... penalty=l1, C=0.719685673001, score=0.737031, total=   0.3s\n",
      "[CV] penalty=l1, C=0.719685673001 ....................................\n",
      "[CV] ..... penalty=l1, C=0.719685673001, score=0.749271, total=   0.2s\n",
      "[CV] penalty=l1, C=0.719685673001 ....................................\n",
      "[CV] ..... penalty=l1, C=0.719685673001, score=0.705069, total=   0.2s\n",
      "[CV] penalty=l2, C=0.719685673001 ....................................\n",
      "[CV] ..... penalty=l2, C=0.719685673001, score=0.736634, total=   0.2s\n",
      "[CV] penalty=l2, C=0.719685673001 ....................................\n",
      "[CV] ..... penalty=l2, C=0.719685673001, score=0.782331, total=   0.2s\n",
      "[CV] penalty=l2, C=0.719685673001 ....................................\n"
     ]
    },
    {
     "name": "stdout",
     "output_type": "stream",
     "text": [
      "[CV] ..... penalty=l2, C=0.719685673001, score=0.737060, total=   0.2s\n",
      "[CV] penalty=l2, C=0.719685673001 ....................................\n",
      "[CV] ..... penalty=l2, C=0.719685673001, score=0.749197, total=   0.1s\n",
      "[CV] penalty=l2, C=0.719685673001 ....................................\n",
      "[CV] ..... penalty=l2, C=0.719685673001, score=0.705084, total=   0.2s\n",
      "[CV] penalty=l1, C=3.16227766017 .....................................\n",
      "[CV] ...... penalty=l1, C=3.16227766017, score=0.736999, total=   0.2s\n",
      "[CV] penalty=l1, C=3.16227766017 .....................................\n",
      "[CV] ...... penalty=l1, C=3.16227766017, score=0.782358, total=   0.1s\n",
      "[CV] penalty=l1, C=3.16227766017 .....................................\n",
      "[CV] ...... penalty=l1, C=3.16227766017, score=0.737057, total=   0.1s\n",
      "[CV] penalty=l1, C=3.16227766017 .....................................\n",
      "[CV] ...... penalty=l1, C=3.16227766017, score=0.749306, total=   0.2s\n",
      "[CV] penalty=l1, C=3.16227766017 .....................................\n",
      "[CV] ...... penalty=l1, C=3.16227766017, score=0.705052, total=   0.3s\n",
      "[CV] penalty=l2, C=3.16227766017 .....................................\n",
      "[CV] ...... penalty=l2, C=3.16227766017, score=0.736966, total=   0.2s\n",
      "[CV] penalty=l2, C=3.16227766017 .....................................\n",
      "[CV] ...... penalty=l2, C=3.16227766017, score=0.782357, total=   0.2s\n",
      "[CV] penalty=l2, C=3.16227766017 .....................................\n",
      "[CV] ...... penalty=l2, C=3.16227766017, score=0.737062, total=   0.3s\n",
      "[CV] penalty=l2, C=3.16227766017 .....................................\n",
      "[CV] ...... penalty=l2, C=3.16227766017, score=0.749293, total=   0.2s\n",
      "[CV] penalty=l2, C=3.16227766017 .....................................\n",
      "[CV] ...... penalty=l2, C=3.16227766017, score=0.705057, total=   0.1s\n",
      "[CV] penalty=l1, C=13.8949549437 .....................................\n",
      "[CV] ...... penalty=l1, C=13.8949549437, score=0.737040, total=   0.1s\n",
      "[CV] penalty=l1, C=13.8949549437 .....................................\n",
      "[CV] ...... penalty=l1, C=13.8949549437, score=0.782371, total=   0.1s\n",
      "[CV] penalty=l1, C=13.8949549437 .....................................\n",
      "[CV] ...... penalty=l1, C=13.8949549437, score=0.737062, total=   0.1s\n",
      "[CV] penalty=l1, C=13.8949549437 .....................................\n",
      "[CV] ...... penalty=l1, C=13.8949549437, score=0.749315, total=   0.1s\n",
      "[CV] penalty=l1, C=13.8949549437 .....................................\n",
      "[CV] ...... penalty=l1, C=13.8949549437, score=0.705050, total=   0.1s\n",
      "[CV] penalty=l2, C=13.8949549437 .....................................\n",
      "[CV] ...... penalty=l2, C=13.8949549437, score=0.737030, total=   0.2s\n",
      "[CV] penalty=l2, C=13.8949549437 .....................................\n",
      "[CV] ...... penalty=l2, C=13.8949549437, score=0.782367, total=   0.2s\n",
      "[CV] penalty=l2, C=13.8949549437 .....................................\n",
      "[CV] ...... penalty=l2, C=13.8949549437, score=0.737062, total=   0.1s\n",
      "[CV] penalty=l2, C=13.8949549437 .....................................\n",
      "[CV] ...... penalty=l2, C=13.8949549437, score=0.749312, total=   0.1s\n",
      "[CV] penalty=l2, C=13.8949549437 .....................................\n",
      "[CV] ...... penalty=l2, C=13.8949549437, score=0.705051, total=   0.1s\n",
      "[CV] penalty=l1, C=61.0540229659 .....................................\n",
      "[CV] ...... penalty=l1, C=61.0540229659, score=0.737044, total=   0.1s\n",
      "[CV] penalty=l1, C=61.0540229659 .....................................\n",
      "[CV] ...... penalty=l1, C=61.0540229659, score=0.782372, total=   0.1s\n",
      "[CV] penalty=l1, C=61.0540229659 .....................................\n",
      "[CV] ...... penalty=l1, C=61.0540229659, score=0.737061, total=   0.1s\n",
      "[CV] penalty=l1, C=61.0540229659 .....................................\n",
      "[CV] ...... penalty=l1, C=61.0540229659, score=0.749321, total=   0.1s\n",
      "[CV] penalty=l1, C=61.0540229659 .....................................\n",
      "[CV] ...... penalty=l1, C=61.0540229659, score=0.705048, total=   0.1s\n",
      "[CV] penalty=l2, C=61.0540229659 .....................................\n",
      "[CV] ...... penalty=l2, C=61.0540229659, score=0.737044, total=   0.2s\n",
      "[CV] penalty=l2, C=61.0540229659 .....................................\n",
      "[CV] ...... penalty=l2, C=61.0540229659, score=0.782373, total=   0.1s\n",
      "[CV] penalty=l2, C=61.0540229659 .....................................\n",
      "[CV] ...... penalty=l2, C=61.0540229659, score=0.737062, total=   0.2s\n",
      "[CV] penalty=l2, C=61.0540229659 .....................................\n",
      "[CV] ...... penalty=l2, C=61.0540229659, score=0.749319, total=   0.1s\n",
      "[CV] penalty=l2, C=61.0540229659 .....................................\n",
      "[CV] ...... penalty=l2, C=61.0540229659, score=0.705049, total=   0.1s\n",
      "[CV] penalty=l1, C=268.269579528 .....................................\n",
      "[CV] ...... penalty=l1, C=268.269579528, score=0.737048, total=   0.1s\n",
      "[CV] penalty=l1, C=268.269579528 .....................................\n",
      "[CV] ...... penalty=l1, C=268.269579528, score=0.782373, total=   0.1s\n",
      "[CV] penalty=l1, C=268.269579528 .....................................\n",
      "[CV] ...... penalty=l1, C=268.269579528, score=0.737062, total=   0.1s\n",
      "[CV] penalty=l1, C=268.269579528 .....................................\n",
      "[CV] ...... penalty=l1, C=268.269579528, score=0.749321, total=   0.1s\n",
      "[CV] penalty=l1, C=268.269579528 .....................................\n",
      "[CV] ...... penalty=l1, C=268.269579528, score=0.705048, total=   0.1s\n",
      "[CV] penalty=l2, C=268.269579528 .....................................\n",
      "[CV] ...... penalty=l2, C=268.269579528, score=0.737048, total=   0.1s\n",
      "[CV] penalty=l2, C=268.269579528 .....................................\n",
      "[CV] ...... penalty=l2, C=268.269579528, score=0.782373, total=   0.1s\n",
      "[CV] penalty=l2, C=268.269579528 .....................................\n",
      "[CV] ...... penalty=l2, C=268.269579528, score=0.737062, total=   0.1s\n",
      "[CV] penalty=l2, C=268.269579528 .....................................\n",
      "[CV] ...... penalty=l2, C=268.269579528, score=0.749322, total=   0.2s\n",
      "[CV] penalty=l2, C=268.269579528 .....................................\n",
      "[CV] ...... penalty=l2, C=268.269579528, score=0.705048, total=   0.2s\n",
      "[CV] penalty=l1, C=1178.76863479 .....................................\n",
      "[CV] ...... penalty=l1, C=1178.76863479, score=0.737048, total=   0.2s\n",
      "[CV] penalty=l1, C=1178.76863479 .....................................\n",
      "[CV] ...... penalty=l1, C=1178.76863479, score=0.782373, total=   0.1s\n",
      "[CV] penalty=l1, C=1178.76863479 .....................................\n",
      "[CV] ...... penalty=l1, C=1178.76863479, score=0.737062, total=   0.1s\n",
      "[CV] penalty=l1, C=1178.76863479 .....................................\n",
      "[CV] ...... penalty=l1, C=1178.76863479, score=0.749320, total=   0.1s\n",
      "[CV] penalty=l1, C=1178.76863479 .....................................\n",
      "[CV] ...... penalty=l1, C=1178.76863479, score=0.705047, total=   0.1s\n",
      "[CV] penalty=l2, C=1178.76863479 .....................................\n",
      "[CV] ...... penalty=l2, C=1178.76863479, score=0.737048, total=   0.2s\n",
      "[CV] penalty=l2, C=1178.76863479 .....................................\n",
      "[CV] ...... penalty=l2, C=1178.76863479, score=0.782373, total=   0.1s\n",
      "[CV] penalty=l2, C=1178.76863479 .....................................\n",
      "[CV] ...... penalty=l2, C=1178.76863479, score=0.737062, total=   0.1s\n",
      "[CV] penalty=l2, C=1178.76863479 .....................................\n",
      "[CV] ...... penalty=l2, C=1178.76863479, score=0.749322, total=   0.2s\n",
      "[CV] penalty=l2, C=1178.76863479 .....................................\n",
      "[CV] ...... penalty=l2, C=1178.76863479, score=0.705047, total=   0.1s\n",
      "[CV] penalty=l1, C=5179.47467923 .....................................\n",
      "[CV] ...... penalty=l1, C=5179.47467923, score=0.737047, total=   0.1s\n",
      "[CV] penalty=l1, C=5179.47467923 .....................................\n",
      "[CV] ...... penalty=l1, C=5179.47467923, score=0.782374, total=   0.1s\n",
      "[CV] penalty=l1, C=5179.47467923 .....................................\n",
      "[CV] ...... penalty=l1, C=5179.47467923, score=0.737062, total=   0.1s\n",
      "[CV] penalty=l1, C=5179.47467923 .....................................\n",
      "[CV] ...... penalty=l1, C=5179.47467923, score=0.749321, total=   0.1s\n",
      "[CV] penalty=l1, C=5179.47467923 .....................................\n",
      "[CV] ...... penalty=l1, C=5179.47467923, score=0.705048, total=   0.1s\n",
      "[CV] penalty=l2, C=5179.47467923 .....................................\n"
     ]
    },
    {
     "name": "stdout",
     "output_type": "stream",
     "text": [
      "[CV] ...... penalty=l2, C=5179.47467923, score=0.737048, total=   0.1s\n",
      "[CV] penalty=l2, C=5179.47467923 .....................................\n",
      "[CV] ...... penalty=l2, C=5179.47467923, score=0.782373, total=   0.1s\n",
      "[CV] penalty=l2, C=5179.47467923 .....................................\n",
      "[CV] ...... penalty=l2, C=5179.47467923, score=0.737062, total=   0.1s\n",
      "[CV] penalty=l2, C=5179.47467923 .....................................\n",
      "[CV] ...... penalty=l2, C=5179.47467923, score=0.749322, total=   0.1s\n",
      "[CV] penalty=l2, C=5179.47467923 .....................................\n",
      "[CV] ...... penalty=l2, C=5179.47467923, score=0.705047, total=   0.1s\n",
      "[CV] penalty=l1, C=22758.4592607 .....................................\n",
      "[CV] ...... penalty=l1, C=22758.4592607, score=0.737048, total=   0.1s\n",
      "[CV] penalty=l1, C=22758.4592607 .....................................\n",
      "[CV] ...... penalty=l1, C=22758.4592607, score=0.782373, total=   0.1s\n",
      "[CV] penalty=l1, C=22758.4592607 .....................................\n",
      "[CV] ...... penalty=l1, C=22758.4592607, score=0.737061, total=   0.1s\n",
      "[CV] penalty=l1, C=22758.4592607 .....................................\n",
      "[CV] ...... penalty=l1, C=22758.4592607, score=0.749321, total=   0.1s\n",
      "[CV] penalty=l1, C=22758.4592607 .....................................\n",
      "[CV] ...... penalty=l1, C=22758.4592607, score=0.705047, total=   0.1s\n",
      "[CV] penalty=l2, C=22758.4592607 .....................................\n",
      "[CV] ...... penalty=l2, C=22758.4592607, score=0.737048, total=   0.1s\n",
      "[CV] penalty=l2, C=22758.4592607 .....................................\n",
      "[CV] ...... penalty=l2, C=22758.4592607, score=0.782373, total=   0.1s\n",
      "[CV] penalty=l2, C=22758.4592607 .....................................\n",
      "[CV] ...... penalty=l2, C=22758.4592607, score=0.737062, total=   0.1s\n",
      "[CV] penalty=l2, C=22758.4592607 .....................................\n",
      "[CV] ...... penalty=l2, C=22758.4592607, score=0.749322, total=   0.2s\n",
      "[CV] penalty=l2, C=22758.4592607 .....................................\n",
      "[CV] ...... penalty=l2, C=22758.4592607, score=0.705047, total=   0.1s\n",
      "[CV] penalty=l1, C=100000.0 ..........................................\n",
      "[CV] ........... penalty=l1, C=100000.0, score=0.737049, total=   0.1s\n",
      "[CV] penalty=l1, C=100000.0 ..........................................\n",
      "[CV] ........... penalty=l1, C=100000.0, score=0.782374, total=   0.1s\n",
      "[CV] penalty=l1, C=100000.0 ..........................................\n",
      "[CV] ........... penalty=l1, C=100000.0, score=0.737062, total=   0.1s\n",
      "[CV] penalty=l1, C=100000.0 ..........................................\n",
      "[CV] ........... penalty=l1, C=100000.0, score=0.749321, total=   0.1s\n",
      "[CV] penalty=l1, C=100000.0 ..........................................\n",
      "[CV] ........... penalty=l1, C=100000.0, score=0.705048, total=   0.1s\n",
      "[CV] penalty=l2, C=100000.0 ..........................................\n",
      "[CV] ........... penalty=l2, C=100000.0, score=0.737048, total=   0.1s\n",
      "[CV] penalty=l2, C=100000.0 ..........................................\n",
      "[CV] ........... penalty=l2, C=100000.0, score=0.782373, total=   0.1s\n",
      "[CV] penalty=l2, C=100000.0 ..........................................\n",
      "[CV] ........... penalty=l2, C=100000.0, score=0.737062, total=   0.1s\n",
      "[CV] penalty=l2, C=100000.0 ..........................................\n",
      "[CV] ........... penalty=l2, C=100000.0, score=0.749322, total=   0.2s\n",
      "[CV] penalty=l2, C=100000.0 ..........................................\n",
      "[CV] ........... penalty=l2, C=100000.0, score=0.705048, total=   0.1s\n"
     ]
    },
    {
     "name": "stderr",
     "output_type": "stream",
     "text": [
      "[Parallel(n_jobs=1)]: Done 150 out of 150 | elapsed:   45.0s finished\n"
     ]
    },
    {
     "name": "stdout",
     "output_type": "stream",
     "text": [
      "Fitting 5 folds for each of 30 candidates, totalling 150 fits\n",
      "[CV] penalty=l1, C=0.0001 ............................................\n",
      "[CV] ............. penalty=l1, C=0.0001, score=0.500000, total=   0.1s\n",
      "[CV] penalty=l1, C=0.0001 ............................................\n",
      "[CV] ............. penalty=l1, C=0.0001, score=0.500000, total=   0.1s\n",
      "[CV] penalty=l1, C=0.0001 ............................................\n"
     ]
    },
    {
     "name": "stderr",
     "output_type": "stream",
     "text": [
      "[Parallel(n_jobs=1)]: Done   1 out of   1 | elapsed:    0.1s remaining:    0.0s\n",
      "[Parallel(n_jobs=1)]: Done   2 out of   2 | elapsed:    0.3s remaining:    0.0s\n"
     ]
    },
    {
     "name": "stdout",
     "output_type": "stream",
     "text": [
      "[CV] ............. penalty=l1, C=0.0001, score=0.500000, total=   0.0s\n",
      "[CV] penalty=l1, C=0.0001 ............................................\n",
      "[CV] ............. penalty=l1, C=0.0001, score=0.500000, total=   0.0s\n",
      "[CV] penalty=l1, C=0.0001 ............................................\n"
     ]
    },
    {
     "name": "stderr",
     "output_type": "stream",
     "text": [
      "[Parallel(n_jobs=1)]: Done   3 out of   3 | elapsed:    0.4s remaining:    0.0s\n",
      "[Parallel(n_jobs=1)]: Done   4 out of   4 | elapsed:    0.6s remaining:    0.0s\n"
     ]
    },
    {
     "name": "stdout",
     "output_type": "stream",
     "text": [
      "[CV] ............. penalty=l1, C=0.0001, score=0.500000, total=   0.1s\n",
      "[CV] penalty=l2, C=0.0001 ............................................\n"
     ]
    },
    {
     "name": "stderr",
     "output_type": "stream",
     "text": [
      "[Parallel(n_jobs=1)]: Done   5 out of   5 | elapsed:    0.8s remaining:    0.0s\n"
     ]
    },
    {
     "name": "stdout",
     "output_type": "stream",
     "text": [
      "[CV] ............. penalty=l2, C=0.0001, score=0.639810, total=   0.1s\n",
      "[CV] penalty=l2, C=0.0001 ............................................\n"
     ]
    },
    {
     "name": "stderr",
     "output_type": "stream",
     "text": [
      "[Parallel(n_jobs=1)]: Done   6 out of   6 | elapsed:    1.0s remaining:    0.0s\n"
     ]
    },
    {
     "name": "stdout",
     "output_type": "stream",
     "text": [
      "[CV] ............. penalty=l2, C=0.0001, score=0.664224, total=   0.1s\n",
      "[CV] penalty=l2, C=0.0001 ............................................\n"
     ]
    },
    {
     "name": "stderr",
     "output_type": "stream",
     "text": [
      "[Parallel(n_jobs=1)]: Done   7 out of   7 | elapsed:    1.3s remaining:    0.0s\n"
     ]
    },
    {
     "name": "stdout",
     "output_type": "stream",
     "text": [
      "[CV] ............. penalty=l2, C=0.0001, score=0.644293, total=   0.1s\n",
      "[CV] penalty=l2, C=0.0001 ............................................\n"
     ]
    },
    {
     "name": "stderr",
     "output_type": "stream",
     "text": [
      "[Parallel(n_jobs=1)]: Done   8 out of   8 | elapsed:    1.5s remaining:    0.0s\n"
     ]
    },
    {
     "name": "stdout",
     "output_type": "stream",
     "text": [
      "[CV] ............. penalty=l2, C=0.0001, score=0.686462, total=   0.1s\n",
      "[CV] penalty=l2, C=0.0001 ............................................\n"
     ]
    },
    {
     "name": "stderr",
     "output_type": "stream",
     "text": [
      "[Parallel(n_jobs=1)]: Done   9 out of   9 | elapsed:    1.7s remaining:    0.0s\n"
     ]
    },
    {
     "name": "stdout",
     "output_type": "stream",
     "text": [
      "[CV] ............. penalty=l2, C=0.0001, score=0.674052, total=   0.1s\n",
      "[CV] penalty=l1, C=0.000439397056076 .................................\n",
      "[CV] .. penalty=l1, C=0.000439397056076, score=0.500000, total=   0.1s\n",
      "[CV] penalty=l1, C=0.000439397056076 .................................\n",
      "[CV] .. penalty=l1, C=0.000439397056076, score=0.500000, total=   0.1s\n",
      "[CV] penalty=l1, C=0.000439397056076 .................................\n",
      "[CV] .. penalty=l1, C=0.000439397056076, score=0.500000, total=   0.1s\n",
      "[CV] penalty=l1, C=0.000439397056076 .................................\n",
      "[CV] .. penalty=l1, C=0.000439397056076, score=0.500000, total=   0.1s\n",
      "[CV] penalty=l1, C=0.000439397056076 .................................\n",
      "[CV] .. penalty=l1, C=0.000439397056076, score=0.500000, total=   0.1s\n",
      "[CV] penalty=l2, C=0.000439397056076 .................................\n",
      "[CV] .. penalty=l2, C=0.000439397056076, score=0.666002, total=   0.1s\n",
      "[CV] penalty=l2, C=0.000439397056076 .................................\n",
      "[CV] .. penalty=l2, C=0.000439397056076, score=0.715520, total=   0.1s\n",
      "[CV] penalty=l2, C=0.000439397056076 .................................\n",
      "[CV] .. penalty=l2, C=0.000439397056076, score=0.676085, total=   0.1s\n",
      "[CV] penalty=l2, C=0.000439397056076 .................................\n",
      "[CV] .. penalty=l2, C=0.000439397056076, score=0.713609, total=   0.1s\n",
      "[CV] penalty=l2, C=0.000439397056076 .................................\n",
      "[CV] .. penalty=l2, C=0.000439397056076, score=0.693125, total=   0.1s\n",
      "[CV] penalty=l1, C=0.00193069772888 ..................................\n",
      "[CV] ... penalty=l1, C=0.00193069772888, score=0.619516, total=   0.1s\n",
      "[CV] penalty=l1, C=0.00193069772888 ..................................\n",
      "[CV] ... penalty=l1, C=0.00193069772888, score=0.663993, total=   0.1s\n",
      "[CV] penalty=l1, C=0.00193069772888 ..................................\n",
      "[CV] ... penalty=l1, C=0.00193069772888, score=0.643011, total=   0.1s\n",
      "[CV] penalty=l1, C=0.00193069772888 ..................................\n",
      "[CV] ... penalty=l1, C=0.00193069772888, score=0.689766, total=   0.1s\n",
      "[CV] penalty=l1, C=0.00193069772888 ..................................\n",
      "[CV] ... penalty=l1, C=0.00193069772888, score=0.706389, total=   0.1s\n",
      "[CV] penalty=l2, C=0.00193069772888 ..................................\n",
      "[CV] ... penalty=l2, C=0.00193069772888, score=0.695879, total=   0.1s\n",
      "[CV] penalty=l2, C=0.00193069772888 ..................................\n",
      "[CV] ... penalty=l2, C=0.00193069772888, score=0.758253, total=   0.1s\n",
      "[CV] penalty=l2, C=0.00193069772888 ..................................\n",
      "[CV] ... penalty=l2, C=0.00193069772888, score=0.707534, total=   0.1s\n",
      "[CV] penalty=l2, C=0.00193069772888 ..................................\n",
      "[CV] ... penalty=l2, C=0.00193069772888, score=0.736470, total=   0.1s\n",
      "[CV] penalty=l2, C=0.00193069772888 ..................................\n",
      "[CV] ... penalty=l2, C=0.00193069772888, score=0.699742, total=   0.1s\n",
      "[CV] penalty=l1, C=0.00848342898244 ..................................\n",
      "[CV] ... penalty=l1, C=0.00848342898244, score=0.714723, total=   0.1s\n",
      "[CV] penalty=l1, C=0.00848342898244 ..................................\n",
      "[CV] ... penalty=l1, C=0.00848342898244, score=0.772430, total=   0.1s\n",
      "[CV] penalty=l1, C=0.00848342898244 ..................................\n",
      "[CV] ... penalty=l1, C=0.00848342898244, score=0.728884, total=   0.1s\n",
      "[CV] penalty=l1, C=0.00848342898244 ..................................\n",
      "[CV] ... penalty=l1, C=0.00848342898244, score=0.749369, total=   0.1s\n",
      "[CV] penalty=l1, C=0.00848342898244 ..................................\n",
      "[CV] ... penalty=l1, C=0.00848342898244, score=0.700034, total=   0.1s\n",
      "[CV] penalty=l2, C=0.00848342898244 ..................................\n",
      "[CV] ... penalty=l2, C=0.00848342898244, score=0.720362, total=   0.1s\n",
      "[CV] penalty=l2, C=0.00848342898244 ..................................\n",
      "[CV] ... penalty=l2, C=0.00848342898244, score=0.776145, total=   0.1s\n",
      "[CV] penalty=l2, C=0.00848342898244 ..................................\n",
      "[CV] ... penalty=l2, C=0.00848342898244, score=0.726688, total=   0.1s\n",
      "[CV] penalty=l2, C=0.00848342898244 ..................................\n",
      "[CV] ... penalty=l2, C=0.00848342898244, score=0.747006, total=   0.1s\n",
      "[CV] penalty=l2, C=0.00848342898244 ..................................\n",
      "[CV] ... penalty=l2, C=0.00848342898244, score=0.699525, total=   0.1s\n",
      "[CV] penalty=l1, C=0.0372759372031 ...................................\n",
      "[CV] .... penalty=l1, C=0.0372759372031, score=0.731741, total=   0.1s\n",
      "[CV] penalty=l1, C=0.0372759372031 ...................................\n",
      "[CV] .... penalty=l1, C=0.0372759372031, score=0.782412, total=   0.1s\n",
      "[CV] penalty=l1, C=0.0372759372031 ...................................\n",
      "[CV] .... penalty=l1, C=0.0372759372031, score=0.735367, total=   0.1s\n",
      "[CV] penalty=l1, C=0.0372759372031 ...................................\n",
      "[CV] .... penalty=l1, C=0.0372759372031, score=0.750868, total=   0.1s\n",
      "[CV] penalty=l1, C=0.0372759372031 ...................................\n",
      "[CV] .... penalty=l1, C=0.0372759372031, score=0.700086, total=   0.1s\n",
      "[CV] penalty=l2, C=0.0372759372031 ...................................\n",
      "[CV] .... penalty=l2, C=0.0372759372031, score=0.730650, total=   0.1s\n",
      "[CV] penalty=l2, C=0.0372759372031 ...................................\n",
      "[CV] .... penalty=l2, C=0.0372759372031, score=0.781862, total=   0.1s\n",
      "[CV] penalty=l2, C=0.0372759372031 ...................................\n",
      "[CV] .... penalty=l2, C=0.0372759372031, score=0.734853, total=   0.1s\n",
      "[CV] penalty=l2, C=0.0372759372031 ...................................\n",
      "[CV] .... penalty=l2, C=0.0372759372031, score=0.749973, total=   0.1s\n",
      "[CV] penalty=l2, C=0.0372759372031 ...................................\n",
      "[CV] .... penalty=l2, C=0.0372759372031, score=0.699697, total=   0.1s\n",
      "[CV] penalty=l1, C=0.163789370695 ....................................\n",
      "[CV] ..... penalty=l1, C=0.163789370695, score=0.735000, total=   0.1s\n",
      "[CV] penalty=l1, C=0.163789370695 ....................................\n",
      "[CV] ..... penalty=l1, C=0.163789370695, score=0.783782, total=   0.1s\n",
      "[CV] penalty=l1, C=0.163789370695 ....................................\n",
      "[CV] ..... penalty=l1, C=0.163789370695, score=0.735880, total=   0.1s\n",
      "[CV] penalty=l1, C=0.163789370695 ....................................\n",
      "[CV] ..... penalty=l1, C=0.163789370695, score=0.750855, total=   0.1s\n",
      "[CV] penalty=l1, C=0.163789370695 ....................................\n",
      "[CV] ..... penalty=l1, C=0.163789370695, score=0.699856, total=   0.1s\n",
      "[CV] penalty=l2, C=0.163789370695 ....................................\n",
      "[CV] ..... penalty=l2, C=0.163789370695, score=0.734530, total=   0.1s\n",
      "[CV] penalty=l2, C=0.163789370695 ....................................\n",
      "[CV] ..... penalty=l2, C=0.163789370695, score=0.783807, total=   0.1s\n",
      "[CV] penalty=l2, C=0.163789370695 ....................................\n",
      "[CV] ..... penalty=l2, C=0.163789370695, score=0.736041, total=   0.1s\n",
      "[CV] penalty=l2, C=0.163789370695 ....................................\n",
      "[CV] ..... penalty=l2, C=0.163789370695, score=0.750786, total=   0.1s\n",
      "[CV] penalty=l2, C=0.163789370695 ....................................\n",
      "[CV] ..... penalty=l2, C=0.163789370695, score=0.699992, total=   0.1s\n",
      "[CV] penalty=l1, C=0.719685673001 ....................................\n",
      "[CV] ..... penalty=l1, C=0.719685673001, score=0.735804, total=   0.1s\n",
      "[CV] penalty=l1, C=0.719685673001 ....................................\n",
      "[CV] ..... penalty=l1, C=0.719685673001, score=0.783967, total=   0.1s\n",
      "[CV] penalty=l1, C=0.719685673001 ....................................\n",
      "[CV] ..... penalty=l1, C=0.719685673001, score=0.735962, total=   0.2s\n",
      "[CV] penalty=l1, C=0.719685673001 ....................................\n",
      "[CV] ..... penalty=l1, C=0.719685673001, score=0.750993, total=   0.1s\n",
      "[CV] penalty=l1, C=0.719685673001 ....................................\n",
      "[CV] ..... penalty=l1, C=0.719685673001, score=0.699639, total=   0.1s\n",
      "[CV] penalty=l2, C=0.719685673001 ....................................\n",
      "[CV] ..... penalty=l2, C=0.719685673001, score=0.735663, total=   0.1s\n",
      "[CV] penalty=l2, C=0.719685673001 ....................................\n",
      "[CV] ..... penalty=l2, C=0.719685673001, score=0.783981, total=   0.1s\n",
      "[CV] penalty=l2, C=0.719685673001 ....................................\n"
     ]
    },
    {
     "name": "stdout",
     "output_type": "stream",
     "text": [
      "[CV] ..... penalty=l2, C=0.719685673001, score=0.736002, total=   0.1s\n",
      "[CV] penalty=l2, C=0.719685673001 ....................................\n",
      "[CV] ..... penalty=l2, C=0.719685673001, score=0.750909, total=   0.1s\n",
      "[CV] penalty=l2, C=0.719685673001 ....................................\n",
      "[CV] ..... penalty=l2, C=0.719685673001, score=0.699741, total=   0.1s\n",
      "[CV] penalty=l1, C=3.16227766017 .....................................\n",
      "[CV] ...... penalty=l1, C=3.16227766017, score=0.735987, total=   0.1s\n",
      "[CV] penalty=l1, C=3.16227766017 .....................................\n",
      "[CV] ...... penalty=l1, C=3.16227766017, score=0.784013, total=   0.1s\n",
      "[CV] penalty=l1, C=3.16227766017 .....................................\n",
      "[CV] ...... penalty=l1, C=3.16227766017, score=0.735983, total=   0.1s\n",
      "[CV] penalty=l1, C=3.16227766017 .....................................\n",
      "[CV] ...... penalty=l1, C=3.16227766017, score=0.751030, total=   0.1s\n",
      "[CV] penalty=l1, C=3.16227766017 .....................................\n",
      "[CV] ...... penalty=l1, C=3.16227766017, score=0.699602, total=   0.1s\n",
      "[CV] penalty=l2, C=3.16227766017 .....................................\n",
      "[CV] ...... penalty=l2, C=3.16227766017, score=0.735952, total=   0.1s\n",
      "[CV] penalty=l2, C=3.16227766017 .....................................\n",
      "[CV] ...... penalty=l2, C=3.16227766017, score=0.784016, total=   0.2s\n",
      "[CV] penalty=l2, C=3.16227766017 .....................................\n",
      "[CV] ...... penalty=l2, C=3.16227766017, score=0.735994, total=   0.1s\n",
      "[CV] penalty=l2, C=3.16227766017 .....................................\n",
      "[CV] ...... penalty=l2, C=3.16227766017, score=0.751011, total=   0.1s\n",
      "[CV] penalty=l2, C=3.16227766017 .....................................\n",
      "[CV] ...... penalty=l2, C=3.16227766017, score=0.699615, total=   0.1s\n",
      "[CV] penalty=l1, C=13.8949549437 .....................................\n",
      "[CV] ...... penalty=l1, C=13.8949549437, score=0.736032, total=   0.1s\n",
      "[CV] penalty=l1, C=13.8949549437 .....................................\n",
      "[CV] ...... penalty=l1, C=13.8949549437, score=0.784022, total=   0.1s\n",
      "[CV] penalty=l1, C=13.8949549437 .....................................\n",
      "[CV] ...... penalty=l1, C=13.8949549437, score=0.735990, total=   0.1s\n",
      "[CV] penalty=l1, C=13.8949549437 .....................................\n",
      "[CV] ...... penalty=l1, C=13.8949549437, score=0.751041, total=   0.1s\n",
      "[CV] penalty=l1, C=13.8949549437 .....................................\n",
      "[CV] ...... penalty=l1, C=13.8949549437, score=0.699590, total=   0.1s\n",
      "[CV] penalty=l2, C=13.8949549437 .....................................\n",
      "[CV] ...... penalty=l2, C=13.8949549437, score=0.736019, total=   0.1s\n",
      "[CV] penalty=l2, C=13.8949549437 .....................................\n",
      "[CV] ...... penalty=l2, C=13.8949549437, score=0.784025, total=   0.1s\n",
      "[CV] penalty=l2, C=13.8949549437 .....................................\n",
      "[CV] ...... penalty=l2, C=13.8949549437, score=0.735994, total=   0.1s\n",
      "[CV] penalty=l2, C=13.8949549437 .....................................\n",
      "[CV] ...... penalty=l2, C=13.8949549437, score=0.751035, total=   0.1s\n",
      "[CV] penalty=l2, C=13.8949549437 .....................................\n",
      "[CV] ...... penalty=l2, C=13.8949549437, score=0.699591, total=   0.1s\n",
      "[CV] penalty=l1, C=61.0540229659 .....................................\n",
      "[CV] ...... penalty=l1, C=61.0540229659, score=0.736038, total=   0.1s\n",
      "[CV] penalty=l1, C=61.0540229659 .....................................\n",
      "[CV] ...... penalty=l1, C=61.0540229659, score=0.784023, total=   0.1s\n",
      "[CV] penalty=l1, C=61.0540229659 .....................................\n",
      "[CV] ...... penalty=l1, C=61.0540229659, score=0.735992, total=   0.1s\n",
      "[CV] penalty=l1, C=61.0540229659 .....................................\n",
      "[CV] ...... penalty=l1, C=61.0540229659, score=0.751046, total=   0.1s\n",
      "[CV] penalty=l1, C=61.0540229659 .....................................\n",
      "[CV] ...... penalty=l1, C=61.0540229659, score=0.699588, total=   0.1s\n",
      "[CV] penalty=l2, C=61.0540229659 .....................................\n",
      "[CV] ...... penalty=l2, C=61.0540229659, score=0.736034, total=   0.1s\n",
      "[CV] penalty=l2, C=61.0540229659 .....................................\n",
      "[CV] ...... penalty=l2, C=61.0540229659, score=0.784023, total=   0.2s\n",
      "[CV] penalty=l2, C=61.0540229659 .....................................\n",
      "[CV] ...... penalty=l2, C=61.0540229659, score=0.735992, total=   0.1s\n",
      "[CV] penalty=l2, C=61.0540229659 .....................................\n",
      "[CV] ...... penalty=l2, C=61.0540229659, score=0.751042, total=   0.1s\n",
      "[CV] penalty=l2, C=61.0540229659 .....................................\n",
      "[CV] ...... penalty=l2, C=61.0540229659, score=0.699589, total=   0.1s\n",
      "[CV] penalty=l1, C=268.269579528 .....................................\n",
      "[CV] ...... penalty=l1, C=268.269579528, score=0.736042, total=   0.1s\n",
      "[CV] penalty=l1, C=268.269579528 .....................................\n",
      "[CV] ...... penalty=l1, C=268.269579528, score=0.784022, total=   0.1s\n",
      "[CV] penalty=l1, C=268.269579528 .....................................\n",
      "[CV] ...... penalty=l1, C=268.269579528, score=0.735992, total=   0.1s\n",
      "[CV] penalty=l1, C=268.269579528 .....................................\n",
      "[CV] ...... penalty=l1, C=268.269579528, score=0.751046, total=   0.1s\n",
      "[CV] penalty=l1, C=268.269579528 .....................................\n",
      "[CV] ...... penalty=l1, C=268.269579528, score=0.699588, total=   0.1s\n",
      "[CV] penalty=l2, C=268.269579528 .....................................\n",
      "[CV] ...... penalty=l2, C=268.269579528, score=0.736037, total=   0.1s\n",
      "[CV] penalty=l2, C=268.269579528 .....................................\n",
      "[CV] ...... penalty=l2, C=268.269579528, score=0.784023, total=   0.1s\n",
      "[CV] penalty=l2, C=268.269579528 .....................................\n",
      "[CV] ...... penalty=l2, C=268.269579528, score=0.735992, total=   0.2s\n",
      "[CV] penalty=l2, C=268.269579528 .....................................\n",
      "[CV] ...... penalty=l2, C=268.269579528, score=0.751044, total=   0.1s\n",
      "[CV] penalty=l2, C=268.269579528 .....................................\n",
      "[CV] ...... penalty=l2, C=268.269579528, score=0.699589, total=   0.2s\n",
      "[CV] penalty=l1, C=1178.76863479 .....................................\n",
      "[CV] ...... penalty=l1, C=1178.76863479, score=0.736041, total=   0.1s\n",
      "[CV] penalty=l1, C=1178.76863479 .....................................\n",
      "[CV] ...... penalty=l1, C=1178.76863479, score=0.784023, total=   0.1s\n",
      "[CV] penalty=l1, C=1178.76863479 .....................................\n",
      "[CV] ...... penalty=l1, C=1178.76863479, score=0.735992, total=   0.1s\n",
      "[CV] penalty=l1, C=1178.76863479 .....................................\n",
      "[CV] ...... penalty=l1, C=1178.76863479, score=0.751047, total=   0.2s\n",
      "[CV] penalty=l1, C=1178.76863479 .....................................\n",
      "[CV] ...... penalty=l1, C=1178.76863479, score=0.699588, total=   0.2s\n",
      "[CV] penalty=l2, C=1178.76863479 .....................................\n",
      "[CV] ...... penalty=l2, C=1178.76863479, score=0.736038, total=   0.1s\n",
      "[CV] penalty=l2, C=1178.76863479 .....................................\n",
      "[CV] ...... penalty=l2, C=1178.76863479, score=0.784023, total=   0.2s\n",
      "[CV] penalty=l2, C=1178.76863479 .....................................\n",
      "[CV] ...... penalty=l2, C=1178.76863479, score=0.735992, total=   0.2s\n",
      "[CV] penalty=l2, C=1178.76863479 .....................................\n",
      "[CV] ...... penalty=l2, C=1178.76863479, score=0.751044, total=   0.1s\n",
      "[CV] penalty=l2, C=1178.76863479 .....................................\n",
      "[CV] ...... penalty=l2, C=1178.76863479, score=0.699588, total=   0.2s\n",
      "[CV] penalty=l1, C=5179.47467923 .....................................\n",
      "[CV] ...... penalty=l1, C=5179.47467923, score=0.736042, total=   0.1s\n",
      "[CV] penalty=l1, C=5179.47467923 .....................................\n",
      "[CV] ...... penalty=l1, C=5179.47467923, score=0.784023, total=   0.1s\n",
      "[CV] penalty=l1, C=5179.47467923 .....................................\n",
      "[CV] ...... penalty=l1, C=5179.47467923, score=0.735992, total=   0.2s\n",
      "[CV] penalty=l1, C=5179.47467923 .....................................\n",
      "[CV] ...... penalty=l1, C=5179.47467923, score=0.751047, total=   0.1s\n",
      "[CV] penalty=l1, C=5179.47467923 .....................................\n",
      "[CV] ...... penalty=l1, C=5179.47467923, score=0.699589, total=   0.1s\n",
      "[CV] penalty=l2, C=5179.47467923 .....................................\n"
     ]
    },
    {
     "name": "stdout",
     "output_type": "stream",
     "text": [
      "[CV] ...... penalty=l2, C=5179.47467923, score=0.736038, total=   0.1s\n",
      "[CV] penalty=l2, C=5179.47467923 .....................................\n",
      "[CV] ...... penalty=l2, C=5179.47467923, score=0.784023, total=   0.1s\n",
      "[CV] penalty=l2, C=5179.47467923 .....................................\n",
      "[CV] ...... penalty=l2, C=5179.47467923, score=0.735991, total=   0.1s\n",
      "[CV] penalty=l2, C=5179.47467923 .....................................\n",
      "[CV] ...... penalty=l2, C=5179.47467923, score=0.751044, total=   0.2s\n",
      "[CV] penalty=l2, C=5179.47467923 .....................................\n",
      "[CV] ...... penalty=l2, C=5179.47467923, score=0.699588, total=   0.1s\n",
      "[CV] penalty=l1, C=22758.4592607 .....................................\n",
      "[CV] ...... penalty=l1, C=22758.4592607, score=0.736039, total=   0.1s\n",
      "[CV] penalty=l1, C=22758.4592607 .....................................\n",
      "[CV] ...... penalty=l1, C=22758.4592607, score=0.784023, total=   0.1s\n",
      "[CV] penalty=l1, C=22758.4592607 .....................................\n",
      "[CV] ...... penalty=l1, C=22758.4592607, score=0.735992, total=   0.2s\n",
      "[CV] penalty=l1, C=22758.4592607 .....................................\n",
      "[CV] ...... penalty=l1, C=22758.4592607, score=0.751045, total=   0.1s\n",
      "[CV] penalty=l1, C=22758.4592607 .....................................\n",
      "[CV] ...... penalty=l1, C=22758.4592607, score=0.699588, total=   0.1s\n",
      "[CV] penalty=l2, C=22758.4592607 .....................................\n",
      "[CV] ...... penalty=l2, C=22758.4592607, score=0.736038, total=   0.1s\n",
      "[CV] penalty=l2, C=22758.4592607 .....................................\n",
      "[CV] ...... penalty=l2, C=22758.4592607, score=0.784023, total=   0.1s\n",
      "[CV] penalty=l2, C=22758.4592607 .....................................\n",
      "[CV] ...... penalty=l2, C=22758.4592607, score=0.735991, total=   0.1s\n",
      "[CV] penalty=l2, C=22758.4592607 .....................................\n",
      "[CV] ...... penalty=l2, C=22758.4592607, score=0.751044, total=   0.1s\n",
      "[CV] penalty=l2, C=22758.4592607 .....................................\n",
      "[CV] ...... penalty=l2, C=22758.4592607, score=0.699588, total=   0.1s\n",
      "[CV] penalty=l1, C=100000.0 ..........................................\n",
      "[CV] ........... penalty=l1, C=100000.0, score=0.736041, total=   0.1s\n",
      "[CV] penalty=l1, C=100000.0 ..........................................\n",
      "[CV] ........... penalty=l1, C=100000.0, score=0.784023, total=   0.1s\n",
      "[CV] penalty=l1, C=100000.0 ..........................................\n",
      "[CV] ........... penalty=l1, C=100000.0, score=0.735992, total=   0.1s\n",
      "[CV] penalty=l1, C=100000.0 ..........................................\n",
      "[CV] ........... penalty=l1, C=100000.0, score=0.751045, total=   0.1s\n",
      "[CV] penalty=l1, C=100000.0 ..........................................\n",
      "[CV] ........... penalty=l1, C=100000.0, score=0.699589, total=   0.1s\n",
      "[CV] penalty=l2, C=100000.0 ..........................................\n",
      "[CV] ........... penalty=l2, C=100000.0, score=0.736038, total=   0.1s\n",
      "[CV] penalty=l2, C=100000.0 ..........................................\n",
      "[CV] ........... penalty=l2, C=100000.0, score=0.784023, total=   0.2s\n",
      "[CV] penalty=l2, C=100000.0 ..........................................\n",
      "[CV] ........... penalty=l2, C=100000.0, score=0.735991, total=   0.2s\n",
      "[CV] penalty=l2, C=100000.0 ..........................................\n",
      "[CV] ........... penalty=l2, C=100000.0, score=0.751044, total=   0.1s\n",
      "[CV] penalty=l2, C=100000.0 ..........................................\n",
      "[CV] ........... penalty=l2, C=100000.0, score=0.699588, total=   0.1s\n"
     ]
    },
    {
     "name": "stderr",
     "output_type": "stream",
     "text": [
      "[Parallel(n_jobs=1)]: Done 150 out of 150 | elapsed:   41.0s finished\n"
     ]
    },
    {
     "name": "stdout",
     "output_type": "stream",
     "text": [
      "Fitting 5 folds for each of 30 candidates, totalling 150 fits\n",
      "[CV] penalty=l1, C=0.0001 ............................................\n",
      "[CV] ............. penalty=l1, C=0.0001, score=0.500000, total=   0.0s\n",
      "[CV] penalty=l1, C=0.0001 ............................................\n",
      "[CV] ............. penalty=l1, C=0.0001, score=0.500000, total=   0.0s\n",
      "[CV] penalty=l1, C=0.0001 ............................................\n"
     ]
    },
    {
     "name": "stderr",
     "output_type": "stream",
     "text": [
      "[Parallel(n_jobs=1)]: Done   1 out of   1 | elapsed:    0.1s remaining:    0.0s\n",
      "[Parallel(n_jobs=1)]: Done   2 out of   2 | elapsed:    0.2s remaining:    0.0s\n"
     ]
    },
    {
     "name": "stdout",
     "output_type": "stream",
     "text": [
      "[CV] ............. penalty=l1, C=0.0001, score=0.500000, total=   0.1s\n",
      "[CV] penalty=l1, C=0.0001 ............................................\n",
      "[CV] ............. penalty=l1, C=0.0001, score=0.500000, total=   0.1s\n",
      "[CV] penalty=l1, C=0.0001 ............................................\n"
     ]
    },
    {
     "name": "stderr",
     "output_type": "stream",
     "text": [
      "[Parallel(n_jobs=1)]: Done   3 out of   3 | elapsed:    0.4s remaining:    0.0s\n",
      "[Parallel(n_jobs=1)]: Done   4 out of   4 | elapsed:    0.6s remaining:    0.0s\n"
     ]
    },
    {
     "name": "stdout",
     "output_type": "stream",
     "text": [
      "[CV] ............. penalty=l1, C=0.0001, score=0.500000, total=   0.1s\n",
      "[CV] penalty=l2, C=0.0001 ............................................\n"
     ]
    },
    {
     "name": "stderr",
     "output_type": "stream",
     "text": [
      "[Parallel(n_jobs=1)]: Done   5 out of   5 | elapsed:    0.8s remaining:    0.0s\n"
     ]
    },
    {
     "name": "stdout",
     "output_type": "stream",
     "text": [
      "[CV] ............. penalty=l2, C=0.0001, score=0.637165, total=   0.1s\n",
      "[CV] penalty=l2, C=0.0001 ............................................\n"
     ]
    },
    {
     "name": "stderr",
     "output_type": "stream",
     "text": [
      "[Parallel(n_jobs=1)]: Done   6 out of   6 | elapsed:    1.0s remaining:    0.0s\n"
     ]
    },
    {
     "name": "stdout",
     "output_type": "stream",
     "text": [
      "[CV] ............. penalty=l2, C=0.0001, score=0.662567, total=   0.1s\n",
      "[CV] penalty=l2, C=0.0001 ............................................\n"
     ]
    },
    {
     "name": "stderr",
     "output_type": "stream",
     "text": [
      "[Parallel(n_jobs=1)]: Done   7 out of   7 | elapsed:    1.3s remaining:    0.0s\n"
     ]
    },
    {
     "name": "stdout",
     "output_type": "stream",
     "text": [
      "[CV] ............. penalty=l2, C=0.0001, score=0.642035, total=   0.1s\n",
      "[CV] penalty=l2, C=0.0001 ............................................\n"
     ]
    },
    {
     "name": "stderr",
     "output_type": "stream",
     "text": [
      "[Parallel(n_jobs=1)]: Done   8 out of   8 | elapsed:    1.5s remaining:    0.0s\n"
     ]
    },
    {
     "name": "stdout",
     "output_type": "stream",
     "text": [
      "[CV] ............. penalty=l2, C=0.0001, score=0.686771, total=   0.1s\n",
      "[CV] penalty=l2, C=0.0001 ............................................\n",
      "[CV] ............. penalty=l2, C=0.0001, score=0.669757, total=   0.1s"
     ]
    },
    {
     "name": "stderr",
     "output_type": "stream",
     "text": [
      "[Parallel(n_jobs=1)]: Done   9 out of   9 | elapsed:    1.7s remaining:    0.0s\n"
     ]
    },
    {
     "name": "stdout",
     "output_type": "stream",
     "text": [
      "\n",
      "[CV] penalty=l1, C=0.000439397056076 .................................\n",
      "[CV] .. penalty=l1, C=0.000439397056076, score=0.500000, total=   0.1s\n",
      "[CV] penalty=l1, C=0.000439397056076 .................................\n",
      "[CV] .. penalty=l1, C=0.000439397056076, score=0.500000, total=   0.1s\n",
      "[CV] penalty=l1, C=0.000439397056076 .................................\n",
      "[CV] .. penalty=l1, C=0.000439397056076, score=0.500000, total=   0.1s\n",
      "[CV] penalty=l1, C=0.000439397056076 .................................\n",
      "[CV] .. penalty=l1, C=0.000439397056076, score=0.500000, total=   0.1s\n",
      "[CV] penalty=l1, C=0.000439397056076 .................................\n",
      "[CV] .. penalty=l1, C=0.000439397056076, score=0.500000, total=   0.1s\n",
      "[CV] penalty=l2, C=0.000439397056076 .................................\n",
      "[CV] .. penalty=l2, C=0.000439397056076, score=0.663649, total=   0.1s\n",
      "[CV] penalty=l2, C=0.000439397056076 .................................\n",
      "[CV] .. penalty=l2, C=0.000439397056076, score=0.715288, total=   0.1s\n",
      "[CV] penalty=l2, C=0.000439397056076 .................................\n",
      "[CV] .. penalty=l2, C=0.000439397056076, score=0.674910, total=   0.1s\n",
      "[CV] penalty=l2, C=0.000439397056076 .................................\n",
      "[CV] .. penalty=l2, C=0.000439397056076, score=0.714720, total=   0.1s\n",
      "[CV] penalty=l2, C=0.000439397056076 .................................\n",
      "[CV] .. penalty=l2, C=0.000439397056076, score=0.690546, total=   0.1s\n",
      "[CV] penalty=l1, C=0.00193069772888 ..................................\n",
      "[CV] ... penalty=l1, C=0.00193069772888, score=0.619645, total=   0.1s\n",
      "[CV] penalty=l1, C=0.00193069772888 ..................................\n",
      "[CV] ... penalty=l1, C=0.00193069772888, score=0.667220, total=   0.1s\n",
      "[CV] penalty=l1, C=0.00193069772888 ..................................\n",
      "[CV] ... penalty=l1, C=0.00193069772888, score=0.643124, total=   0.1s\n",
      "[CV] penalty=l1, C=0.00193069772888 ..................................\n",
      "[CV] ... penalty=l1, C=0.00193069772888, score=0.686627, total=   0.1s\n",
      "[CV] penalty=l1, C=0.00193069772888 ..................................\n",
      "[CV] ... penalty=l1, C=0.00193069772888, score=0.703451, total=   0.1s\n",
      "[CV] penalty=l2, C=0.00193069772888 ..................................\n",
      "[CV] ... penalty=l2, C=0.00193069772888, score=0.694518, total=   0.1s\n",
      "[CV] penalty=l2, C=0.00193069772888 ..................................\n",
      "[CV] ... penalty=l2, C=0.00193069772888, score=0.758652, total=   0.1s\n",
      "[CV] penalty=l2, C=0.00193069772888 ..................................\n",
      "[CV] ... penalty=l2, C=0.00193069772888, score=0.706338, total=   0.1s\n",
      "[CV] penalty=l2, C=0.00193069772888 ..................................\n",
      "[CV] ... penalty=l2, C=0.00193069772888, score=0.738764, total=   0.1s\n",
      "[CV] penalty=l2, C=0.00193069772888 ..................................\n",
      "[CV] ... penalty=l2, C=0.00193069772888, score=0.696877, total=   0.1s\n",
      "[CV] penalty=l1, C=0.00848342898244 ..................................\n",
      "[CV] ... penalty=l1, C=0.00848342898244, score=0.713646, total=   0.1s\n",
      "[CV] penalty=l1, C=0.00848342898244 ..................................\n",
      "[CV] ... penalty=l1, C=0.00848342898244, score=0.773174, total=   0.1s\n",
      "[CV] penalty=l1, C=0.00848342898244 ..................................\n",
      "[CV] ... penalty=l1, C=0.00848342898244, score=0.727722, total=   0.1s\n",
      "[CV] penalty=l1, C=0.00848342898244 ..................................\n",
      "[CV] ... penalty=l1, C=0.00848342898244, score=0.751758, total=   0.1s\n",
      "[CV] penalty=l1, C=0.00848342898244 ..................................\n",
      "[CV] ... penalty=l1, C=0.00848342898244, score=0.697209, total=   0.1s\n",
      "[CV] penalty=l2, C=0.00848342898244 ..................................\n",
      "[CV] ... penalty=l2, C=0.00848342898244, score=0.719482, total=   0.1s\n",
      "[CV] penalty=l2, C=0.00848342898244 ..................................\n",
      "[CV] ... penalty=l2, C=0.00848342898244, score=0.776817, total=   0.1s\n",
      "[CV] penalty=l2, C=0.00848342898244 ..................................\n",
      "[CV] ... penalty=l2, C=0.00848342898244, score=0.725588, total=   0.2s\n",
      "[CV] penalty=l2, C=0.00848342898244 ..................................\n",
      "[CV] ... penalty=l2, C=0.00848342898244, score=0.749381, total=   0.1s\n",
      "[CV] penalty=l2, C=0.00848342898244 ..................................\n",
      "[CV] ... penalty=l2, C=0.00848342898244, score=0.696726, total=   0.1s\n",
      "[CV] penalty=l1, C=0.0372759372031 ...................................\n",
      "[CV] .... penalty=l1, C=0.0372759372031, score=0.730736, total=   0.1s\n",
      "[CV] penalty=l1, C=0.0372759372031 ...................................\n",
      "[CV] .... penalty=l1, C=0.0372759372031, score=0.782848, total=   0.1s\n",
      "[CV] penalty=l1, C=0.0372759372031 ...................................\n",
      "[CV] .... penalty=l1, C=0.0372759372031, score=0.734272, total=   0.1s\n",
      "[CV] penalty=l1, C=0.0372759372031 ...................................\n",
      "[CV] .... penalty=l1, C=0.0372759372031, score=0.753039, total=   0.1s\n",
      "[CV] penalty=l1, C=0.0372759372031 ...................................\n",
      "[CV] .... penalty=l1, C=0.0372759372031, score=0.697365, total=   0.1s\n",
      "[CV] penalty=l2, C=0.0372759372031 ...................................\n",
      "[CV] .... penalty=l2, C=0.0372759372031, score=0.729692, total=   0.1s\n",
      "[CV] penalty=l2, C=0.0372759372031 ...................................\n",
      "[CV] .... penalty=l2, C=0.0372759372031, score=0.782344, total=   0.1s\n",
      "[CV] penalty=l2, C=0.0372759372031 ...................................\n",
      "[CV] .... penalty=l2, C=0.0372759372031, score=0.733772, total=   0.1s\n",
      "[CV] penalty=l2, C=0.0372759372031 ...................................\n",
      "[CV] .... penalty=l2, C=0.0372759372031, score=0.752253, total=   0.1s\n",
      "[CV] penalty=l2, C=0.0372759372031 ...................................\n",
      "[CV] .... penalty=l2, C=0.0372759372031, score=0.696891, total=   0.1s\n",
      "[CV] penalty=l1, C=0.163789370695 ....................................\n",
      "[CV] ..... penalty=l1, C=0.163789370695, score=0.734005, total=   0.2s\n",
      "[CV] penalty=l1, C=0.163789370695 ....................................\n",
      "[CV] ..... penalty=l1, C=0.163789370695, score=0.784263, total=   0.2s\n",
      "[CV] penalty=l1, C=0.163789370695 ....................................\n",
      "[CV] ..... penalty=l1, C=0.163789370695, score=0.734875, total=   0.2s\n",
      "[CV] penalty=l1, C=0.163789370695 ....................................\n",
      "[CV] ..... penalty=l1, C=0.163789370695, score=0.753099, total=   0.1s\n",
      "[CV] penalty=l1, C=0.163789370695 ....................................\n",
      "[CV] ..... penalty=l1, C=0.163789370695, score=0.697338, total=   0.2s\n",
      "[CV] penalty=l2, C=0.163789370695 ....................................\n",
      "[CV] ..... penalty=l2, C=0.163789370695, score=0.733556, total=   0.1s\n",
      "[CV] penalty=l2, C=0.163789370695 ....................................\n",
      "[CV] ..... penalty=l2, C=0.163789370695, score=0.784277, total=   0.1s\n",
      "[CV] penalty=l2, C=0.163789370695 ....................................\n",
      "[CV] ..... penalty=l2, C=0.163789370695, score=0.735031, total=   0.1s\n",
      "[CV] penalty=l2, C=0.163789370695 ....................................\n",
      "[CV] ..... penalty=l2, C=0.163789370695, score=0.752886, total=   0.1s\n",
      "[CV] penalty=l2, C=0.163789370695 ....................................\n",
      "[CV] ..... penalty=l2, C=0.163789370695, score=0.697246, total=   0.1s\n",
      "[CV] penalty=l1, C=0.719685673001 ....................................\n",
      "[CV] ..... penalty=l1, C=0.719685673001, score=0.734778, total=   0.1s\n",
      "[CV] penalty=l1, C=0.719685673001 ....................................\n",
      "[CV] ..... penalty=l1, C=0.719685673001, score=0.784439, total=   0.2s\n",
      "[CV] penalty=l1, C=0.719685673001 ....................................\n",
      "[CV] ..... penalty=l1, C=0.719685673001, score=0.734950, total=   0.2s\n",
      "[CV] penalty=l1, C=0.719685673001 ....................................\n",
      "[CV] ..... penalty=l1, C=0.719685673001, score=0.753262, total=   0.2s\n",
      "[CV] penalty=l1, C=0.719685673001 ....................................\n",
      "[CV] ..... penalty=l1, C=0.719685673001, score=0.697292, total=   0.1s\n",
      "[CV] penalty=l2, C=0.719685673001 ....................................\n",
      "[CV] ..... penalty=l2, C=0.719685673001, score=0.734649, total=   0.2s\n",
      "[CV] penalty=l2, C=0.719685673001 ....................................\n",
      "[CV] ..... penalty=l2, C=0.719685673001, score=0.784449, total=   0.1s\n",
      "[CV] penalty=l2, C=0.719685673001 ....................................\n",
      "[CV] ..... penalty=l2, C=0.719685673001, score=0.734990, total=   0.1s\n",
      "[CV] penalty=l2, C=0.719685673001 ....................................\n"
     ]
    },
    {
     "name": "stdout",
     "output_type": "stream",
     "text": [
      "[CV] ..... penalty=l2, C=0.719685673001, score=0.753187, total=   0.1s\n",
      "[CV] penalty=l2, C=0.719685673001 ....................................\n",
      "[CV] ..... penalty=l2, C=0.719685673001, score=0.697310, total=   0.1s\n",
      "[CV] penalty=l1, C=3.16227766017 .....................................\n",
      "[CV] ...... penalty=l1, C=3.16227766017, score=0.734957, total=   0.1s\n",
      "[CV] penalty=l1, C=3.16227766017 .....................................\n",
      "[CV] ...... penalty=l1, C=3.16227766017, score=0.784479, total=   0.1s\n",
      "[CV] penalty=l1, C=3.16227766017 .....................................\n",
      "[CV] ...... penalty=l1, C=3.16227766017, score=0.734969, total=   0.1s\n",
      "[CV] penalty=l1, C=3.16227766017 .....................................\n",
      "[CV] ...... penalty=l1, C=3.16227766017, score=0.753308, total=   0.1s\n",
      "[CV] penalty=l1, C=3.16227766017 .....................................\n",
      "[CV] ...... penalty=l1, C=3.16227766017, score=0.697271, total=   0.1s\n",
      "[CV] penalty=l2, C=3.16227766017 .....................................\n",
      "[CV] ...... penalty=l2, C=3.16227766017, score=0.734926, total=   0.1s\n",
      "[CV] penalty=l2, C=3.16227766017 .....................................\n",
      "[CV] ...... penalty=l2, C=3.16227766017, score=0.784482, total=   0.1s\n",
      "[CV] penalty=l2, C=3.16227766017 .....................................\n",
      "[CV] ...... penalty=l2, C=3.16227766017, score=0.734977, total=   0.1s\n",
      "[CV] penalty=l2, C=3.16227766017 .....................................\n",
      "[CV] ...... penalty=l2, C=3.16227766017, score=0.753288, total=   0.1s\n",
      "[CV] penalty=l2, C=3.16227766017 .....................................\n",
      "[CV] ...... penalty=l2, C=3.16227766017, score=0.697277, total=   0.1s\n",
      "[CV] penalty=l1, C=13.8949549437 .....................................\n",
      "[CV] ...... penalty=l1, C=13.8949549437, score=0.734997, total=   0.1s\n",
      "[CV] penalty=l1, C=13.8949549437 .....................................\n",
      "[CV] ...... penalty=l1, C=13.8949549437, score=0.784483, total=   0.2s\n",
      "[CV] penalty=l1, C=13.8949549437 .....................................\n",
      "[CV] ...... penalty=l1, C=13.8949549437, score=0.734968, total=   0.1s\n",
      "[CV] penalty=l1, C=13.8949549437 .....................................\n",
      "[CV] ...... penalty=l1, C=13.8949549437, score=0.753319, total=   0.1s\n",
      "[CV] penalty=l1, C=13.8949549437 .....................................\n",
      "[CV] ...... penalty=l1, C=13.8949549437, score=0.697266, total=   0.1s\n",
      "[CV] penalty=l2, C=13.8949549437 .....................................\n",
      "[CV] ...... penalty=l2, C=13.8949549437, score=0.734988, total=   0.1s\n",
      "[CV] penalty=l2, C=13.8949549437 .....................................\n",
      "[CV] ...... penalty=l2, C=13.8949549437, score=0.784486, total=   0.1s\n",
      "[CV] penalty=l2, C=13.8949549437 .....................................\n",
      "[CV] ...... penalty=l2, C=13.8949549437, score=0.734972, total=   0.1s\n",
      "[CV] penalty=l2, C=13.8949549437 .....................................\n",
      "[CV] ...... penalty=l2, C=13.8949549437, score=0.753314, total=   0.1s\n",
      "[CV] penalty=l2, C=13.8949549437 .....................................\n",
      "[CV] ...... penalty=l2, C=13.8949549437, score=0.697265, total=   0.1s\n",
      "[CV] penalty=l1, C=61.0540229659 .....................................\n",
      "[CV] ...... penalty=l1, C=61.0540229659, score=0.735006, total=   0.1s\n",
      "[CV] penalty=l1, C=61.0540229659 .....................................\n",
      "[CV] ...... penalty=l1, C=61.0540229659, score=0.784483, total=   0.2s\n",
      "[CV] penalty=l1, C=61.0540229659 .....................................\n",
      "[CV] ...... penalty=l1, C=61.0540229659, score=0.734968, total=   0.1s\n",
      "[CV] penalty=l1, C=61.0540229659 .....................................\n",
      "[CV] ...... penalty=l1, C=61.0540229659, score=0.753324, total=   0.1s\n",
      "[CV] penalty=l1, C=61.0540229659 .....................................\n",
      "[CV] ...... penalty=l1, C=61.0540229659, score=0.697265, total=   0.1s\n",
      "[CV] penalty=l2, C=61.0540229659 .....................................\n",
      "[CV] ...... penalty=l2, C=61.0540229659, score=0.735002, total=   0.1s\n",
      "[CV] penalty=l2, C=61.0540229659 .....................................\n",
      "[CV] ...... penalty=l2, C=61.0540229659, score=0.784484, total=   0.1s\n",
      "[CV] penalty=l2, C=61.0540229659 .....................................\n",
      "[CV] ...... penalty=l2, C=61.0540229659, score=0.734967, total=   0.1s\n",
      "[CV] penalty=l2, C=61.0540229659 .....................................\n",
      "[CV] ...... penalty=l2, C=61.0540229659, score=0.753320, total=   0.1s\n",
      "[CV] penalty=l2, C=61.0540229659 .....................................\n",
      "[CV] ...... penalty=l2, C=61.0540229659, score=0.697265, total=   0.1s\n",
      "[CV] penalty=l1, C=268.269579528 .....................................\n",
      "[CV] ...... penalty=l1, C=268.269579528, score=0.735009, total=   0.1s\n",
      "[CV] penalty=l1, C=268.269579528 .....................................\n",
      "[CV] ...... penalty=l1, C=268.269579528, score=0.784484, total=   0.1s\n",
      "[CV] penalty=l1, C=268.269579528 .....................................\n",
      "[CV] ...... penalty=l1, C=268.269579528, score=0.734967, total=   0.1s\n",
      "[CV] penalty=l1, C=268.269579528 .....................................\n",
      "[CV] ...... penalty=l1, C=268.269579528, score=0.753322, total=   0.1s\n",
      "[CV] penalty=l1, C=268.269579528 .....................................\n",
      "[CV] ...... penalty=l1, C=268.269579528, score=0.697264, total=   0.1s\n",
      "[CV] penalty=l2, C=268.269579528 .....................................\n",
      "[CV] ...... penalty=l2, C=268.269579528, score=0.735005, total=   0.1s\n",
      "[CV] penalty=l2, C=268.269579528 .....................................\n",
      "[CV] ...... penalty=l2, C=268.269579528, score=0.784483, total=   0.2s\n",
      "[CV] penalty=l2, C=268.269579528 .....................................\n",
      "[CV] ...... penalty=l2, C=268.269579528, score=0.734967, total=   0.1s\n",
      "[CV] penalty=l2, C=268.269579528 .....................................\n",
      "[CV] ...... penalty=l2, C=268.269579528, score=0.753322, total=   0.1s\n",
      "[CV] penalty=l2, C=268.269579528 .....................................\n",
      "[CV] ...... penalty=l2, C=268.269579528, score=0.697264, total=   0.1s\n",
      "[CV] penalty=l1, C=1178.76863479 .....................................\n",
      "[CV] ...... penalty=l1, C=1178.76863479, score=0.735007, total=   0.1s\n",
      "[CV] penalty=l1, C=1178.76863479 .....................................\n",
      "[CV] ...... penalty=l1, C=1178.76863479, score=0.784484, total=   0.1s\n",
      "[CV] penalty=l1, C=1178.76863479 .....................................\n",
      "[CV] ...... penalty=l1, C=1178.76863479, score=0.734967, total=   0.1s\n",
      "[CV] penalty=l1, C=1178.76863479 .....................................\n",
      "[CV] ...... penalty=l1, C=1178.76863479, score=0.753323, total=   0.1s\n",
      "[CV] penalty=l1, C=1178.76863479 .....................................\n",
      "[CV] ...... penalty=l1, C=1178.76863479, score=0.697264, total=   0.1s\n",
      "[CV] penalty=l2, C=1178.76863479 .....................................\n",
      "[CV] ...... penalty=l2, C=1178.76863479, score=0.735005, total=   0.1s\n",
      "[CV] penalty=l2, C=1178.76863479 .....................................\n",
      "[CV] ...... penalty=l2, C=1178.76863479, score=0.784483, total=   0.1s\n",
      "[CV] penalty=l2, C=1178.76863479 .....................................\n",
      "[CV] ...... penalty=l2, C=1178.76863479, score=0.734967, total=   0.1s\n",
      "[CV] penalty=l2, C=1178.76863479 .....................................\n",
      "[CV] ...... penalty=l2, C=1178.76863479, score=0.753322, total=   0.1s\n",
      "[CV] penalty=l2, C=1178.76863479 .....................................\n",
      "[CV] ...... penalty=l2, C=1178.76863479, score=0.697264, total=   0.1s\n",
      "[CV] penalty=l1, C=5179.47467923 .....................................\n",
      "[CV] ...... penalty=l1, C=5179.47467923, score=0.735010, total=   0.2s\n",
      "[CV] penalty=l1, C=5179.47467923 .....................................\n",
      "[CV] ...... penalty=l1, C=5179.47467923, score=0.784484, total=   0.1s\n",
      "[CV] penalty=l1, C=5179.47467923 .....................................\n",
      "[CV] ...... penalty=l1, C=5179.47467923, score=0.734967, total=   0.1s\n",
      "[CV] penalty=l1, C=5179.47467923 .....................................\n",
      "[CV] ...... penalty=l1, C=5179.47467923, score=0.753324, total=   0.1s\n",
      "[CV] penalty=l1, C=5179.47467923 .....................................\n",
      "[CV] ...... penalty=l1, C=5179.47467923, score=0.697265, total=   0.1s\n",
      "[CV] penalty=l2, C=5179.47467923 .....................................\n",
      "[CV] ...... penalty=l2, C=5179.47467923, score=0.735005, total=   0.1s\n",
      "[CV] penalty=l2, C=5179.47467923 .....................................\n"
     ]
    },
    {
     "name": "stdout",
     "output_type": "stream",
     "text": [
      "[CV] ...... penalty=l2, C=5179.47467923, score=0.784483, total=   0.2s\n",
      "[CV] penalty=l2, C=5179.47467923 .....................................\n",
      "[CV] ...... penalty=l2, C=5179.47467923, score=0.734967, total=   0.1s\n",
      "[CV] penalty=l2, C=5179.47467923 .....................................\n",
      "[CV] ...... penalty=l2, C=5179.47467923, score=0.753323, total=   0.1s\n",
      "[CV] penalty=l2, C=5179.47467923 .....................................\n",
      "[CV] ...... penalty=l2, C=5179.47467923, score=0.697264, total=   0.1s\n",
      "[CV] penalty=l1, C=22758.4592607 .....................................\n",
      "[CV] ...... penalty=l1, C=22758.4592607, score=0.735007, total=   0.1s\n",
      "[CV] penalty=l1, C=22758.4592607 .....................................\n",
      "[CV] ...... penalty=l1, C=22758.4592607, score=0.784484, total=   0.1s\n",
      "[CV] penalty=l1, C=22758.4592607 .....................................\n",
      "[CV] ...... penalty=l1, C=22758.4592607, score=0.734967, total=   0.1s\n",
      "[CV] penalty=l1, C=22758.4592607 .....................................\n",
      "[CV] ...... penalty=l1, C=22758.4592607, score=0.753324, total=   0.1s\n",
      "[CV] penalty=l1, C=22758.4592607 .....................................\n",
      "[CV] ...... penalty=l1, C=22758.4592607, score=0.697265, total=   0.1s\n",
      "[CV] penalty=l2, C=22758.4592607 .....................................\n",
      "[CV] ...... penalty=l2, C=22758.4592607, score=0.735005, total=   0.1s\n",
      "[CV] penalty=l2, C=22758.4592607 .....................................\n",
      "[CV] ...... penalty=l2, C=22758.4592607, score=0.784483, total=   0.2s\n",
      "[CV] penalty=l2, C=22758.4592607 .....................................\n",
      "[CV] ...... penalty=l2, C=22758.4592607, score=0.734967, total=   0.1s\n",
      "[CV] penalty=l2, C=22758.4592607 .....................................\n",
      "[CV] ...... penalty=l2, C=22758.4592607, score=0.753323, total=   0.1s\n",
      "[CV] penalty=l2, C=22758.4592607 .....................................\n",
      "[CV] ...... penalty=l2, C=22758.4592607, score=0.697264, total=   0.2s\n",
      "[CV] penalty=l1, C=100000.0 ..........................................\n",
      "[CV] ........... penalty=l1, C=100000.0, score=0.735007, total=   0.2s\n",
      "[CV] penalty=l1, C=100000.0 ..........................................\n",
      "[CV] ........... penalty=l1, C=100000.0, score=0.784484, total=   0.3s\n",
      "[CV] penalty=l1, C=100000.0 ..........................................\n",
      "[CV] ........... penalty=l1, C=100000.0, score=0.734968, total=   0.1s\n",
      "[CV] penalty=l1, C=100000.0 ..........................................\n",
      "[CV] ........... penalty=l1, C=100000.0, score=0.753324, total=   0.1s\n",
      "[CV] penalty=l1, C=100000.0 ..........................................\n",
      "[CV] ........... penalty=l1, C=100000.0, score=0.697264, total=   0.2s\n",
      "[CV] penalty=l2, C=100000.0 ..........................................\n",
      "[CV] ........... penalty=l2, C=100000.0, score=0.735005, total=   0.1s\n",
      "[CV] penalty=l2, C=100000.0 ..........................................\n",
      "[CV] ........... penalty=l2, C=100000.0, score=0.784483, total=   0.2s\n",
      "[CV] penalty=l2, C=100000.0 ..........................................\n",
      "[CV] ........... penalty=l2, C=100000.0, score=0.734967, total=   0.1s\n",
      "[CV] penalty=l2, C=100000.0 ..........................................\n",
      "[CV] ........... penalty=l2, C=100000.0, score=0.753323, total=   0.1s\n",
      "[CV] penalty=l2, C=100000.0 ..........................................\n",
      "[CV] ........... penalty=l2, C=100000.0, score=0.697264, total=   0.2s\n"
     ]
    },
    {
     "name": "stderr",
     "output_type": "stream",
     "text": [
      "[Parallel(n_jobs=1)]: Done 150 out of 150 | elapsed:   41.3s finished\n"
     ]
    },
    {
     "name": "stdout",
     "output_type": "stream",
     "text": [
      "Fitting 5 folds for each of 30 candidates, totalling 150 fits\n",
      "[CV] penalty=l1, C=0.0001 ............................................\n",
      "[CV] ............. penalty=l1, C=0.0001, score=0.500000, total=   0.1s\n",
      "[CV] penalty=l1, C=0.0001 ............................................\n",
      "[CV] ............. penalty=l1, C=0.0001, score=0.500000, total=   0.1s\n",
      "[CV] penalty=l1, C=0.0001 ............................................\n"
     ]
    },
    {
     "name": "stderr",
     "output_type": "stream",
     "text": [
      "[Parallel(n_jobs=1)]: Done   1 out of   1 | elapsed:    0.1s remaining:    0.0s\n",
      "[Parallel(n_jobs=1)]: Done   2 out of   2 | elapsed:    0.3s remaining:    0.0s\n"
     ]
    },
    {
     "name": "stdout",
     "output_type": "stream",
     "text": [
      "[CV] ............. penalty=l1, C=0.0001, score=0.500000, total=   0.0s\n",
      "[CV] penalty=l1, C=0.0001 ............................................\n",
      "[CV] ............. penalty=l1, C=0.0001, score=0.500000, total=   0.1s"
     ]
    },
    {
     "name": "stderr",
     "output_type": "stream",
     "text": [
      "[Parallel(n_jobs=1)]: Done   3 out of   3 | elapsed:    0.4s remaining:    0.0s\n"
     ]
    },
    {
     "name": "stdout",
     "output_type": "stream",
     "text": [
      "\n",
      "[CV] penalty=l1, C=0.0001 ............................................\n",
      "[CV] ............. penalty=l1, C=0.0001, score=0.500000, total=   0.1s\n",
      "[CV] penalty=l2, C=0.0001 ............................................\n"
     ]
    },
    {
     "name": "stderr",
     "output_type": "stream",
     "text": [
      "[Parallel(n_jobs=1)]: Done   4 out of   4 | elapsed:    0.6s remaining:    0.0s\n",
      "[Parallel(n_jobs=1)]: Done   5 out of   5 | elapsed:    0.8s remaining:    0.0s\n"
     ]
    },
    {
     "name": "stdout",
     "output_type": "stream",
     "text": [
      "[CV] ............. penalty=l2, C=0.0001, score=0.629285, total=   0.1s\n",
      "[CV] penalty=l2, C=0.0001 ............................................\n"
     ]
    },
    {
     "name": "stderr",
     "output_type": "stream",
     "text": [
      "[Parallel(n_jobs=1)]: Done   6 out of   6 | elapsed:    1.1s remaining:    0.0s\n"
     ]
    },
    {
     "name": "stdout",
     "output_type": "stream",
     "text": [
      "[CV] ............. penalty=l2, C=0.0001, score=0.675979, total=   0.1s\n",
      "[CV] penalty=l2, C=0.0001 ............................................\n"
     ]
    },
    {
     "name": "stderr",
     "output_type": "stream",
     "text": [
      "[Parallel(n_jobs=1)]: Done   7 out of   7 | elapsed:    1.3s remaining:    0.0s\n"
     ]
    },
    {
     "name": "stdout",
     "output_type": "stream",
     "text": [
      "[CV] ............. penalty=l2, C=0.0001, score=0.635210, total=   0.1s\n",
      "[CV] penalty=l2, C=0.0001 ............................................\n"
     ]
    },
    {
     "name": "stderr",
     "output_type": "stream",
     "text": [
      "[Parallel(n_jobs=1)]: Done   8 out of   8 | elapsed:    1.5s remaining:    0.0s\n"
     ]
    },
    {
     "name": "stdout",
     "output_type": "stream",
     "text": [
      "[CV] ............. penalty=l2, C=0.0001, score=0.689226, total=   0.1s\n",
      "[CV] penalty=l2, C=0.0001 ............................................\n"
     ]
    },
    {
     "name": "stderr",
     "output_type": "stream",
     "text": [
      "[Parallel(n_jobs=1)]: Done   9 out of   9 | elapsed:    1.8s remaining:    0.0s\n"
     ]
    },
    {
     "name": "stdout",
     "output_type": "stream",
     "text": [
      "[CV] ............. penalty=l2, C=0.0001, score=0.690225, total=   0.1s\n",
      "[CV] penalty=l1, C=0.000439397056076 .................................\n",
      "[CV] .. penalty=l1, C=0.000439397056076, score=0.500000, total=   0.1s\n",
      "[CV] penalty=l1, C=0.000439397056076 .................................\n",
      "[CV] .. penalty=l1, C=0.000439397056076, score=0.500000, total=   0.1s\n",
      "[CV] penalty=l1, C=0.000439397056076 .................................\n",
      "[CV] .. penalty=l1, C=0.000439397056076, score=0.500000, total=   0.1s\n",
      "[CV] penalty=l1, C=0.000439397056076 .................................\n",
      "[CV] .. penalty=l1, C=0.000439397056076, score=0.500000, total=   0.1s\n",
      "[CV] penalty=l1, C=0.000439397056076 .................................\n",
      "[CV] .. penalty=l1, C=0.000439397056076, score=0.500000, total=   0.1s\n",
      "[CV] penalty=l2, C=0.000439397056076 .................................\n",
      "[CV] .. penalty=l2, C=0.000439397056076, score=0.661834, total=   0.1s\n",
      "[CV] penalty=l2, C=0.000439397056076 .................................\n",
      "[CV] .. penalty=l2, C=0.000439397056076, score=0.719641, total=   0.1s\n",
      "[CV] penalty=l2, C=0.000439397056076 .................................\n",
      "[CV] .. penalty=l2, C=0.000439397056076, score=0.670007, total=   0.1s\n",
      "[CV] penalty=l2, C=0.000439397056076 .................................\n",
      "[CV] .. penalty=l2, C=0.000439397056076, score=0.713804, total=   0.1s\n",
      "[CV] penalty=l2, C=0.000439397056076 .................................\n",
      "[CV] .. penalty=l2, C=0.000439397056076, score=0.702646, total=   0.1s\n",
      "[CV] penalty=l1, C=0.00193069772888 ..................................\n",
      "[CV] ... penalty=l1, C=0.00193069772888, score=0.577132, total=   0.1s\n",
      "[CV] penalty=l1, C=0.00193069772888 ..................................\n",
      "[CV] ... penalty=l1, C=0.00193069772888, score=0.500000, total=   0.1s\n",
      "[CV] penalty=l1, C=0.00193069772888 ..................................\n",
      "[CV] ... penalty=l1, C=0.00193069772888, score=0.500000, total=   0.1s\n",
      "[CV] penalty=l1, C=0.00193069772888 ..................................\n",
      "[CV] ... penalty=l1, C=0.00193069772888, score=0.500000, total=   0.1s\n",
      "[CV] penalty=l1, C=0.00193069772888 ..................................\n",
      "[CV] ... penalty=l1, C=0.00193069772888, score=0.500000, total=   0.1s\n",
      "[CV] penalty=l2, C=0.00193069772888 ..................................\n",
      "[CV] ... penalty=l2, C=0.00193069772888, score=0.700254, total=   0.1s\n",
      "[CV] penalty=l2, C=0.00193069772888 ..................................\n",
      "[CV] ... penalty=l2, C=0.00193069772888, score=0.770733, total=   0.1s\n",
      "[CV] penalty=l2, C=0.00193069772888 ..................................\n",
      "[CV] ... penalty=l2, C=0.00193069772888, score=0.716584, total=   0.1s\n",
      "[CV] penalty=l2, C=0.00193069772888 ..................................\n",
      "[CV] ... penalty=l2, C=0.00193069772888, score=0.736953, total=   0.1s\n",
      "[CV] penalty=l2, C=0.00193069772888 ..................................\n",
      "[CV] ... penalty=l2, C=0.00193069772888, score=0.716839, total=   0.1s\n",
      "[CV] penalty=l1, C=0.00848342898244 ..................................\n",
      "[CV] ... penalty=l1, C=0.00848342898244, score=0.719870, total=   0.1s\n",
      "[CV] penalty=l1, C=0.00848342898244 ..................................\n",
      "[CV] ... penalty=l1, C=0.00848342898244, score=0.779718, total=   0.1s\n",
      "[CV] penalty=l1, C=0.00848342898244 ..................................\n",
      "[CV] ... penalty=l1, C=0.00848342898244, score=0.748246, total=   0.1s\n",
      "[CV] penalty=l1, C=0.00848342898244 ..................................\n",
      "[CV] ... penalty=l1, C=0.00848342898244, score=0.755241, total=   0.2s\n",
      "[CV] penalty=l1, C=0.00848342898244 ..................................\n",
      "[CV] ... penalty=l1, C=0.00848342898244, score=0.713433, total=   0.1s\n",
      "[CV] penalty=l2, C=0.00848342898244 ..................................\n",
      "[CV] ... penalty=l2, C=0.00848342898244, score=0.723795, total=   0.1s\n",
      "[CV] penalty=l2, C=0.00848342898244 ..................................\n",
      "[CV] ... penalty=l2, C=0.00848342898244, score=0.782302, total=   0.2s\n",
      "[CV] penalty=l2, C=0.00848342898244 ..................................\n",
      "[CV] ... penalty=l2, C=0.00848342898244, score=0.745304, total=   0.1s\n",
      "[CV] penalty=l2, C=0.00848342898244 ..................................\n",
      "[CV] ... penalty=l2, C=0.00848342898244, score=0.747151, total=   0.1s\n",
      "[CV] penalty=l2, C=0.00848342898244 ..................................\n",
      "[CV] ... penalty=l2, C=0.00848342898244, score=0.711260, total=   0.1s\n",
      "[CV] penalty=l1, C=0.0372759372031 ...................................\n",
      "[CV] .... penalty=l1, C=0.0372759372031, score=0.736350, total=   0.2s\n",
      "[CV] penalty=l1, C=0.0372759372031 ...................................\n",
      "[CV] .... penalty=l1, C=0.0372759372031, score=0.778589, total=   0.1s\n",
      "[CV] penalty=l1, C=0.0372759372031 ...................................\n",
      "[CV] .... penalty=l1, C=0.0372759372031, score=0.757083, total=   0.2s\n",
      "[CV] penalty=l1, C=0.0372759372031 ...................................\n",
      "[CV] .... penalty=l1, C=0.0372759372031, score=0.752342, total=   0.1s\n",
      "[CV] penalty=l1, C=0.0372759372031 ...................................\n",
      "[CV] .... penalty=l1, C=0.0372759372031, score=0.704302, total=   0.1s\n",
      "[CV] penalty=l2, C=0.0372759372031 ...................................\n",
      "[CV] .... penalty=l2, C=0.0372759372031, score=0.734403, total=   0.1s\n",
      "[CV] penalty=l2, C=0.0372759372031 ...................................\n",
      "[CV] .... penalty=l2, C=0.0372759372031, score=0.779543, total=   0.2s\n",
      "[CV] penalty=l2, C=0.0372759372031 ...................................\n",
      "[CV] .... penalty=l2, C=0.0372759372031, score=0.755712, total=   0.2s\n",
      "[CV] penalty=l2, C=0.0372759372031 ...................................\n",
      "[CV] .... penalty=l2, C=0.0372759372031, score=0.750183, total=   0.2s\n",
      "[CV] penalty=l2, C=0.0372759372031 ...................................\n",
      "[CV] .... penalty=l2, C=0.0372759372031, score=0.705565, total=   0.1s\n",
      "[CV] penalty=l1, C=0.163789370695 ....................................\n",
      "[CV] ..... penalty=l1, C=0.163789370695, score=0.739107, total=   0.2s\n",
      "[CV] penalty=l1, C=0.163789370695 ....................................\n",
      "[CV] ..... penalty=l1, C=0.163789370695, score=0.777674, total=   0.2s\n",
      "[CV] penalty=l1, C=0.163789370695 ....................................\n",
      "[CV] ..... penalty=l1, C=0.163789370695, score=0.758317, total=   0.2s\n",
      "[CV] penalty=l1, C=0.163789370695 ....................................\n",
      "[CV] ..... penalty=l1, C=0.163789370695, score=0.752794, total=   0.1s\n",
      "[CV] penalty=l1, C=0.163789370695 ....................................\n",
      "[CV] ..... penalty=l1, C=0.163789370695, score=0.702634, total=   0.2s\n",
      "[CV] penalty=l2, C=0.163789370695 ....................................\n",
      "[CV] ..... penalty=l2, C=0.163789370695, score=0.738484, total=   0.2s\n",
      "[CV] penalty=l2, C=0.163789370695 ....................................\n",
      "[CV] ..... penalty=l2, C=0.163789370695, score=0.778047, total=   0.2s\n",
      "[CV] penalty=l2, C=0.163789370695 ....................................\n",
      "[CV] ..... penalty=l2, C=0.163789370695, score=0.757816, total=   0.2s\n",
      "[CV] penalty=l2, C=0.163789370695 ....................................\n",
      "[CV] ..... penalty=l2, C=0.163789370695, score=0.752207, total=   0.2s\n",
      "[CV] penalty=l2, C=0.163789370695 ....................................\n",
      "[CV] ..... penalty=l2, C=0.163789370695, score=0.702927, total=   0.2s\n",
      "[CV] penalty=l1, C=0.719685673001 ....................................\n",
      "[CV] ..... penalty=l1, C=0.719685673001, score=0.739658, total=   0.1s\n",
      "[CV] penalty=l1, C=0.719685673001 ....................................\n",
      "[CV] ..... penalty=l1, C=0.719685673001, score=0.777455, total=   0.2s\n",
      "[CV] penalty=l1, C=0.719685673001 ....................................\n",
      "[CV] ..... penalty=l1, C=0.719685673001, score=0.758595, total=   0.2s\n",
      "[CV] penalty=l1, C=0.719685673001 ....................................\n",
      "[CV] ..... penalty=l1, C=0.719685673001, score=0.752899, total=   0.1s\n",
      "[CV] penalty=l1, C=0.719685673001 ....................................\n",
      "[CV] ..... penalty=l1, C=0.719685673001, score=0.701854, total=   0.2s\n",
      "[CV] penalty=l2, C=0.719685673001 ....................................\n",
      "[CV] ..... penalty=l2, C=0.719685673001, score=0.739519, total=   0.2s\n",
      "[CV] penalty=l2, C=0.719685673001 ....................................\n",
      "[CV] ..... penalty=l2, C=0.719685673001, score=0.777539, total=   0.2s\n",
      "[CV] penalty=l2, C=0.719685673001 ....................................\n"
     ]
    },
    {
     "name": "stdout",
     "output_type": "stream",
     "text": [
      "[CV] ..... penalty=l2, C=0.719685673001, score=0.758475, total=   0.2s\n",
      "[CV] penalty=l2, C=0.719685673001 ....................................\n",
      "[CV] ..... penalty=l2, C=0.719685673001, score=0.752738, total=   0.1s\n",
      "[CV] penalty=l2, C=0.719685673001 ....................................\n",
      "[CV] ..... penalty=l2, C=0.719685673001, score=0.702043, total=   0.1s\n",
      "[CV] penalty=l1, C=3.16227766017 .....................................\n",
      "[CV] ...... penalty=l1, C=3.16227766017, score=0.739771, total=   0.2s\n",
      "[CV] penalty=l1, C=3.16227766017 .....................................\n",
      "[CV] ...... penalty=l1, C=3.16227766017, score=0.777397, total=   0.2s\n",
      "[CV] penalty=l1, C=3.16227766017 .....................................\n",
      "[CV] ...... penalty=l1, C=3.16227766017, score=0.758657, total=   0.1s\n",
      "[CV] penalty=l1, C=3.16227766017 .....................................\n",
      "[CV] ...... penalty=l1, C=3.16227766017, score=0.752937, total=   0.2s\n",
      "[CV] penalty=l1, C=3.16227766017 .....................................\n",
      "[CV] ...... penalty=l1, C=3.16227766017, score=0.701738, total=   0.1s\n",
      "[CV] penalty=l2, C=3.16227766017 .....................................\n",
      "[CV] ...... penalty=l2, C=3.16227766017, score=0.739743, total=   0.1s\n",
      "[CV] penalty=l2, C=3.16227766017 .....................................\n",
      "[CV] ...... penalty=l2, C=3.16227766017, score=0.777418, total=   0.1s\n",
      "[CV] penalty=l2, C=3.16227766017 .....................................\n",
      "[CV] ...... penalty=l2, C=3.16227766017, score=0.758632, total=   0.1s\n",
      "[CV] penalty=l2, C=3.16227766017 .....................................\n",
      "[CV] ...... penalty=l2, C=3.16227766017, score=0.752893, total=   0.2s\n",
      "[CV] penalty=l2, C=3.16227766017 .....................................\n",
      "[CV] ...... penalty=l2, C=3.16227766017, score=0.701787, total=   0.1s\n",
      "[CV] penalty=l1, C=13.8949549437 .....................................\n",
      "[CV] ...... penalty=l1, C=13.8949549437, score=0.739796, total=   0.1s\n",
      "[CV] penalty=l1, C=13.8949549437 .....................................\n",
      "[CV] ...... penalty=l1, C=13.8949549437, score=0.777384, total=   0.1s\n",
      "[CV] penalty=l1, C=13.8949549437 .....................................\n",
      "[CV] ...... penalty=l1, C=13.8949549437, score=0.758677, total=   0.1s\n",
      "[CV] penalty=l1, C=13.8949549437 .....................................\n",
      "[CV] ...... penalty=l1, C=13.8949549437, score=0.752945, total=   0.1s\n",
      "[CV] penalty=l1, C=13.8949549437 .....................................\n",
      "[CV] ...... penalty=l1, C=13.8949549437, score=0.701697, total=   0.1s\n",
      "[CV] penalty=l2, C=13.8949549437 .....................................\n",
      "[CV] ...... penalty=l2, C=13.8949549437, score=0.739791, total=   0.2s\n",
      "[CV] penalty=l2, C=13.8949549437 .....................................\n",
      "[CV] ...... penalty=l2, C=13.8949549437, score=0.777389, total=   0.2s\n",
      "[CV] penalty=l2, C=13.8949549437 .....................................\n",
      "[CV] ...... penalty=l2, C=13.8949549437, score=0.758671, total=   0.2s\n",
      "[CV] penalty=l2, C=13.8949549437 .....................................\n",
      "[CV] ...... penalty=l2, C=13.8949549437, score=0.752939, total=   0.2s\n",
      "[CV] penalty=l2, C=13.8949549437 .....................................\n",
      "[CV] ...... penalty=l2, C=13.8949549437, score=0.701706, total=   0.1s\n",
      "[CV] penalty=l1, C=61.0540229659 .....................................\n",
      "[CV] ...... penalty=l1, C=61.0540229659, score=0.739804, total=   0.2s\n",
      "[CV] penalty=l1, C=61.0540229659 .....................................\n",
      "[CV] ...... penalty=l1, C=61.0540229659, score=0.777381, total=   0.2s\n",
      "[CV] penalty=l1, C=61.0540229659 .....................................\n",
      "[CV] ...... penalty=l1, C=61.0540229659, score=0.758682, total=   0.1s\n",
      "[CV] penalty=l1, C=61.0540229659 .....................................\n",
      "[CV] ...... penalty=l1, C=61.0540229659, score=0.752945, total=   0.1s\n",
      "[CV] penalty=l1, C=61.0540229659 .....................................\n",
      "[CV] ...... penalty=l1, C=61.0540229659, score=0.701686, total=   0.1s\n",
      "[CV] penalty=l2, C=61.0540229659 .....................................\n",
      "[CV] ...... penalty=l2, C=61.0540229659, score=0.739801, total=   0.2s\n",
      "[CV] penalty=l2, C=61.0540229659 .....................................\n",
      "[CV] ...... penalty=l2, C=61.0540229659, score=0.777381, total=   0.1s\n",
      "[CV] penalty=l2, C=61.0540229659 .....................................\n",
      "[CV] ...... penalty=l2, C=61.0540229659, score=0.758681, total=   0.2s\n",
      "[CV] penalty=l2, C=61.0540229659 .....................................\n",
      "[CV] ...... penalty=l2, C=61.0540229659, score=0.752945, total=   0.2s\n",
      "[CV] penalty=l2, C=61.0540229659 .....................................\n",
      "[CV] ...... penalty=l2, C=61.0540229659, score=0.701686, total=   0.1s\n",
      "[CV] penalty=l1, C=268.269579528 .....................................\n",
      "[CV] ...... penalty=l1, C=268.269579528, score=0.739801, total=   0.1s\n",
      "[CV] penalty=l1, C=268.269579528 .....................................\n",
      "[CV] ...... penalty=l1, C=268.269579528, score=0.777380, total=   0.2s\n",
      "[CV] penalty=l1, C=268.269579528 .....................................\n",
      "[CV] ...... penalty=l1, C=268.269579528, score=0.758683, total=   0.1s\n",
      "[CV] penalty=l1, C=268.269579528 .....................................\n",
      "[CV] ...... penalty=l1, C=268.269579528, score=0.752945, total=   0.1s\n",
      "[CV] penalty=l1, C=268.269579528 .....................................\n",
      "[CV] ...... penalty=l1, C=268.269579528, score=0.701685, total=   0.1s\n",
      "[CV] penalty=l2, C=268.269579528 .....................................\n",
      "[CV] ...... penalty=l2, C=268.269579528, score=0.739804, total=   0.2s\n",
      "[CV] penalty=l2, C=268.269579528 .....................................\n",
      "[CV] ...... penalty=l2, C=268.269579528, score=0.777379, total=   0.2s\n",
      "[CV] penalty=l2, C=268.269579528 .....................................\n",
      "[CV] ...... penalty=l2, C=268.269579528, score=0.758684, total=   0.2s\n",
      "[CV] penalty=l2, C=268.269579528 .....................................\n",
      "[CV] ...... penalty=l2, C=268.269579528, score=0.752946, total=   0.2s\n",
      "[CV] penalty=l2, C=268.269579528 .....................................\n",
      "[CV] ...... penalty=l2, C=268.269579528, score=0.701685, total=   0.1s\n",
      "[CV] penalty=l1, C=1178.76863479 .....................................\n",
      "[CV] ...... penalty=l1, C=1178.76863479, score=0.739804, total=   0.2s\n",
      "[CV] penalty=l1, C=1178.76863479 .....................................\n",
      "[CV] ...... penalty=l1, C=1178.76863479, score=0.777380, total=   0.1s\n",
      "[CV] penalty=l1, C=1178.76863479 .....................................\n",
      "[CV] ...... penalty=l1, C=1178.76863479, score=0.758683, total=   0.1s\n",
      "[CV] penalty=l1, C=1178.76863479 .....................................\n",
      "[CV] ...... penalty=l1, C=1178.76863479, score=0.752945, total=   0.1s\n",
      "[CV] penalty=l1, C=1178.76863479 .....................................\n",
      "[CV] ...... penalty=l1, C=1178.76863479, score=0.701689, total=   0.1s\n",
      "[CV] penalty=l2, C=1178.76863479 .....................................\n",
      "[CV] ...... penalty=l2, C=1178.76863479, score=0.739805, total=   0.2s\n",
      "[CV] penalty=l2, C=1178.76863479 .....................................\n",
      "[CV] ...... penalty=l2, C=1178.76863479, score=0.777378, total=   0.2s\n",
      "[CV] penalty=l2, C=1178.76863479 .....................................\n",
      "[CV] ...... penalty=l2, C=1178.76863479, score=0.758685, total=   0.2s\n",
      "[CV] penalty=l2, C=1178.76863479 .....................................\n",
      "[CV] ...... penalty=l2, C=1178.76863479, score=0.752946, total=   0.2s\n",
      "[CV] penalty=l2, C=1178.76863479 .....................................\n",
      "[CV] ...... penalty=l2, C=1178.76863479, score=0.701685, total=   0.2s\n",
      "[CV] penalty=l1, C=5179.47467923 .....................................\n",
      "[CV] ...... penalty=l1, C=5179.47467923, score=0.739805, total=   0.1s\n",
      "[CV] penalty=l1, C=5179.47467923 .....................................\n",
      "[CV] ...... penalty=l1, C=5179.47467923, score=0.777378, total=   0.2s\n",
      "[CV] penalty=l1, C=5179.47467923 .....................................\n",
      "[CV] ...... penalty=l1, C=5179.47467923, score=0.758685, total=   0.2s\n",
      "[CV] penalty=l1, C=5179.47467923 .....................................\n",
      "[CV] ...... penalty=l1, C=5179.47467923, score=0.752944, total=   0.1s\n",
      "[CV] penalty=l1, C=5179.47467923 .....................................\n",
      "[CV] ...... penalty=l1, C=5179.47467923, score=0.701685, total=   0.2s\n",
      "[CV] penalty=l2, C=5179.47467923 .....................................\n"
     ]
    },
    {
     "name": "stdout",
     "output_type": "stream",
     "text": [
      "[CV] ...... penalty=l2, C=5179.47467923, score=0.739804, total=   0.2s\n",
      "[CV] penalty=l2, C=5179.47467923 .....................................\n",
      "[CV] ...... penalty=l2, C=5179.47467923, score=0.777378, total=   0.2s\n",
      "[CV] penalty=l2, C=5179.47467923 .....................................\n",
      "[CV] ...... penalty=l2, C=5179.47467923, score=0.758685, total=   0.2s\n",
      "[CV] penalty=l2, C=5179.47467923 .....................................\n",
      "[CV] ...... penalty=l2, C=5179.47467923, score=0.752946, total=   0.2s\n",
      "[CV] penalty=l2, C=5179.47467923 .....................................\n",
      "[CV] ...... penalty=l2, C=5179.47467923, score=0.701685, total=   0.2s\n",
      "[CV] penalty=l1, C=22758.4592607 .....................................\n",
      "[CV] ...... penalty=l1, C=22758.4592607, score=0.739804, total=   0.2s\n",
      "[CV] penalty=l1, C=22758.4592607 .....................................\n",
      "[CV] ...... penalty=l1, C=22758.4592607, score=0.777378, total=   0.2s\n",
      "[CV] penalty=l1, C=22758.4592607 .....................................\n",
      "[CV] ...... penalty=l1, C=22758.4592607, score=0.758683, total=   0.1s\n",
      "[CV] penalty=l1, C=22758.4592607 .....................................\n",
      "[CV] ...... penalty=l1, C=22758.4592607, score=0.752947, total=   0.1s\n",
      "[CV] penalty=l1, C=22758.4592607 .....................................\n",
      "[CV] ...... penalty=l1, C=22758.4592607, score=0.701686, total=   0.2s\n",
      "[CV] penalty=l2, C=22758.4592607 .....................................\n",
      "[CV] ...... penalty=l2, C=22758.4592607, score=0.739804, total=   0.2s\n",
      "[CV] penalty=l2, C=22758.4592607 .....................................\n",
      "[CV] ...... penalty=l2, C=22758.4592607, score=0.777378, total=   0.2s\n",
      "[CV] penalty=l2, C=22758.4592607 .....................................\n",
      "[CV] ...... penalty=l2, C=22758.4592607, score=0.758685, total=   0.2s\n",
      "[CV] penalty=l2, C=22758.4592607 .....................................\n",
      "[CV] ...... penalty=l2, C=22758.4592607, score=0.752946, total=   0.2s\n",
      "[CV] penalty=l2, C=22758.4592607 .....................................\n",
      "[CV] ...... penalty=l2, C=22758.4592607, score=0.701685, total=   0.2s\n",
      "[CV] penalty=l1, C=100000.0 ..........................................\n",
      "[CV] ........... penalty=l1, C=100000.0, score=0.739804, total=   0.2s\n",
      "[CV] penalty=l1, C=100000.0 ..........................................\n",
      "[CV] ........... penalty=l1, C=100000.0, score=0.777379, total=   0.1s\n",
      "[CV] penalty=l1, C=100000.0 ..........................................\n",
      "[CV] ........... penalty=l1, C=100000.0, score=0.758684, total=   0.1s\n",
      "[CV] penalty=l1, C=100000.0 ..........................................\n",
      "[CV] ........... penalty=l1, C=100000.0, score=0.752945, total=   0.1s\n",
      "[CV] penalty=l1, C=100000.0 ..........................................\n",
      "[CV] ........... penalty=l1, C=100000.0, score=0.701689, total=   0.1s\n",
      "[CV] penalty=l2, C=100000.0 ..........................................\n",
      "[CV] ........... penalty=l2, C=100000.0, score=0.739804, total=   0.2s\n",
      "[CV] penalty=l2, C=100000.0 ..........................................\n",
      "[CV] ........... penalty=l2, C=100000.0, score=0.777378, total=   0.1s\n",
      "[CV] penalty=l2, C=100000.0 ..........................................\n",
      "[CV] ........... penalty=l2, C=100000.0, score=0.758685, total=   0.2s\n",
      "[CV] penalty=l2, C=100000.0 ..........................................\n",
      "[CV] ........... penalty=l2, C=100000.0, score=0.752946, total=   0.1s\n",
      "[CV] penalty=l2, C=100000.0 ..........................................\n",
      "[CV] ........... penalty=l2, C=100000.0, score=0.701685, total=   0.1s\n"
     ]
    },
    {
     "name": "stderr",
     "output_type": "stream",
     "text": [
      "[Parallel(n_jobs=1)]: Done 150 out of 150 | elapsed:   43.1s finished\n"
     ]
    },
    {
     "name": "stdout",
     "output_type": "stream",
     "text": [
      "Fitting 5 folds for each of 30 candidates, totalling 150 fits\n",
      "[CV] penalty=l1, C=0.0001 ............................................\n",
      "[CV] ............. penalty=l1, C=0.0001, score=0.500000, total=   0.1s\n",
      "[CV] penalty=l1, C=0.0001 ............................................\n"
     ]
    },
    {
     "name": "stderr",
     "output_type": "stream",
     "text": [
      "[Parallel(n_jobs=1)]: Done   1 out of   1 | elapsed:    0.1s remaining:    0.0s\n",
      "[Parallel(n_jobs=1)]: Done   2 out of   2 | elapsed:    0.3s remaining:    0.0s\n"
     ]
    },
    {
     "name": "stdout",
     "output_type": "stream",
     "text": [
      "[CV] ............. penalty=l1, C=0.0001, score=0.500000, total=   0.1s\n",
      "[CV] penalty=l1, C=0.0001 ............................................\n",
      "[CV] ............. penalty=l1, C=0.0001, score=0.500000, total=   0.1s\n",
      "[CV] penalty=l1, C=0.0001 ............................................\n"
     ]
    },
    {
     "name": "stderr",
     "output_type": "stream",
     "text": [
      "[Parallel(n_jobs=1)]: Done   3 out of   3 | elapsed:    0.4s remaining:    0.0s\n",
      "[Parallel(n_jobs=1)]: Done   4 out of   4 | elapsed:    0.6s remaining:    0.0s\n"
     ]
    },
    {
     "name": "stdout",
     "output_type": "stream",
     "text": [
      "[CV] ............. penalty=l1, C=0.0001, score=0.500000, total=   0.1s\n",
      "[CV] penalty=l1, C=0.0001 ............................................\n",
      "[CV] ............. penalty=l1, C=0.0001, score=0.500000, total=   0.1s\n",
      "[CV] penalty=l2, C=0.0001 ............................................\n"
     ]
    },
    {
     "name": "stderr",
     "output_type": "stream",
     "text": [
      "[Parallel(n_jobs=1)]: Done   5 out of   5 | elapsed:    0.8s remaining:    0.0s\n"
     ]
    },
    {
     "name": "stdout",
     "output_type": "stream",
     "text": [
      "[CV] ............. penalty=l2, C=0.0001, score=0.631100, total=   0.1s\n",
      "[CV] penalty=l2, C=0.0001 ............................................\n"
     ]
    },
    {
     "name": "stderr",
     "output_type": "stream",
     "text": [
      "[Parallel(n_jobs=1)]: Done   6 out of   6 | elapsed:    1.0s remaining:    0.0s\n"
     ]
    },
    {
     "name": "stdout",
     "output_type": "stream",
     "text": [
      "[CV] ............. penalty=l2, C=0.0001, score=0.668997, total=   0.1s\n",
      "[CV] penalty=l2, C=0.0001 ............................................\n"
     ]
    },
    {
     "name": "stderr",
     "output_type": "stream",
     "text": [
      "[Parallel(n_jobs=1)]: Done   7 out of   7 | elapsed:    1.3s remaining:    0.0s\n"
     ]
    },
    {
     "name": "stdout",
     "output_type": "stream",
     "text": [
      "[CV] ............. penalty=l2, C=0.0001, score=0.637823, total=   0.1s\n",
      "[CV] penalty=l2, C=0.0001 ............................................\n"
     ]
    },
    {
     "name": "stderr",
     "output_type": "stream",
     "text": [
      "[Parallel(n_jobs=1)]: Done   8 out of   8 | elapsed:    1.5s remaining:    0.0s\n"
     ]
    },
    {
     "name": "stdout",
     "output_type": "stream",
     "text": [
      "[CV] ............. penalty=l2, C=0.0001, score=0.686045, total=   0.1s\n",
      "[CV] penalty=l2, C=0.0001 ............................................\n"
     ]
    },
    {
     "name": "stderr",
     "output_type": "stream",
     "text": [
      "[Parallel(n_jobs=1)]: Done   9 out of   9 | elapsed:    1.8s remaining:    0.0s\n"
     ]
    },
    {
     "name": "stdout",
     "output_type": "stream",
     "text": [
      "[CV] ............. penalty=l2, C=0.0001, score=0.682134, total=   0.1s\n",
      "[CV] penalty=l1, C=0.000439397056076 .................................\n",
      "[CV] .. penalty=l1, C=0.000439397056076, score=0.500000, total=   0.1s\n",
      "[CV] penalty=l1, C=0.000439397056076 .................................\n",
      "[CV] .. penalty=l1, C=0.000439397056076, score=0.500000, total=   0.1s\n",
      "[CV] penalty=l1, C=0.000439397056076 .................................\n",
      "[CV] .. penalty=l1, C=0.000439397056076, score=0.500000, total=   0.1s\n",
      "[CV] penalty=l1, C=0.000439397056076 .................................\n",
      "[CV] .. penalty=l1, C=0.000439397056076, score=0.500000, total=   0.0s\n",
      "[CV] penalty=l1, C=0.000439397056076 .................................\n",
      "[CV] .. penalty=l1, C=0.000439397056076, score=0.500000, total=   0.1s\n",
      "[CV] penalty=l2, C=0.000439397056076 .................................\n",
      "[CV] .. penalty=l2, C=0.000439397056076, score=0.663505, total=   0.1s\n",
      "[CV] penalty=l2, C=0.000439397056076 .................................\n",
      "[CV] .. penalty=l2, C=0.000439397056076, score=0.719940, total=   0.1s\n",
      "[CV] penalty=l2, C=0.000439397056076 .................................\n",
      "[CV] .. penalty=l2, C=0.000439397056076, score=0.675198, total=   0.1s\n",
      "[CV] penalty=l2, C=0.000439397056076 .................................\n",
      "[CV] .. penalty=l2, C=0.000439397056076, score=0.714011, total=   0.1s\n",
      "[CV] penalty=l2, C=0.000439397056076 .................................\n",
      "[CV] .. penalty=l2, C=0.000439397056076, score=0.703963, total=   0.1s\n",
      "[CV] penalty=l1, C=0.00193069772888 ..................................\n",
      "[CV] ... penalty=l1, C=0.00193069772888, score=0.586427, total=   0.1s\n",
      "[CV] penalty=l1, C=0.00193069772888 ..................................\n",
      "[CV] ... penalty=l1, C=0.00193069772888, score=0.658142, total=   0.1s\n",
      "[CV] penalty=l1, C=0.00193069772888 ..................................\n",
      "[CV] ... penalty=l1, C=0.00193069772888, score=0.537142, total=   0.1s\n",
      "[CV] penalty=l1, C=0.00193069772888 ..................................\n",
      "[CV] ... penalty=l1, C=0.00193069772888, score=0.500000, total=   0.1s\n",
      "[CV] penalty=l1, C=0.00193069772888 ..................................\n",
      "[CV] ... penalty=l1, C=0.00193069772888, score=0.709733, total=   0.1s\n",
      "[CV] penalty=l2, C=0.00193069772888 ..................................\n",
      "[CV] ... penalty=l2, C=0.00193069772888, score=0.702710, total=   0.2s\n",
      "[CV] penalty=l2, C=0.00193069772888 ..................................\n",
      "[CV] ... penalty=l2, C=0.00193069772888, score=0.771218, total=   0.1s\n",
      "[CV] penalty=l2, C=0.00193069772888 ..................................\n",
      "[CV] ... penalty=l2, C=0.00193069772888, score=0.721402, total=   0.1s\n",
      "[CV] penalty=l2, C=0.00193069772888 ..................................\n",
      "[CV] ... penalty=l2, C=0.00193069772888, score=0.737673, total=   0.2s\n",
      "[CV] penalty=l2, C=0.00193069772888 ..................................\n",
      "[CV] ... penalty=l2, C=0.00193069772888, score=0.716943, total=   0.1s\n",
      "[CV] penalty=l1, C=0.00848342898244 ..................................\n",
      "[CV] ... penalty=l1, C=0.00848342898244, score=0.721791, total=   0.1s\n",
      "[CV] penalty=l1, C=0.00848342898244 ..................................\n",
      "[CV] ... penalty=l1, C=0.00848342898244, score=0.779588, total=   0.1s\n",
      "[CV] penalty=l1, C=0.00848342898244 ..................................\n",
      "[CV] ... penalty=l1, C=0.00848342898244, score=0.749471, total=   0.1s\n",
      "[CV] penalty=l1, C=0.00848342898244 ..................................\n",
      "[CV] ... penalty=l1, C=0.00848342898244, score=0.757683, total=   0.1s\n",
      "[CV] penalty=l1, C=0.00848342898244 ..................................\n",
      "[CV] ... penalty=l1, C=0.00848342898244, score=0.715959, total=   0.1s\n",
      "[CV] penalty=l2, C=0.00848342898244 ..................................\n",
      "[CV] ... penalty=l2, C=0.00848342898244, score=0.725808, total=   0.1s\n",
      "[CV] penalty=l2, C=0.00848342898244 ..................................\n",
      "[CV] ... penalty=l2, C=0.00848342898244, score=0.781939, total=   0.1s\n",
      "[CV] penalty=l2, C=0.00848342898244 ..................................\n",
      "[CV] ... penalty=l2, C=0.00848342898244, score=0.746926, total=   0.1s\n",
      "[CV] penalty=l2, C=0.00848342898244 ..................................\n",
      "[CV] ... penalty=l2, C=0.00848342898244, score=0.750198, total=   0.1s\n",
      "[CV] penalty=l2, C=0.00848342898244 ..................................\n",
      "[CV] ... penalty=l2, C=0.00848342898244, score=0.713347, total=   0.1s\n",
      "[CV] penalty=l1, C=0.0372759372031 ...................................\n",
      "[CV] .... penalty=l1, C=0.0372759372031, score=0.737539, total=   0.1s\n",
      "[CV] penalty=l1, C=0.0372759372031 ...................................\n",
      "[CV] .... penalty=l1, C=0.0372759372031, score=0.778292, total=   0.1s\n",
      "[CV] penalty=l1, C=0.0372759372031 ...................................\n",
      "[CV] .... penalty=l1, C=0.0372759372031, score=0.757606, total=   0.1s\n",
      "[CV] penalty=l1, C=0.0372759372031 ...................................\n",
      "[CV] .... penalty=l1, C=0.0372759372031, score=0.755861, total=   0.1s\n",
      "[CV] penalty=l1, C=0.0372759372031 ...................................\n",
      "[CV] .... penalty=l1, C=0.0372759372031, score=0.707247, total=   0.1s\n",
      "[CV] penalty=l2, C=0.0372759372031 ...................................\n",
      "[CV] .... penalty=l2, C=0.0372759372031, score=0.736013, total=   0.1s\n",
      "[CV] penalty=l2, C=0.0372759372031 ...................................\n",
      "[CV] .... penalty=l2, C=0.0372759372031, score=0.779086, total=   0.2s\n",
      "[CV] penalty=l2, C=0.0372759372031 ...................................\n",
      "[CV] .... penalty=l2, C=0.0372759372031, score=0.756084, total=   0.1s\n",
      "[CV] penalty=l2, C=0.0372759372031 ...................................\n",
      "[CV] .... penalty=l2, C=0.0372759372031, score=0.753439, total=   0.1s\n",
      "[CV] penalty=l2, C=0.0372759372031 ...................................\n",
      "[CV] .... penalty=l2, C=0.0372759372031, score=0.707844, total=   0.1s\n",
      "[CV] penalty=l1, C=0.163789370695 ....................................\n",
      "[CV] ..... penalty=l1, C=0.163789370695, score=0.740163, total=   0.2s\n",
      "[CV] penalty=l1, C=0.163789370695 ....................................\n",
      "[CV] ..... penalty=l1, C=0.163789370695, score=0.777559, total=   0.2s\n",
      "[CV] penalty=l1, C=0.163789370695 ....................................\n",
      "[CV] ..... penalty=l1, C=0.163789370695, score=0.758836, total=   0.1s\n",
      "[CV] penalty=l1, C=0.163789370695 ....................................\n",
      "[CV] ..... penalty=l1, C=0.163789370695, score=0.756065, total=   0.1s\n",
      "[CV] penalty=l1, C=0.163789370695 ....................................\n",
      "[CV] ..... penalty=l1, C=0.163789370695, score=0.705564, total=   0.1s\n",
      "[CV] penalty=l2, C=0.163789370695 ....................................\n",
      "[CV] ..... penalty=l2, C=0.163789370695, score=0.739633, total=   0.2s\n",
      "[CV] penalty=l2, C=0.163789370695 ....................................\n",
      "[CV] ..... penalty=l2, C=0.163789370695, score=0.777773, total=   0.2s\n",
      "[CV] penalty=l2, C=0.163789370695 ....................................\n",
      "[CV] ..... penalty=l2, C=0.163789370695, score=0.758356, total=   0.2s\n",
      "[CV] penalty=l2, C=0.163789370695 ....................................\n",
      "[CV] ..... penalty=l2, C=0.163789370695, score=0.755533, total=   0.2s\n",
      "[CV] penalty=l2, C=0.163789370695 ....................................\n",
      "[CV] ..... penalty=l2, C=0.163789370695, score=0.706125, total=   0.1s\n",
      "[CV] penalty=l1, C=0.719685673001 ....................................\n",
      "[CV] ..... penalty=l1, C=0.719685673001, score=0.740731, total=   0.2s\n",
      "[CV] penalty=l1, C=0.719685673001 ....................................\n",
      "[CV] ..... penalty=l1, C=0.719685673001, score=0.777307, total=   0.2s\n",
      "[CV] penalty=l1, C=0.719685673001 ....................................\n",
      "[CV] ..... penalty=l1, C=0.719685673001, score=0.759116, total=   0.1s\n",
      "[CV] penalty=l1, C=0.719685673001 ....................................\n",
      "[CV] ..... penalty=l1, C=0.719685673001, score=0.756175, total=   0.1s\n",
      "[CV] penalty=l1, C=0.719685673001 ....................................\n",
      "[CV] ..... penalty=l1, C=0.719685673001, score=0.705213, total=   0.2s\n",
      "[CV] penalty=l2, C=0.719685673001 ....................................\n",
      "[CV] ..... penalty=l2, C=0.719685673001, score=0.740593, total=   0.2s\n",
      "[CV] penalty=l2, C=0.719685673001 ....................................\n",
      "[CV] ..... penalty=l2, C=0.719685673001, score=0.777383, total=   0.2s\n",
      "[CV] penalty=l2, C=0.719685673001 ....................................\n"
     ]
    },
    {
     "name": "stdout",
     "output_type": "stream",
     "text": [
      "[CV] ..... penalty=l2, C=0.719685673001, score=0.759011, total=   0.2s\n",
      "[CV] penalty=l2, C=0.719685673001 ....................................\n",
      "[CV] ..... penalty=l2, C=0.719685673001, score=0.756052, total=   0.2s\n",
      "[CV] penalty=l2, C=0.719685673001 ....................................\n",
      "[CV] ..... penalty=l2, C=0.719685673001, score=0.705419, total=   0.1s\n",
      "[CV] penalty=l1, C=3.16227766017 .....................................\n",
      "[CV] ...... penalty=l1, C=3.16227766017, score=0.740872, total=   0.2s\n",
      "[CV] penalty=l1, C=3.16227766017 .....................................\n",
      "[CV] ...... penalty=l1, C=3.16227766017, score=0.777235, total=   0.2s\n",
      "[CV] penalty=l1, C=3.16227766017 .....................................\n",
      "[CV] ...... penalty=l1, C=3.16227766017, score=0.759162, total=   0.2s\n",
      "[CV] penalty=l1, C=3.16227766017 .....................................\n",
      "[CV] ...... penalty=l1, C=3.16227766017, score=0.756208, total=   0.1s\n",
      "[CV] penalty=l1, C=3.16227766017 .....................................\n",
      "[CV] ...... penalty=l1, C=3.16227766017, score=0.705017, total=   0.1s\n",
      "[CV] penalty=l2, C=3.16227766017 .....................................\n",
      "[CV] ...... penalty=l2, C=3.16227766017, score=0.740837, total=   0.1s\n",
      "[CV] penalty=l2, C=3.16227766017 .....................................\n",
      "[CV] ...... penalty=l2, C=3.16227766017, score=0.777252, total=   0.1s\n",
      "[CV] penalty=l2, C=3.16227766017 .....................................\n",
      "[CV] ...... penalty=l2, C=3.16227766017, score=0.759140, total=   0.2s\n",
      "[CV] penalty=l2, C=3.16227766017 .....................................\n",
      "[CV] ...... penalty=l2, C=3.16227766017, score=0.756179, total=   0.2s\n",
      "[CV] penalty=l2, C=3.16227766017 .....................................\n",
      "[CV] ...... penalty=l2, C=3.16227766017, score=0.705080, total=   0.1s\n",
      "[CV] penalty=l1, C=13.8949549437 .....................................\n",
      "[CV] ...... penalty=l1, C=13.8949549437, score=0.740901, total=   0.1s\n",
      "[CV] penalty=l1, C=13.8949549437 .....................................\n",
      "[CV] ...... penalty=l1, C=13.8949549437, score=0.777226, total=   0.2s\n",
      "[CV] penalty=l1, C=13.8949549437 .....................................\n",
      "[CV] ...... penalty=l1, C=13.8949549437, score=0.759173, total=   0.1s\n",
      "[CV] penalty=l1, C=13.8949549437 .....................................\n",
      "[CV] ...... penalty=l1, C=13.8949549437, score=0.756215, total=   0.2s\n",
      "[CV] penalty=l1, C=13.8949549437 .....................................\n",
      "[CV] ...... penalty=l1, C=13.8949549437, score=0.704960, total=   0.2s\n",
      "[CV] penalty=l2, C=13.8949549437 .....................................\n",
      "[CV] ...... penalty=l2, C=13.8949549437, score=0.740892, total=   0.2s\n",
      "[CV] penalty=l2, C=13.8949549437 .....................................\n",
      "[CV] ...... penalty=l2, C=13.8949549437, score=0.777229, total=   0.2s\n",
      "[CV] penalty=l2, C=13.8949549437 .....................................\n",
      "[CV] ...... penalty=l2, C=13.8949549437, score=0.759167, total=   0.2s\n",
      "[CV] penalty=l2, C=13.8949549437 .....................................\n",
      "[CV] ...... penalty=l2, C=13.8949549437, score=0.756206, total=   0.2s\n",
      "[CV] penalty=l2, C=13.8949549437 .....................................\n",
      "[CV] ...... penalty=l2, C=13.8949549437, score=0.704970, total=   0.2s\n",
      "[CV] penalty=l1, C=61.0540229659 .....................................\n",
      "[CV] ...... penalty=l1, C=61.0540229659, score=0.740906, total=   0.2s\n",
      "[CV] penalty=l1, C=61.0540229659 .....................................\n",
      "[CV] ...... penalty=l1, C=61.0540229659, score=0.777222, total=   0.2s\n",
      "[CV] penalty=l1, C=61.0540229659 .....................................\n",
      "[CV] ...... penalty=l1, C=61.0540229659, score=0.759174, total=   0.2s\n",
      "[CV] penalty=l1, C=61.0540229659 .....................................\n",
      "[CV] ...... penalty=l1, C=61.0540229659, score=0.756212, total=   0.2s\n",
      "[CV] penalty=l1, C=61.0540229659 .....................................\n",
      "[CV] ...... penalty=l1, C=61.0540229659, score=0.704942, total=   0.2s\n",
      "[CV] penalty=l2, C=61.0540229659 .....................................\n",
      "[CV] ...... penalty=l2, C=61.0540229659, score=0.740906, total=   0.2s\n",
      "[CV] penalty=l2, C=61.0540229659 .....................................\n",
      "[CV] ...... penalty=l2, C=61.0540229659, score=0.777223, total=   0.2s\n",
      "[CV] penalty=l2, C=61.0540229659 .....................................\n",
      "[CV] ...... penalty=l2, C=61.0540229659, score=0.759173, total=   0.2s\n",
      "[CV] penalty=l2, C=61.0540229659 .....................................\n",
      "[CV] ...... penalty=l2, C=61.0540229659, score=0.756211, total=   0.1s\n",
      "[CV] penalty=l2, C=61.0540229659 .....................................\n",
      "[CV] ...... penalty=l2, C=61.0540229659, score=0.704946, total=   0.2s\n",
      "[CV] penalty=l1, C=268.269579528 .....................................\n",
      "[CV] ...... penalty=l1, C=268.269579528, score=0.740909, total=   0.2s\n",
      "[CV] penalty=l1, C=268.269579528 .....................................\n",
      "[CV] ...... penalty=l1, C=268.269579528, score=0.777222, total=   0.2s\n",
      "[CV] penalty=l1, C=268.269579528 .....................................\n",
      "[CV] ...... penalty=l1, C=268.269579528, score=0.759173, total=   0.1s\n",
      "[CV] penalty=l1, C=268.269579528 .....................................\n",
      "[CV] ...... penalty=l1, C=268.269579528, score=0.756212, total=   0.1s\n",
      "[CV] penalty=l1, C=268.269579528 .....................................\n",
      "[CV] ...... penalty=l1, C=268.269579528, score=0.704941, total=   0.1s\n",
      "[CV] penalty=l2, C=268.269579528 .....................................\n",
      "[CV] ...... penalty=l2, C=268.269579528, score=0.740908, total=   0.2s\n",
      "[CV] penalty=l2, C=268.269579528 .....................................\n",
      "[CV] ...... penalty=l2, C=268.269579528, score=0.777223, total=   0.2s\n",
      "[CV] penalty=l2, C=268.269579528 .....................................\n",
      "[CV] ...... penalty=l2, C=268.269579528, score=0.759174, total=   0.1s\n",
      "[CV] penalty=l2, C=268.269579528 .....................................\n",
      "[CV] ...... penalty=l2, C=268.269579528, score=0.756212, total=   0.2s\n",
      "[CV] penalty=l2, C=268.269579528 .....................................\n",
      "[CV] ...... penalty=l2, C=268.269579528, score=0.704940, total=   0.1s\n",
      "[CV] penalty=l1, C=1178.76863479 .....................................\n",
      "[CV] ...... penalty=l1, C=1178.76863479, score=0.740910, total=   0.1s\n",
      "[CV] penalty=l1, C=1178.76863479 .....................................\n",
      "[CV] ...... penalty=l1, C=1178.76863479, score=0.777222, total=   0.2s\n",
      "[CV] penalty=l1, C=1178.76863479 .....................................\n",
      "[CV] ...... penalty=l1, C=1178.76863479, score=0.759173, total=   0.1s\n",
      "[CV] penalty=l1, C=1178.76863479 .....................................\n",
      "[CV] ...... penalty=l1, C=1178.76863479, score=0.756214, total=   0.1s\n",
      "[CV] penalty=l1, C=1178.76863479 .....................................\n",
      "[CV] ...... penalty=l1, C=1178.76863479, score=0.704941, total=   0.1s\n",
      "[CV] penalty=l2, C=1178.76863479 .....................................\n",
      "[CV] ...... penalty=l2, C=1178.76863479, score=0.740909, total=   0.2s\n",
      "[CV] penalty=l2, C=1178.76863479 .....................................\n",
      "[CV] ...... penalty=l2, C=1178.76863479, score=0.777223, total=   0.2s\n",
      "[CV] penalty=l2, C=1178.76863479 .....................................\n",
      "[CV] ...... penalty=l2, C=1178.76863479, score=0.759174, total=   0.2s\n",
      "[CV] penalty=l2, C=1178.76863479 .....................................\n",
      "[CV] ...... penalty=l2, C=1178.76863479, score=0.756212, total=   0.2s\n",
      "[CV] penalty=l2, C=1178.76863479 .....................................\n",
      "[CV] ...... penalty=l2, C=1178.76863479, score=0.704939, total=   0.2s\n",
      "[CV] penalty=l1, C=5179.47467923 .....................................\n",
      "[CV] ...... penalty=l1, C=5179.47467923, score=0.740910, total=   0.2s\n",
      "[CV] penalty=l1, C=5179.47467923 .....................................\n",
      "[CV] ...... penalty=l1, C=5179.47467923, score=0.777223, total=   0.2s\n",
      "[CV] penalty=l1, C=5179.47467923 .....................................\n",
      "[CV] ...... penalty=l1, C=5179.47467923, score=0.759173, total=   0.2s\n",
      "[CV] penalty=l1, C=5179.47467923 .....................................\n",
      "[CV] ...... penalty=l1, C=5179.47467923, score=0.756212, total=   0.1s\n",
      "[CV] penalty=l1, C=5179.47467923 .....................................\n",
      "[CV] ...... penalty=l1, C=5179.47467923, score=0.704939, total=   0.2s\n",
      "[CV] penalty=l2, C=5179.47467923 .....................................\n"
     ]
    },
    {
     "name": "stdout",
     "output_type": "stream",
     "text": [
      "[CV] ...... penalty=l2, C=5179.47467923, score=0.740909, total=   0.2s\n",
      "[CV] penalty=l2, C=5179.47467923 .....................................\n",
      "[CV] ...... penalty=l2, C=5179.47467923, score=0.777222, total=   0.2s\n",
      "[CV] penalty=l2, C=5179.47467923 .....................................\n",
      "[CV] ...... penalty=l2, C=5179.47467923, score=0.759173, total=   0.2s\n",
      "[CV] penalty=l2, C=5179.47467923 .....................................\n",
      "[CV] ...... penalty=l2, C=5179.47467923, score=0.756212, total=   0.1s\n",
      "[CV] penalty=l2, C=5179.47467923 .....................................\n",
      "[CV] ...... penalty=l2, C=5179.47467923, score=0.704938, total=   0.2s\n",
      "[CV] penalty=l1, C=22758.4592607 .....................................\n",
      "[CV] ...... penalty=l1, C=22758.4592607, score=0.740910, total=   0.2s\n",
      "[CV] penalty=l1, C=22758.4592607 .....................................\n",
      "[CV] ...... penalty=l1, C=22758.4592607, score=0.777222, total=   0.2s\n",
      "[CV] penalty=l1, C=22758.4592607 .....................................\n",
      "[CV] ...... penalty=l1, C=22758.4592607, score=0.759174, total=   0.2s\n",
      "[CV] penalty=l1, C=22758.4592607 .....................................\n",
      "[CV] ...... penalty=l1, C=22758.4592607, score=0.756212, total=   0.2s\n",
      "[CV] penalty=l1, C=22758.4592607 .....................................\n",
      "[CV] ...... penalty=l1, C=22758.4592607, score=0.704940, total=   0.2s\n",
      "[CV] penalty=l2, C=22758.4592607 .....................................\n",
      "[CV] ...... penalty=l2, C=22758.4592607, score=0.740909, total=   0.2s\n",
      "[CV] penalty=l2, C=22758.4592607 .....................................\n",
      "[CV] ...... penalty=l2, C=22758.4592607, score=0.777222, total=   0.2s\n",
      "[CV] penalty=l2, C=22758.4592607 .....................................\n",
      "[CV] ...... penalty=l2, C=22758.4592607, score=0.759174, total=   0.2s\n",
      "[CV] penalty=l2, C=22758.4592607 .....................................\n",
      "[CV] ...... penalty=l2, C=22758.4592607, score=0.756212, total=   0.3s\n",
      "[CV] penalty=l2, C=22758.4592607 .....................................\n",
      "[CV] ...... penalty=l2, C=22758.4592607, score=0.704938, total=   0.2s\n",
      "[CV] penalty=l1, C=100000.0 ..........................................\n",
      "[CV] ........... penalty=l1, C=100000.0, score=0.740910, total=   0.3s\n",
      "[CV] penalty=l1, C=100000.0 ..........................................\n",
      "[CV] ........... penalty=l1, C=100000.0, score=0.777220, total=   0.2s\n",
      "[CV] penalty=l1, C=100000.0 ..........................................\n",
      "[CV] ........... penalty=l1, C=100000.0, score=0.759173, total=   0.3s\n",
      "[CV] penalty=l1, C=100000.0 ..........................................\n",
      "[CV] ........... penalty=l1, C=100000.0, score=0.756212, total=   0.2s\n",
      "[CV] penalty=l1, C=100000.0 ..........................................\n",
      "[CV] ........... penalty=l1, C=100000.0, score=0.704937, total=   0.2s\n",
      "[CV] penalty=l2, C=100000.0 ..........................................\n",
      "[CV] ........... penalty=l2, C=100000.0, score=0.740909, total=   0.2s\n",
      "[CV] penalty=l2, C=100000.0 ..........................................\n",
      "[CV] ........... penalty=l2, C=100000.0, score=0.777222, total=   0.3s\n",
      "[CV] penalty=l2, C=100000.0 ..........................................\n",
      "[CV] ........... penalty=l2, C=100000.0, score=0.759174, total=   0.3s\n",
      "[CV] penalty=l2, C=100000.0 ..........................................\n",
      "[CV] ........... penalty=l2, C=100000.0, score=0.756212, total=   0.2s\n",
      "[CV] penalty=l2, C=100000.0 ..........................................\n",
      "[CV] ........... penalty=l2, C=100000.0, score=0.704938, total=   0.2s\n"
     ]
    },
    {
     "name": "stderr",
     "output_type": "stream",
     "text": [
      "[Parallel(n_jobs=1)]: Done 150 out of 150 | elapsed:   45.0s finished\n"
     ]
    },
    {
     "name": "stdout",
     "output_type": "stream",
     "text": [
      "Fitting 5 folds for each of 30 candidates, totalling 150 fits\n",
      "[CV] penalty=l1, C=0.0001 ............................................\n",
      "[CV] ............. penalty=l1, C=0.0001, score=0.500000, total=   0.1s\n",
      "[CV] penalty=l1, C=0.0001 ............................................\n",
      "[CV] ............. penalty=l1, C=0.0001, score=0.500000, total=   0.1s\n",
      "[CV] penalty=l1, C=0.0001 ............................................\n"
     ]
    },
    {
     "name": "stderr",
     "output_type": "stream",
     "text": [
      "[Parallel(n_jobs=1)]: Done   1 out of   1 | elapsed:    0.1s remaining:    0.0s\n",
      "[Parallel(n_jobs=1)]: Done   2 out of   2 | elapsed:    0.3s remaining:    0.0s\n"
     ]
    },
    {
     "name": "stdout",
     "output_type": "stream",
     "text": [
      "[CV] ............. penalty=l1, C=0.0001, score=0.500000, total=   0.1s\n",
      "[CV] penalty=l1, C=0.0001 ............................................\n",
      "[CV] ............. penalty=l1, C=0.0001, score=0.500000, total=   0.1s\n",
      "[CV] penalty=l1, C=0.0001 ............................................\n"
     ]
    },
    {
     "name": "stderr",
     "output_type": "stream",
     "text": [
      "[Parallel(n_jobs=1)]: Done   3 out of   3 | elapsed:    0.5s remaining:    0.0s\n",
      "[Parallel(n_jobs=1)]: Done   4 out of   4 | elapsed:    0.6s remaining:    0.0s\n"
     ]
    },
    {
     "name": "stdout",
     "output_type": "stream",
     "text": [
      "[CV] ............. penalty=l1, C=0.0001, score=0.500000, total=   0.1s\n",
      "[CV] penalty=l2, C=0.0001 ............................................\n"
     ]
    },
    {
     "name": "stderr",
     "output_type": "stream",
     "text": [
      "[Parallel(n_jobs=1)]: Done   5 out of   5 | elapsed:    0.8s remaining:    0.0s\n"
     ]
    },
    {
     "name": "stdout",
     "output_type": "stream",
     "text": [
      "[CV] ............. penalty=l2, C=0.0001, score=0.630095, total=   0.1s\n",
      "[CV] penalty=l2, C=0.0001 ............................................\n"
     ]
    },
    {
     "name": "stderr",
     "output_type": "stream",
     "text": [
      "[Parallel(n_jobs=1)]: Done   6 out of   6 | elapsed:    1.1s remaining:    0.0s\n"
     ]
    },
    {
     "name": "stdout",
     "output_type": "stream",
     "text": [
      "[CV] ............. penalty=l2, C=0.0001, score=0.669693, total=   0.1s\n",
      "[CV] penalty=l2, C=0.0001 ............................................\n"
     ]
    },
    {
     "name": "stderr",
     "output_type": "stream",
     "text": [
      "[Parallel(n_jobs=1)]: Done   7 out of   7 | elapsed:    1.3s remaining:    0.0s\n"
     ]
    },
    {
     "name": "stdout",
     "output_type": "stream",
     "text": [
      "[CV] ............. penalty=l2, C=0.0001, score=0.637041, total=   0.1s\n",
      "[CV] penalty=l2, C=0.0001 ............................................\n"
     ]
    },
    {
     "name": "stderr",
     "output_type": "stream",
     "text": [
      "[Parallel(n_jobs=1)]: Done   8 out of   8 | elapsed:    1.6s remaining:    0.0s\n"
     ]
    },
    {
     "name": "stdout",
     "output_type": "stream",
     "text": [
      "[CV] ............. penalty=l2, C=0.0001, score=0.686334, total=   0.1s\n",
      "[CV] penalty=l2, C=0.0001 ............................................\n"
     ]
    },
    {
     "name": "stderr",
     "output_type": "stream",
     "text": [
      "[Parallel(n_jobs=1)]: Done   9 out of   9 | elapsed:    1.9s remaining:    0.0s\n"
     ]
    },
    {
     "name": "stdout",
     "output_type": "stream",
     "text": [
      "[CV] ............. penalty=l2, C=0.0001, score=0.679123, total=   0.1s\n",
      "[CV] penalty=l1, C=0.000439397056076 .................................\n",
      "[CV] .. penalty=l1, C=0.000439397056076, score=0.500000, total=   0.1s\n",
      "[CV] penalty=l1, C=0.000439397056076 .................................\n",
      "[CV] .. penalty=l1, C=0.000439397056076, score=0.500000, total=   0.1s\n",
      "[CV] penalty=l1, C=0.000439397056076 .................................\n",
      "[CV] .. penalty=l1, C=0.000439397056076, score=0.500000, total=   0.1s\n",
      "[CV] penalty=l1, C=0.000439397056076 .................................\n",
      "[CV] .. penalty=l1, C=0.000439397056076, score=0.500000, total=   0.1s\n",
      "[CV] penalty=l1, C=0.000439397056076 .................................\n",
      "[CV] .. penalty=l1, C=0.000439397056076, score=0.500000, total=   0.1s\n",
      "[CV] penalty=l2, C=0.000439397056076 .................................\n",
      "[CV] .. penalty=l2, C=0.000439397056076, score=0.662883, total=   0.1s\n",
      "[CV] penalty=l2, C=0.000439397056076 .................................\n",
      "[CV] .. penalty=l2, C=0.000439397056076, score=0.721544, total=   0.1s\n",
      "[CV] penalty=l2, C=0.000439397056076 .................................\n",
      "[CV] .. penalty=l2, C=0.000439397056076, score=0.675047, total=   0.1s\n",
      "[CV] penalty=l2, C=0.000439397056076 .................................\n",
      "[CV] .. penalty=l2, C=0.000439397056076, score=0.714555, total=   0.1s\n",
      "[CV] penalty=l2, C=0.000439397056076 .................................\n",
      "[CV] .. penalty=l2, C=0.000439397056076, score=0.702161, total=   0.1s\n",
      "[CV] penalty=l1, C=0.00193069772888 ..................................\n",
      "[CV] ... penalty=l1, C=0.00193069772888, score=0.588059, total=   0.1s\n",
      "[CV] penalty=l1, C=0.00193069772888 ..................................\n",
      "[CV] ... penalty=l1, C=0.00193069772888, score=0.660665, total=   0.1s\n",
      "[CV] penalty=l1, C=0.00193069772888 ..................................\n",
      "[CV] ... penalty=l1, C=0.00193069772888, score=0.536840, total=   0.1s\n",
      "[CV] penalty=l1, C=0.00193069772888 ..................................\n",
      "[CV] ... penalty=l1, C=0.00193069772888, score=0.500000, total=   0.1s\n",
      "[CV] penalty=l1, C=0.00193069772888 ..................................\n",
      "[CV] ... penalty=l1, C=0.00193069772888, score=0.707945, total=   0.1s\n",
      "[CV] penalty=l2, C=0.00193069772888 ..................................\n",
      "[CV] ... penalty=l2, C=0.00193069772888, score=0.702330, total=   0.1s\n",
      "[CV] penalty=l2, C=0.00193069772888 ..................................\n",
      "[CV] ... penalty=l2, C=0.00193069772888, score=0.772660, total=   0.1s\n",
      "[CV] penalty=l2, C=0.00193069772888 ..................................\n",
      "[CV] ... penalty=l2, C=0.00193069772888, score=0.721706, total=   0.1s\n",
      "[CV] penalty=l2, C=0.00193069772888 ..................................\n",
      "[CV] ... penalty=l2, C=0.00193069772888, score=0.738129, total=   0.1s\n",
      "[CV] penalty=l2, C=0.00193069772888 ..................................\n",
      "[CV] ... penalty=l2, C=0.00193069772888, score=0.714916, total=   0.1s\n",
      "[CV] penalty=l1, C=0.00848342898244 ..................................\n",
      "[CV] ... penalty=l1, C=0.00848342898244, score=0.721458, total=   0.1s\n",
      "[CV] penalty=l1, C=0.00848342898244 ..................................\n",
      "[CV] ... penalty=l1, C=0.00848342898244, score=0.779888, total=   0.2s\n",
      "[CV] penalty=l1, C=0.00848342898244 ..................................\n",
      "[CV] ... penalty=l1, C=0.00848342898244, score=0.750191, total=   0.1s\n",
      "[CV] penalty=l1, C=0.00848342898244 ..................................\n",
      "[CV] ... penalty=l1, C=0.00848342898244, score=0.757902, total=   0.1s\n",
      "[CV] penalty=l1, C=0.00848342898244 ..................................\n",
      "[CV] ... penalty=l1, C=0.00848342898244, score=0.714097, total=   0.1s\n",
      "[CV] penalty=l2, C=0.00848342898244 ..................................\n",
      "[CV] ... penalty=l2, C=0.00848342898244, score=0.725397, total=   0.1s\n",
      "[CV] penalty=l2, C=0.00848342898244 ..................................\n",
      "[CV] ... penalty=l2, C=0.00848342898244, score=0.782458, total=   0.1s\n",
      "[CV] penalty=l2, C=0.00848342898244 ..................................\n",
      "[CV] ... penalty=l2, C=0.00848342898244, score=0.747444, total=   0.2s\n",
      "[CV] penalty=l2, C=0.00848342898244 ..................................\n",
      "[CV] ... penalty=l2, C=0.00848342898244, score=0.750676, total=   0.1s\n",
      "[CV] penalty=l2, C=0.00848342898244 ..................................\n",
      "[CV] ... penalty=l2, C=0.00848342898244, score=0.711589, total=   0.1s\n",
      "[CV] penalty=l1, C=0.0372759372031 ...................................\n",
      "[CV] .... penalty=l1, C=0.0372759372031, score=0.737144, total=   0.2s\n",
      "[CV] penalty=l1, C=0.0372759372031 ...................................\n",
      "[CV] .... penalty=l1, C=0.0372759372031, score=0.778569, total=   0.3s\n",
      "[CV] penalty=l1, C=0.0372759372031 ...................................\n",
      "[CV] .... penalty=l1, C=0.0372759372031, score=0.758072, total=   0.2s\n",
      "[CV] penalty=l1, C=0.0372759372031 ...................................\n",
      "[CV] .... penalty=l1, C=0.0372759372031, score=0.756280, total=   0.2s\n",
      "[CV] penalty=l1, C=0.0372759372031 ...................................\n",
      "[CV] .... penalty=l1, C=0.0372759372031, score=0.705128, total=   0.2s\n",
      "[CV] penalty=l2, C=0.0372759372031 ...................................\n",
      "[CV] .... penalty=l2, C=0.0372759372031, score=0.735595, total=   0.3s\n",
      "[CV] penalty=l2, C=0.0372759372031 ...................................\n",
      "[CV] .... penalty=l2, C=0.0372759372031, score=0.779404, total=   0.2s\n",
      "[CV] penalty=l2, C=0.0372759372031 ...................................\n",
      "[CV] .... penalty=l2, C=0.0372759372031, score=0.756404, total=   0.2s\n",
      "[CV] penalty=l2, C=0.0372759372031 ...................................\n",
      "[CV] .... penalty=l2, C=0.0372759372031, score=0.753947, total=   0.2s\n",
      "[CV] penalty=l2, C=0.0372759372031 ...................................\n",
      "[CV] .... penalty=l2, C=0.0372759372031, score=0.705802, total=   0.2s\n",
      "[CV] penalty=l1, C=0.163789370695 ....................................\n",
      "[CV] ..... penalty=l1, C=0.163789370695, score=0.739754, total=   0.1s\n",
      "[CV] penalty=l1, C=0.163789370695 ....................................\n",
      "[CV] ..... penalty=l1, C=0.163789370695, score=0.777778, total=   0.2s\n",
      "[CV] penalty=l1, C=0.163789370695 ....................................\n",
      "[CV] ..... penalty=l1, C=0.163789370695, score=0.759226, total=   0.2s\n",
      "[CV] penalty=l1, C=0.163789370695 ....................................\n",
      "[CV] ..... penalty=l1, C=0.163789370695, score=0.756282, total=   0.2s\n",
      "[CV] penalty=l1, C=0.163789370695 ....................................\n",
      "[CV] ..... penalty=l1, C=0.163789370695, score=0.703566, total=   0.2s\n",
      "[CV] penalty=l2, C=0.163789370695 ....................................\n",
      "[CV] ..... penalty=l2, C=0.163789370695, score=0.739202, total=   0.1s\n",
      "[CV] penalty=l2, C=0.163789370695 ....................................\n",
      "[CV] ..... penalty=l2, C=0.163789370695, score=0.778071, total=   0.2s\n",
      "[CV] penalty=l2, C=0.163789370695 ....................................\n",
      "[CV] ..... penalty=l2, C=0.163789370695, score=0.758801, total=   0.2s\n",
      "[CV] penalty=l2, C=0.163789370695 ....................................\n",
      "[CV] ..... penalty=l2, C=0.163789370695, score=0.755918, total=   0.2s\n",
      "[CV] penalty=l2, C=0.163789370695 ....................................\n",
      "[CV] ..... penalty=l2, C=0.163789370695, score=0.703992, total=   0.1s\n",
      "[CV] penalty=l1, C=0.719685673001 ....................................\n",
      "[CV] ..... penalty=l1, C=0.719685673001, score=0.740314, total=   0.1s\n",
      "[CV] penalty=l1, C=0.719685673001 ....................................\n",
      "[CV] ..... penalty=l1, C=0.719685673001, score=0.777487, total=   0.2s\n",
      "[CV] penalty=l1, C=0.719685673001 ....................................\n",
      "[CV] ..... penalty=l1, C=0.719685673001, score=0.759407, total=   0.2s\n",
      "[CV] penalty=l1, C=0.719685673001 ....................................\n",
      "[CV] ..... penalty=l1, C=0.719685673001, score=0.756261, total=   0.2s\n",
      "[CV] penalty=l1, C=0.719685673001 ....................................\n",
      "[CV] ..... penalty=l1, C=0.719685673001, score=0.703145, total=   0.2s\n",
      "[CV] penalty=l2, C=0.719685673001 ....................................\n",
      "[CV] ..... penalty=l2, C=0.719685673001, score=0.740169, total=   0.2s\n",
      "[CV] penalty=l2, C=0.719685673001 ....................................\n",
      "[CV] ..... penalty=l2, C=0.719685673001, score=0.777576, total=   0.1s\n",
      "[CV] penalty=l2, C=0.719685673001 ....................................\n"
     ]
    },
    {
     "name": "stdout",
     "output_type": "stream",
     "text": [
      "[CV] ..... penalty=l2, C=0.719685673001, score=0.759331, total=   0.2s\n",
      "[CV] penalty=l2, C=0.719685673001 ....................................\n",
      "[CV] ..... penalty=l2, C=0.719685673001, score=0.756288, total=   0.2s\n",
      "[CV] penalty=l2, C=0.719685673001 ....................................\n",
      "[CV] ..... penalty=l2, C=0.719685673001, score=0.703400, total=   0.2s\n",
      "[CV] penalty=l1, C=3.16227766017 .....................................\n",
      "[CV] ...... penalty=l1, C=3.16227766017, score=0.740444, total=   0.1s\n",
      "[CV] penalty=l1, C=3.16227766017 .....................................\n",
      "[CV] ...... penalty=l1, C=3.16227766017, score=0.777422, total=   0.2s\n",
      "[CV] penalty=l1, C=3.16227766017 .....................................\n",
      "[CV] ...... penalty=l1, C=3.16227766017, score=0.759455, total=   0.1s\n",
      "[CV] penalty=l1, C=3.16227766017 .....................................\n",
      "[CV] ...... penalty=l1, C=3.16227766017, score=0.756259, total=   0.2s\n",
      "[CV] penalty=l1, C=3.16227766017 .....................................\n",
      "[CV] ...... penalty=l1, C=3.16227766017, score=0.702891, total=   0.2s\n",
      "[CV] penalty=l2, C=3.16227766017 .....................................\n",
      "[CV] ...... penalty=l2, C=3.16227766017, score=0.740412, total=   0.2s\n",
      "[CV] penalty=l2, C=3.16227766017 .....................................\n",
      "[CV] ...... penalty=l2, C=3.16227766017, score=0.777443, total=   0.2s\n",
      "[CV] penalty=l2, C=3.16227766017 .....................................\n",
      "[CV] ...... penalty=l2, C=3.16227766017, score=0.759432, total=   0.2s\n",
      "[CV] penalty=l2, C=3.16227766017 .....................................\n",
      "[CV] ...... penalty=l2, C=3.16227766017, score=0.756264, total=   0.2s\n",
      "[CV] penalty=l2, C=3.16227766017 .....................................\n",
      "[CV] ...... penalty=l2, C=3.16227766017, score=0.702965, total=   0.2s\n",
      "[CV] penalty=l1, C=13.8949549437 .....................................\n",
      "[CV] ...... penalty=l1, C=13.8949549437, score=0.740475, total=   0.2s\n",
      "[CV] penalty=l1, C=13.8949549437 .....................................\n",
      "[CV] ...... penalty=l1, C=13.8949549437, score=0.777405, total=   0.3s\n",
      "[CV] penalty=l1, C=13.8949549437 .....................................\n",
      "[CV] ...... penalty=l1, C=13.8949549437, score=0.759467, total=   0.2s\n",
      "[CV] penalty=l1, C=13.8949549437 .....................................\n",
      "[CV] ...... penalty=l1, C=13.8949549437, score=0.756264, total=   0.2s\n",
      "[CV] penalty=l1, C=13.8949549437 .....................................\n",
      "[CV] ...... penalty=l1, C=13.8949549437, score=0.702852, total=   0.1s\n",
      "[CV] penalty=l2, C=13.8949549437 .....................................\n",
      "[CV] ...... penalty=l2, C=13.8949549437, score=0.740466, total=   0.2s\n",
      "[CV] penalty=l2, C=13.8949549437 .....................................\n",
      "[CV] ...... penalty=l2, C=13.8949549437, score=0.777409, total=   0.1s\n",
      "[CV] penalty=l2, C=13.8949549437 .....................................\n",
      "[CV] ...... penalty=l2, C=13.8949549437, score=0.759464, total=   0.2s\n",
      "[CV] penalty=l2, C=13.8949549437 .....................................\n",
      "[CV] ...... penalty=l2, C=13.8949549437, score=0.756258, total=   0.2s\n",
      "[CV] penalty=l2, C=13.8949549437 .....................................\n",
      "[CV] ...... penalty=l2, C=13.8949549437, score=0.702863, total=   0.2s\n",
      "[CV] penalty=l1, C=61.0540229659 .....................................\n",
      "[CV] ...... penalty=l1, C=61.0540229659, score=0.740482, total=   0.2s\n",
      "[CV] penalty=l1, C=61.0540229659 .....................................\n",
      "[CV] ...... penalty=l1, C=61.0540229659, score=0.777399, total=   0.2s\n",
      "[CV] penalty=l1, C=61.0540229659 .....................................\n",
      "[CV] ...... penalty=l1, C=61.0540229659, score=0.759469, total=   0.1s\n",
      "[CV] penalty=l1, C=61.0540229659 .....................................\n",
      "[CV] ...... penalty=l1, C=61.0540229659, score=0.756263, total=   0.2s\n",
      "[CV] penalty=l1, C=61.0540229659 .....................................\n",
      "[CV] ...... penalty=l1, C=61.0540229659, score=0.702842, total=   0.2s\n",
      "[CV] penalty=l2, C=61.0540229659 .....................................\n",
      "[CV] ...... penalty=l2, C=61.0540229659, score=0.740479, total=   0.2s\n",
      "[CV] penalty=l2, C=61.0540229659 .....................................\n",
      "[CV] ...... penalty=l2, C=61.0540229659, score=0.777400, total=   0.2s\n",
      "[CV] penalty=l2, C=61.0540229659 .....................................\n",
      "[CV] ...... penalty=l2, C=61.0540229659, score=0.759468, total=   0.2s\n",
      "[CV] penalty=l2, C=61.0540229659 .....................................\n",
      "[CV] ...... penalty=l2, C=61.0540229659, score=0.756265, total=   0.2s\n",
      "[CV] penalty=l2, C=61.0540229659 .....................................\n",
      "[CV] ...... penalty=l2, C=61.0540229659, score=0.702843, total=   0.1s\n",
      "[CV] penalty=l1, C=268.269579528 .....................................\n",
      "[CV] ...... penalty=l1, C=268.269579528, score=0.740482, total=   0.2s\n",
      "[CV] penalty=l1, C=268.269579528 .....................................\n",
      "[CV] ...... penalty=l1, C=268.269579528, score=0.777399, total=   0.2s\n",
      "[CV] penalty=l1, C=268.269579528 .....................................\n",
      "[CV] ...... penalty=l1, C=268.269579528, score=0.759470, total=   0.2s\n",
      "[CV] penalty=l1, C=268.269579528 .....................................\n",
      "[CV] ...... penalty=l1, C=268.269579528, score=0.756263, total=   0.2s\n",
      "[CV] penalty=l1, C=268.269579528 .....................................\n",
      "[CV] ...... penalty=l1, C=268.269579528, score=0.702840, total=   0.2s\n",
      "[CV] penalty=l2, C=268.269579528 .....................................\n",
      "[CV] ...... penalty=l2, C=268.269579528, score=0.740482, total=   0.2s\n",
      "[CV] penalty=l2, C=268.269579528 .....................................\n",
      "[CV] ...... penalty=l2, C=268.269579528, score=0.777398, total=   0.2s\n",
      "[CV] penalty=l2, C=268.269579528 .....................................\n",
      "[CV] ...... penalty=l2, C=268.269579528, score=0.759470, total=   0.3s\n",
      "[CV] penalty=l2, C=268.269579528 .....................................\n",
      "[CV] ...... penalty=l2, C=268.269579528, score=0.756262, total=   0.2s\n",
      "[CV] penalty=l2, C=268.269579528 .....................................\n",
      "[CV] ...... penalty=l2, C=268.269579528, score=0.702839, total=   0.2s\n",
      "[CV] penalty=l1, C=1178.76863479 .....................................\n",
      "[CV] ...... penalty=l1, C=1178.76863479, score=0.740483, total=   0.1s\n",
      "[CV] penalty=l1, C=1178.76863479 .....................................\n",
      "[CV] ...... penalty=l1, C=1178.76863479, score=0.777400, total=   0.2s\n",
      "[CV] penalty=l1, C=1178.76863479 .....................................\n",
      "[CV] ...... penalty=l1, C=1178.76863479, score=0.759469, total=   0.2s\n",
      "[CV] penalty=l1, C=1178.76863479 .....................................\n",
      "[CV] ...... penalty=l1, C=1178.76863479, score=0.756264, total=   0.2s\n",
      "[CV] penalty=l1, C=1178.76863479 .....................................\n",
      "[CV] ...... penalty=l1, C=1178.76863479, score=0.702840, total=   0.2s\n",
      "[CV] penalty=l2, C=1178.76863479 .....................................\n",
      "[CV] ...... penalty=l2, C=1178.76863479, score=0.740482, total=   0.2s\n",
      "[CV] penalty=l2, C=1178.76863479 .....................................\n",
      "[CV] ...... penalty=l2, C=1178.76863479, score=0.777398, total=   0.2s\n",
      "[CV] penalty=l2, C=1178.76863479 .....................................\n",
      "[CV] ...... penalty=l2, C=1178.76863479, score=0.759470, total=   0.2s\n",
      "[CV] penalty=l2, C=1178.76863479 .....................................\n",
      "[CV] ...... penalty=l2, C=1178.76863479, score=0.756263, total=   0.2s\n",
      "[CV] penalty=l2, C=1178.76863479 .....................................\n",
      "[CV] ...... penalty=l2, C=1178.76863479, score=0.702838, total=   0.1s\n",
      "[CV] penalty=l1, C=5179.47467923 .....................................\n",
      "[CV] ...... penalty=l1, C=5179.47467923, score=0.740483, total=   0.2s\n",
      "[CV] penalty=l1, C=5179.47467923 .....................................\n",
      "[CV] ...... penalty=l1, C=5179.47467923, score=0.777399, total=   0.2s\n",
      "[CV] penalty=l1, C=5179.47467923 .....................................\n",
      "[CV] ...... penalty=l1, C=5179.47467923, score=0.759469, total=   0.1s\n",
      "[CV] penalty=l1, C=5179.47467923 .....................................\n",
      "[CV] ...... penalty=l1, C=5179.47467923, score=0.756263, total=   0.1s\n",
      "[CV] penalty=l1, C=5179.47467923 .....................................\n",
      "[CV] ...... penalty=l1, C=5179.47467923, score=0.702838, total=   0.1s\n",
      "[CV] penalty=l2, C=5179.47467923 .....................................\n"
     ]
    },
    {
     "name": "stdout",
     "output_type": "stream",
     "text": [
      "[CV] ...... penalty=l2, C=5179.47467923, score=0.740482, total=   0.1s\n",
      "[CV] penalty=l2, C=5179.47467923 .....................................\n",
      "[CV] ...... penalty=l2, C=5179.47467923, score=0.777398, total=   0.1s\n",
      "[CV] penalty=l2, C=5179.47467923 .....................................\n",
      "[CV] ...... penalty=l2, C=5179.47467923, score=0.759470, total=   0.2s\n",
      "[CV] penalty=l2, C=5179.47467923 .....................................\n",
      "[CV] ...... penalty=l2, C=5179.47467923, score=0.756263, total=   0.1s\n",
      "[CV] penalty=l2, C=5179.47467923 .....................................\n",
      "[CV] ...... penalty=l2, C=5179.47467923, score=0.702838, total=   0.2s\n",
      "[CV] penalty=l1, C=22758.4592607 .....................................\n",
      "[CV] ...... penalty=l1, C=22758.4592607, score=0.740481, total=   0.2s\n",
      "[CV] penalty=l1, C=22758.4592607 .....................................\n",
      "[CV] ...... penalty=l1, C=22758.4592607, score=0.777398, total=   0.2s\n",
      "[CV] penalty=l1, C=22758.4592607 .....................................\n",
      "[CV] ...... penalty=l1, C=22758.4592607, score=0.759470, total=   0.2s\n",
      "[CV] penalty=l1, C=22758.4592607 .....................................\n",
      "[CV] ...... penalty=l1, C=22758.4592607, score=0.756264, total=   0.1s\n",
      "[CV] penalty=l1, C=22758.4592607 .....................................\n",
      "[CV] ...... penalty=l1, C=22758.4592607, score=0.702837, total=   0.2s\n",
      "[CV] penalty=l2, C=22758.4592607 .....................................\n",
      "[CV] ...... penalty=l2, C=22758.4592607, score=0.740483, total=   0.2s\n",
      "[CV] penalty=l2, C=22758.4592607 .....................................\n",
      "[CV] ...... penalty=l2, C=22758.4592607, score=0.777398, total=   0.2s\n",
      "[CV] penalty=l2, C=22758.4592607 .....................................\n",
      "[CV] ...... penalty=l2, C=22758.4592607, score=0.759469, total=   0.2s\n",
      "[CV] penalty=l2, C=22758.4592607 .....................................\n",
      "[CV] ...... penalty=l2, C=22758.4592607, score=0.756263, total=   0.2s\n",
      "[CV] penalty=l2, C=22758.4592607 .....................................\n",
      "[CV] ...... penalty=l2, C=22758.4592607, score=0.702838, total=   0.2s\n",
      "[CV] penalty=l1, C=100000.0 ..........................................\n",
      "[CV] ........... penalty=l1, C=100000.0, score=0.740484, total=   0.2s\n",
      "[CV] penalty=l1, C=100000.0 ..........................................\n",
      "[CV] ........... penalty=l1, C=100000.0, score=0.777398, total=   0.2s\n",
      "[CV] penalty=l1, C=100000.0 ..........................................\n",
      "[CV] ........... penalty=l1, C=100000.0, score=0.759470, total=   0.1s\n",
      "[CV] penalty=l1, C=100000.0 ..........................................\n",
      "[CV] ........... penalty=l1, C=100000.0, score=0.756263, total=   0.2s\n",
      "[CV] penalty=l1, C=100000.0 ..........................................\n",
      "[CV] ........... penalty=l1, C=100000.0, score=0.702838, total=   0.1s\n",
      "[CV] penalty=l2, C=100000.0 ..........................................\n",
      "[CV] ........... penalty=l2, C=100000.0, score=0.740483, total=   0.2s\n",
      "[CV] penalty=l2, C=100000.0 ..........................................\n",
      "[CV] ........... penalty=l2, C=100000.0, score=0.777398, total=   0.2s\n",
      "[CV] penalty=l2, C=100000.0 ..........................................\n",
      "[CV] ........... penalty=l2, C=100000.0, score=0.759469, total=   0.2s\n",
      "[CV] penalty=l2, C=100000.0 ..........................................\n",
      "[CV] ........... penalty=l2, C=100000.0, score=0.756263, total=   0.2s\n",
      "[CV] penalty=l2, C=100000.0 ..........................................\n",
      "[CV] ........... penalty=l2, C=100000.0, score=0.702838, total=   0.2s\n"
     ]
    },
    {
     "name": "stderr",
     "output_type": "stream",
     "text": [
      "[Parallel(n_jobs=1)]: Done 150 out of 150 | elapsed:   45.7s finished\n"
     ]
    },
    {
     "name": "stdout",
     "output_type": "stream",
     "text": [
      "Fitting 5 folds for each of 30 candidates, totalling 150 fits\n",
      "[CV] penalty=l1, C=0.0001 ............................................\n",
      "[CV] ............. penalty=l1, C=0.0001, score=0.500000, total=   0.1s\n",
      "[CV] penalty=l1, C=0.0001 ............................................\n"
     ]
    },
    {
     "name": "stderr",
     "output_type": "stream",
     "text": [
      "[Parallel(n_jobs=1)]: Done   1 out of   1 | elapsed:    0.1s remaining:    0.0s\n"
     ]
    },
    {
     "name": "stdout",
     "output_type": "stream",
     "text": [
      "[CV] ............. penalty=l1, C=0.0001, score=0.500000, total=   0.1s\n",
      "[CV] penalty=l1, C=0.0001 ............................................\n",
      "[CV] ............. penalty=l1, C=0.0001, score=0.500000, total=   0.1s\n",
      "[CV] penalty=l1, C=0.0001 ............................................\n"
     ]
    },
    {
     "name": "stderr",
     "output_type": "stream",
     "text": [
      "[Parallel(n_jobs=1)]: Done   2 out of   2 | elapsed:    0.4s remaining:    0.0s\n",
      "[Parallel(n_jobs=1)]: Done   3 out of   3 | elapsed:    0.5s remaining:    0.0s\n"
     ]
    },
    {
     "name": "stdout",
     "output_type": "stream",
     "text": [
      "[CV] ............. penalty=l1, C=0.0001, score=0.500000, total=   0.1s\n",
      "[CV] penalty=l1, C=0.0001 ............................................\n",
      "[CV] ............. penalty=l1, C=0.0001, score=0.500000, total=   0.1s\n"
     ]
    },
    {
     "name": "stderr",
     "output_type": "stream",
     "text": [
      "[Parallel(n_jobs=1)]: Done   4 out of   4 | elapsed:    0.9s remaining:    0.0s\n",
      "[Parallel(n_jobs=1)]: Done   5 out of   5 | elapsed:    1.1s remaining:    0.0s\n"
     ]
    },
    {
     "name": "stdout",
     "output_type": "stream",
     "text": [
      "[CV] penalty=l2, C=0.0001 ............................................\n",
      "[CV] ............. penalty=l2, C=0.0001, score=0.616934, total=   0.2s\n",
      "[CV] penalty=l2, C=0.0001 ............................................\n"
     ]
    },
    {
     "name": "stderr",
     "output_type": "stream",
     "text": [
      "[Parallel(n_jobs=1)]: Done   6 out of   6 | elapsed:    1.4s remaining:    0.0s\n"
     ]
    },
    {
     "name": "stdout",
     "output_type": "stream",
     "text": [
      "[CV] ............. penalty=l2, C=0.0001, score=0.662777, total=   0.1s\n",
      "[CV] penalty=l2, C=0.0001 ............................................\n"
     ]
    },
    {
     "name": "stderr",
     "output_type": "stream",
     "text": [
      "[Parallel(n_jobs=1)]: Done   7 out of   7 | elapsed:    1.6s remaining:    0.0s\n"
     ]
    },
    {
     "name": "stdout",
     "output_type": "stream",
     "text": [
      "[CV] ............. penalty=l2, C=0.0001, score=0.635177, total=   0.1s\n",
      "[CV] penalty=l2, C=0.0001 ............................................\n"
     ]
    },
    {
     "name": "stderr",
     "output_type": "stream",
     "text": [
      "[Parallel(n_jobs=1)]: Done   8 out of   8 | elapsed:    2.0s remaining:    0.0s\n"
     ]
    },
    {
     "name": "stdout",
     "output_type": "stream",
     "text": [
      "[CV] ............. penalty=l2, C=0.0001, score=0.672632, total=   0.2s\n",
      "[CV] penalty=l2, C=0.0001 ............................................\n"
     ]
    },
    {
     "name": "stderr",
     "output_type": "stream",
     "text": [
      "[Parallel(n_jobs=1)]: Done   9 out of   9 | elapsed:    2.3s remaining:    0.0s\n"
     ]
    },
    {
     "name": "stdout",
     "output_type": "stream",
     "text": [
      "[CV] ............. penalty=l2, C=0.0001, score=0.696017, total=   0.1s\n",
      "[CV] penalty=l1, C=0.000439397056076 .................................\n",
      "[CV] .. penalty=l1, C=0.000439397056076, score=0.500000, total=   0.1s\n",
      "[CV] penalty=l1, C=0.000439397056076 .................................\n",
      "[CV] .. penalty=l1, C=0.000439397056076, score=0.500000, total=   0.1s\n",
      "[CV] penalty=l1, C=0.000439397056076 .................................\n",
      "[CV] .. penalty=l1, C=0.000439397056076, score=0.500000, total=   0.1s\n",
      "[CV] penalty=l1, C=0.000439397056076 .................................\n",
      "[CV] .. penalty=l1, C=0.000439397056076, score=0.500000, total=   0.1s\n",
      "[CV] penalty=l1, C=0.000439397056076 .................................\n",
      "[CV] .. penalty=l1, C=0.000439397056076, score=0.500000, total=   0.1s\n",
      "[CV] penalty=l2, C=0.000439397056076 .................................\n",
      "[CV] .. penalty=l2, C=0.000439397056076, score=0.658565, total=   0.2s\n",
      "[CV] penalty=l2, C=0.000439397056076 .................................\n",
      "[CV] .. penalty=l2, C=0.000439397056076, score=0.717985, total=   0.1s\n",
      "[CV] penalty=l2, C=0.000439397056076 .................................\n",
      "[CV] .. penalty=l2, C=0.000439397056076, score=0.674954, total=   0.2s\n",
      "[CV] penalty=l2, C=0.000439397056076 .................................\n",
      "[CV] .. penalty=l2, C=0.000439397056076, score=0.704686, total=   0.1s\n",
      "[CV] penalty=l2, C=0.000439397056076 .................................\n",
      "[CV] .. penalty=l2, C=0.000439397056076, score=0.716575, total=   0.1s\n",
      "[CV] penalty=l1, C=0.00193069772888 ..................................\n",
      "[CV] ... penalty=l1, C=0.00193069772888, score=0.588036, total=   0.1s\n",
      "[CV] penalty=l1, C=0.00193069772888 ..................................\n",
      "[CV] ... penalty=l1, C=0.00193069772888, score=0.660911, total=   0.1s\n",
      "[CV] penalty=l1, C=0.00193069772888 ..................................\n",
      "[CV] ... penalty=l1, C=0.00193069772888, score=0.500000, total=   0.1s\n",
      "[CV] penalty=l1, C=0.00193069772888 ..................................\n",
      "[CV] ... penalty=l1, C=0.00193069772888, score=0.500000, total=   0.1s\n",
      "[CV] penalty=l1, C=0.00193069772888 ..................................\n",
      "[CV] ... penalty=l1, C=0.00193069772888, score=0.719857, total=   0.1s\n",
      "[CV] penalty=l2, C=0.00193069772888 ..................................\n",
      "[CV] ... penalty=l2, C=0.00193069772888, score=0.705186, total=   0.2s\n",
      "[CV] penalty=l2, C=0.00193069772888 ..................................\n",
      "[CV] ... penalty=l2, C=0.00193069772888, score=0.772289, total=   0.2s\n",
      "[CV] penalty=l2, C=0.00193069772888 ..................................\n",
      "[CV] ... penalty=l2, C=0.00193069772888, score=0.727019, total=   0.2s\n",
      "[CV] penalty=l2, C=0.00193069772888 ..................................\n",
      "[CV] ... penalty=l2, C=0.00193069772888, score=0.744947, total=   0.2s\n",
      "[CV] penalty=l2, C=0.00193069772888 ..................................\n",
      "[CV] ... penalty=l2, C=0.00193069772888, score=0.730669, total=   0.3s\n",
      "[CV] penalty=l1, C=0.00848342898244 ..................................\n",
      "[CV] ... penalty=l1, C=0.00848342898244, score=0.727551, total=   0.2s\n",
      "[CV] penalty=l1, C=0.00848342898244 ..................................\n",
      "[CV] ... penalty=l1, C=0.00848342898244, score=0.781827, total=   0.2s\n",
      "[CV] penalty=l1, C=0.00848342898244 ..................................\n",
      "[CV] ... penalty=l1, C=0.00848342898244, score=0.751914, total=   0.3s\n",
      "[CV] penalty=l1, C=0.00848342898244 ..................................\n",
      "[CV] ... penalty=l1, C=0.00848342898244, score=0.760832, total=   0.2s\n",
      "[CV] penalty=l1, C=0.00848342898244 ..................................\n",
      "[CV] ... penalty=l1, C=0.00848342898244, score=0.716150, total=   0.1s\n",
      "[CV] penalty=l2, C=0.00848342898244 ..................................\n",
      "[CV] ... penalty=l2, C=0.00848342898244, score=0.732644, total=   0.3s\n",
      "[CV] penalty=l2, C=0.00848342898244 ..................................\n",
      "[CV] ... penalty=l2, C=0.00848342898244, score=0.787494, total=   0.2s\n",
      "[CV] penalty=l2, C=0.00848342898244 ..................................\n",
      "[CV] ... penalty=l2, C=0.00848342898244, score=0.757484, total=   0.2s\n",
      "[CV] penalty=l2, C=0.00848342898244 ..................................\n",
      "[CV] ... penalty=l2, C=0.00848342898244, score=0.755869, total=   0.2s\n",
      "[CV] penalty=l2, C=0.00848342898244 ..................................\n",
      "[CV] ... penalty=l2, C=0.00848342898244, score=0.730857, total=   0.2s\n",
      "[CV] penalty=l1, C=0.0372759372031 ...................................\n",
      "[CV] .... penalty=l1, C=0.0372759372031, score=0.750579, total=   0.2s\n",
      "[CV] penalty=l1, C=0.0372759372031 ...................................\n",
      "[CV] .... penalty=l1, C=0.0372759372031, score=0.787100, total=   0.2s\n",
      "[CV] penalty=l1, C=0.0372759372031 ...................................\n",
      "[CV] .... penalty=l1, C=0.0372759372031, score=0.771782, total=   0.2s\n",
      "[CV] penalty=l1, C=0.0372759372031 ...................................\n",
      "[CV] .... penalty=l1, C=0.0372759372031, score=0.759742, total=   0.2s\n",
      "[CV] penalty=l1, C=0.0372759372031 ...................................\n",
      "[CV] .... penalty=l1, C=0.0372759372031, score=0.724111, total=   0.2s\n",
      "[CV] penalty=l2, C=0.0372759372031 ...................................\n",
      "[CV] .... penalty=l2, C=0.0372759372031, score=0.747913, total=   0.2s\n",
      "[CV] penalty=l2, C=0.0372759372031 ...................................\n",
      "[CV] .... penalty=l2, C=0.0372759372031, score=0.788174, total=   0.2s\n",
      "[CV] penalty=l2, C=0.0372759372031 ...................................\n",
      "[CV] .... penalty=l2, C=0.0372759372031, score=0.770175, total=   0.2s\n",
      "[CV] penalty=l2, C=0.0372759372031 ...................................\n",
      "[CV] .... penalty=l2, C=0.0372759372031, score=0.758290, total=   0.2s\n",
      "[CV] penalty=l2, C=0.0372759372031 ...................................\n",
      "[CV] .... penalty=l2, C=0.0372759372031, score=0.726166, total=   0.2s\n",
      "[CV] penalty=l1, C=0.163789370695 ....................................\n",
      "[CV] ..... penalty=l1, C=0.163789370695, score=0.753812, total=   0.2s\n",
      "[CV] penalty=l1, C=0.163789370695 ....................................\n",
      "[CV] ..... penalty=l1, C=0.163789370695, score=0.787130, total=   0.1s\n",
      "[CV] penalty=l1, C=0.163789370695 ....................................\n",
      "[CV] ..... penalty=l1, C=0.163789370695, score=0.774138, total=   0.3s\n",
      "[CV] penalty=l1, C=0.163789370695 ....................................\n",
      "[CV] ..... penalty=l1, C=0.163789370695, score=0.759247, total=   0.2s\n",
      "[CV] penalty=l1, C=0.163789370695 ....................................\n",
      "[CV] ..... penalty=l1, C=0.163789370695, score=0.721468, total=   0.2s\n",
      "[CV] penalty=l2, C=0.163789370695 ....................................\n",
      "[CV] ..... penalty=l2, C=0.163789370695, score=0.753072, total=   0.2s\n",
      "[CV] penalty=l2, C=0.163789370695 ....................................\n",
      "[CV] ..... penalty=l2, C=0.163789370695, score=0.787201, total=   0.2s\n",
      "[CV] penalty=l2, C=0.163789370695 ....................................\n",
      "[CV] ..... penalty=l2, C=0.163789370695, score=0.773813, total=   0.3s\n",
      "[CV] penalty=l2, C=0.163789370695 ....................................\n",
      "[CV] ..... penalty=l2, C=0.163789370695, score=0.758798, total=   0.2s\n",
      "[CV] penalty=l2, C=0.163789370695 ....................................\n",
      "[CV] ..... penalty=l2, C=0.163789370695, score=0.722053, total=   0.2s\n",
      "[CV] penalty=l1, C=0.719685673001 ....................................\n",
      "[CV] ..... penalty=l1, C=0.719685673001, score=0.754570, total=   0.2s\n",
      "[CV] penalty=l1, C=0.719685673001 ....................................\n",
      "[CV] ..... penalty=l1, C=0.719685673001, score=0.787234, total=   0.2s\n",
      "[CV] penalty=l1, C=0.719685673001 ....................................\n",
      "[CV] ..... penalty=l1, C=0.719685673001, score=0.774468, total=   0.2s\n",
      "[CV] penalty=l1, C=0.719685673001 ....................................\n",
      "[CV] ..... penalty=l1, C=0.719685673001, score=0.759136, total=   0.2s\n",
      "[CV] penalty=l1, C=0.719685673001 ....................................\n",
      "[CV] ..... penalty=l1, C=0.719685673001, score=0.721037, total=   0.1s\n",
      "[CV] penalty=l2, C=0.719685673001 ....................................\n",
      "[CV] ..... penalty=l2, C=0.719685673001, score=0.754360, total=   0.2s\n",
      "[CV] penalty=l2, C=0.719685673001 ....................................\n",
      "[CV] ..... penalty=l2, C=0.719685673001, score=0.787235, total=   0.2s\n",
      "[CV] penalty=l2, C=0.719685673001 ....................................\n"
     ]
    },
    {
     "name": "stdout",
     "output_type": "stream",
     "text": [
      "[CV] ..... penalty=l2, C=0.719685673001, score=0.774422, total=   0.2s\n",
      "[CV] penalty=l2, C=0.719685673001 ....................................\n",
      "[CV] ..... penalty=l2, C=0.719685673001, score=0.759016, total=   0.2s\n",
      "[CV] penalty=l2, C=0.719685673001 ....................................\n",
      "[CV] ..... penalty=l2, C=0.719685673001, score=0.721122, total=   0.2s\n",
      "[CV] penalty=l1, C=3.16227766017 .....................................\n",
      "[CV] ...... penalty=l1, C=3.16227766017, score=0.754757, total=   0.2s\n",
      "[CV] penalty=l1, C=3.16227766017 .....................................\n",
      "[CV] ...... penalty=l1, C=3.16227766017, score=0.787243, total=   0.2s\n",
      "[CV] penalty=l1, C=3.16227766017 .....................................\n",
      "[CV] ...... penalty=l1, C=3.16227766017, score=0.774527, total=   0.2s\n",
      "[CV] penalty=l1, C=3.16227766017 .....................................\n",
      "[CV] ...... penalty=l1, C=3.16227766017, score=0.759184, total=   0.2s\n",
      "[CV] penalty=l1, C=3.16227766017 .....................................\n",
      "[CV] ...... penalty=l1, C=3.16227766017, score=0.720950, total=   0.2s\n",
      "[CV] penalty=l2, C=3.16227766017 .....................................\n",
      "[CV] ...... penalty=l2, C=3.16227766017, score=0.754710, total=   0.2s\n",
      "[CV] penalty=l2, C=3.16227766017 .....................................\n",
      "[CV] ...... penalty=l2, C=3.16227766017, score=0.787249, total=   0.2s\n",
      "[CV] penalty=l2, C=3.16227766017 .....................................\n",
      "[CV] ...... penalty=l2, C=3.16227766017, score=0.774520, total=   0.2s\n",
      "[CV] penalty=l2, C=3.16227766017 .....................................\n",
      "[CV] ...... penalty=l2, C=3.16227766017, score=0.759157, total=   0.2s\n",
      "[CV] penalty=l2, C=3.16227766017 .....................................\n",
      "[CV] ...... penalty=l2, C=3.16227766017, score=0.720977, total=   0.2s\n",
      "[CV] penalty=l1, C=13.8949549437 .....................................\n",
      "[CV] ...... penalty=l1, C=13.8949549437, score=0.754798, total=   0.2s\n",
      "[CV] penalty=l1, C=13.8949549437 .....................................\n",
      "[CV] ...... penalty=l1, C=13.8949549437, score=0.787250, total=   0.4s\n",
      "[CV] penalty=l1, C=13.8949549437 .....................................\n",
      "[CV] ...... penalty=l1, C=13.8949549437, score=0.774539, total=   0.4s\n",
      "[CV] penalty=l1, C=13.8949549437 .....................................\n",
      "[CV] ...... penalty=l1, C=13.8949549437, score=0.759197, total=   0.2s\n",
      "[CV] penalty=l1, C=13.8949549437 .....................................\n",
      "[CV] ...... penalty=l1, C=13.8949549437, score=0.720918, total=   0.2s\n",
      "[CV] penalty=l2, C=13.8949549437 .....................................\n",
      "[CV] ...... penalty=l2, C=13.8949549437, score=0.754785, total=   0.2s\n",
      "[CV] penalty=l2, C=13.8949549437 .....................................\n",
      "[CV] ...... penalty=l2, C=13.8949549437, score=0.787252, total=   0.2s\n",
      "[CV] penalty=l2, C=13.8949549437 .....................................\n",
      "[CV] ...... penalty=l2, C=13.8949549437, score=0.774538, total=   0.2s\n",
      "[CV] penalty=l2, C=13.8949549437 .....................................\n",
      "[CV] ...... penalty=l2, C=13.8949549437, score=0.759191, total=   0.4s\n",
      "[CV] penalty=l2, C=13.8949549437 .....................................\n",
      "[CV] ...... penalty=l2, C=13.8949549437, score=0.720918, total=   0.2s\n",
      "[CV] penalty=l1, C=61.0540229659 .....................................\n",
      "[CV] ...... penalty=l1, C=61.0540229659, score=0.754807, total=   0.2s\n",
      "[CV] penalty=l1, C=61.0540229659 .....................................\n",
      "[CV] ...... penalty=l1, C=61.0540229659, score=0.787255, total=   0.2s\n",
      "[CV] penalty=l1, C=61.0540229659 .....................................\n",
      "[CV] ...... penalty=l1, C=61.0540229659, score=0.774540, total=   0.2s\n",
      "[CV] penalty=l1, C=61.0540229659 .....................................\n",
      "[CV] ...... penalty=l1, C=61.0540229659, score=0.759201, total=   0.2s\n",
      "[CV] penalty=l1, C=61.0540229659 .....................................\n",
      "[CV] ...... penalty=l1, C=61.0540229659, score=0.720912, total=   0.2s\n",
      "[CV] penalty=l2, C=61.0540229659 .....................................\n",
      "[CV] ...... penalty=l2, C=61.0540229659, score=0.754806, total=   0.3s\n",
      "[CV] penalty=l2, C=61.0540229659 .....................................\n",
      "[CV] ...... penalty=l2, C=61.0540229659, score=0.787254, total=   0.2s\n",
      "[CV] penalty=l2, C=61.0540229659 .....................................\n",
      "[CV] ...... penalty=l2, C=61.0540229659, score=0.774541, total=   0.2s\n",
      "[CV] penalty=l2, C=61.0540229659 .....................................\n",
      "[CV] ...... penalty=l2, C=61.0540229659, score=0.759198, total=   0.2s\n",
      "[CV] penalty=l2, C=61.0540229659 .....................................\n",
      "[CV] ...... penalty=l2, C=61.0540229659, score=0.720911, total=   0.2s\n",
      "[CV] penalty=l1, C=268.269579528 .....................................\n",
      "[CV] ...... penalty=l1, C=268.269579528, score=0.754811, total=   0.2s\n",
      "[CV] penalty=l1, C=268.269579528 .....................................\n",
      "[CV] ...... penalty=l1, C=268.269579528, score=0.787255, total=   0.2s\n",
      "[CV] penalty=l1, C=268.269579528 .....................................\n",
      "[CV] ...... penalty=l1, C=268.269579528, score=0.774541, total=   0.2s\n",
      "[CV] penalty=l1, C=268.269579528 .....................................\n",
      "[CV] ...... penalty=l1, C=268.269579528, score=0.759202, total=   0.2s\n",
      "[CV] penalty=l1, C=268.269579528 .....................................\n",
      "[CV] ...... penalty=l1, C=268.269579528, score=0.720910, total=   0.2s\n",
      "[CV] penalty=l2, C=268.269579528 .....................................\n",
      "[CV] ...... penalty=l2, C=268.269579528, score=0.754810, total=   0.2s\n",
      "[CV] penalty=l2, C=268.269579528 .....................................\n",
      "[CV] ...... penalty=l2, C=268.269579528, score=0.787255, total=   0.2s\n",
      "[CV] penalty=l2, C=268.269579528 .....................................\n",
      "[CV] ...... penalty=l2, C=268.269579528, score=0.774543, total=   0.2s\n",
      "[CV] penalty=l2, C=268.269579528 .....................................\n",
      "[CV] ...... penalty=l2, C=268.269579528, score=0.759199, total=   0.2s\n",
      "[CV] penalty=l2, C=268.269579528 .....................................\n",
      "[CV] ...... penalty=l2, C=268.269579528, score=0.720912, total=   0.2s\n",
      "[CV] penalty=l1, C=1178.76863479 .....................................\n",
      "[CV] ...... penalty=l1, C=1178.76863479, score=0.754810, total=   0.2s\n",
      "[CV] penalty=l1, C=1178.76863479 .....................................\n",
      "[CV] ...... penalty=l1, C=1178.76863479, score=0.787255, total=   0.2s\n",
      "[CV] penalty=l1, C=1178.76863479 .....................................\n",
      "[CV] ...... penalty=l1, C=1178.76863479, score=0.774542, total=   0.2s\n",
      "[CV] penalty=l1, C=1178.76863479 .....................................\n",
      "[CV] ...... penalty=l1, C=1178.76863479, score=0.759201, total=   0.1s\n",
      "[CV] penalty=l1, C=1178.76863479 .....................................\n",
      "[CV] ...... penalty=l1, C=1178.76863479, score=0.720912, total=   0.2s\n",
      "[CV] penalty=l2, C=1178.76863479 .....................................\n",
      "[CV] ...... penalty=l2, C=1178.76863479, score=0.754811, total=   0.2s\n",
      "[CV] penalty=l2, C=1178.76863479 .....................................\n",
      "[CV] ...... penalty=l2, C=1178.76863479, score=0.787256, total=   0.2s\n",
      "[CV] penalty=l2, C=1178.76863479 .....................................\n",
      "[CV] ...... penalty=l2, C=1178.76863479, score=0.774542, total=   0.2s\n",
      "[CV] penalty=l2, C=1178.76863479 .....................................\n",
      "[CV] ...... penalty=l2, C=1178.76863479, score=0.759199, total=   0.2s\n",
      "[CV] penalty=l2, C=1178.76863479 .....................................\n",
      "[CV] ...... penalty=l2, C=1178.76863479, score=0.720911, total=   0.2s\n",
      "[CV] penalty=l1, C=5179.47467923 .....................................\n",
      "[CV] ...... penalty=l1, C=5179.47467923, score=0.754810, total=   0.2s\n",
      "[CV] penalty=l1, C=5179.47467923 .....................................\n",
      "[CV] ...... penalty=l1, C=5179.47467923, score=0.787255, total=   0.2s\n",
      "[CV] penalty=l1, C=5179.47467923 .....................................\n",
      "[CV] ...... penalty=l1, C=5179.47467923, score=0.774541, total=   0.1s\n",
      "[CV] penalty=l1, C=5179.47467923 .....................................\n",
      "[CV] ...... penalty=l1, C=5179.47467923, score=0.759201, total=   0.2s\n",
      "[CV] penalty=l1, C=5179.47467923 .....................................\n",
      "[CV] ...... penalty=l1, C=5179.47467923, score=0.720911, total=   0.2s\n",
      "[CV] penalty=l2, C=5179.47467923 .....................................\n"
     ]
    },
    {
     "name": "stdout",
     "output_type": "stream",
     "text": [
      "[CV] ...... penalty=l2, C=5179.47467923, score=0.754811, total=   0.2s\n",
      "[CV] penalty=l2, C=5179.47467923 .....................................\n",
      "[CV] ...... penalty=l2, C=5179.47467923, score=0.787256, total=   0.2s\n",
      "[CV] penalty=l2, C=5179.47467923 .....................................\n",
      "[CV] ...... penalty=l2, C=5179.47467923, score=0.774542, total=   0.2s\n",
      "[CV] penalty=l2, C=5179.47467923 .....................................\n",
      "[CV] ...... penalty=l2, C=5179.47467923, score=0.759199, total=   0.2s\n",
      "[CV] penalty=l2, C=5179.47467923 .....................................\n",
      "[CV] ...... penalty=l2, C=5179.47467923, score=0.720911, total=   0.2s\n",
      "[CV] penalty=l1, C=22758.4592607 .....................................\n",
      "[CV] ...... penalty=l1, C=22758.4592607, score=0.754809, total=   0.2s\n",
      "[CV] penalty=l1, C=22758.4592607 .....................................\n",
      "[CV] ...... penalty=l1, C=22758.4592607, score=0.787256, total=   0.2s\n",
      "[CV] penalty=l1, C=22758.4592607 .....................................\n",
      "[CV] ...... penalty=l1, C=22758.4592607, score=0.774543, total=   0.2s\n",
      "[CV] penalty=l1, C=22758.4592607 .....................................\n",
      "[CV] ...... penalty=l1, C=22758.4592607, score=0.759199, total=   0.2s\n",
      "[CV] penalty=l1, C=22758.4592607 .....................................\n",
      "[CV] ...... penalty=l1, C=22758.4592607, score=0.720912, total=   0.2s\n",
      "[CV] penalty=l2, C=22758.4592607 .....................................\n",
      "[CV] ...... penalty=l2, C=22758.4592607, score=0.754811, total=   0.2s\n",
      "[CV] penalty=l2, C=22758.4592607 .....................................\n",
      "[CV] ...... penalty=l2, C=22758.4592607, score=0.787256, total=   0.1s\n",
      "[CV] penalty=l2, C=22758.4592607 .....................................\n",
      "[CV] ...... penalty=l2, C=22758.4592607, score=0.774542, total=   0.2s\n",
      "[CV] penalty=l2, C=22758.4592607 .....................................\n",
      "[CV] ...... penalty=l2, C=22758.4592607, score=0.759199, total=   0.2s\n",
      "[CV] penalty=l2, C=22758.4592607 .....................................\n",
      "[CV] ...... penalty=l2, C=22758.4592607, score=0.720911, total=   0.2s\n",
      "[CV] penalty=l1, C=100000.0 ..........................................\n",
      "[CV] ........... penalty=l1, C=100000.0, score=0.754810, total=   0.2s\n",
      "[CV] penalty=l1, C=100000.0 ..........................................\n",
      "[CV] ........... penalty=l1, C=100000.0, score=0.787254, total=   0.2s\n",
      "[CV] penalty=l1, C=100000.0 ..........................................\n",
      "[CV] ........... penalty=l1, C=100000.0, score=0.774542, total=   0.3s\n",
      "[CV] penalty=l1, C=100000.0 ..........................................\n",
      "[CV] ........... penalty=l1, C=100000.0, score=0.759201, total=   0.3s\n",
      "[CV] penalty=l1, C=100000.0 ..........................................\n",
      "[CV] ........... penalty=l1, C=100000.0, score=0.720912, total=   0.2s\n",
      "[CV] penalty=l2, C=100000.0 ..........................................\n",
      "[CV] ........... penalty=l2, C=100000.0, score=0.754811, total=   0.2s\n",
      "[CV] penalty=l2, C=100000.0 ..........................................\n",
      "[CV] ........... penalty=l2, C=100000.0, score=0.787256, total=   0.2s\n",
      "[CV] penalty=l2, C=100000.0 ..........................................\n",
      "[CV] ........... penalty=l2, C=100000.0, score=0.774542, total=   0.2s\n",
      "[CV] penalty=l2, C=100000.0 ..........................................\n",
      "[CV] ........... penalty=l2, C=100000.0, score=0.759199, total=   0.2s\n",
      "[CV] penalty=l2, C=100000.0 ..........................................\n",
      "[CV] ........... penalty=l2, C=100000.0, score=0.720911, total=   0.2s\n"
     ]
    },
    {
     "name": "stderr",
     "output_type": "stream",
     "text": [
      "[Parallel(n_jobs=1)]: Done 150 out of 150 | elapsed:   50.4s finished\n"
     ]
    },
    {
     "name": "stdout",
     "output_type": "stream",
     "text": [
      "Fitting 5 folds for each of 30 candidates, totalling 150 fits\n",
      "[CV] penalty=l1, C=0.0001 ............................................\n",
      "[CV] ............. penalty=l1, C=0.0001, score=0.500000, total=   0.1s\n",
      "[CV] penalty=l1, C=0.0001 ............................................\n",
      "[CV] ............. penalty=l1, C=0.0001, score=0.500000, total=   0.1s"
     ]
    },
    {
     "name": "stderr",
     "output_type": "stream",
     "text": [
      "[Parallel(n_jobs=1)]: Done   1 out of   1 | elapsed:    0.1s remaining:    0.0s\n"
     ]
    },
    {
     "name": "stdout",
     "output_type": "stream",
     "text": [
      "\n",
      "[CV] penalty=l1, C=0.0001 ............................................\n",
      "[CV] ............. penalty=l1, C=0.0001, score=0.500000, total=   0.1s\n",
      "[CV] penalty=l1, C=0.0001 ............................................\n",
      "[CV] ............. penalty=l1, C=0.0001, score=0.500000, total=   0.1s\n",
      "[CV] penalty=l1, C=0.0001 ............................................\n"
     ]
    },
    {
     "name": "stderr",
     "output_type": "stream",
     "text": [
      "[Parallel(n_jobs=1)]: Done   2 out of   2 | elapsed:    0.3s remaining:    0.0s\n",
      "[Parallel(n_jobs=1)]: Done   3 out of   3 | elapsed:    0.5s remaining:    0.0s\n",
      "[Parallel(n_jobs=1)]: Done   4 out of   4 | elapsed:    0.7s remaining:    0.0s\n"
     ]
    },
    {
     "name": "stdout",
     "output_type": "stream",
     "text": [
      "[CV] ............. penalty=l1, C=0.0001, score=0.500000, total=   0.1s\n",
      "[CV] penalty=l2, C=0.0001 ............................................\n"
     ]
    },
    {
     "name": "stderr",
     "output_type": "stream",
     "text": [
      "[Parallel(n_jobs=1)]: Done   5 out of   5 | elapsed:    0.9s remaining:    0.0s\n"
     ]
    },
    {
     "name": "stdout",
     "output_type": "stream",
     "text": [
      "[CV] ............. penalty=l2, C=0.0001, score=0.615124, total=   0.1s\n",
      "[CV] penalty=l2, C=0.0001 ............................................\n"
     ]
    },
    {
     "name": "stderr",
     "output_type": "stream",
     "text": [
      "[Parallel(n_jobs=1)]: Done   6 out of   6 | elapsed:    1.1s remaining:    0.0s\n"
     ]
    },
    {
     "name": "stdout",
     "output_type": "stream",
     "text": [
      "[CV] ............. penalty=l2, C=0.0001, score=0.653739, total=   0.1s\n",
      "[CV] penalty=l2, C=0.0001 ............................................\n"
     ]
    },
    {
     "name": "stderr",
     "output_type": "stream",
     "text": [
      "[Parallel(n_jobs=1)]: Done   7 out of   7 | elapsed:    1.4s remaining:    0.0s\n"
     ]
    },
    {
     "name": "stdout",
     "output_type": "stream",
     "text": [
      "[CV] ............. penalty=l2, C=0.0001, score=0.645650, total=   0.1s\n",
      "[CV] penalty=l2, C=0.0001 ............................................\n"
     ]
    },
    {
     "name": "stderr",
     "output_type": "stream",
     "text": [
      "[Parallel(n_jobs=1)]: Done   8 out of   8 | elapsed:    1.7s remaining:    0.0s\n"
     ]
    },
    {
     "name": "stdout",
     "output_type": "stream",
     "text": [
      "[CV] ............. penalty=l2, C=0.0001, score=0.684428, total=   0.1s\n",
      "[CV] penalty=l2, C=0.0001 ............................................\n"
     ]
    },
    {
     "name": "stderr",
     "output_type": "stream",
     "text": [
      "[Parallel(n_jobs=1)]: Done   9 out of   9 | elapsed:    1.9s remaining:    0.0s\n"
     ]
    },
    {
     "name": "stdout",
     "output_type": "stream",
     "text": [
      "[CV] ............. penalty=l2, C=0.0001, score=0.659798, total=   0.1s\n",
      "[CV] penalty=l1, C=0.000439397056076 .................................\n",
      "[CV] .. penalty=l1, C=0.000439397056076, score=0.500000, total=   0.1s\n",
      "[CV] penalty=l1, C=0.000439397056076 .................................\n",
      "[CV] .. penalty=l1, C=0.000439397056076, score=0.500000, total=   0.1s\n",
      "[CV] penalty=l1, C=0.000439397056076 .................................\n",
      "[CV] .. penalty=l1, C=0.000439397056076, score=0.500000, total=   0.1s\n",
      "[CV] penalty=l1, C=0.000439397056076 .................................\n",
      "[CV] .. penalty=l1, C=0.000439397056076, score=0.500000, total=   0.1s\n",
      "[CV] penalty=l1, C=0.000439397056076 .................................\n",
      "[CV] .. penalty=l1, C=0.000439397056076, score=0.500000, total=   0.1s\n",
      "[CV] penalty=l2, C=0.000439397056076 .................................\n",
      "[CV] .. penalty=l2, C=0.000439397056076, score=0.663781, total=   0.1s\n",
      "[CV] penalty=l2, C=0.000439397056076 .................................\n",
      "[CV] .. penalty=l2, C=0.000439397056076, score=0.714363, total=   0.1s\n",
      "[CV] penalty=l2, C=0.000439397056076 .................................\n",
      "[CV] .. penalty=l2, C=0.000439397056076, score=0.689268, total=   0.1s\n",
      "[CV] penalty=l2, C=0.000439397056076 .................................\n",
      "[CV] .. penalty=l2, C=0.000439397056076, score=0.717900, total=   0.1s\n",
      "[CV] penalty=l2, C=0.000439397056076 .................................\n",
      "[CV] .. penalty=l2, C=0.000439397056076, score=0.701423, total=   0.2s\n",
      "[CV] penalty=l1, C=0.00193069772888 ..................................\n",
      "[CV] ... penalty=l1, C=0.00193069772888, score=0.597870, total=   0.1s\n",
      "[CV] penalty=l1, C=0.00193069772888 ..................................\n",
      "[CV] ... penalty=l1, C=0.00193069772888, score=0.662977, total=   0.1s\n",
      "[CV] penalty=l1, C=0.00193069772888 ..................................\n",
      "[CV] ... penalty=l1, C=0.00193069772888, score=0.674614, total=   0.1s\n",
      "[CV] penalty=l1, C=0.00193069772888 ..................................\n",
      "[CV] ... penalty=l1, C=0.00193069772888, score=0.708770, total=   0.1s\n",
      "[CV] penalty=l1, C=0.00193069772888 ..................................\n",
      "[CV] ... penalty=l1, C=0.00193069772888, score=0.710486, total=   0.1s\n",
      "[CV] penalty=l2, C=0.00193069772888 ..................................\n",
      "[CV] ... penalty=l2, C=0.00193069772888, score=0.708225, total=   0.1s\n",
      "[CV] penalty=l2, C=0.00193069772888 ..................................\n",
      "[CV] ... penalty=l2, C=0.00193069772888, score=0.770941, total=   0.1s\n",
      "[CV] penalty=l2, C=0.00193069772888 ..................................\n",
      "[CV] ... penalty=l2, C=0.00193069772888, score=0.738304, total=   0.2s\n",
      "[CV] penalty=l2, C=0.00193069772888 ..................................\n",
      "[CV] ... penalty=l2, C=0.00193069772888, score=0.751920, total=   0.1s\n",
      "[CV] penalty=l2, C=0.00193069772888 ..................................\n",
      "[CV] ... penalty=l2, C=0.00193069772888, score=0.722003, total=   0.2s\n",
      "[CV] penalty=l1, C=0.00848342898244 ..................................\n",
      "[CV] ... penalty=l1, C=0.00848342898244, score=0.726556, total=   0.1s\n",
      "[CV] penalty=l1, C=0.00848342898244 ..................................\n",
      "[CV] ... penalty=l1, C=0.00848342898244, score=0.778526, total=   0.1s\n",
      "[CV] penalty=l1, C=0.00848342898244 ..................................\n",
      "[CV] ... penalty=l1, C=0.00848342898244, score=0.757575, total=   0.1s\n",
      "[CV] penalty=l1, C=0.00848342898244 ..................................\n",
      "[CV] ... penalty=l1, C=0.00848342898244, score=0.764739, total=   0.1s\n",
      "[CV] penalty=l1, C=0.00848342898244 ..................................\n",
      "[CV] ... penalty=l1, C=0.00848342898244, score=0.712554, total=   0.1s\n",
      "[CV] penalty=l2, C=0.00848342898244 ..................................\n",
      "[CV] ... penalty=l2, C=0.00848342898244, score=0.733088, total=   0.2s\n",
      "[CV] penalty=l2, C=0.00848342898244 ..................................\n",
      "[CV] ... penalty=l2, C=0.00848342898244, score=0.784442, total=   0.2s\n",
      "[CV] penalty=l2, C=0.00848342898244 ..................................\n",
      "[CV] ... penalty=l2, C=0.00848342898244, score=0.762559, total=   0.2s\n",
      "[CV] penalty=l2, C=0.00848342898244 ..................................\n",
      "[CV] ... penalty=l2, C=0.00848342898244, score=0.759415, total=   0.2s\n",
      "[CV] penalty=l2, C=0.00848342898244 ..................................\n",
      "[CV] ... penalty=l2, C=0.00848342898244, score=0.721805, total=   0.2s\n",
      "[CV] penalty=l1, C=0.0372759372031 ...................................\n",
      "[CV] .... penalty=l1, C=0.0372759372031, score=0.748302, total=   0.2s\n",
      "[CV] penalty=l1, C=0.0372759372031 ...................................\n",
      "[CV] .... penalty=l1, C=0.0372759372031, score=0.783671, total=   0.2s\n",
      "[CV] penalty=l1, C=0.0372759372031 ...................................\n",
      "[CV] .... penalty=l1, C=0.0372759372031, score=0.773225, total=   0.1s\n",
      "[CV] penalty=l1, C=0.0372759372031 ...................................\n",
      "[CV] .... penalty=l1, C=0.0372759372031, score=0.764025, total=   0.2s\n",
      "[CV] penalty=l1, C=0.0372759372031 ...................................\n",
      "[CV] .... penalty=l1, C=0.0372759372031, score=0.714609, total=   0.1s\n",
      "[CV] penalty=l2, C=0.0372759372031 ...................................\n",
      "[CV] .... penalty=l2, C=0.0372759372031, score=0.746538, total=   0.2s\n",
      "[CV] penalty=l2, C=0.0372759372031 ...................................\n",
      "[CV] .... penalty=l2, C=0.0372759372031, score=0.784293, total=   0.2s\n",
      "[CV] penalty=l2, C=0.0372759372031 ...................................\n",
      "[CV] .... penalty=l2, C=0.0372759372031, score=0.772681, total=   0.2s\n",
      "[CV] penalty=l2, C=0.0372759372031 ...................................\n",
      "[CV] .... penalty=l2, C=0.0372759372031, score=0.762531, total=   0.2s\n",
      "[CV] penalty=l2, C=0.0372759372031 ...................................\n",
      "[CV] .... penalty=l2, C=0.0372759372031, score=0.715616, total=   0.2s\n",
      "[CV] penalty=l1, C=0.163789370695 ....................................\n",
      "[CV] ..... penalty=l1, C=0.163789370695, score=0.751723, total=   0.2s\n",
      "[CV] penalty=l1, C=0.163789370695 ....................................\n",
      "[CV] ..... penalty=l1, C=0.163789370695, score=0.784183, total=   0.2s\n",
      "[CV] penalty=l1, C=0.163789370695 ....................................\n",
      "[CV] ..... penalty=l1, C=0.163789370695, score=0.774216, total=   0.2s\n",
      "[CV] penalty=l1, C=0.163789370695 ....................................\n",
      "[CV] ..... penalty=l1, C=0.163789370695, score=0.763636, total=   0.2s\n",
      "[CV] penalty=l1, C=0.163789370695 ....................................\n",
      "[CV] ..... penalty=l1, C=0.163789370695, score=0.711670, total=   0.2s\n",
      "[CV] penalty=l2, C=0.163789370695 ....................................\n",
      "[CV] ..... penalty=l2, C=0.163789370695, score=0.751117, total=   0.2s\n",
      "[CV] penalty=l2, C=0.163789370695 ....................................\n",
      "[CV] ..... penalty=l2, C=0.163789370695, score=0.784101, total=   0.2s\n",
      "[CV] penalty=l2, C=0.163789370695 ....................................\n",
      "[CV] ..... penalty=l2, C=0.163789370695, score=0.774206, total=   0.2s\n",
      "[CV] penalty=l2, C=0.163789370695 ....................................\n",
      "[CV] ..... penalty=l2, C=0.163789370695, score=0.763644, total=   0.2s\n",
      "[CV] penalty=l2, C=0.163789370695 ....................................\n",
      "[CV] ..... penalty=l2, C=0.163789370695, score=0.711837, total=   0.2s\n",
      "[CV] penalty=l1, C=0.719685673001 ....................................\n",
      "[CV] ..... penalty=l1, C=0.719685673001, score=0.752592, total=   0.2s\n",
      "[CV] penalty=l1, C=0.719685673001 ....................................\n",
      "[CV] ..... penalty=l1, C=0.719685673001, score=0.784275, total=   0.2s\n",
      "[CV] penalty=l1, C=0.719685673001 ....................................\n",
      "[CV] ..... penalty=l1, C=0.719685673001, score=0.774290, total=   0.2s\n",
      "[CV] penalty=l1, C=0.719685673001 ....................................\n",
      "[CV] ..... penalty=l1, C=0.719685673001, score=0.763507, total=   0.2s\n",
      "[CV] penalty=l1, C=0.719685673001 ....................................\n",
      "[CV] ..... penalty=l1, C=0.719685673001, score=0.711406, total=   0.2s\n",
      "[CV] penalty=l2, C=0.719685673001 ....................................\n",
      "[CV] ..... penalty=l2, C=0.719685673001, score=0.752418, total=   0.2s\n",
      "[CV] penalty=l2, C=0.719685673001 ....................................\n",
      "[CV] ..... penalty=l2, C=0.719685673001, score=0.784266, total=   0.2s\n",
      "[CV] penalty=l2, C=0.719685673001 ....................................\n"
     ]
    },
    {
     "name": "stdout",
     "output_type": "stream",
     "text": [
      "[CV] ..... penalty=l2, C=0.719685673001, score=0.774315, total=   0.2s\n",
      "[CV] penalty=l2, C=0.719685673001 ....................................\n",
      "[CV] ..... penalty=l2, C=0.719685673001, score=0.763453, total=   0.2s\n",
      "[CV] penalty=l2, C=0.719685673001 ....................................\n",
      "[CV] ..... penalty=l2, C=0.719685673001, score=0.711478, total=   0.2s\n",
      "[CV] penalty=l1, C=3.16227766017 .....................................\n",
      "[CV] ...... penalty=l1, C=3.16227766017, score=0.752782, total=   0.2s\n",
      "[CV] penalty=l1, C=3.16227766017 .....................................\n",
      "[CV] ...... penalty=l1, C=3.16227766017, score=0.784295, total=   0.2s\n",
      "[CV] penalty=l1, C=3.16227766017 .....................................\n",
      "[CV] ...... penalty=l1, C=3.16227766017, score=0.774303, total=   0.2s\n",
      "[CV] penalty=l1, C=3.16227766017 .....................................\n",
      "[CV] ...... penalty=l1, C=3.16227766017, score=0.763471, total=   0.2s\n",
      "[CV] penalty=l1, C=3.16227766017 .....................................\n",
      "[CV] ...... penalty=l1, C=3.16227766017, score=0.711413, total=   0.2s\n",
      "[CV] penalty=l2, C=3.16227766017 .....................................\n",
      "[CV] ...... penalty=l2, C=3.16227766017, score=0.752744, total=   0.2s\n",
      "[CV] penalty=l2, C=3.16227766017 .....................................\n",
      "[CV] ...... penalty=l2, C=3.16227766017, score=0.784293, total=   0.2s\n",
      "[CV] penalty=l2, C=3.16227766017 .....................................\n",
      "[CV] ...... penalty=l2, C=3.16227766017, score=0.774307, total=   0.2s\n",
      "[CV] penalty=l2, C=3.16227766017 .....................................\n",
      "[CV] ...... penalty=l2, C=3.16227766017, score=0.763457, total=   0.2s\n",
      "[CV] penalty=l2, C=3.16227766017 .....................................\n",
      "[CV] ...... penalty=l2, C=3.16227766017, score=0.711428, total=   0.2s\n",
      "[CV] penalty=l1, C=13.8949549437 .....................................\n",
      "[CV] ...... penalty=l1, C=13.8949549437, score=0.752822, total=   0.2s\n",
      "[CV] penalty=l1, C=13.8949549437 .....................................\n",
      "[CV] ...... penalty=l1, C=13.8949549437, score=0.784309, total=   0.2s\n",
      "[CV] penalty=l1, C=13.8949549437 .....................................\n",
      "[CV] ...... penalty=l1, C=13.8949549437, score=0.774314, total=   0.2s\n",
      "[CV] penalty=l1, C=13.8949549437 .....................................\n",
      "[CV] ...... penalty=l1, C=13.8949549437, score=0.763468, total=   0.2s\n",
      "[CV] penalty=l1, C=13.8949549437 .....................................\n",
      "[CV] ...... penalty=l1, C=13.8949549437, score=0.711411, total=   0.2s\n",
      "[CV] penalty=l2, C=13.8949549437 .....................................\n",
      "[CV] ...... penalty=l2, C=13.8949549437, score=0.752815, total=   0.2s\n",
      "[CV] penalty=l2, C=13.8949549437 .....................................\n",
      "[CV] ...... penalty=l2, C=13.8949549437, score=0.784303, total=   0.2s\n",
      "[CV] penalty=l2, C=13.8949549437 .....................................\n",
      "[CV] ...... penalty=l2, C=13.8949549437, score=0.774313, total=   0.2s\n",
      "[CV] penalty=l2, C=13.8949549437 .....................................\n",
      "[CV] ...... penalty=l2, C=13.8949549437, score=0.763465, total=   0.2s\n",
      "[CV] penalty=l2, C=13.8949549437 .....................................\n",
      "[CV] ...... penalty=l2, C=13.8949549437, score=0.711421, total=   0.2s\n",
      "[CV] penalty=l1, C=61.0540229659 .....................................\n",
      "[CV] ...... penalty=l1, C=61.0540229659, score=0.752831, total=   0.2s\n",
      "[CV] penalty=l1, C=61.0540229659 .....................................\n",
      "[CV] ...... penalty=l1, C=61.0540229659, score=0.784309, total=   0.2s\n",
      "[CV] penalty=l1, C=61.0540229659 .....................................\n",
      "[CV] ...... penalty=l1, C=61.0540229659, score=0.774314, total=   0.2s\n",
      "[CV] penalty=l1, C=61.0540229659 .....................................\n",
      "[CV] ...... penalty=l1, C=61.0540229659, score=0.763466, total=   0.2s\n",
      "[CV] penalty=l1, C=61.0540229659 .....................................\n",
      "[CV] ...... penalty=l1, C=61.0540229659, score=0.711408, total=   0.2s\n",
      "[CV] penalty=l2, C=61.0540229659 .....................................\n",
      "[CV] ...... penalty=l2, C=61.0540229659, score=0.752829, total=   0.2s\n",
      "[CV] penalty=l2, C=61.0540229659 .....................................\n",
      "[CV] ...... penalty=l2, C=61.0540229659, score=0.784309, total=   0.2s\n",
      "[CV] penalty=l2, C=61.0540229659 .....................................\n",
      "[CV] ...... penalty=l2, C=61.0540229659, score=0.774313, total=   0.3s\n",
      "[CV] penalty=l2, C=61.0540229659 .....................................\n",
      "[CV] ...... penalty=l2, C=61.0540229659, score=0.763466, total=   0.2s\n",
      "[CV] penalty=l2, C=61.0540229659 .....................................\n",
      "[CV] ...... penalty=l2, C=61.0540229659, score=0.711407, total=   0.2s\n",
      "[CV] penalty=l1, C=268.269579528 .....................................\n",
      "[CV] ...... penalty=l1, C=268.269579528, score=0.752835, total=   0.2s\n",
      "[CV] penalty=l1, C=268.269579528 .....................................\n",
      "[CV] ...... penalty=l1, C=268.269579528, score=0.784307, total=   0.2s\n",
      "[CV] penalty=l1, C=268.269579528 .....................................\n",
      "[CV] ...... penalty=l1, C=268.269579528, score=0.774314, total=   0.2s\n",
      "[CV] penalty=l1, C=268.269579528 .....................................\n",
      "[CV] ...... penalty=l1, C=268.269579528, score=0.763466, total=   0.2s\n",
      "[CV] penalty=l1, C=268.269579528 .....................................\n",
      "[CV] ...... penalty=l1, C=268.269579528, score=0.711411, total=   0.2s\n",
      "[CV] penalty=l2, C=268.269579528 .....................................\n",
      "[CV] ...... penalty=l2, C=268.269579528, score=0.752835, total=   0.2s\n",
      "[CV] penalty=l2, C=268.269579528 .....................................\n",
      "[CV] ...... penalty=l2, C=268.269579528, score=0.784309, total=   0.2s\n",
      "[CV] penalty=l2, C=268.269579528 .....................................\n",
      "[CV] ...... penalty=l2, C=268.269579528, score=0.774313, total=   0.2s\n",
      "[CV] penalty=l2, C=268.269579528 .....................................\n",
      "[CV] ...... penalty=l2, C=268.269579528, score=0.763466, total=   0.2s\n",
      "[CV] penalty=l2, C=268.269579528 .....................................\n",
      "[CV] ...... penalty=l2, C=268.269579528, score=0.711413, total=   0.2s\n",
      "[CV] penalty=l1, C=1178.76863479 .....................................\n",
      "[CV] ...... penalty=l1, C=1178.76863479, score=0.752836, total=   0.2s\n",
      "[CV] penalty=l1, C=1178.76863479 .....................................\n",
      "[CV] ...... penalty=l1, C=1178.76863479, score=0.784307, total=   0.2s\n",
      "[CV] penalty=l1, C=1178.76863479 .....................................\n",
      "[CV] ...... penalty=l1, C=1178.76863479, score=0.774315, total=   0.2s\n",
      "[CV] penalty=l1, C=1178.76863479 .....................................\n",
      "[CV] ...... penalty=l1, C=1178.76863479, score=0.763465, total=   0.2s\n",
      "[CV] penalty=l1, C=1178.76863479 .....................................\n",
      "[CV] ...... penalty=l1, C=1178.76863479, score=0.711410, total=   0.2s\n",
      "[CV] penalty=l2, C=1178.76863479 .....................................\n",
      "[CV] ...... penalty=l2, C=1178.76863479, score=0.752836, total=   0.2s\n",
      "[CV] penalty=l2, C=1178.76863479 .....................................\n",
      "[CV] ...... penalty=l2, C=1178.76863479, score=0.784309, total=   0.2s\n",
      "[CV] penalty=l2, C=1178.76863479 .....................................\n",
      "[CV] ...... penalty=l2, C=1178.76863479, score=0.774313, total=   0.2s\n",
      "[CV] penalty=l2, C=1178.76863479 .....................................\n",
      "[CV] ...... penalty=l2, C=1178.76863479, score=0.763466, total=   0.2s\n",
      "[CV] penalty=l2, C=1178.76863479 .....................................\n",
      "[CV] ...... penalty=l2, C=1178.76863479, score=0.711413, total=   0.2s\n",
      "[CV] penalty=l1, C=5179.47467923 .....................................\n",
      "[CV] ...... penalty=l1, C=5179.47467923, score=0.752835, total=   0.2s\n",
      "[CV] penalty=l1, C=5179.47467923 .....................................\n",
      "[CV] ...... penalty=l1, C=5179.47467923, score=0.784307, total=   0.2s\n",
      "[CV] penalty=l1, C=5179.47467923 .....................................\n",
      "[CV] ...... penalty=l1, C=5179.47467923, score=0.774313, total=   0.2s\n",
      "[CV] penalty=l1, C=5179.47467923 .....................................\n",
      "[CV] ...... penalty=l1, C=5179.47467923, score=0.763466, total=   0.2s\n",
      "[CV] penalty=l1, C=5179.47467923 .....................................\n",
      "[CV] ...... penalty=l1, C=5179.47467923, score=0.711411, total=   0.1s\n",
      "[CV] penalty=l2, C=5179.47467923 .....................................\n"
     ]
    },
    {
     "name": "stdout",
     "output_type": "stream",
     "text": [
      "[CV] ...... penalty=l2, C=5179.47467923, score=0.752837, total=   0.2s\n",
      "[CV] penalty=l2, C=5179.47467923 .....................................\n",
      "[CV] ...... penalty=l2, C=5179.47467923, score=0.784309, total=   0.2s\n",
      "[CV] penalty=l2, C=5179.47467923 .....................................\n",
      "[CV] ...... penalty=l2, C=5179.47467923, score=0.774313, total=   0.2s\n",
      "[CV] penalty=l2, C=5179.47467923 .....................................\n",
      "[CV] ...... penalty=l2, C=5179.47467923, score=0.763466, total=   0.2s\n",
      "[CV] penalty=l2, C=5179.47467923 .....................................\n",
      "[CV] ...... penalty=l2, C=5179.47467923, score=0.711413, total=   0.2s\n",
      "[CV] penalty=l1, C=22758.4592607 .....................................\n",
      "[CV] ...... penalty=l1, C=22758.4592607, score=0.752836, total=   0.2s\n",
      "[CV] penalty=l1, C=22758.4592607 .....................................\n",
      "[CV] ...... penalty=l1, C=22758.4592607, score=0.784307, total=   0.3s\n",
      "[CV] penalty=l1, C=22758.4592607 .....................................\n",
      "[CV] ...... penalty=l1, C=22758.4592607, score=0.774315, total=   0.2s\n",
      "[CV] penalty=l1, C=22758.4592607 .....................................\n",
      "[CV] ...... penalty=l1, C=22758.4592607, score=0.763466, total=   0.2s\n",
      "[CV] penalty=l1, C=22758.4592607 .....................................\n",
      "[CV] ...... penalty=l1, C=22758.4592607, score=0.711410, total=   0.2s\n",
      "[CV] penalty=l2, C=22758.4592607 .....................................\n",
      "[CV] ...... penalty=l2, C=22758.4592607, score=0.752837, total=   0.3s\n",
      "[CV] penalty=l2, C=22758.4592607 .....................................\n",
      "[CV] ...... penalty=l2, C=22758.4592607, score=0.784309, total=   0.2s\n",
      "[CV] penalty=l2, C=22758.4592607 .....................................\n",
      "[CV] ...... penalty=l2, C=22758.4592607, score=0.774313, total=   0.2s\n",
      "[CV] penalty=l2, C=22758.4592607 .....................................\n",
      "[CV] ...... penalty=l2, C=22758.4592607, score=0.763466, total=   0.3s\n",
      "[CV] penalty=l2, C=22758.4592607 .....................................\n",
      "[CV] ...... penalty=l2, C=22758.4592607, score=0.711413, total=   0.2s\n",
      "[CV] penalty=l1, C=100000.0 ..........................................\n",
      "[CV] ........... penalty=l1, C=100000.0, score=0.752835, total=   0.2s\n",
      "[CV] penalty=l1, C=100000.0 ..........................................\n",
      "[CV] ........... penalty=l1, C=100000.0, score=0.784308, total=   0.2s\n",
      "[CV] penalty=l1, C=100000.0 ..........................................\n",
      "[CV] ........... penalty=l1, C=100000.0, score=0.774313, total=   0.3s\n",
      "[CV] penalty=l1, C=100000.0 ..........................................\n",
      "[CV] ........... penalty=l1, C=100000.0, score=0.763466, total=   0.2s\n",
      "[CV] penalty=l1, C=100000.0 ..........................................\n",
      "[CV] ........... penalty=l1, C=100000.0, score=0.711412, total=   0.2s\n",
      "[CV] penalty=l2, C=100000.0 ..........................................\n",
      "[CV] ........... penalty=l2, C=100000.0, score=0.752837, total=   0.2s\n",
      "[CV] penalty=l2, C=100000.0 ..........................................\n",
      "[CV] ........... penalty=l2, C=100000.0, score=0.784309, total=   0.2s\n",
      "[CV] penalty=l2, C=100000.0 ..........................................\n",
      "[CV] ........... penalty=l2, C=100000.0, score=0.774313, total=   0.2s\n",
      "[CV] penalty=l2, C=100000.0 ..........................................\n",
      "[CV] ........... penalty=l2, C=100000.0, score=0.763466, total=   0.3s\n",
      "[CV] penalty=l2, C=100000.0 ..........................................\n",
      "[CV] ........... penalty=l2, C=100000.0, score=0.711413, total=   0.2s\n"
     ]
    },
    {
     "name": "stderr",
     "output_type": "stream",
     "text": [
      "[Parallel(n_jobs=1)]: Done 150 out of 150 | elapsed:   48.8s finished\n"
     ]
    },
    {
     "name": "stdout",
     "output_type": "stream",
     "text": [
      "Fitting 5 folds for each of 30 candidates, totalling 150 fits\n",
      "[CV] penalty=l1, C=0.0001 ............................................\n",
      "[CV] ............. penalty=l1, C=0.0001, score=0.500000, total=   0.1s\n",
      "[CV] penalty=l1, C=0.0001 ............................................\n"
     ]
    },
    {
     "name": "stderr",
     "output_type": "stream",
     "text": [
      "[Parallel(n_jobs=1)]: Done   1 out of   1 | elapsed:    0.1s remaining:    0.0s\n",
      "[Parallel(n_jobs=1)]: Done   2 out of   2 | elapsed:    0.3s remaining:    0.0s\n"
     ]
    },
    {
     "name": "stdout",
     "output_type": "stream",
     "text": [
      "[CV] ............. penalty=l1, C=0.0001, score=0.500000, total=   0.1s\n",
      "[CV] penalty=l1, C=0.0001 ............................................\n",
      "[CV] ............. penalty=l1, C=0.0001, score=0.500000, total=   0.1s\n",
      "[CV] penalty=l1, C=0.0001 ............................................\n"
     ]
    },
    {
     "name": "stderr",
     "output_type": "stream",
     "text": [
      "[Parallel(n_jobs=1)]: Done   3 out of   3 | elapsed:    0.4s remaining:    0.0s\n",
      "[Parallel(n_jobs=1)]: Done   4 out of   4 | elapsed:    0.6s remaining:    0.0s\n"
     ]
    },
    {
     "name": "stdout",
     "output_type": "stream",
     "text": [
      "[CV] ............. penalty=l1, C=0.0001, score=0.500000, total=   0.1s\n",
      "[CV] penalty=l1, C=0.0001 ............................................\n",
      "[CV] ............. penalty=l1, C=0.0001, score=0.500000, total=   0.1s\n",
      "[CV] penalty=l2, C=0.0001 ............................................\n"
     ]
    },
    {
     "name": "stderr",
     "output_type": "stream",
     "text": [
      "[Parallel(n_jobs=1)]: Done   5 out of   5 | elapsed:    0.8s remaining:    0.0s\n"
     ]
    },
    {
     "name": "stdout",
     "output_type": "stream",
     "text": [
      "[CV] ............. penalty=l2, C=0.0001, score=0.614346, total=   0.1s\n",
      "[CV] penalty=l2, C=0.0001 ............................................\n"
     ]
    },
    {
     "name": "stderr",
     "output_type": "stream",
     "text": [
      "[Parallel(n_jobs=1)]: Done   6 out of   6 | elapsed:    1.0s remaining:    0.0s\n"
     ]
    },
    {
     "name": "stdout",
     "output_type": "stream",
     "text": [
      "[CV] ............. penalty=l2, C=0.0001, score=0.653459, total=   0.2s\n",
      "[CV] penalty=l2, C=0.0001 ............................................\n"
     ]
    },
    {
     "name": "stderr",
     "output_type": "stream",
     "text": [
      "[Parallel(n_jobs=1)]: Done   7 out of   7 | elapsed:    1.4s remaining:    0.0s\n"
     ]
    },
    {
     "name": "stdout",
     "output_type": "stream",
     "text": [
      "[CV] ............. penalty=l2, C=0.0001, score=0.643127, total=   0.1s\n",
      "[CV] penalty=l2, C=0.0001 ............................................\n"
     ]
    },
    {
     "name": "stderr",
     "output_type": "stream",
     "text": [
      "[Parallel(n_jobs=1)]: Done   8 out of   8 | elapsed:    1.6s remaining:    0.0s\n"
     ]
    },
    {
     "name": "stdout",
     "output_type": "stream",
     "text": [
      "[CV] ............. penalty=l2, C=0.0001, score=0.683479, total=   0.3s\n",
      "[CV] penalty=l2, C=0.0001 ............................................\n"
     ]
    },
    {
     "name": "stderr",
     "output_type": "stream",
     "text": [
      "[Parallel(n_jobs=1)]: Done   9 out of   9 | elapsed:    2.0s remaining:    0.0s\n"
     ]
    },
    {
     "name": "stdout",
     "output_type": "stream",
     "text": [
      "[CV] ............. penalty=l2, C=0.0001, score=0.656974, total=   0.2s\n",
      "[CV] penalty=l1, C=0.000439397056076 .................................\n",
      "[CV] .. penalty=l1, C=0.000439397056076, score=0.500000, total=   0.1s\n",
      "[CV] penalty=l1, C=0.000439397056076 .................................\n",
      "[CV] .. penalty=l1, C=0.000439397056076, score=0.500000, total=   0.1s\n",
      "[CV] penalty=l1, C=0.000439397056076 .................................\n",
      "[CV] .. penalty=l1, C=0.000439397056076, score=0.500000, total=   0.1s\n",
      "[CV] penalty=l1, C=0.000439397056076 .................................\n",
      "[CV] .. penalty=l1, C=0.000439397056076, score=0.500000, total=   0.1s\n",
      "[CV] penalty=l1, C=0.000439397056076 .................................\n",
      "[CV] .. penalty=l1, C=0.000439397056076, score=0.500000, total=   0.1s\n",
      "[CV] penalty=l2, C=0.000439397056076 .................................\n",
      "[CV] .. penalty=l2, C=0.000439397056076, score=0.664675, total=   0.2s\n",
      "[CV] penalty=l2, C=0.000439397056076 .................................\n",
      "[CV] .. penalty=l2, C=0.000439397056076, score=0.714934, total=   0.1s\n",
      "[CV] penalty=l2, C=0.000439397056076 .................................\n",
      "[CV] .. penalty=l2, C=0.000439397056076, score=0.687624, total=   0.2s\n",
      "[CV] penalty=l2, C=0.000439397056076 .................................\n",
      "[CV] .. penalty=l2, C=0.000439397056076, score=0.717360, total=   0.1s\n",
      "[CV] penalty=l2, C=0.000439397056076 .................................\n",
      "[CV] .. penalty=l2, C=0.000439397056076, score=0.703318, total=   0.1s\n",
      "[CV] penalty=l1, C=0.00193069772888 ..................................\n",
      "[CV] ... penalty=l1, C=0.00193069772888, score=0.599214, total=   0.1s\n",
      "[CV] penalty=l1, C=0.00193069772888 ..................................\n",
      "[CV] ... penalty=l1, C=0.00193069772888, score=0.664248, total=   0.1s\n",
      "[CV] penalty=l1, C=0.00193069772888 ..................................\n",
      "[CV] ... penalty=l1, C=0.00193069772888, score=0.673382, total=   0.1s\n",
      "[CV] penalty=l1, C=0.00193069772888 ..................................\n",
      "[CV] ... penalty=l1, C=0.00193069772888, score=0.706666, total=   0.1s\n",
      "[CV] penalty=l1, C=0.00193069772888 ..................................\n",
      "[CV] ... penalty=l1, C=0.00193069772888, score=0.713012, total=   0.1s\n",
      "[CV] penalty=l2, C=0.00193069772888 ..................................\n",
      "[CV] ... penalty=l2, C=0.00193069772888, score=0.708725, total=   0.1s\n",
      "[CV] penalty=l2, C=0.00193069772888 ..................................\n",
      "[CV] ... penalty=l2, C=0.00193069772888, score=0.771586, total=   0.1s\n",
      "[CV] penalty=l2, C=0.00193069772888 ..................................\n",
      "[CV] ... penalty=l2, C=0.00193069772888, score=0.737070, total=   0.1s\n",
      "[CV] penalty=l2, C=0.00193069772888 ..................................\n",
      "[CV] ... penalty=l2, C=0.00193069772888, score=0.750290, total=   0.1s\n",
      "[CV] penalty=l2, C=0.00193069772888 ..................................\n",
      "[CV] ... penalty=l2, C=0.00193069772888, score=0.725098, total=   0.1s\n",
      "[CV] penalty=l1, C=0.00848342898244 ..................................\n",
      "[CV] ... penalty=l1, C=0.00848342898244, score=0.726676, total=   0.3s\n",
      "[CV] penalty=l1, C=0.00848342898244 ..................................\n",
      "[CV] ... penalty=l1, C=0.00848342898244, score=0.778499, total=   0.1s\n",
      "[CV] penalty=l1, C=0.00848342898244 ..................................\n",
      "[CV] ... penalty=l1, C=0.00848342898244, score=0.756220, total=   0.1s\n",
      "[CV] penalty=l1, C=0.00848342898244 ..................................\n",
      "[CV] ... penalty=l1, C=0.00848342898244, score=0.763370, total=   0.1s\n",
      "[CV] penalty=l1, C=0.00848342898244 ..................................\n",
      "[CV] ... penalty=l1, C=0.00848342898244, score=0.714803, total=   0.2s\n",
      "[CV] penalty=l2, C=0.00848342898244 ..................................\n",
      "[CV] ... penalty=l2, C=0.00848342898244, score=0.733483, total=   0.3s\n",
      "[CV] penalty=l2, C=0.00848342898244 ..................................\n",
      "[CV] ... penalty=l2, C=0.00848342898244, score=0.784578, total=   0.2s\n",
      "[CV] penalty=l2, C=0.00848342898244 ..................................\n",
      "[CV] ... penalty=l2, C=0.00848342898244, score=0.761452, total=   0.2s\n",
      "[CV] penalty=l2, C=0.00848342898244 ..................................\n",
      "[CV] ... penalty=l2, C=0.00848342898244, score=0.758544, total=   0.2s\n",
      "[CV] penalty=l2, C=0.00848342898244 ..................................\n",
      "[CV] ... penalty=l2, C=0.00848342898244, score=0.723053, total=   0.2s\n",
      "[CV] penalty=l1, C=0.0372759372031 ...................................\n",
      "[CV] .... penalty=l1, C=0.0372759372031, score=0.748383, total=   0.2s\n",
      "[CV] penalty=l1, C=0.0372759372031 ...................................\n",
      "[CV] .... penalty=l1, C=0.0372759372031, score=0.783720, total=   0.2s\n",
      "[CV] penalty=l1, C=0.0372759372031 ...................................\n",
      "[CV] .... penalty=l1, C=0.0372759372031, score=0.772325, total=   0.1s\n",
      "[CV] penalty=l1, C=0.0372759372031 ...................................\n",
      "[CV] .... penalty=l1, C=0.0372759372031, score=0.763388, total=   0.1s\n",
      "[CV] penalty=l1, C=0.0372759372031 ...................................\n",
      "[CV] .... penalty=l1, C=0.0372759372031, score=0.715970, total=   0.2s\n",
      "[CV] penalty=l2, C=0.0372759372031 ...................................\n",
      "[CV] .... penalty=l2, C=0.0372759372031, score=0.746760, total=   0.2s\n",
      "[CV] penalty=l2, C=0.0372759372031 ...................................\n",
      "[CV] .... penalty=l2, C=0.0372759372031, score=0.784122, total=   0.2s\n",
      "[CV] penalty=l2, C=0.0372759372031 ...................................\n",
      "[CV] .... penalty=l2, C=0.0372759372031, score=0.771771, total=   0.2s\n",
      "[CV] penalty=l2, C=0.0372759372031 ...................................\n",
      "[CV] .... penalty=l2, C=0.0372759372031, score=0.761743, total=   0.2s\n",
      "[CV] penalty=l2, C=0.0372759372031 ...................................\n",
      "[CV] .... penalty=l2, C=0.0372759372031, score=0.716930, total=   0.2s\n",
      "[CV] penalty=l1, C=0.163789370695 ....................................\n",
      "[CV] ..... penalty=l1, C=0.163789370695, score=0.751954, total=   0.2s\n",
      "[CV] penalty=l1, C=0.163789370695 ....................................\n",
      "[CV] ..... penalty=l1, C=0.163789370695, score=0.784239, total=   0.2s\n",
      "[CV] penalty=l1, C=0.163789370695 ....................................\n",
      "[CV] ..... penalty=l1, C=0.163789370695, score=0.773520, total=   0.2s\n",
      "[CV] penalty=l1, C=0.163789370695 ....................................\n",
      "[CV] ..... penalty=l1, C=0.163789370695, score=0.762900, total=   0.2s\n",
      "[CV] penalty=l1, C=0.163789370695 ....................................\n",
      "[CV] ..... penalty=l1, C=0.163789370695, score=0.713392, total=   0.2s\n",
      "[CV] penalty=l2, C=0.163789370695 ....................................\n",
      "[CV] ..... penalty=l2, C=0.163789370695, score=0.751367, total=   0.2s\n",
      "[CV] penalty=l2, C=0.163789370695 ....................................\n",
      "[CV] ..... penalty=l2, C=0.163789370695, score=0.784134, total=   0.2s\n",
      "[CV] penalty=l2, C=0.163789370695 ....................................\n",
      "[CV] ..... penalty=l2, C=0.163789370695, score=0.773472, total=   0.2s\n",
      "[CV] penalty=l2, C=0.163789370695 ....................................\n",
      "[CV] ..... penalty=l2, C=0.163789370695, score=0.763061, total=   0.2s\n",
      "[CV] penalty=l2, C=0.163789370695 ....................................\n",
      "[CV] ..... penalty=l2, C=0.163789370695, score=0.713738, total=   0.2s\n",
      "[CV] penalty=l1, C=0.719685673001 ....................................\n",
      "[CV] ..... penalty=l1, C=0.719685673001, score=0.752819, total=   0.2s\n",
      "[CV] penalty=l1, C=0.719685673001 ....................................\n",
      "[CV] ..... penalty=l1, C=0.719685673001, score=0.784354, total=   0.2s\n",
      "[CV] penalty=l1, C=0.719685673001 ....................................\n",
      "[CV] ..... penalty=l1, C=0.719685673001, score=0.773631, total=   0.2s\n",
      "[CV] penalty=l1, C=0.719685673001 ....................................\n",
      "[CV] ..... penalty=l1, C=0.719685673001, score=0.762884, total=   0.2s\n",
      "[CV] penalty=l1, C=0.719685673001 ....................................\n",
      "[CV] ..... penalty=l1, C=0.719685673001, score=0.713366, total=   0.2s\n",
      "[CV] penalty=l2, C=0.719685673001 ....................................\n",
      "[CV] ..... penalty=l2, C=0.719685673001, score=0.752651, total=   0.2s\n",
      "[CV] penalty=l2, C=0.719685673001 ....................................\n",
      "[CV] ..... penalty=l2, C=0.719685673001, score=0.784339, total=   0.2s\n",
      "[CV] penalty=l2, C=0.719685673001 ....................................\n"
     ]
    },
    {
     "name": "stdout",
     "output_type": "stream",
     "text": [
      "[CV] ..... penalty=l2, C=0.719685673001, score=0.773648, total=   0.2s\n",
      "[CV] penalty=l2, C=0.719685673001 ....................................\n",
      "[CV] ..... penalty=l2, C=0.719685673001, score=0.762804, total=   0.2s\n",
      "[CV] penalty=l2, C=0.719685673001 ....................................\n",
      "[CV] ..... penalty=l2, C=0.719685673001, score=0.713407, total=   0.2s\n",
      "[CV] penalty=l1, C=3.16227766017 .....................................\n",
      "[CV] ...... penalty=l1, C=3.16227766017, score=0.753014, total=   0.2s\n",
      "[CV] penalty=l1, C=3.16227766017 .....................................\n",
      "[CV] ...... penalty=l1, C=3.16227766017, score=0.784368, total=   0.2s\n",
      "[CV] penalty=l1, C=3.16227766017 .....................................\n",
      "[CV] ...... penalty=l1, C=3.16227766017, score=0.773646, total=   0.2s\n",
      "[CV] penalty=l1, C=3.16227766017 .....................................\n",
      "[CV] ...... penalty=l1, C=3.16227766017, score=0.762807, total=   0.2s\n",
      "[CV] penalty=l1, C=3.16227766017 .....................................\n",
      "[CV] ...... penalty=l1, C=3.16227766017, score=0.713301, total=   0.2s\n",
      "[CV] penalty=l2, C=3.16227766017 .....................................\n",
      "[CV] ...... penalty=l2, C=3.16227766017, score=0.752972, total=   0.2s\n",
      "[CV] penalty=l2, C=3.16227766017 .....................................\n",
      "[CV] ...... penalty=l2, C=3.16227766017, score=0.784367, total=   0.2s\n",
      "[CV] penalty=l2, C=3.16227766017 .....................................\n",
      "[CV] ...... penalty=l2, C=3.16227766017, score=0.773641, total=   0.2s\n",
      "[CV] penalty=l2, C=3.16227766017 .....................................\n",
      "[CV] ...... penalty=l2, C=3.16227766017, score=0.762796, total=   0.2s\n",
      "[CV] penalty=l2, C=3.16227766017 .....................................\n",
      "[CV] ...... penalty=l2, C=3.16227766017, score=0.713340, total=   0.2s\n",
      "[CV] penalty=l1, C=13.8949549437 .....................................\n",
      "[CV] ...... penalty=l1, C=13.8949549437, score=0.753064, total=   0.2s\n",
      "[CV] penalty=l1, C=13.8949549437 .....................................\n",
      "[CV] ...... penalty=l1, C=13.8949549437, score=0.784375, total=   0.2s\n",
      "[CV] penalty=l1, C=13.8949549437 .....................................\n",
      "[CV] ...... penalty=l1, C=13.8949549437, score=0.773654, total=   0.2s\n",
      "[CV] penalty=l1, C=13.8949549437 .....................................\n",
      "[CV] ...... penalty=l1, C=13.8949549437, score=0.762789, total=   0.2s\n",
      "[CV] penalty=l1, C=13.8949549437 .....................................\n",
      "[CV] ...... penalty=l1, C=13.8949549437, score=0.713304, total=   0.2s\n",
      "[CV] penalty=l2, C=13.8949549437 .....................................\n",
      "[CV] ...... penalty=l2, C=13.8949549437, score=0.753054, total=   0.2s\n",
      "[CV] penalty=l2, C=13.8949549437 .....................................\n",
      "[CV] ...... penalty=l2, C=13.8949549437, score=0.784374, total=   0.2s\n",
      "[CV] penalty=l2, C=13.8949549437 .....................................\n",
      "[CV] ...... penalty=l2, C=13.8949549437, score=0.773652, total=   0.2s\n",
      "[CV] penalty=l2, C=13.8949549437 .....................................\n",
      "[CV] ...... penalty=l2, C=13.8949549437, score=0.762795, total=   0.2s\n",
      "[CV] penalty=l2, C=13.8949549437 .....................................\n",
      "[CV] ...... penalty=l2, C=13.8949549437, score=0.713308, total=   0.2s\n",
      "[CV] penalty=l1, C=61.0540229659 .....................................\n",
      "[CV] ...... penalty=l1, C=61.0540229659, score=0.753075, total=   0.2s\n",
      "[CV] penalty=l1, C=61.0540229659 .....................................\n",
      "[CV] ...... penalty=l1, C=61.0540229659, score=0.784378, total=   0.2s\n",
      "[CV] penalty=l1, C=61.0540229659 .....................................\n",
      "[CV] ...... penalty=l1, C=61.0540229659, score=0.773654, total=   0.2s\n",
      "[CV] penalty=l1, C=61.0540229659 .....................................\n",
      "[CV] ...... penalty=l1, C=61.0540229659, score=0.762784, total=   0.2s\n",
      "[CV] penalty=l1, C=61.0540229659 .....................................\n",
      "[CV] ...... penalty=l1, C=61.0540229659, score=0.713298, total=   0.2s\n",
      "[CV] penalty=l2, C=61.0540229659 .....................................\n",
      "[CV] ...... penalty=l2, C=61.0540229659, score=0.753073, total=   0.2s\n",
      "[CV] penalty=l2, C=61.0540229659 .....................................\n",
      "[CV] ...... penalty=l2, C=61.0540229659, score=0.784380, total=   0.2s\n",
      "[CV] penalty=l2, C=61.0540229659 .....................................\n",
      "[CV] ...... penalty=l2, C=61.0540229659, score=0.773653, total=   0.2s\n",
      "[CV] penalty=l2, C=61.0540229659 .....................................\n",
      "[CV] ...... penalty=l2, C=61.0540229659, score=0.762783, total=   0.2s\n",
      "[CV] penalty=l2, C=61.0540229659 .....................................\n",
      "[CV] ...... penalty=l2, C=61.0540229659, score=0.713298, total=   0.2s\n",
      "[CV] penalty=l1, C=268.269579528 .....................................\n",
      "[CV] ...... penalty=l1, C=268.269579528, score=0.753078, total=   0.2s\n",
      "[CV] penalty=l1, C=268.269579528 .....................................\n",
      "[CV] ...... penalty=l1, C=268.269579528, score=0.784376, total=   0.2s\n",
      "[CV] penalty=l1, C=268.269579528 .....................................\n",
      "[CV] ...... penalty=l1, C=268.269579528, score=0.773654, total=   0.2s\n",
      "[CV] penalty=l1, C=268.269579528 .....................................\n",
      "[CV] ...... penalty=l1, C=268.269579528, score=0.762783, total=   0.2s\n",
      "[CV] penalty=l1, C=268.269579528 .....................................\n",
      "[CV] ...... penalty=l1, C=268.269579528, score=0.713300, total=   0.2s\n",
      "[CV] penalty=l2, C=268.269579528 .....................................\n",
      "[CV] ...... penalty=l2, C=268.269579528, score=0.753077, total=   0.2s\n",
      "[CV] penalty=l2, C=268.269579528 .....................................\n",
      "[CV] ...... penalty=l2, C=268.269579528, score=0.784379, total=   0.2s\n",
      "[CV] penalty=l2, C=268.269579528 .....................................\n",
      "[CV] ...... penalty=l2, C=268.269579528, score=0.773653, total=   0.2s\n",
      "[CV] penalty=l2, C=268.269579528 .....................................\n",
      "[CV] ...... penalty=l2, C=268.269579528, score=0.762783, total=   0.2s\n",
      "[CV] penalty=l2, C=268.269579528 .....................................\n",
      "[CV] ...... penalty=l2, C=268.269579528, score=0.713294, total=   0.2s\n",
      "[CV] penalty=l1, C=1178.76863479 .....................................\n",
      "[CV] ...... penalty=l1, C=1178.76863479, score=0.753077, total=   0.2s\n",
      "[CV] penalty=l1, C=1178.76863479 .....................................\n",
      "[CV] ...... penalty=l1, C=1178.76863479, score=0.784377, total=   0.2s\n",
      "[CV] penalty=l1, C=1178.76863479 .....................................\n",
      "[CV] ...... penalty=l1, C=1178.76863479, score=0.773654, total=   0.2s\n",
      "[CV] penalty=l1, C=1178.76863479 .....................................\n",
      "[CV] ...... penalty=l1, C=1178.76863479, score=0.762783, total=   0.2s\n",
      "[CV] penalty=l1, C=1178.76863479 .....................................\n",
      "[CV] ...... penalty=l1, C=1178.76863479, score=0.713294, total=   0.2s\n",
      "[CV] penalty=l2, C=1178.76863479 .....................................\n",
      "[CV] ...... penalty=l2, C=1178.76863479, score=0.753079, total=   0.2s\n",
      "[CV] penalty=l2, C=1178.76863479 .....................................\n",
      "[CV] ...... penalty=l2, C=1178.76863479, score=0.784379, total=   0.2s\n",
      "[CV] penalty=l2, C=1178.76863479 .....................................\n",
      "[CV] ...... penalty=l2, C=1178.76863479, score=0.773653, total=   0.2s\n",
      "[CV] penalty=l2, C=1178.76863479 .....................................\n",
      "[CV] ...... penalty=l2, C=1178.76863479, score=0.762783, total=   0.2s\n",
      "[CV] penalty=l2, C=1178.76863479 .....................................\n",
      "[CV] ...... penalty=l2, C=1178.76863479, score=0.713293, total=   0.2s\n",
      "[CV] penalty=l1, C=5179.47467923 .....................................\n",
      "[CV] ...... penalty=l1, C=5179.47467923, score=0.753077, total=   0.2s\n",
      "[CV] penalty=l1, C=5179.47467923 .....................................\n",
      "[CV] ...... penalty=l1, C=5179.47467923, score=0.784375, total=   0.2s\n",
      "[CV] penalty=l1, C=5179.47467923 .....................................\n",
      "[CV] ...... penalty=l1, C=5179.47467923, score=0.773654, total=   0.2s\n",
      "[CV] penalty=l1, C=5179.47467923 .....................................\n",
      "[CV] ...... penalty=l1, C=5179.47467923, score=0.762782, total=   0.2s\n",
      "[CV] penalty=l1, C=5179.47467923 .....................................\n",
      "[CV] ...... penalty=l1, C=5179.47467923, score=0.713296, total=   0.2s\n",
      "[CV] penalty=l2, C=5179.47467923 .....................................\n"
     ]
    },
    {
     "name": "stdout",
     "output_type": "stream",
     "text": [
      "[CV] ...... penalty=l2, C=5179.47467923, score=0.753079, total=   0.2s\n",
      "[CV] penalty=l2, C=5179.47467923 .....................................\n",
      "[CV] ...... penalty=l2, C=5179.47467923, score=0.784378, total=   0.2s\n",
      "[CV] penalty=l2, C=5179.47467923 .....................................\n",
      "[CV] ...... penalty=l2, C=5179.47467923, score=0.773653, total=   0.2s\n",
      "[CV] penalty=l2, C=5179.47467923 .....................................\n",
      "[CV] ...... penalty=l2, C=5179.47467923, score=0.762782, total=   0.2s\n",
      "[CV] penalty=l2, C=5179.47467923 .....................................\n",
      "[CV] ...... penalty=l2, C=5179.47467923, score=0.713293, total=   0.2s\n",
      "[CV] penalty=l1, C=22758.4592607 .....................................\n",
      "[CV] ...... penalty=l1, C=22758.4592607, score=0.753078, total=   0.2s\n",
      "[CV] penalty=l1, C=22758.4592607 .....................................\n",
      "[CV] ...... penalty=l1, C=22758.4592607, score=0.784376, total=   0.2s\n",
      "[CV] penalty=l1, C=22758.4592607 .....................................\n",
      "[CV] ...... penalty=l1, C=22758.4592607, score=0.773654, total=   0.2s\n",
      "[CV] penalty=l1, C=22758.4592607 .....................................\n",
      "[CV] ...... penalty=l1, C=22758.4592607, score=0.762783, total=   0.2s\n",
      "[CV] penalty=l1, C=22758.4592607 .....................................\n",
      "[CV] ...... penalty=l1, C=22758.4592607, score=0.713295, total=   0.2s\n",
      "[CV] penalty=l2, C=22758.4592607 .....................................\n",
      "[CV] ...... penalty=l2, C=22758.4592607, score=0.753080, total=   0.2s\n",
      "[CV] penalty=l2, C=22758.4592607 .....................................\n",
      "[CV] ...... penalty=l2, C=22758.4592607, score=0.784378, total=   0.2s\n",
      "[CV] penalty=l2, C=22758.4592607 .....................................\n",
      "[CV] ...... penalty=l2, C=22758.4592607, score=0.773653, total=   0.2s\n",
      "[CV] penalty=l2, C=22758.4592607 .....................................\n",
      "[CV] ...... penalty=l2, C=22758.4592607, score=0.762782, total=   0.2s\n",
      "[CV] penalty=l2, C=22758.4592607 .....................................\n",
      "[CV] ...... penalty=l2, C=22758.4592607, score=0.713293, total=   0.2s\n",
      "[CV] penalty=l1, C=100000.0 ..........................................\n",
      "[CV] ........... penalty=l1, C=100000.0, score=0.753075, total=   0.2s\n",
      "[CV] penalty=l1, C=100000.0 ..........................................\n",
      "[CV] ........... penalty=l1, C=100000.0, score=0.784377, total=   0.2s\n",
      "[CV] penalty=l1, C=100000.0 ..........................................\n",
      "[CV] ........... penalty=l1, C=100000.0, score=0.773654, total=   0.2s\n",
      "[CV] penalty=l1, C=100000.0 ..........................................\n",
      "[CV] ........... penalty=l1, C=100000.0, score=0.762777, total=   0.2s\n",
      "[CV] penalty=l1, C=100000.0 ..........................................\n",
      "[CV] ........... penalty=l1, C=100000.0, score=0.713297, total=   0.2s\n",
      "[CV] penalty=l2, C=100000.0 ..........................................\n",
      "[CV] ........... penalty=l2, C=100000.0, score=0.753080, total=   0.2s\n",
      "[CV] penalty=l2, C=100000.0 ..........................................\n",
      "[CV] ........... penalty=l2, C=100000.0, score=0.784378, total=   0.2s\n",
      "[CV] penalty=l2, C=100000.0 ..........................................\n",
      "[CV] ........... penalty=l2, C=100000.0, score=0.773653, total=   0.2s\n",
      "[CV] penalty=l2, C=100000.0 ..........................................\n",
      "[CV] ........... penalty=l2, C=100000.0, score=0.762782, total=   0.2s\n",
      "[CV] penalty=l2, C=100000.0 ..........................................\n",
      "[CV] ........... penalty=l2, C=100000.0, score=0.713293, total=   0.2s\n"
     ]
    },
    {
     "name": "stderr",
     "output_type": "stream",
     "text": [
      "[Parallel(n_jobs=1)]: Done 150 out of 150 | elapsed:   47.9s finished\n"
     ]
    },
    {
     "name": "stdout",
     "output_type": "stream",
     "text": [
      "Fitting 5 folds for each of 30 candidates, totalling 150 fits\n",
      "[CV] penalty=l1, C=0.0001 ............................................\n",
      "[CV] ............. penalty=l1, C=0.0001, score=0.500000, total=   0.1s\n",
      "[CV] penalty=l1, C=0.0001 ............................................\n",
      "[CV] ............. penalty=l1, C=0.0001, score=0.500000, total=   0.1s\n",
      "[CV] penalty=l1, C=0.0001 ............................................\n"
     ]
    },
    {
     "name": "stderr",
     "output_type": "stream",
     "text": [
      "[Parallel(n_jobs=1)]: Done   1 out of   1 | elapsed:    0.1s remaining:    0.0s\n",
      "[Parallel(n_jobs=1)]: Done   2 out of   2 | elapsed:    0.2s remaining:    0.0s\n"
     ]
    },
    {
     "name": "stdout",
     "output_type": "stream",
     "text": [
      "[CV] ............. penalty=l1, C=0.0001, score=0.500000, total=   0.1s\n",
      "[CV] penalty=l1, C=0.0001 ............................................\n"
     ]
    },
    {
     "name": "stderr",
     "output_type": "stream",
     "text": [
      "[Parallel(n_jobs=1)]: Done   3 out of   3 | elapsed:    0.4s remaining:    0.0s\n"
     ]
    },
    {
     "name": "stdout",
     "output_type": "stream",
     "text": [
      "[CV] ............. penalty=l1, C=0.0001, score=0.500000, total=   0.1s\n",
      "[CV] penalty=l1, C=0.0001 ............................................\n",
      "[CV] ............. penalty=l1, C=0.0001, score=0.500000, total=   0.1s\n"
     ]
    },
    {
     "name": "stderr",
     "output_type": "stream",
     "text": [
      "[Parallel(n_jobs=1)]: Done   4 out of   4 | elapsed:    0.7s remaining:    0.0s\n",
      "[Parallel(n_jobs=1)]: Done   5 out of   5 | elapsed:    0.8s remaining:    0.0s\n"
     ]
    },
    {
     "name": "stdout",
     "output_type": "stream",
     "text": [
      "[CV] penalty=l2, C=0.0001 ............................................\n",
      "[CV] ............. penalty=l2, C=0.0001, score=0.616749, total=   0.1s\n",
      "[CV] penalty=l2, C=0.0001 ............................................\n"
     ]
    },
    {
     "name": "stderr",
     "output_type": "stream",
     "text": [
      "[Parallel(n_jobs=1)]: Done   6 out of   6 | elapsed:    1.1s remaining:    0.0s\n"
     ]
    },
    {
     "name": "stdout",
     "output_type": "stream",
     "text": [
      "[CV] ............. penalty=l2, C=0.0001, score=0.632329, total=   0.1s\n",
      "[CV] penalty=l2, C=0.0001 ............................................\n"
     ]
    },
    {
     "name": "stderr",
     "output_type": "stream",
     "text": [
      "[Parallel(n_jobs=1)]: Done   7 out of   7 | elapsed:    1.4s remaining:    0.0s\n"
     ]
    },
    {
     "name": "stdout",
     "output_type": "stream",
     "text": [
      "[CV] ............. penalty=l2, C=0.0001, score=0.648709, total=   0.1s\n",
      "[CV] penalty=l2, C=0.0001 ............................................\n"
     ]
    },
    {
     "name": "stderr",
     "output_type": "stream",
     "text": [
      "[Parallel(n_jobs=1)]: Done   8 out of   8 | elapsed:    1.6s remaining:    0.0s\n"
     ]
    },
    {
     "name": "stdout",
     "output_type": "stream",
     "text": [
      "[CV] ............. penalty=l2, C=0.0001, score=0.665592, total=   0.1s\n",
      "[CV] penalty=l2, C=0.0001 ............................................\n"
     ]
    },
    {
     "name": "stderr",
     "output_type": "stream",
     "text": [
      "[Parallel(n_jobs=1)]: Done   9 out of   9 | elapsed:    1.9s remaining:    0.0s\n"
     ]
    },
    {
     "name": "stdout",
     "output_type": "stream",
     "text": [
      "[CV] ............. penalty=l2, C=0.0001, score=0.671511, total=   0.1s\n",
      "[CV] penalty=l1, C=0.000439397056076 .................................\n",
      "[CV] .. penalty=l1, C=0.000439397056076, score=0.500000, total=   0.1s\n",
      "[CV] penalty=l1, C=0.000439397056076 .................................\n",
      "[CV] .. penalty=l1, C=0.000439397056076, score=0.500000, total=   0.2s\n",
      "[CV] penalty=l1, C=0.000439397056076 .................................\n",
      "[CV] .. penalty=l1, C=0.000439397056076, score=0.500000, total=   0.1s\n",
      "[CV] penalty=l1, C=0.000439397056076 .................................\n",
      "[CV] .. penalty=l1, C=0.000439397056076, score=0.500000, total=   0.2s\n",
      "[CV] penalty=l1, C=0.000439397056076 .................................\n",
      "[CV] .. penalty=l1, C=0.000439397056076, score=0.500000, total=   0.1s\n",
      "[CV] penalty=l2, C=0.000439397056076 .................................\n",
      "[CV] .. penalty=l2, C=0.000439397056076, score=0.662292, total=   0.3s\n",
      "[CV] penalty=l2, C=0.000439397056076 .................................\n",
      "[CV] .. penalty=l2, C=0.000439397056076, score=0.689982, total=   0.3s\n",
      "[CV] penalty=l2, C=0.000439397056076 .................................\n",
      "[CV] .. penalty=l2, C=0.000439397056076, score=0.691576, total=   0.2s\n",
      "[CV] penalty=l2, C=0.000439397056076 .................................\n",
      "[CV] .. penalty=l2, C=0.000439397056076, score=0.701652, total=   0.2s\n",
      "[CV] penalty=l2, C=0.000439397056076 .................................\n",
      "[CV] .. penalty=l2, C=0.000439397056076, score=0.700541, total=   0.2s\n",
      "[CV] penalty=l1, C=0.00193069772888 ..................................\n",
      "[CV] ... penalty=l1, C=0.00193069772888, score=0.596636, total=   0.1s\n",
      "[CV] penalty=l1, C=0.00193069772888 ..................................\n",
      "[CV] ... penalty=l1, C=0.00193069772888, score=0.655549, total=   0.2s\n",
      "[CV] penalty=l1, C=0.00193069772888 ..................................\n",
      "[CV] ... penalty=l1, C=0.00193069772888, score=0.500000, total=   0.2s\n",
      "[CV] penalty=l1, C=0.00193069772888 ..................................\n",
      "[CV] ... penalty=l1, C=0.00193069772888, score=0.500000, total=   0.1s\n",
      "[CV] penalty=l1, C=0.00193069772888 ..................................\n",
      "[CV] ... penalty=l1, C=0.00193069772888, score=0.712181, total=   0.2s\n",
      "[CV] penalty=l2, C=0.00193069772888 ..................................\n",
      "[CV] ... penalty=l2, C=0.00193069772888, score=0.709757, total=   0.2s\n",
      "[CV] penalty=l2, C=0.00193069772888 ..................................\n",
      "[CV] ... penalty=l2, C=0.00193069772888, score=0.757783, total=   0.2s\n",
      "[CV] penalty=l2, C=0.00193069772888 ..................................\n",
      "[CV] ... penalty=l2, C=0.00193069772888, score=0.741064, total=   0.2s\n",
      "[CV] penalty=l2, C=0.00193069772888 ..................................\n",
      "[CV] ... penalty=l2, C=0.00193069772888, score=0.743628, total=   0.3s\n",
      "[CV] penalty=l2, C=0.00193069772888 ..................................\n",
      "[CV] ... penalty=l2, C=0.00193069772888, score=0.719484, total=   0.2s\n",
      "[CV] penalty=l1, C=0.00848342898244 ..................................\n",
      "[CV] ... penalty=l1, C=0.00848342898244, score=0.724127, total=   0.2s\n",
      "[CV] penalty=l1, C=0.00848342898244 ..................................\n",
      "[CV] ... penalty=l1, C=0.00848342898244, score=0.768141, total=   0.3s\n",
      "[CV] penalty=l1, C=0.00848342898244 ..................................\n",
      "[CV] ... penalty=l1, C=0.00848342898244, score=0.761450, total=   0.1s\n",
      "[CV] penalty=l1, C=0.00848342898244 ..................................\n",
      "[CV] ... penalty=l1, C=0.00848342898244, score=0.764576, total=   0.1s\n",
      "[CV] penalty=l1, C=0.00848342898244 ..................................\n",
      "[CV] ... penalty=l1, C=0.00848342898244, score=0.708020, total=   0.2s\n",
      "[CV] penalty=l2, C=0.00848342898244 ..................................\n",
      "[CV] ... penalty=l2, C=0.00848342898244, score=0.735159, total=   0.4s\n",
      "[CV] penalty=l2, C=0.00848342898244 ..................................\n",
      "[CV] ... penalty=l2, C=0.00848342898244, score=0.777499, total=   0.3s\n",
      "[CV] penalty=l2, C=0.00848342898244 ..................................\n",
      "[CV] ... penalty=l2, C=0.00848342898244, score=0.762391, total=   0.3s\n",
      "[CV] penalty=l2, C=0.00848342898244 ..................................\n",
      "[CV] ... penalty=l2, C=0.00848342898244, score=0.760798, total=   0.2s\n",
      "[CV] penalty=l2, C=0.00848342898244 ..................................\n",
      "[CV] ... penalty=l2, C=0.00848342898244, score=0.719897, total=   0.2s\n",
      "[CV] penalty=l1, C=0.0372759372031 ...................................\n",
      "[CV] .... penalty=l1, C=0.0372759372031, score=0.746473, total=   0.4s\n",
      "[CV] penalty=l1, C=0.0372759372031 ...................................\n",
      "[CV] .... penalty=l1, C=0.0372759372031, score=0.777883, total=   0.4s\n",
      "[CV] penalty=l1, C=0.0372759372031 ...................................\n",
      "[CV] .... penalty=l1, C=0.0372759372031, score=0.775329, total=   0.3s\n",
      "[CV] penalty=l1, C=0.0372759372031 ...................................\n",
      "[CV] .... penalty=l1, C=0.0372759372031, score=0.763972, total=   0.2s\n",
      "[CV] penalty=l1, C=0.0372759372031 ...................................\n",
      "[CV] .... penalty=l1, C=0.0372759372031, score=0.710938, total=   0.2s\n",
      "[CV] penalty=l2, C=0.0372759372031 ...................................\n",
      "[CV] .... penalty=l2, C=0.0372759372031, score=0.746114, total=   0.3s\n",
      "[CV] penalty=l2, C=0.0372759372031 ...................................\n",
      "[CV] .... penalty=l2, C=0.0372759372031, score=0.777892, total=   0.2s\n",
      "[CV] penalty=l2, C=0.0372759372031 ...................................\n",
      "[CV] .... penalty=l2, C=0.0372759372031, score=0.771592, total=   0.2s\n",
      "[CV] penalty=l2, C=0.0372759372031 ...................................\n",
      "[CV] .... penalty=l2, C=0.0372759372031, score=0.763667, total=   0.2s\n",
      "[CV] penalty=l2, C=0.0372759372031 ...................................\n",
      "[CV] .... penalty=l2, C=0.0372759372031, score=0.711462, total=   0.2s\n",
      "[CV] penalty=l1, C=0.163789370695 ....................................\n",
      "[CV] ..... penalty=l1, C=0.163789370695, score=0.750978, total=   0.2s\n",
      "[CV] penalty=l1, C=0.163789370695 ....................................\n",
      "[CV] ..... penalty=l1, C=0.163789370695, score=0.778565, total=   0.2s\n",
      "[CV] penalty=l1, C=0.163789370695 ....................................\n",
      "[CV] ..... penalty=l1, C=0.163789370695, score=0.775142, total=   0.2s\n",
      "[CV] penalty=l1, C=0.163789370695 ....................................\n",
      "[CV] ..... penalty=l1, C=0.163789370695, score=0.762162, total=   0.4s\n",
      "[CV] penalty=l1, C=0.163789370695 ....................................\n",
      "[CV] ..... penalty=l1, C=0.163789370695, score=0.709353, total=   0.2s\n",
      "[CV] penalty=l2, C=0.163789370695 ....................................\n",
      "[CV] ..... penalty=l2, C=0.163789370695, score=0.750624, total=   0.2s\n",
      "[CV] penalty=l2, C=0.163789370695 ....................................\n",
      "[CV] ..... penalty=l2, C=0.163789370695, score=0.778427, total=   0.2s\n",
      "[CV] penalty=l2, C=0.163789370695 ....................................\n",
      "[CV] ..... penalty=l2, C=0.163789370695, score=0.773717, total=   0.3s\n",
      "[CV] penalty=l2, C=0.163789370695 ....................................\n",
      "[CV] ..... penalty=l2, C=0.163789370695, score=0.763268, total=   0.2s\n",
      "[CV] penalty=l2, C=0.163789370695 ....................................\n",
      "[CV] ..... penalty=l2, C=0.163789370695, score=0.709192, total=   0.2s\n",
      "[CV] penalty=l1, C=0.719685673001 ....................................\n",
      "[CV] ..... penalty=l1, C=0.719685673001, score=0.751752, total=   0.2s\n",
      "[CV] penalty=l1, C=0.719685673001 ....................................\n",
      "[CV] ..... penalty=l1, C=0.719685673001, score=0.778519, total=   0.2s\n",
      "[CV] penalty=l1, C=0.719685673001 ....................................\n",
      "[CV] ..... penalty=l1, C=0.719685673001, score=0.774531, total=   0.2s\n",
      "[CV] penalty=l1, C=0.719685673001 ....................................\n",
      "[CV] ..... penalty=l1, C=0.719685673001, score=0.762140, total=   0.2s\n",
      "[CV] penalty=l1, C=0.719685673001 ....................................\n",
      "[CV] ..... penalty=l1, C=0.719685673001, score=0.708507, total=   0.2s\n",
      "[CV] penalty=l2, C=0.719685673001 ....................................\n",
      "[CV] ..... penalty=l2, C=0.719685673001, score=0.751676, total=   0.3s\n",
      "[CV] penalty=l2, C=0.719685673001 ....................................\n",
      "[CV] ..... penalty=l2, C=0.719685673001, score=0.778520, total=   0.2s\n",
      "[CV] penalty=l2, C=0.719685673001 ....................................\n"
     ]
    },
    {
     "name": "stdout",
     "output_type": "stream",
     "text": [
      "[CV] ..... penalty=l2, C=0.719685673001, score=0.774216, total=   0.3s\n",
      "[CV] penalty=l2, C=0.719685673001 ....................................\n",
      "[CV] ..... penalty=l2, C=0.719685673001, score=0.762262, total=   0.3s\n",
      "[CV] penalty=l2, C=0.719685673001 ....................................\n",
      "[CV] ..... penalty=l2, C=0.719685673001, score=0.708182, total=   0.2s\n",
      "[CV] penalty=l1, C=3.16227766017 .....................................\n",
      "[CV] ...... penalty=l1, C=3.16227766017, score=0.751964, total=   0.2s\n",
      "[CV] penalty=l1, C=3.16227766017 .....................................\n",
      "[CV] ...... penalty=l1, C=3.16227766017, score=0.778492, total=   0.2s\n",
      "[CV] penalty=l1, C=3.16227766017 .....................................\n",
      "[CV] ...... penalty=l1, C=3.16227766017, score=0.774390, total=   0.2s\n",
      "[CV] penalty=l1, C=3.16227766017 .....................................\n"
     ]
    },
    {
     "ename": "KeyboardInterrupt",
     "evalue": "",
     "output_type": "error",
     "traceback": [
      "\u001b[0;31m---------------------------------------------------------------------------\u001b[0m",
      "\u001b[0;31mKeyboardInterrupt\u001b[0m                         Traceback (most recent call last)",
      "\u001b[0;32m<ipython-input-79-588374e7bfcf>\u001b[0m in \u001b[0;36m<module>\u001b[0;34m()\u001b[0m\n\u001b[1;32m     20\u001b[0m         \u001b[0mcible_dropt\u001b[0m\u001b[1;33m=\u001b[0m\u001b[0mcible\u001b[0m\u001b[1;33m[\u001b[0m\u001b[1;33m~\u001b[0m\u001b[0mfittedpipeline\u001b[0m\u001b[1;33m.\u001b[0m\u001b[0mnamed_steps\u001b[0m\u001b[1;33m[\u001b[0m\u001b[1;34m'removeOutliers'\u001b[0m\u001b[1;33m]\u001b[0m\u001b[1;33m.\u001b[0m\u001b[0miextreme_values\u001b[0m\u001b[1;33m]\u001b[0m\u001b[1;33m\u001b[0m\u001b[0m\n\u001b[1;32m     21\u001b[0m \u001b[1;33m\u001b[0m\u001b[0m\n\u001b[0;32m---> 22\u001b[0;31m         \u001b[0mclf\u001b[0m\u001b[1;33m.\u001b[0m\u001b[0mfit\u001b[0m\u001b[1;33m(\u001b[0m\u001b[0mdata\u001b[0m\u001b[1;33m,\u001b[0m\u001b[0mcible_dropt\u001b[0m\u001b[1;33m)\u001b[0m\u001b[1;33m\u001b[0m\u001b[0m\n\u001b[0m\u001b[1;32m     23\u001b[0m \u001b[1;33m\u001b[0m\u001b[0m\n\u001b[1;32m     24\u001b[0m \u001b[1;33m\u001b[0m\u001b[0m\n",
      "\u001b[0;32md:\\Users\\S37283\\AppData\\Local\\Continuum\\Anaconda3\\lib\\site-packages\\sklearn\\model_selection\\_search.py\u001b[0m in \u001b[0;36mfit\u001b[0;34m(self, X, y, groups)\u001b[0m\n\u001b[1;32m    943\u001b[0m             \u001b[0mtrain\u001b[0m\u001b[1;33m/\u001b[0m\u001b[0mtest\u001b[0m \u001b[0mset\u001b[0m\u001b[1;33m.\u001b[0m\u001b[1;33m\u001b[0m\u001b[0m\n\u001b[1;32m    944\u001b[0m         \"\"\"\n\u001b[0;32m--> 945\u001b[0;31m         \u001b[1;32mreturn\u001b[0m \u001b[0mself\u001b[0m\u001b[1;33m.\u001b[0m\u001b[0m_fit\u001b[0m\u001b[1;33m(\u001b[0m\u001b[0mX\u001b[0m\u001b[1;33m,\u001b[0m \u001b[0my\u001b[0m\u001b[1;33m,\u001b[0m \u001b[0mgroups\u001b[0m\u001b[1;33m,\u001b[0m \u001b[0mParameterGrid\u001b[0m\u001b[1;33m(\u001b[0m\u001b[0mself\u001b[0m\u001b[1;33m.\u001b[0m\u001b[0mparam_grid\u001b[0m\u001b[1;33m)\u001b[0m\u001b[1;33m)\u001b[0m\u001b[1;33m\u001b[0m\u001b[0m\n\u001b[0m\u001b[1;32m    946\u001b[0m \u001b[1;33m\u001b[0m\u001b[0m\n\u001b[1;32m    947\u001b[0m \u001b[1;33m\u001b[0m\u001b[0m\n",
      "\u001b[0;32md:\\Users\\S37283\\AppData\\Local\\Continuum\\Anaconda3\\lib\\site-packages\\sklearn\\model_selection\\_search.py\u001b[0m in \u001b[0;36m_fit\u001b[0;34m(self, X, y, groups, parameter_iterable)\u001b[0m\n\u001b[1;32m    562\u001b[0m                                   \u001b[0mreturn_times\u001b[0m\u001b[1;33m=\u001b[0m\u001b[1;32mTrue\u001b[0m\u001b[1;33m,\u001b[0m \u001b[0mreturn_parameters\u001b[0m\u001b[1;33m=\u001b[0m\u001b[1;32mTrue\u001b[0m\u001b[1;33m,\u001b[0m\u001b[1;33m\u001b[0m\u001b[0m\n\u001b[1;32m    563\u001b[0m                                   error_score=self.error_score)\n\u001b[0;32m--> 564\u001b[0;31m           \u001b[1;32mfor\u001b[0m \u001b[0mparameters\u001b[0m \u001b[1;32min\u001b[0m \u001b[0mparameter_iterable\u001b[0m\u001b[1;33m\u001b[0m\u001b[0m\n\u001b[0m\u001b[1;32m    565\u001b[0m           for train, test in cv_iter)\n\u001b[1;32m    566\u001b[0m \u001b[1;33m\u001b[0m\u001b[0m\n",
      "\u001b[0;32md:\\Users\\S37283\\AppData\\Local\\Continuum\\Anaconda3\\lib\\site-packages\\sklearn\\externals\\joblib\\parallel.py\u001b[0m in \u001b[0;36m__call__\u001b[0;34m(self, iterable)\u001b[0m\n\u001b[1;32m    756\u001b[0m             \u001b[1;31m# was dispatched. In particular this covers the edge\u001b[0m\u001b[1;33m\u001b[0m\u001b[1;33m\u001b[0m\u001b[0m\n\u001b[1;32m    757\u001b[0m             \u001b[1;31m# case of Parallel used with an exhausted iterator.\u001b[0m\u001b[1;33m\u001b[0m\u001b[1;33m\u001b[0m\u001b[0m\n\u001b[0;32m--> 758\u001b[0;31m             \u001b[1;32mwhile\u001b[0m \u001b[0mself\u001b[0m\u001b[1;33m.\u001b[0m\u001b[0mdispatch_one_batch\u001b[0m\u001b[1;33m(\u001b[0m\u001b[0miterator\u001b[0m\u001b[1;33m)\u001b[0m\u001b[1;33m:\u001b[0m\u001b[1;33m\u001b[0m\u001b[0m\n\u001b[0m\u001b[1;32m    759\u001b[0m                 \u001b[0mself\u001b[0m\u001b[1;33m.\u001b[0m\u001b[0m_iterating\u001b[0m \u001b[1;33m=\u001b[0m \u001b[1;32mTrue\u001b[0m\u001b[1;33m\u001b[0m\u001b[0m\n\u001b[1;32m    760\u001b[0m             \u001b[1;32melse\u001b[0m\u001b[1;33m:\u001b[0m\u001b[1;33m\u001b[0m\u001b[0m\n",
      "\u001b[0;32md:\\Users\\S37283\\AppData\\Local\\Continuum\\Anaconda3\\lib\\site-packages\\sklearn\\externals\\joblib\\parallel.py\u001b[0m in \u001b[0;36mdispatch_one_batch\u001b[0;34m(self, iterator)\u001b[0m\n\u001b[1;32m    606\u001b[0m                 \u001b[1;32mreturn\u001b[0m \u001b[1;32mFalse\u001b[0m\u001b[1;33m\u001b[0m\u001b[0m\n\u001b[1;32m    607\u001b[0m             \u001b[1;32melse\u001b[0m\u001b[1;33m:\u001b[0m\u001b[1;33m\u001b[0m\u001b[0m\n\u001b[0;32m--> 608\u001b[0;31m                 \u001b[0mself\u001b[0m\u001b[1;33m.\u001b[0m\u001b[0m_dispatch\u001b[0m\u001b[1;33m(\u001b[0m\u001b[0mtasks\u001b[0m\u001b[1;33m)\u001b[0m\u001b[1;33m\u001b[0m\u001b[0m\n\u001b[0m\u001b[1;32m    609\u001b[0m                 \u001b[1;32mreturn\u001b[0m \u001b[1;32mTrue\u001b[0m\u001b[1;33m\u001b[0m\u001b[0m\n\u001b[1;32m    610\u001b[0m \u001b[1;33m\u001b[0m\u001b[0m\n",
      "\u001b[0;32md:\\Users\\S37283\\AppData\\Local\\Continuum\\Anaconda3\\lib\\site-packages\\sklearn\\externals\\joblib\\parallel.py\u001b[0m in \u001b[0;36m_dispatch\u001b[0;34m(self, batch)\u001b[0m\n\u001b[1;32m    569\u001b[0m         \u001b[0mdispatch_timestamp\u001b[0m \u001b[1;33m=\u001b[0m \u001b[0mtime\u001b[0m\u001b[1;33m.\u001b[0m\u001b[0mtime\u001b[0m\u001b[1;33m(\u001b[0m\u001b[1;33m)\u001b[0m\u001b[1;33m\u001b[0m\u001b[0m\n\u001b[1;32m    570\u001b[0m         \u001b[0mcb\u001b[0m \u001b[1;33m=\u001b[0m \u001b[0mBatchCompletionCallBack\u001b[0m\u001b[1;33m(\u001b[0m\u001b[0mdispatch_timestamp\u001b[0m\u001b[1;33m,\u001b[0m \u001b[0mlen\u001b[0m\u001b[1;33m(\u001b[0m\u001b[0mbatch\u001b[0m\u001b[1;33m)\u001b[0m\u001b[1;33m,\u001b[0m \u001b[0mself\u001b[0m\u001b[1;33m)\u001b[0m\u001b[1;33m\u001b[0m\u001b[0m\n\u001b[0;32m--> 571\u001b[0;31m         \u001b[0mjob\u001b[0m \u001b[1;33m=\u001b[0m \u001b[0mself\u001b[0m\u001b[1;33m.\u001b[0m\u001b[0m_backend\u001b[0m\u001b[1;33m.\u001b[0m\u001b[0mapply_async\u001b[0m\u001b[1;33m(\u001b[0m\u001b[0mbatch\u001b[0m\u001b[1;33m,\u001b[0m \u001b[0mcallback\u001b[0m\u001b[1;33m=\u001b[0m\u001b[0mcb\u001b[0m\u001b[1;33m)\u001b[0m\u001b[1;33m\u001b[0m\u001b[0m\n\u001b[0m\u001b[1;32m    572\u001b[0m         \u001b[0mself\u001b[0m\u001b[1;33m.\u001b[0m\u001b[0m_jobs\u001b[0m\u001b[1;33m.\u001b[0m\u001b[0mappend\u001b[0m\u001b[1;33m(\u001b[0m\u001b[0mjob\u001b[0m\u001b[1;33m)\u001b[0m\u001b[1;33m\u001b[0m\u001b[0m\n\u001b[1;32m    573\u001b[0m \u001b[1;33m\u001b[0m\u001b[0m\n",
      "\u001b[0;32md:\\Users\\S37283\\AppData\\Local\\Continuum\\Anaconda3\\lib\\site-packages\\sklearn\\externals\\joblib\\_parallel_backends.py\u001b[0m in \u001b[0;36mapply_async\u001b[0;34m(self, func, callback)\u001b[0m\n\u001b[1;32m    107\u001b[0m     \u001b[1;32mdef\u001b[0m \u001b[0mapply_async\u001b[0m\u001b[1;33m(\u001b[0m\u001b[0mself\u001b[0m\u001b[1;33m,\u001b[0m \u001b[0mfunc\u001b[0m\u001b[1;33m,\u001b[0m \u001b[0mcallback\u001b[0m\u001b[1;33m=\u001b[0m\u001b[1;32mNone\u001b[0m\u001b[1;33m)\u001b[0m\u001b[1;33m:\u001b[0m\u001b[1;33m\u001b[0m\u001b[0m\n\u001b[1;32m    108\u001b[0m         \u001b[1;34m\"\"\"Schedule a func to be run\"\"\"\u001b[0m\u001b[1;33m\u001b[0m\u001b[0m\n\u001b[0;32m--> 109\u001b[0;31m         \u001b[0mresult\u001b[0m \u001b[1;33m=\u001b[0m \u001b[0mImmediateResult\u001b[0m\u001b[1;33m(\u001b[0m\u001b[0mfunc\u001b[0m\u001b[1;33m)\u001b[0m\u001b[1;33m\u001b[0m\u001b[0m\n\u001b[0m\u001b[1;32m    110\u001b[0m         \u001b[1;32mif\u001b[0m \u001b[0mcallback\u001b[0m\u001b[1;33m:\u001b[0m\u001b[1;33m\u001b[0m\u001b[0m\n\u001b[1;32m    111\u001b[0m             \u001b[0mcallback\u001b[0m\u001b[1;33m(\u001b[0m\u001b[0mresult\u001b[0m\u001b[1;33m)\u001b[0m\u001b[1;33m\u001b[0m\u001b[0m\n",
      "\u001b[0;32md:\\Users\\S37283\\AppData\\Local\\Continuum\\Anaconda3\\lib\\site-packages\\sklearn\\externals\\joblib\\_parallel_backends.py\u001b[0m in \u001b[0;36m__init__\u001b[0;34m(self, batch)\u001b[0m\n\u001b[1;32m    324\u001b[0m         \u001b[1;31m# Don't delay the application, to avoid keeping the input\u001b[0m\u001b[1;33m\u001b[0m\u001b[1;33m\u001b[0m\u001b[0m\n\u001b[1;32m    325\u001b[0m         \u001b[1;31m# arguments in memory\u001b[0m\u001b[1;33m\u001b[0m\u001b[1;33m\u001b[0m\u001b[0m\n\u001b[0;32m--> 326\u001b[0;31m         \u001b[0mself\u001b[0m\u001b[1;33m.\u001b[0m\u001b[0mresults\u001b[0m \u001b[1;33m=\u001b[0m \u001b[0mbatch\u001b[0m\u001b[1;33m(\u001b[0m\u001b[1;33m)\u001b[0m\u001b[1;33m\u001b[0m\u001b[0m\n\u001b[0m\u001b[1;32m    327\u001b[0m \u001b[1;33m\u001b[0m\u001b[0m\n\u001b[1;32m    328\u001b[0m     \u001b[1;32mdef\u001b[0m \u001b[0mget\u001b[0m\u001b[1;33m(\u001b[0m\u001b[0mself\u001b[0m\u001b[1;33m)\u001b[0m\u001b[1;33m:\u001b[0m\u001b[1;33m\u001b[0m\u001b[0m\n",
      "\u001b[0;32md:\\Users\\S37283\\AppData\\Local\\Continuum\\Anaconda3\\lib\\site-packages\\sklearn\\externals\\joblib\\parallel.py\u001b[0m in \u001b[0;36m__call__\u001b[0;34m(self)\u001b[0m\n\u001b[1;32m    129\u001b[0m \u001b[1;33m\u001b[0m\u001b[0m\n\u001b[1;32m    130\u001b[0m     \u001b[1;32mdef\u001b[0m \u001b[0m__call__\u001b[0m\u001b[1;33m(\u001b[0m\u001b[0mself\u001b[0m\u001b[1;33m)\u001b[0m\u001b[1;33m:\u001b[0m\u001b[1;33m\u001b[0m\u001b[0m\n\u001b[0;32m--> 131\u001b[0;31m         \u001b[1;32mreturn\u001b[0m \u001b[1;33m[\u001b[0m\u001b[0mfunc\u001b[0m\u001b[1;33m(\u001b[0m\u001b[1;33m*\u001b[0m\u001b[0margs\u001b[0m\u001b[1;33m,\u001b[0m \u001b[1;33m**\u001b[0m\u001b[0mkwargs\u001b[0m\u001b[1;33m)\u001b[0m \u001b[1;32mfor\u001b[0m \u001b[0mfunc\u001b[0m\u001b[1;33m,\u001b[0m \u001b[0margs\u001b[0m\u001b[1;33m,\u001b[0m \u001b[0mkwargs\u001b[0m \u001b[1;32min\u001b[0m \u001b[0mself\u001b[0m\u001b[1;33m.\u001b[0m\u001b[0mitems\u001b[0m\u001b[1;33m]\u001b[0m\u001b[1;33m\u001b[0m\u001b[0m\n\u001b[0m\u001b[1;32m    132\u001b[0m \u001b[1;33m\u001b[0m\u001b[0m\n\u001b[1;32m    133\u001b[0m     \u001b[1;32mdef\u001b[0m \u001b[0m__len__\u001b[0m\u001b[1;33m(\u001b[0m\u001b[0mself\u001b[0m\u001b[1;33m)\u001b[0m\u001b[1;33m:\u001b[0m\u001b[1;33m\u001b[0m\u001b[0m\n",
      "\u001b[0;32md:\\Users\\S37283\\AppData\\Local\\Continuum\\Anaconda3\\lib\\site-packages\\sklearn\\externals\\joblib\\parallel.py\u001b[0m in \u001b[0;36m<listcomp>\u001b[0;34m(.0)\u001b[0m\n\u001b[1;32m    129\u001b[0m \u001b[1;33m\u001b[0m\u001b[0m\n\u001b[1;32m    130\u001b[0m     \u001b[1;32mdef\u001b[0m \u001b[0m__call__\u001b[0m\u001b[1;33m(\u001b[0m\u001b[0mself\u001b[0m\u001b[1;33m)\u001b[0m\u001b[1;33m:\u001b[0m\u001b[1;33m\u001b[0m\u001b[0m\n\u001b[0;32m--> 131\u001b[0;31m         \u001b[1;32mreturn\u001b[0m \u001b[1;33m[\u001b[0m\u001b[0mfunc\u001b[0m\u001b[1;33m(\u001b[0m\u001b[1;33m*\u001b[0m\u001b[0margs\u001b[0m\u001b[1;33m,\u001b[0m \u001b[1;33m**\u001b[0m\u001b[0mkwargs\u001b[0m\u001b[1;33m)\u001b[0m \u001b[1;32mfor\u001b[0m \u001b[0mfunc\u001b[0m\u001b[1;33m,\u001b[0m \u001b[0margs\u001b[0m\u001b[1;33m,\u001b[0m \u001b[0mkwargs\u001b[0m \u001b[1;32min\u001b[0m \u001b[0mself\u001b[0m\u001b[1;33m.\u001b[0m\u001b[0mitems\u001b[0m\u001b[1;33m]\u001b[0m\u001b[1;33m\u001b[0m\u001b[0m\n\u001b[0m\u001b[1;32m    132\u001b[0m \u001b[1;33m\u001b[0m\u001b[0m\n\u001b[1;32m    133\u001b[0m     \u001b[1;32mdef\u001b[0m \u001b[0m__len__\u001b[0m\u001b[1;33m(\u001b[0m\u001b[0mself\u001b[0m\u001b[1;33m)\u001b[0m\u001b[1;33m:\u001b[0m\u001b[1;33m\u001b[0m\u001b[0m\n",
      "\u001b[0;32md:\\Users\\S37283\\AppData\\Local\\Continuum\\Anaconda3\\lib\\site-packages\\sklearn\\model_selection\\_validation.py\u001b[0m in \u001b[0;36m_fit_and_score\u001b[0;34m(estimator, X, y, scorer, train, test, verbose, parameters, fit_params, return_train_score, return_parameters, return_n_test_samples, return_times, error_score)\u001b[0m\n\u001b[1;32m    236\u001b[0m             \u001b[0mestimator\u001b[0m\u001b[1;33m.\u001b[0m\u001b[0mfit\u001b[0m\u001b[1;33m(\u001b[0m\u001b[0mX_train\u001b[0m\u001b[1;33m,\u001b[0m \u001b[1;33m**\u001b[0m\u001b[0mfit_params\u001b[0m\u001b[1;33m)\u001b[0m\u001b[1;33m\u001b[0m\u001b[0m\n\u001b[1;32m    237\u001b[0m         \u001b[1;32melse\u001b[0m\u001b[1;33m:\u001b[0m\u001b[1;33m\u001b[0m\u001b[0m\n\u001b[0;32m--> 238\u001b[0;31m             \u001b[0mestimator\u001b[0m\u001b[1;33m.\u001b[0m\u001b[0mfit\u001b[0m\u001b[1;33m(\u001b[0m\u001b[0mX_train\u001b[0m\u001b[1;33m,\u001b[0m \u001b[0my_train\u001b[0m\u001b[1;33m,\u001b[0m \u001b[1;33m**\u001b[0m\u001b[0mfit_params\u001b[0m\u001b[1;33m)\u001b[0m\u001b[1;33m\u001b[0m\u001b[0m\n\u001b[0m\u001b[1;32m    239\u001b[0m \u001b[1;33m\u001b[0m\u001b[0m\n\u001b[1;32m    240\u001b[0m     \u001b[1;32mexcept\u001b[0m \u001b[0mException\u001b[0m \u001b[1;32mas\u001b[0m \u001b[0me\u001b[0m\u001b[1;33m:\u001b[0m\u001b[1;33m\u001b[0m\u001b[0m\n",
      "\u001b[0;32md:\\Users\\S37283\\AppData\\Local\\Continuum\\Anaconda3\\lib\\site-packages\\sklearn\\linear_model\\logistic.py\u001b[0m in \u001b[0;36mfit\u001b[0;34m(self, X, y, sample_weight)\u001b[0m\n\u001b[1;32m   1184\u001b[0m                 \u001b[0mself\u001b[0m\u001b[1;33m.\u001b[0m\u001b[0mclass_weight\u001b[0m\u001b[1;33m,\u001b[0m \u001b[0mself\u001b[0m\u001b[1;33m.\u001b[0m\u001b[0mpenalty\u001b[0m\u001b[1;33m,\u001b[0m \u001b[0mself\u001b[0m\u001b[1;33m.\u001b[0m\u001b[0mdual\u001b[0m\u001b[1;33m,\u001b[0m \u001b[0mself\u001b[0m\u001b[1;33m.\u001b[0m\u001b[0mverbose\u001b[0m\u001b[1;33m,\u001b[0m\u001b[1;33m\u001b[0m\u001b[0m\n\u001b[1;32m   1185\u001b[0m                 \u001b[0mself\u001b[0m\u001b[1;33m.\u001b[0m\u001b[0mmax_iter\u001b[0m\u001b[1;33m,\u001b[0m \u001b[0mself\u001b[0m\u001b[1;33m.\u001b[0m\u001b[0mtol\u001b[0m\u001b[1;33m,\u001b[0m \u001b[0mself\u001b[0m\u001b[1;33m.\u001b[0m\u001b[0mrandom_state\u001b[0m\u001b[1;33m,\u001b[0m\u001b[1;33m\u001b[0m\u001b[0m\n\u001b[0;32m-> 1186\u001b[0;31m                 sample_weight=sample_weight)\n\u001b[0m\u001b[1;32m   1187\u001b[0m             \u001b[0mself\u001b[0m\u001b[1;33m.\u001b[0m\u001b[0mn_iter_\u001b[0m \u001b[1;33m=\u001b[0m \u001b[0mnp\u001b[0m\u001b[1;33m.\u001b[0m\u001b[0marray\u001b[0m\u001b[1;33m(\u001b[0m\u001b[1;33m[\u001b[0m\u001b[0mn_iter_\u001b[0m\u001b[1;33m]\u001b[0m\u001b[1;33m)\u001b[0m\u001b[1;33m\u001b[0m\u001b[0m\n\u001b[1;32m   1188\u001b[0m             \u001b[1;32mreturn\u001b[0m \u001b[0mself\u001b[0m\u001b[1;33m\u001b[0m\u001b[0m\n",
      "\u001b[0;32md:\\Users\\S37283\\AppData\\Local\\Continuum\\Anaconda3\\lib\\site-packages\\sklearn\\svm\\base.py\u001b[0m in \u001b[0;36m_fit_liblinear\u001b[0;34m(X, y, C, fit_intercept, intercept_scaling, class_weight, penalty, dual, verbose, max_iter, tol, random_state, multi_class, loss, epsilon, sample_weight)\u001b[0m\n\u001b[1;32m    910\u001b[0m         \u001b[0mX\u001b[0m\u001b[1;33m,\u001b[0m \u001b[0my_ind\u001b[0m\u001b[1;33m,\u001b[0m \u001b[0msp\u001b[0m\u001b[1;33m.\u001b[0m\u001b[0misspmatrix\u001b[0m\u001b[1;33m(\u001b[0m\u001b[0mX\u001b[0m\u001b[1;33m)\u001b[0m\u001b[1;33m,\u001b[0m \u001b[0msolver_type\u001b[0m\u001b[1;33m,\u001b[0m \u001b[0mtol\u001b[0m\u001b[1;33m,\u001b[0m \u001b[0mbias\u001b[0m\u001b[1;33m,\u001b[0m \u001b[0mC\u001b[0m\u001b[1;33m,\u001b[0m\u001b[1;33m\u001b[0m\u001b[0m\n\u001b[1;32m    911\u001b[0m         \u001b[0mclass_weight_\u001b[0m\u001b[1;33m,\u001b[0m \u001b[0mmax_iter\u001b[0m\u001b[1;33m,\u001b[0m \u001b[0mrnd\u001b[0m\u001b[1;33m.\u001b[0m\u001b[0mrandint\u001b[0m\u001b[1;33m(\u001b[0m\u001b[0mnp\u001b[0m\u001b[1;33m.\u001b[0m\u001b[0miinfo\u001b[0m\u001b[1;33m(\u001b[0m\u001b[1;34m'i'\u001b[0m\u001b[1;33m)\u001b[0m\u001b[1;33m.\u001b[0m\u001b[0mmax\u001b[0m\u001b[1;33m)\u001b[0m\u001b[1;33m,\u001b[0m\u001b[1;33m\u001b[0m\u001b[0m\n\u001b[0;32m--> 912\u001b[0;31m         epsilon, sample_weight)\n\u001b[0m\u001b[1;32m    913\u001b[0m     \u001b[1;31m# Regarding rnd.randint(..) in the above signature:\u001b[0m\u001b[1;33m\u001b[0m\u001b[1;33m\u001b[0m\u001b[0m\n\u001b[1;32m    914\u001b[0m     \u001b[1;31m# seed for srand in range [0..INT_MAX); due to limitations in Numpy\u001b[0m\u001b[1;33m\u001b[0m\u001b[1;33m\u001b[0m\u001b[0m\n",
      "\u001b[0;31mKeyboardInterrupt\u001b[0m: "
     ]
    }
   ],
   "source": [
    "text_file = open(os.path.join(dir_path, result_file), 'w')\n",
    "\n",
    "for k in range(2,15):\n",
    "    \n",
    "    for supportf in [0.95,0.99,0.995]:\n",
    "\n",
    "        tuned_parameters = [{'penalty': ['l1','l2'],\n",
    "                'C':list(np.logspace(-4, 5, 15))}]\n",
    "\n",
    "        pipeline=Pipeline([('dim_red',PCA(n_components=k,svd_solver='arpack'))\n",
    "                   ,('removeOutliers',OutlierMahalanobis(verbose=False,qqplot=False,support_fraction=supportf))])\n",
    "\n",
    "\n",
    "        clf = GridSearchCV(LogisticRegression(max_iter=10000), tuned_parameters, scoring='roc_auc', cv=5,verbose=1)\n",
    "        fittedpipeline=pipeline.fit(np.array(dg_drop_minmax))\n",
    "\n",
    "        data=fittedpipeline.transform(np.array(dg_drop_minmax))\n",
    "        cible_dropt=cible[~fittedpipeline.named_steps['removeOutliers'].iextreme_values]\n",
    "\n",
    "        clf.fit(data,cible_dropt)\n",
    "\n",
    "\n",
    "        print('--------------------------', file=text_file)\n",
    "        print(\"Components :\"+str(k), file=text_file)\n",
    "        print(\"Support Fraction :\"+str(supportf), file=text_file)\n",
    "\n",
    "        print('', file=text_file)\n",
    "        print(\"Best parameters set found on development set:\", file=text_file)\n",
    "        print('', file=text_file)\n",
    "        print(clf.best_params_, file=text_file)\n",
    "        print('', file=text_file)\n",
    "\n",
    "        print(\"Grid scores on development set:\", file=text_file)\n",
    "        print('', file=text_file)\n",
    "        means = clf.cv_results_['mean_test_score']\n",
    "        stds = clf.cv_results_['std_test_score']\n",
    "        for mean, std, params in zip(means, stds, clf.cv_results_['params']):\n",
    "            print(\"%0.3f (+/-%0.03f) for %r\"\n",
    "                % (mean, std * 2, params), file=text_file)\n",
    "        print('', file=text_file)\n",
    "\n",
    "text_file.close()"
   ]
  },
  {
   "cell_type": "code",
   "execution_count": null,
   "metadata": {
    "collapsed": true
   },
   "outputs": [],
   "source": []
  },
  {
   "cell_type": "code",
   "execution_count": null,
   "metadata": {
    "collapsed": true
   },
   "outputs": [],
   "source": []
  },
  {
   "cell_type": "code",
   "execution_count": null,
   "metadata": {
    "collapsed": true
   },
   "outputs": [],
   "source": []
  },
  {
   "cell_type": "code",
   "execution_count": null,
   "metadata": {
    "collapsed": true
   },
   "outputs": [],
   "source": []
  },
  {
   "cell_type": "code",
   "execution_count": null,
   "metadata": {
    "collapsed": true
   },
   "outputs": [],
   "source": []
  },
  {
   "cell_type": "code",
   "execution_count": null,
   "metadata": {
    "collapsed": true
   },
   "outputs": [],
   "source": []
  },
  {
   "cell_type": "code",
   "execution_count": null,
   "metadata": {
    "collapsed": true
   },
   "outputs": [],
   "source": []
  }
 ],
 "metadata": {
  "kernelspec": {
   "display_name": "Python [default]",
   "language": "python",
   "name": "python3"
  },
  "language_info": {
   "codemirror_mode": {
    "name": "ipython",
    "version": 3
   },
   "file_extension": ".py",
   "mimetype": "text/x-python",
   "name": "python",
   "nbconvert_exporter": "python",
   "pygments_lexer": "ipython3",
   "version": "3.5.3"
  }
 },
 "nbformat": 4,
 "nbformat_minor": 2
}
