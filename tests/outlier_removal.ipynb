{
 "cells": [
  {
   "cell_type": "code",
   "execution_count": 1,
   "metadata": {
    "collapsed": true
   },
   "outputs": [],
   "source": [
    "import imp\n",
    "import sys\n",
    "sys.path.append('../lib')\n",
    "from outlier import *\n",
    "from sklearn import preprocessing\n",
    "from sklearn.ensemble import GradientBoostingClassifier\n",
    "from sklearn.model_selection import GridSearchCV\n",
    "from sklearn.pipeline import Pipeline\n",
    "from itertools import groupby\n",
    "from sklearn.linear_model import ElasticNet\n",
    "from sklearn.model_selection import cross_val_score\n",
    "from sklearn.decomposition import PCA\n",
    "from sklearn.linear_model import LogisticRegression\n",
    "from sklearn.ensemble import AdaBoostClassifier\n",
    "from sklearn.pipeline import Pipeline\n",
    "from sklearn.decomposition import PCA\n",
    "from sklearn.ensemble import IsolationForest\n",
    "\n",
    "import os"
   ]
  },
  {
   "cell_type": "code",
   "execution_count": 2,
   "metadata": {
    "collapsed": true
   },
   "outputs": [],
   "source": [
    "store_cible=pd.HDFStore('../PCA/cible_crossB2B_1.h5')\n",
    "uselessFeatures=list(pd.read_table('./uselessFeatures.csv', sep=',')['name'])\n",
    "dg=store_cible.select('df201606_sample200000')\n",
    "cible=dg.fin\n",
    "dg=dg.drop(uselessFeatures,axis=1)\n",
    "dg_drop=dg.drop('fin',axis=1)"
   ]
  },
  {
   "cell_type": "code",
   "execution_count": 3,
   "metadata": {
    "collapsed": true
   },
   "outputs": [],
   "source": [
    "dg_drop_minmax=pd.DataFrame(preprocessing.MinMaxScaler().fit_transform(dg_drop),columns=dg_drop.columns)"
   ]
  },
  {
   "cell_type": "code",
   "execution_count": 4,
   "metadata": {
    "collapsed": true
   },
   "outputs": [],
   "source": [
    "normal_dataset=np.array(dg_drop_minmax)[np.where(np.array(dg['fin'])==1)]"
   ]
  },
  {
   "cell_type": "markdown",
   "metadata": {},
   "source": [
    "# Kmeans"
   ]
  },
  {
   "cell_type": "code",
   "execution_count": null,
   "metadata": {
    "collapsed": true
   },
   "outputs": [],
   "source": [
    "result_file='result_grid_kmeans.csv'\n",
    "dir_path='./'"
   ]
  },
  {
   "cell_type": "markdown",
   "metadata": {},
   "source": [
    "### Sans réduction de dimension"
   ]
  },
  {
   "cell_type": "code",
   "execution_count": null,
   "metadata": {
    "scrolled": true
   },
   "outputs": [],
   "source": [
    "text_file = open(os.path.join(dir_path, result_file), 'w')\n",
    "normal_dataset=np.array(dg_drop_minmax)[np.where(np.array(dg['fin'])==1)]\n",
    "for k in range(3,12):\n",
    "    \n",
    "    kmeans = KMeans(init='k-means++', n_clusters=k, n_init=10,random_state=5)\n",
    "    pipeline=Pipeline([ ('removeOutliers',OutliersKmeans(parallel=True,kmeans=kmeans,showbar=True))])\n",
    "\n",
    "\n",
    "    tuned_parameters = [{'penalty': ['l1','l2'],\n",
    "            'C':list(np.logspace(-4, 4, 10))}]\n",
    "\n",
    "\n",
    "    clf = GridSearchCV(LogisticRegression(max_iter=10000), tuned_parameters, scoring='roc_auc', cv=5,verbose=10)\n",
    "    fittedpipeline=pipeline.fit(normal_dataset)\n",
    "    data=fittedpipeline.transform(np.array(dg_drop_minmax))\n",
    "    cible_dropt=cible[~fittedpipeline.named_steps['removeOutliers'].iextreme_values]\n",
    "    clf.fit(data,cible_dropt)\n",
    "\n",
    "\n",
    "    print('--------------------------', file=text_file)\n",
    "    print(\"K :\"+str(k), file=text_file)\n",
    "\n",
    "    print('', file=text_file)\n",
    "    print(\"Best parameters set found on development set:\", file=text_file)\n",
    "    print('', file=text_file)\n",
    "    print(clf.best_params_, file=text_file)\n",
    "    print('', file=text_file)\n",
    "\n",
    "    print(\"Grid scores on development set:\", file=text_file)\n",
    "    print('', file=text_file)\n",
    "    means = clf.cv_results_['mean_test_score']\n",
    "    stds = clf.cv_results_['std_test_score']\n",
    "    for mean, std, params in zip(means, stds, clf.cv_results_['params']):\n",
    "        print(\"%0.3f (+/-%0.03f) for %r\"\n",
    "            % (mean, std * 2, params), file=text_file)\n",
    "    print('', file=text_file)\n",
    "\n",
    "text_file.close()"
   ]
  },
  {
   "cell_type": "markdown",
   "metadata": {},
   "source": [
    "### Avec réduction de dimension "
   ]
  },
  {
   "cell_type": "code",
   "execution_count": null,
   "metadata": {
    "collapsed": true
   },
   "outputs": [],
   "source": [
    "result_file='result_grid_kmeans_reduction.csv'\n",
    "dir_path='./'"
   ]
  },
  {
   "cell_type": "code",
   "execution_count": null,
   "metadata": {
    "scrolled": true
   },
   "outputs": [],
   "source": [
    "text_file = open(os.path.join(dir_path, result_file), 'w')\n",
    "normal_dataset=np.array(dg_drop_minmax)[np.where(np.array(dg['fin'])==1)]\n",
    "for k in range(3,15):\n",
    "    for ncompo in range(2,10):\n",
    "    \n",
    "        kmeans = KMeans(init='k-means++', n_clusters=k, n_init=10,random_state=5)\n",
    "        pipeline=Pipeline([('dim_red',PCA(n_components=ncompo,svd_solver='arpack')),\n",
    "                           ('removeOutliers',OutliersKmeans(parallel=True,kmeans=kmeans,showbar=False))])\n",
    "\n",
    "\n",
    "        tuned_parameters = [{'penalty': ['l1','l2'],\n",
    "                'C':list(np.logspace(-4, 4, 10))}]\n",
    "\n",
    "\n",
    "        clf = GridSearchCV(LogisticRegression(max_iter=10000), tuned_parameters, scoring='roc_auc', cv=5,verbose=1)\n",
    "        fittedpipeline=pipeline.fit(normal_dataset)\n",
    "        data=fittedpipeline.transform(np.array(dg_drop_minmax)) \n",
    "        cible_dropt=cible[~fittedpipeline.named_steps['removeOutliers'].iextreme_values]\n",
    "        clf.fit(data,cible_dropt)\n",
    "\n",
    "\n",
    "        print('--------------------------', file=text_file)\n",
    "        print(\"K :\"+str(k), file=text_file)\n",
    "        print(\"Number component :\"+str(ncompo), file=text_file)\n",
    "\n",
    "        print('', file=text_file)\n",
    "        print(\"Best parameters set found on development set:\", file=text_file)\n",
    "        print('', file=text_file)\n",
    "        print(clf.best_params_, file=text_file)\n",
    "        print('', file=text_file)\n",
    "\n",
    "        print(\"Grid scores on development set:\", file=text_file)\n",
    "        print('', file=text_file)\n",
    "        means = clf.cv_results_['mean_test_score']\n",
    "        stds = clf.cv_results_['std_test_score']\n",
    "        for mean, std, params in zip(means, stds, clf.cv_results_['params']):\n",
    "            print(\"%0.3f (+/-%0.03f) for %r\"\n",
    "                % (mean, std * 2, params), file=text_file)\n",
    "        print('', file=text_file)\n",
    "\n",
    "text_file.close()"
   ]
  },
  {
   "cell_type": "markdown",
   "metadata": {},
   "source": [
    "# Isolation Forest"
   ]
  },
  {
   "cell_type": "code",
   "execution_count": 36,
   "metadata": {
    "collapsed": true
   },
   "outputs": [],
   "source": [
    "class OutliersIsolationForest(TransformerMixin):\n",
    "\n",
    "    def __init__(self,forest,showbar=False):\n",
    "        self.forest=forest\n",
    "        self.showbar=showbar\n",
    "\n",
    "    def get_params(self):\n",
    "        return {\"forest\": self.forest}\n",
    "\n",
    "    def set_params(self, **parameters):\n",
    "        for key,value in parameters.items() :\n",
    "            setattr(self,key,parameters[key])\n",
    "        return self\n",
    "\n",
    "\n",
    "    def fit(self,X,y=None):\n",
    "\n",
    "        self.forest.fit(X)\n",
    "\n",
    "        return self\n",
    "\n",
    "    def transform(self,X):\n",
    "\n",
    "        a=self.forest.predict(X)\n",
    "        self.iextreme_values=a==-1\n",
    "        \n",
    "        \n",
    "        return X[~self.iextreme_values]\n"
   ]
  },
  {
   "cell_type": "markdown",
   "metadata": {},
   "source": [
    "### Sans réduction de dimension"
   ]
  },
  {
   "cell_type": "code",
   "execution_count": 42,
   "metadata": {},
   "outputs": [],
   "source": [
    "result_file='result_grid_iso.csv'\n",
    "dir_path='./'"
   ]
  },
  {
   "cell_type": "code",
   "execution_count": null,
   "metadata": {
    "scrolled": true
   },
   "outputs": [
    {
     "name": "stdout",
     "output_type": "stream",
     "text": [
      "Fitting 5 folds for each of 20 candidates, totalling 100 fits\n",
      "[CV] penalty=l1, C=0.0001 ............................................\n",
      "[CV] ............. penalty=l1, C=0.0001, score=0.500000, total=   1.0s\n",
      "[CV] penalty=l1, C=0.0001 ............................................\n"
     ]
    },
    {
     "name": "stderr",
     "output_type": "stream",
     "text": [
      "[Parallel(n_jobs=1)]: Done   1 out of   1 | elapsed:    1.1s remaining:    0.0s\n"
     ]
    },
    {
     "name": "stdout",
     "output_type": "stream",
     "text": [
      "[CV] ............. penalty=l1, C=0.0001, score=0.500000, total=   0.9s\n",
      "[CV] penalty=l1, C=0.0001 ............................................\n"
     ]
    },
    {
     "name": "stderr",
     "output_type": "stream",
     "text": [
      "[Parallel(n_jobs=1)]: Done   2 out of   2 | elapsed:    2.2s remaining:    0.0s\n"
     ]
    },
    {
     "name": "stdout",
     "output_type": "stream",
     "text": [
      "[CV] ............. penalty=l1, C=0.0001, score=0.500000, total=   0.9s\n",
      "[CV] penalty=l1, C=0.0001 ............................................\n"
     ]
    },
    {
     "name": "stderr",
     "output_type": "stream",
     "text": [
      "[Parallel(n_jobs=1)]: Done   3 out of   3 | elapsed:    3.2s remaining:    0.0s\n"
     ]
    },
    {
     "name": "stdout",
     "output_type": "stream",
     "text": [
      "[CV] ............. penalty=l1, C=0.0001, score=0.500000, total=   0.9s\n",
      "[CV] penalty=l1, C=0.0001 ............................................\n"
     ]
    },
    {
     "name": "stderr",
     "output_type": "stream",
     "text": [
      "[Parallel(n_jobs=1)]: Done   4 out of   4 | elapsed:    4.4s remaining:    0.0s\n"
     ]
    },
    {
     "name": "stdout",
     "output_type": "stream",
     "text": [
      "[CV] ............. penalty=l1, C=0.0001, score=0.500000, total=   0.8s\n",
      "[CV] penalty=l2, C=0.0001 ............................................\n"
     ]
    },
    {
     "name": "stderr",
     "output_type": "stream",
     "text": [
      "[Parallel(n_jobs=1)]: Done   5 out of   5 | elapsed:    5.4s remaining:    0.0s\n"
     ]
    },
    {
     "name": "stdout",
     "output_type": "stream",
     "text": [
      "[CV] ............. penalty=l2, C=0.0001, score=0.437401, total=   1.3s\n",
      "[CV] penalty=l2, C=0.0001 ............................................\n"
     ]
    },
    {
     "name": "stderr",
     "output_type": "stream",
     "text": [
      "[Parallel(n_jobs=1)]: Done   6 out of   6 | elapsed:    6.9s remaining:    0.0s\n"
     ]
    },
    {
     "name": "stdout",
     "output_type": "stream",
     "text": [
      "[CV] ............. penalty=l2, C=0.0001, score=0.364027, total=   1.4s\n",
      "[CV] penalty=l2, C=0.0001 ............................................\n"
     ]
    },
    {
     "name": "stderr",
     "output_type": "stream",
     "text": [
      "[Parallel(n_jobs=1)]: Done   7 out of   7 | elapsed:    8.5s remaining:    0.0s\n"
     ]
    },
    {
     "name": "stdout",
     "output_type": "stream",
     "text": [
      "[CV] ............. penalty=l2, C=0.0001, score=0.449683, total=   1.4s\n",
      "[CV] penalty=l2, C=0.0001 ............................................\n"
     ]
    },
    {
     "name": "stderr",
     "output_type": "stream",
     "text": [
      "[Parallel(n_jobs=1)]: Done   8 out of   8 | elapsed:   10.2s remaining:    0.0s\n"
     ]
    },
    {
     "name": "stdout",
     "output_type": "stream",
     "text": [
      "[CV] ............. penalty=l2, C=0.0001, score=0.451161, total=   1.5s\n",
      "[CV] penalty=l2, C=0.0001 ............................................\n"
     ]
    },
    {
     "name": "stderr",
     "output_type": "stream",
     "text": [
      "[Parallel(n_jobs=1)]: Done   9 out of   9 | elapsed:   11.9s remaining:    0.0s\n"
     ]
    },
    {
     "name": "stdout",
     "output_type": "stream",
     "text": [
      "[CV] ............. penalty=l2, C=0.0001, score=0.425393, total=   1.4s\n",
      "[CV] penalty=l1, C=0.000774263682681 .................................\n",
      "[CV] .. penalty=l1, C=0.000774263682681, score=0.500000, total=   0.9s\n",
      "[CV] penalty=l1, C=0.000774263682681 .................................\n",
      "[CV] .. penalty=l1, C=0.000774263682681, score=0.500000, total=   1.0s\n",
      "[CV] penalty=l1, C=0.000774263682681 .................................\n",
      "[CV] .. penalty=l1, C=0.000774263682681, score=0.500000, total=   1.0s\n",
      "[CV] penalty=l1, C=0.000774263682681 .................................\n",
      "[CV] .. penalty=l1, C=0.000774263682681, score=0.500000, total=   0.9s\n",
      "[CV] penalty=l1, C=0.000774263682681 .................................\n",
      "[CV] .. penalty=l1, C=0.000774263682681, score=0.500000, total=   1.0s\n",
      "[CV] penalty=l2, C=0.000774263682681 .................................\n",
      "[CV] .. penalty=l2, C=0.000774263682681, score=0.433428, total=   1.7s\n",
      "[CV] penalty=l2, C=0.000774263682681 .................................\n",
      "[CV] .. penalty=l2, C=0.000774263682681, score=0.362567, total=   1.7s\n",
      "[CV] penalty=l2, C=0.000774263682681 .................................\n",
      "[CV] .. penalty=l2, C=0.000774263682681, score=0.447108, total=   1.8s\n",
      "[CV] penalty=l2, C=0.000774263682681 .................................\n",
      "[CV] .. penalty=l2, C=0.000774263682681, score=0.456988, total=   1.7s\n",
      "[CV] penalty=l2, C=0.000774263682681 .................................\n",
      "[CV] .. penalty=l2, C=0.000774263682681, score=0.436154, total=   1.9s\n",
      "[CV] penalty=l1, C=0.00599484250319 ..................................\n",
      "[CV] ... penalty=l1, C=0.00599484250319, score=0.500000, total=   1.2s\n",
      "[CV] penalty=l1, C=0.00599484250319 ..................................\n",
      "[CV] ... penalty=l1, C=0.00599484250319, score=0.500000, total=   1.3s\n",
      "[CV] penalty=l1, C=0.00599484250319 ..................................\n",
      "[CV] ... penalty=l1, C=0.00599484250319, score=0.500000, total=   1.4s\n",
      "[CV] penalty=l1, C=0.00599484250319 ..................................\n",
      "[CV] ... penalty=l1, C=0.00599484250319, score=0.500000, total=   1.1s\n",
      "[CV] penalty=l1, C=0.00599484250319 ..................................\n",
      "[CV] ... penalty=l1, C=0.00599484250319, score=0.500000, total=   1.3s\n",
      "[CV] penalty=l2, C=0.00599484250319 ..................................\n",
      "[CV] ... penalty=l2, C=0.00599484250319, score=0.541651, total=   2.1s\n",
      "[CV] penalty=l2, C=0.00599484250319 ..................................\n",
      "[CV] ... penalty=l2, C=0.00599484250319, score=0.489047, total=   2.3s\n",
      "[CV] penalty=l2, C=0.00599484250319 ..................................\n",
      "[CV] ... penalty=l2, C=0.00599484250319, score=0.564393, total=   2.0s\n",
      "[CV] penalty=l2, C=0.00599484250319 ..................................\n",
      "[CV] ... penalty=l2, C=0.00599484250319, score=0.587436, total=   2.3s\n",
      "[CV] penalty=l2, C=0.00599484250319 ..................................\n",
      "[CV] ... penalty=l2, C=0.00599484250319, score=0.531455, total=   2.1s\n",
      "[CV] penalty=l1, C=0.0464158883361 ...................................\n",
      "[CV] .... penalty=l1, C=0.0464158883361, score=0.714640, total=   1.8s\n",
      "[CV] penalty=l1, C=0.0464158883361 ...................................\n",
      "[CV] .... penalty=l1, C=0.0464158883361, score=0.758029, total=   1.6s\n",
      "[CV] penalty=l1, C=0.0464158883361 ...................................\n",
      "[CV] .... penalty=l1, C=0.0464158883361, score=0.716609, total=   1.7s\n",
      "[CV] penalty=l1, C=0.0464158883361 ...................................\n",
      "[CV] .... penalty=l1, C=0.0464158883361, score=0.715997, total=   1.9s\n",
      "[CV] penalty=l1, C=0.0464158883361 ...................................\n",
      "[CV] .... penalty=l1, C=0.0464158883361, score=0.641292, total=   1.8s\n",
      "[CV] penalty=l2, C=0.0464158883361 ...................................\n",
      "[CV] .... penalty=l2, C=0.0464158883361, score=0.742746, total=   2.8s\n",
      "[CV] penalty=l2, C=0.0464158883361 ...................................\n",
      "[CV] .... penalty=l2, C=0.0464158883361, score=0.745619, total=   3.1s\n",
      "[CV] penalty=l2, C=0.0464158883361 ...................................\n",
      "[CV] .... penalty=l2, C=0.0464158883361, score=0.750504, total=   2.8s\n",
      "[CV] penalty=l2, C=0.0464158883361 ...................................\n",
      "[CV] .... penalty=l2, C=0.0464158883361, score=0.758379, total=   2.8s\n",
      "[CV] penalty=l2, C=0.0464158883361 ...................................\n",
      "[CV] .... penalty=l2, C=0.0464158883361, score=0.719252, total=   3.2s\n",
      "[CV] penalty=l1, C=0.35938136638 .....................................\n",
      "[CV] ...... penalty=l1, C=0.35938136638, score=0.729206, total=   3.6s\n",
      "[CV] penalty=l1, C=0.35938136638 .....................................\n",
      "[CV] ...... penalty=l1, C=0.35938136638, score=0.790321, total=   5.3s\n",
      "[CV] penalty=l1, C=0.35938136638 .....................................\n",
      "[CV] ...... penalty=l1, C=0.35938136638, score=0.782589, total=   4.1s\n",
      "[CV] penalty=l1, C=0.35938136638 .....................................\n",
      "[CV] ...... penalty=l1, C=0.35938136638, score=0.772619, total=   4.2s\n",
      "[CV] penalty=l1, C=0.35938136638 .....................................\n",
      "[CV] ...... penalty=l1, C=0.35938136638, score=0.756798, total=   3.4s\n",
      "[CV] penalty=l2, C=0.35938136638 .....................................\n",
      "[CV] ...... penalty=l2, C=0.35938136638, score=0.746626, total=   4.2s\n",
      "[CV] penalty=l2, C=0.35938136638 .....................................\n",
      "[CV] ...... penalty=l2, C=0.35938136638, score=0.785915, total=   4.2s\n",
      "[CV] penalty=l2, C=0.35938136638 .....................................\n",
      "[CV] ...... penalty=l2, C=0.35938136638, score=0.780818, total=   4.4s\n",
      "[CV] penalty=l2, C=0.35938136638 .....................................\n",
      "[CV] ...... penalty=l2, C=0.35938136638, score=0.773568, total=   4.3s\n",
      "[CV] penalty=l2, C=0.35938136638 .....................................\n",
      "[CV] ...... penalty=l2, C=0.35938136638, score=0.762651, total=   4.9s\n",
      "[CV] penalty=l1, C=2.78255940221 .....................................\n",
      "[CV] ...... penalty=l1, C=2.78255940221, score=0.732670, total=  23.1s\n",
      "[CV] penalty=l1, C=2.78255940221 .....................................\n",
      "[CV] ...... penalty=l1, C=2.78255940221, score=0.794860, total=  25.4s\n",
      "[CV] penalty=l1, C=2.78255940221 .....................................\n",
      "[CV] ...... penalty=l1, C=2.78255940221, score=0.779866, total=  22.9s\n",
      "[CV] penalty=l1, C=2.78255940221 .....................................\n",
      "[CV] ...... penalty=l1, C=2.78255940221, score=0.777713, total=  24.9s\n",
      "[CV] penalty=l1, C=2.78255940221 .....................................\n",
      "[CV] ...... penalty=l1, C=2.78255940221, score=0.769307, total=  37.0s\n",
      "[CV] penalty=l2, C=2.78255940221 .....................................\n",
      "[CV] ...... penalty=l2, C=2.78255940221, score=0.735803, total=   8.6s\n",
      "[CV] penalty=l2, C=2.78255940221 .....................................\n",
      "[CV] ...... penalty=l2, C=2.78255940221, score=0.790561, total=   7.2s\n",
      "[CV] penalty=l2, C=2.78255940221 .....................................\n",
      "[CV] ...... penalty=l2, C=2.78255940221, score=0.780054, total=   7.3s\n",
      "[CV] penalty=l2, C=2.78255940221 .....................................\n",
      "[CV] ...... penalty=l2, C=2.78255940221, score=0.773418, total=   8.1s\n",
      "[CV] penalty=l2, C=2.78255940221 .....................................\n",
      "[CV] ...... penalty=l2, C=2.78255940221, score=0.768967, total=   8.2s\n",
      "[CV] penalty=l1, C=21.5443469003 .....................................\n",
      "[CV] ...... penalty=l1, C=21.5443469003, score=0.722284, total= 1.8min\n",
      "[CV] penalty=l1, C=21.5443469003 .....................................\n",
      "[CV] ...... penalty=l1, C=21.5443469003, score=0.791123, total= 1.3min\n",
      "[CV] penalty=l1, C=21.5443469003 .....................................\n",
      "[CV] ...... penalty=l1, C=21.5443469003, score=0.778044, total= 1.8min\n",
      "[CV] penalty=l1, C=21.5443469003 .....................................\n",
      "[CV] ...... penalty=l1, C=21.5443469003, score=0.767803, total= 1.7min\n",
      "[CV] penalty=l1, C=21.5443469003 .....................................\n",
      "[CV] ...... penalty=l1, C=21.5443469003, score=0.768230, total= 1.5min\n",
      "[CV] penalty=l2, C=21.5443469003 .....................................\n",
      "[CV] ...... penalty=l2, C=21.5443469003, score=0.727777, total=  11.1s\n",
      "[CV] penalty=l2, C=21.5443469003 .....................................\n",
      "[CV] ...... penalty=l2, C=21.5443469003, score=0.791082, total=  13.4s\n",
      "[CV] penalty=l2, C=21.5443469003 .....................................\n"
     ]
    },
    {
     "name": "stdout",
     "output_type": "stream",
     "text": [
      "[CV] ...... penalty=l2, C=21.5443469003, score=0.778395, total=  12.5s\n",
      "[CV] penalty=l2, C=21.5443469003 .....................................\n",
      "[CV] ...... penalty=l2, C=21.5443469003, score=0.770772, total=  13.6s\n",
      "[CV] penalty=l2, C=21.5443469003 .....................................\n",
      "[CV] ...... penalty=l2, C=21.5443469003, score=0.770169, total=  14.5s\n",
      "[CV] penalty=l1, C=166.81005372 ......................................\n",
      "[CV] ....... penalty=l1, C=166.81005372, score=0.721017, total= 4.1min\n",
      "[CV] penalty=l1, C=166.81005372 ......................................\n",
      "[CV] ....... penalty=l1, C=166.81005372, score=0.791164, total= 2.5min\n",
      "[CV] penalty=l1, C=166.81005372 ......................................\n",
      "[CV] ....... penalty=l1, C=166.81005372, score=0.776751, total= 2.2min\n",
      "[CV] penalty=l1, C=166.81005372 ......................................\n",
      "[CV] ....... penalty=l1, C=166.81005372, score=0.761720, total= 3.8min\n",
      "[CV] penalty=l1, C=166.81005372 ......................................\n"
     ]
    }
   ],
   "source": [
    "for contamination in [0.1,0.2,0.3,0.4,0.5]:\n",
    "    for esti in [100,200,500]:\n",
    "    \n",
    "        iso = IsolationForest(contamination=contamination,n_estimators=esti)\n",
    "        pipeline=Pipeline([ ('removeOutliers',OutliersIsolationForest(iso))])\n",
    "\n",
    "\n",
    "        tuned_parameters = [{'penalty': ['l1','l2'],\n",
    "                'C':list(np.logspace(-4, 4, 10))}]\n",
    "\n",
    "\n",
    "        clf = GridSearchCV(LogisticRegression(max_iter=10000), tuned_parameters, scoring='roc_auc', cv=5,verbose=10)\n",
    "        fittedpipeline=pipeline.fit(np.array(dg_drop_minmax))\n",
    "        data=fittedpipeline.transform(np.array(dg_drop_minmax))\n",
    "        cible_dropt=cible[~fittedpipeline.named_steps['removeOutliers'].iextreme_values]\n",
    "        clf.fit(data,cible_dropt)\n",
    "\n",
    "\n",
    "        print('--------------------------', file=text_file)\n",
    "        print(\"Estimators :\"+str(esti), file=text_file)\n",
    "        print(\"Contamination :\"+str(contamination), file=text_file)\n",
    "\n",
    "        print('', file=text_file)\n",
    "        print(\"Best parameters set found on development set:\", file=text_file)\n",
    "        print('', file=text_file)\n",
    "        print(clf.best_params_, file=text_file)\n",
    "        print('', file=text_file)\n",
    "\n",
    "        print(\"Grid scores on development set:\", file=text_file)\n",
    "        print('', file=text_file)\n",
    "        means = clf.cv_results_['mean_test_score']\n",
    "        stds = clf.cv_results_['std_test_score']\n",
    "        for mean, std, params in zip(means, stds, clf.cv_results_['params']):\n",
    "            print(\"%0.3f (+/-%0.03f) for %r\"\n",
    "                % (mean, std * 2, params), file=text_file)\n",
    "        print('', file=text_file)\n",
    "\n",
    "text_file.close()"
   ]
  },
  {
   "cell_type": "markdown",
   "metadata": {},
   "source": [
    "### Avec réduction de dimension"
   ]
  },
  {
   "cell_type": "code",
   "execution_count": null,
   "metadata": {
    "collapsed": true
   },
   "outputs": [],
   "source": [
    "result_file='result_grid_iso_reduction.csv'\n",
    "dir_path='./'"
   ]
  },
  {
   "cell_type": "code",
   "execution_count": null,
   "metadata": {
    "collapsed": true
   },
   "outputs": [],
   "source": [
    "for contamination in [0.1,0.2,0.3,0.4,0.5]:\n",
    "    for esti in [100,200,500]:\n",
    "        for compo in range(2,10):\n",
    "    \n",
    "            iso = IsolationForest(contamination=contamination,n_estimators=esti)\n",
    "            pipeline=Pipeline([('dim_red',PCA(n_components=ncompo,svd_solver='arpack')),\n",
    "                           ('removeOutliers',OutliersIsolationForest(iso))])\n",
    "\n",
    "\n",
    "\n",
    "            tuned_parameters = [{'penalty': ['l1','l2'],\n",
    "                    'C':list(np.logspace(-4, 4, 10))}]\n",
    "\n",
    "\n",
    "            clf = GridSearchCV(LogisticRegression(max_iter=10000), tuned_parameters, scoring='roc_auc', cv=5,verbose=10)\n",
    "            fittedpipeline=pipeline.fit(np.array(dg_drop_minmax))\n",
    "            data=fittedpipeline.transform(np.array(dg_drop_minmax))\n",
    "            cible_dropt=cible[~fittedpipeline.named_steps['removeOutliers'].iextreme_values]\n",
    "            clf.fit(data,cible_dropt)\n",
    "\n",
    "\n",
    "            print('--------------------------', file=text_file)\n",
    "            print(\"Components :\"+str(compo), file=text_file)\n",
    "            print(\"Estimators :\"+str(esti), file=text_file)\n",
    "            print(\"Contamination :\"+str(contamination), file=text_file)\n",
    "\n",
    "            print('', file=text_file)\n",
    "            print(\"Best parameters set found on development set:\", file=text_file)\n",
    "            print('', file=text_file)\n",
    "            print(clf.best_params_, file=text_file)\n",
    "            print('', file=text_file)\n",
    "\n",
    "            print(\"Grid scores on development set:\", file=text_file)\n",
    "            print('', file=text_file)\n",
    "            means = clf.cv_results_['mean_test_score']\n",
    "            stds = clf.cv_results_['std_test_score']\n",
    "            for mean, std, params in zip(means, stds, clf.cv_results_['params']):\n",
    "                print(\"%0.3f (+/-%0.03f) for %r\"\n",
    "                    % (mean, std * 2, params), file=text_file)\n",
    "            print('', file=text_file)\n",
    "\n",
    "text_file.close()"
   ]
  },
  {
   "cell_type": "code",
   "execution_count": null,
   "metadata": {
    "collapsed": true
   },
   "outputs": [],
   "source": []
  },
  {
   "cell_type": "code",
   "execution_count": null,
   "metadata": {
    "collapsed": true
   },
   "outputs": [],
   "source": []
  },
  {
   "cell_type": "markdown",
   "metadata": {
    "collapsed": true
   },
   "source": [
    "# Mahanalobis"
   ]
  },
  {
   "cell_type": "code",
   "execution_count": null,
   "metadata": {
    "collapsed": true
   },
   "outputs": [],
   "source": [
    "result_file='result_grid_mh.csv'\n",
    "dir_path='./'"
   ]
  },
  {
   "cell_type": "code",
   "execution_count": null,
   "metadata": {
    "scrolled": true
   },
   "outputs": [],
   "source": [
    "text_file = open(os.path.join(dir_path, result_file), 'w')\n",
    "\n",
    "for k in range(2,15):\n",
    "    \n",
    "    for supportf in [0.95,0.99,0.995]:\n",
    "\n",
    "        tuned_parameters = [{'penalty': ['l1','l2'],\n",
    "                'C':list(np.logspace(-4, 5, 15))}]\n",
    "\n",
    "        pipeline=Pipeline([('dim_red',PCA(n_components=k,svd_solver='arpack'))\n",
    "                   ,('removeOutliers',OutlierMahalanobis(verbose=False,qqplot=False,support_fraction=supportf))])\n",
    "\n",
    "\n",
    "        clf = GridSearchCV(LogisticRegression(max_iter=10000), tuned_parameters, scoring='roc_auc', cv=5,verbose=1)\n",
    "        fittedpipeline=pipeline.fit(np.array(dg_drop_minmax))\n",
    "\n",
    "        data=fittedpipeline.transform(np.array(dg_drop_minmax))\n",
    "        cible_dropt=cible[~fittedpipeline.named_steps['removeOutliers'].iextreme_values]\n",
    "\n",
    "        clf.fit(data,cible_dropt)\n",
    "\n",
    "\n",
    "        print('--------------------------', file=text_file)\n",
    "        print(\"Components :\"+str(k), file=text_file)\n",
    "        print(\"Support Fraction :\"+str(supportf), file=text_file)\n",
    "\n",
    "        print('', file=text_file)\n",
    "        print(\"Best parameters set found on development set:\", file=text_file)\n",
    "        print('', file=text_file)\n",
    "        print(clf.best_params_, file=text_file)\n",
    "        print('', file=text_file)\n",
    "\n",
    "        print(\"Grid scores on development set:\", file=text_file)\n",
    "        print('', file=text_file)\n",
    "        means = clf.cv_results_['mean_test_score']\n",
    "        stds = clf.cv_results_['std_test_score']\n",
    "        for mean, std, params in zip(means, stds, clf.cv_results_['params']):\n",
    "            print(\"%0.3f (+/-%0.03f) for %r\"\n",
    "                % (mean, std * 2, params), file=text_file)\n",
    "        print('', file=text_file)\n",
    "\n",
    "text_file.close()"
   ]
  },
  {
   "cell_type": "markdown",
   "metadata": {},
   "source": [
    "# Sans rien"
   ]
  },
  {
   "cell_type": "code",
   "execution_count": null,
   "metadata": {
    "collapsed": true
   },
   "outputs": [],
   "source": [
    "result_file='result_grid_without.csv'\n",
    "dir_path='./'"
   ]
  },
  {
   "cell_type": "code",
   "execution_count": null,
   "metadata": {},
   "outputs": [],
   "source": [
    "text_file = open(os.path.join(dir_path, result_file), 'w')\n",
    "\n",
    "tuned_parameters = [{'penalty': ['l1','l2'],\n",
    "        'C':list(np.logspace(-4, 5, 15))}]\n",
    "\n",
    "\n",
    "clf = GridSearchCV(LogisticRegression(max_iter=10000), tuned_parameters, scoring='roc_auc', cv=5,verbose=1)\n",
    "\n",
    "clf.fit(np.array(dg_drop_minmax),cible)\n",
    "\n",
    "\n",
    "print('--------------------------', file=text_file)\n",
    "print(\"Components :\"+str(k), file=text_file)\n",
    "print(\"Support Fraction :\"+str(supportf), file=text_file)\n",
    "\n",
    "print('', file=text_file)\n",
    "print(\"Best parameters set found on development set:\", file=text_file)\n",
    "print('', file=text_file)\n",
    "print(clf.best_params_, file=text_file)\n",
    "print('', file=text_file)\n",
    "\n",
    "print(\"Grid scores on development set:\", file=text_file)\n",
    "print('', file=text_file)\n",
    "means = clf.cv_results_['mean_test_score']\n",
    "stds = clf.cv_results_['std_test_score']\n",
    "for mean, std, params in zip(means, stds, clf.cv_results_['params']):\n",
    "    print(\"%0.3f (+/-%0.03f) for %r\"\n",
    "        % (mean, std * 2, params), file=text_file)\n",
    "print('', file=text_file)\n",
    "\n",
    "text_file.close()"
   ]
  },
  {
   "cell_type": "code",
   "execution_count": null,
   "metadata": {
    "collapsed": true
   },
   "outputs": [],
   "source": []
  },
  {
   "cell_type": "code",
   "execution_count": null,
   "metadata": {
    "collapsed": true
   },
   "outputs": [],
   "source": []
  },
  {
   "cell_type": "code",
   "execution_count": null,
   "metadata": {
    "collapsed": true
   },
   "outputs": [],
   "source": []
  },
  {
   "cell_type": "code",
   "execution_count": null,
   "metadata": {
    "collapsed": true
   },
   "outputs": [],
   "source": []
  }
 ],
 "metadata": {
  "kernelspec": {
   "display_name": "Python [default]",
   "language": "python",
   "name": "python3"
  },
  "language_info": {
   "codemirror_mode": {
    "name": "ipython",
    "version": 3
   },
   "file_extension": ".py",
   "mimetype": "text/x-python",
   "name": "python",
   "nbconvert_exporter": "python",
   "pygments_lexer": "ipython3",
   "version": "3.5.3"
  }
 },
 "nbformat": 4,
 "nbformat_minor": 2
}
