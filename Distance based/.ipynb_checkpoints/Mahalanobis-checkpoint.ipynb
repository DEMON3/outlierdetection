{
 "cells": [
  {
   "cell_type": "markdown",
   "metadata": {},
   "source": [
    "# Mahalanobis distance for outlier detection"
   ]
  },
  {
   "cell_type": "code",
   "execution_count": 18,
   "metadata": {
    "collapsed": true
   },
   "outputs": [],
   "source": [
    "import sys,os\n",
    "import numpy as np\n",
    "import matplotlib.pyplot as plt\n",
    "import pandas as pd\n",
    "import matplotlib.patches as mpatches\n",
    "import random\n",
    "from sklearn import datasets\n",
    "import math\n",
    "import time\n",
    "import progressbar\n",
    "from sklearn import preprocessing\n",
    "from sklearn.preprocessing import StandardScaler\n",
    "from scipy.spatial.distance import mahalanobis as mh\n",
    "from sklearn.covariance import EmpiricalCovariance, MinCovDet"
   ]
  },
  {
   "cell_type": "markdown",
   "metadata": {},
   "source": [
    "On se propose de chercher des éventuels outliers dans les données. Pour cela on va utiliser la distance de Mahalanobis. On se base sur le principe suivnt : si $X \\sim \\mathbb{N} (\\mu,\\Sigma)$ alors $D^{2}(X,\\mu) \\sim \\chi^{2}_{p}$.\n",
    "\n",
    "On peut donc avoir un intervalle de confiance de tel sorte que $\\mathbb{P}[D^{2}(X,\\mu) \\leq \\chi^{2}_{p,1-\\alpha}] \\leq 1-\\alpha$"
   ]
  },
  {
   "cell_type": "markdown",
   "metadata": {},
   "source": [
    "## On Iris"
   ]
  },
  {
   "cell_type": "code",
   "execution_count": 52,
   "metadata": {
    "collapsed": true
   },
   "outputs": [],
   "source": [
    "iris = datasets.load_iris()\n",
    "X = iris.data\n",
    "y = iris.target\n",
    "target_names = iris.target_names\n",
    "Xreduced=X[:,0:2]\n",
    "#Xreduced=preprocessing.MinMaxScaler().fit_transform(Xreduced)\n",
    "outliers=[]\n",
    "outliers.append([5,2.5])\n",
    "outliers.append([8,5])\n",
    "outliers.append([4,1.5])\n",
    "outliers.append([6,3])\n",
    "outliers.append([7,1.5])\n",
    "\n",
    "Xreduced2=np.append(Xreduced,outliers,axis=0)"
   ]
  },
  {
   "cell_type": "code",
   "execution_count": 53,
   "metadata": {},
   "outputs": [
    {
     "name": "stderr",
     "output_type": "stream",
     "text": [
      "d:\\Users\\S37283\\AppData\\Local\\Continuum\\Anaconda3\\lib\\site-packages\\matplotlib\\axes\\_axes.py:545: UserWarning: No labelled objects found. Use label='...' kwarg on individual plots.\n",
      "  warnings.warn(\"No labelled objects found. \"\n"
     ]
    },
    {
     "data": {
      "image/png": "[encoded data removed]",
      "text/plain": [
       "<matplotlib.figure.Figure at 0xc1a8588>"
      ]
     },
     "metadata": {},
     "output_type": "display_data"
    }
   ],
   "source": [
    "plt.figure(figsize=(15,15))\n",
    "lw = 2\n",
    "plt.scatter(Xreduced2[:, 0], Xreduced2[:, 1], lw=lw)\n",
    "plt.legend(loc='best', shadow=False, scatterpoints=1,fontsize=15)\n",
    "plt.title('IRIS dataset composante 1 et 2',fontsize=15)\n",
    "plt.show()"
   ]
  },
  {
   "cell_type": "code",
   "execution_count": 71,
   "metadata": {
    "collapsed": true
   },
   "outputs": [],
   "source": [
    "Xreduced_scaled=StandardScaler().fit_transform(Xreduced)"
   ]
  },
  {
   "cell_type": "code",
   "execution_count": 99,
   "metadata": {},
   "outputs": [],
   "source": [
    "cov_1=np.cov(Xreduced_scaled,rowvar=False)"
   ]
  },
  {
   "cell_type": "code",
   "execution_count": 100,
   "metadata": {},
   "outputs": [
    {
     "data": {
      "text/plain": [
       "array([[ 1.00671141, -0.11010327],\n",
       "       [-0.11010327,  1.00671141]])"
      ]
     },
     "execution_count": 100,
     "metadata": {},
     "output_type": "execute_result"
    }
   ],
   "source": [
    "cov_1"
   ]
  },
  {
   "cell_type": "code",
   "execution_count": 101,
   "metadata": {},
   "outputs": [
    {
     "data": {
      "text/plain": [
       "(2, 2)"
      ]
     },
     "execution_count": 101,
     "metadata": {},
     "output_type": "execute_result"
    }
   ],
   "source": [
    "cov_1.shape"
   ]
  },
  {
   "cell_type": "code",
   "execution_count": 102,
   "metadata": {},
   "outputs": [],
   "source": [
    "V=np.linalg.inv(cov_1)\n",
    "mu=np.mean(Xreduced_scaled,axis=0)"
   ]
  },
  {
   "cell_type": "code",
   "execution_count": 103,
   "metadata": {},
   "outputs": [
    {
     "data": {
      "text/plain": [
       "array([[ 1.00535907,  0.10995537],\n",
       "       [ 0.10995537,  1.00535907]])"
      ]
     },
     "execution_count": 103,
     "metadata": {},
     "output_type": "execute_result"
    }
   ],
   "source": [
    "V"
   ]
  },
  {
   "cell_type": "code",
   "execution_count": 104,
   "metadata": {},
   "outputs": [
    {
     "data": {
      "text/plain": [
       "array([ -1.69031455e-15,  -1.63702385e-15])"
      ]
     },
     "execution_count": 104,
     "metadata": {},
     "output_type": "execute_result"
    }
   ],
   "source": [
    "mu"
   ]
  },
  {
   "cell_type": "code",
   "execution_count": 106,
   "metadata": {},
   "outputs": [
    {
     "data": {
      "text/plain": [
       "array([[ 5. ,  2.5],\n",
       "       [ 8. ,  5. ],\n",
       "       [ 4. ,  1.5],\n",
       "       [ 6. ,  3. ],\n",
       "       [ 7. ,  1.5]])"
      ]
     },
     "execution_count": 106,
     "metadata": {},
     "output_type": "execute_result"
    }
   ],
   "source": [
    "np.array(outliers)"
   ]
  },
  {
   "cell_type": "code",
   "execution_count": 111,
   "metadata": {},
   "outputs": [
    {
     "name": "stdout",
     "output_type": "stream",
     "text": [
      "34.1663551021\n",
      "98.2733865636\n",
      "19.6672674245\n",
      "49.1995513471\n",
      "53.8337150205\n"
     ]
    }
   ],
   "source": [
    "for outlier in outliers :\n",
    "    print(mh(np.array(outlier),mu,V)**2)"
   ]
  },
  {
   "cell_type": "code",
   "execution_count": 109,
   "metadata": {},
   "outputs": [
    {
     "data": {
      "text/plain": [
       "EmpiricalCovariance(assume_centered=True, store_precision=True)"
      ]
     },
     "execution_count": 109,
     "metadata": {},
     "output_type": "execute_result"
    }
   ],
   "source": [
    "cov=EmpiricalCovariance(assume_centered=True)\n",
    "cov.fit(Xreduced_scaled)"
   ]
  },
  {
   "cell_type": "code",
   "execution_count": 110,
   "metadata": {},
   "outputs": [
    {
     "data": {
      "text/plain": [
       "array([ 34.3956595 ,  98.93293949,  19.79926251,  49.52974968,  54.19501512])"
      ]
     },
     "execution_count": 110,
     "metadata": {},
     "output_type": "execute_result"
    }
   ],
   "source": [
    "dist=cov.mahalanobis(outliers)\n",
    "dist"
   ]
  }
 ],
 "metadata": {
  "kernelspec": {
   "display_name": "Python [default]",
   "language": "python",
   "name": "python3"
  },
  "language_info": {
   "codemirror_mode": {
    "name": "ipython",
    "version": 3
   },
   "file_extension": ".py",
   "mimetype": "text/x-python",
   "name": "python",
   "nbconvert_exporter": "python",
   "pygments_lexer": "ipython3",
   "version": "3.5.3"
  }
 },
 "nbformat": 4,
 "nbformat_minor": 2
}
